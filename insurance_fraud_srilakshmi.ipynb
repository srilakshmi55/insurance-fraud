{
 "cells": [
  {
   "cell_type": "markdown",
   "id": "e693eb41",
   "metadata": {},
   "source": [
    "#### INSURANCE FRAUD CLAIM DETECTION "
   ]
  },
  {
   "cell_type": "code",
   "execution_count": 1,
   "id": "47966f79",
   "metadata": {},
   "outputs": [],
   "source": [
    "# Load the Required Libraries:\n",
    "import pandas as pd #(To read the data)\n",
    "import numpy as np #(To perform mathematical calculations)\n",
    "import matplotlib.pyplot as plt #(For Visualizations)\n",
    "import seaborn as sns #(For Visualizations)\n",
    "from sklearn.impute import SimpleImputer #(For imputation)"
   ]
  },
  {
   "cell_type": "code",
   "execution_count": 2,
   "id": "03d1026b",
   "metadata": {},
   "outputs": [],
   "source": [
    "# Reading the Train Data:\n",
    "# Reading Train_Demographics data:\n",
    "TD_data1 = pd.read_csv('Train_Demographics.csv', na_values=\"NA\")"
   ]
  },
  {
   "cell_type": "code",
   "execution_count": 3,
   "id": "fc49b1d7",
   "metadata": {},
   "outputs": [
    {
     "data": {
      "text/html": [
       "<div>\n",
       "<style scoped>\n",
       "    .dataframe tbody tr th:only-of-type {\n",
       "        vertical-align: middle;\n",
       "    }\n",
       "\n",
       "    .dataframe tbody tr th {\n",
       "        vertical-align: top;\n",
       "    }\n",
       "\n",
       "    .dataframe thead th {\n",
       "        text-align: right;\n",
       "    }\n",
       "</style>\n",
       "<table border=\"1\" class=\"dataframe\">\n",
       "  <thead>\n",
       "    <tr style=\"text-align: right;\">\n",
       "      <th></th>\n",
       "      <th>CustomerID</th>\n",
       "      <th>InsuredAge</th>\n",
       "      <th>InsuredZipCode</th>\n",
       "      <th>InsuredGender</th>\n",
       "      <th>InsuredEducationLevel</th>\n",
       "      <th>InsuredOccupation</th>\n",
       "      <th>InsuredHobbies</th>\n",
       "      <th>CapitalGains</th>\n",
       "      <th>CapitalLoss</th>\n",
       "      <th>Country</th>\n",
       "    </tr>\n",
       "  </thead>\n",
       "  <tbody>\n",
       "    <tr>\n",
       "      <th>0</th>\n",
       "      <td>Cust10000</td>\n",
       "      <td>35</td>\n",
       "      <td>454776</td>\n",
       "      <td>MALE</td>\n",
       "      <td>JD</td>\n",
       "      <td>armed-forces</td>\n",
       "      <td>movies</td>\n",
       "      <td>56700</td>\n",
       "      <td>-48500</td>\n",
       "      <td>India</td>\n",
       "    </tr>\n",
       "    <tr>\n",
       "      <th>1</th>\n",
       "      <td>Cust10001</td>\n",
       "      <td>36</td>\n",
       "      <td>454776</td>\n",
       "      <td>MALE</td>\n",
       "      <td>JD</td>\n",
       "      <td>tech-support</td>\n",
       "      <td>cross-fit</td>\n",
       "      <td>70600</td>\n",
       "      <td>-48500</td>\n",
       "      <td>India</td>\n",
       "    </tr>\n",
       "    <tr>\n",
       "      <th>2</th>\n",
       "      <td>Cust10002</td>\n",
       "      <td>33</td>\n",
       "      <td>603260</td>\n",
       "      <td>MALE</td>\n",
       "      <td>JD</td>\n",
       "      <td>armed-forces</td>\n",
       "      <td>polo</td>\n",
       "      <td>66400</td>\n",
       "      <td>-63700</td>\n",
       "      <td>India</td>\n",
       "    </tr>\n",
       "    <tr>\n",
       "      <th>3</th>\n",
       "      <td>Cust10003</td>\n",
       "      <td>36</td>\n",
       "      <td>474848</td>\n",
       "      <td>MALE</td>\n",
       "      <td>JD</td>\n",
       "      <td>armed-forces</td>\n",
       "      <td>polo</td>\n",
       "      <td>47900</td>\n",
       "      <td>-73400</td>\n",
       "      <td>India</td>\n",
       "    </tr>\n",
       "    <tr>\n",
       "      <th>4</th>\n",
       "      <td>Cust10004</td>\n",
       "      <td>29</td>\n",
       "      <td>457942</td>\n",
       "      <td>FEMALE</td>\n",
       "      <td>High School</td>\n",
       "      <td>exec-managerial</td>\n",
       "      <td>dancing</td>\n",
       "      <td>0</td>\n",
       "      <td>-41500</td>\n",
       "      <td>India</td>\n",
       "    </tr>\n",
       "  </tbody>\n",
       "</table>\n",
       "</div>"
      ],
      "text/plain": [
       "  CustomerID  InsuredAge  InsuredZipCode InsuredGender InsuredEducationLevel  \\\n",
       "0  Cust10000          35          454776          MALE                    JD   \n",
       "1  Cust10001          36          454776          MALE                    JD   \n",
       "2  Cust10002          33          603260          MALE                    JD   \n",
       "3  Cust10003          36          474848          MALE                    JD   \n",
       "4  Cust10004          29          457942        FEMALE           High School   \n",
       "\n",
       "  InsuredOccupation InsuredHobbies  CapitalGains  CapitalLoss Country  \n",
       "0      armed-forces         movies         56700       -48500   India  \n",
       "1      tech-support      cross-fit         70600       -48500   India  \n",
       "2      armed-forces           polo         66400       -63700   India  \n",
       "3      armed-forces           polo         47900       -73400   India  \n",
       "4   exec-managerial        dancing             0       -41500   India  "
      ]
     },
     "execution_count": 3,
     "metadata": {},
     "output_type": "execute_result"
    }
   ],
   "source": [
    "# Observing the top 5 records of data1:\n",
    "TD_data1.head()"
   ]
  },
  {
   "cell_type": "code",
   "execution_count": 4,
   "id": "ee4760aa",
   "metadata": {},
   "outputs": [
    {
     "data": {
      "text/plain": [
       "(28836, 10)"
      ]
     },
     "execution_count": 4,
     "metadata": {},
     "output_type": "execute_result"
    }
   ],
   "source": [
    "# Observing No of rows and columns in data1:\n",
    "TD_data1.shape"
   ]
  },
  {
   "cell_type": "code",
   "execution_count": 5,
   "id": "7fcfa278",
   "metadata": {},
   "outputs": [
    {
     "name": "stdout",
     "output_type": "stream",
     "text": [
      "<class 'pandas.core.frame.DataFrame'>\n",
      "RangeIndex: 28836 entries, 0 to 28835\n",
      "Data columns (total 10 columns):\n",
      " #   Column                 Non-Null Count  Dtype \n",
      "---  ------                 --------------  ----- \n",
      " 0   CustomerID             28836 non-null  object\n",
      " 1   InsuredAge             28836 non-null  int64 \n",
      " 2   InsuredZipCode         28836 non-null  int64 \n",
      " 3   InsuredGender          28806 non-null  object\n",
      " 4   InsuredEducationLevel  28836 non-null  object\n",
      " 5   InsuredOccupation      28836 non-null  object\n",
      " 6   InsuredHobbies         28836 non-null  object\n",
      " 7   CapitalGains           28836 non-null  int64 \n",
      " 8   CapitalLoss            28836 non-null  int64 \n",
      " 9   Country                28834 non-null  object\n",
      "dtypes: int64(4), object(6)\n",
      "memory usage: 2.2+ MB\n"
     ]
    }
   ],
   "source": [
    "# Observing the data types in data1:\n",
    "TD_data1.info()"
   ]
  },
  {
   "cell_type": "code",
   "execution_count": 6,
   "id": "85986b3f",
   "metadata": {},
   "outputs": [
    {
     "data": {
      "text/plain": [
       "CustomerID                0\n",
       "InsuredAge                0\n",
       "InsuredZipCode            0\n",
       "InsuredGender            30\n",
       "InsuredEducationLevel     0\n",
       "InsuredOccupation         0\n",
       "InsuredHobbies            0\n",
       "CapitalGains              0\n",
       "CapitalLoss               0\n",
       "Country                   2\n",
       "dtype: int64"
      ]
     },
     "execution_count": 6,
     "metadata": {},
     "output_type": "execute_result"
    }
   ],
   "source": [
    "# Checking null values in data1:\n",
    "TD_data1.isnull().sum()"
   ]
  },
  {
   "cell_type": "code",
   "execution_count": 7,
   "id": "31436a52",
   "metadata": {},
   "outputs": [
    {
     "data": {
      "text/html": [
       "<div>\n",
       "<style scoped>\n",
       "    .dataframe tbody tr th:only-of-type {\n",
       "        vertical-align: middle;\n",
       "    }\n",
       "\n",
       "    .dataframe tbody tr th {\n",
       "        vertical-align: top;\n",
       "    }\n",
       "\n",
       "    .dataframe thead th {\n",
       "        text-align: right;\n",
       "    }\n",
       "</style>\n",
       "<table border=\"1\" class=\"dataframe\">\n",
       "  <thead>\n",
       "    <tr style=\"text-align: right;\">\n",
       "      <th></th>\n",
       "      <th>InsuredAge</th>\n",
       "      <th>InsuredZipCode</th>\n",
       "      <th>CapitalGains</th>\n",
       "      <th>CapitalLoss</th>\n",
       "    </tr>\n",
       "  </thead>\n",
       "  <tbody>\n",
       "    <tr>\n",
       "      <th>count</th>\n",
       "      <td>28836.000000</td>\n",
       "      <td>28836.000000</td>\n",
       "      <td>28836.000000</td>\n",
       "      <td>28836.000000</td>\n",
       "    </tr>\n",
       "    <tr>\n",
       "      <th>mean</th>\n",
       "      <td>38.815370</td>\n",
       "      <td>502436.579068</td>\n",
       "      <td>23066.569566</td>\n",
       "      <td>-24940.612429</td>\n",
       "    </tr>\n",
       "    <tr>\n",
       "      <th>std</th>\n",
       "      <td>7.996377</td>\n",
       "      <td>72250.868871</td>\n",
       "      <td>27637.813724</td>\n",
       "      <td>27913.209608</td>\n",
       "    </tr>\n",
       "    <tr>\n",
       "      <th>min</th>\n",
       "      <td>19.000000</td>\n",
       "      <td>430104.000000</td>\n",
       "      <td>0.000000</td>\n",
       "      <td>-111100.000000</td>\n",
       "    </tr>\n",
       "    <tr>\n",
       "      <th>25%</th>\n",
       "      <td>33.000000</td>\n",
       "      <td>448603.000000</td>\n",
       "      <td>0.000000</td>\n",
       "      <td>-50000.000000</td>\n",
       "    </tr>\n",
       "    <tr>\n",
       "      <th>50%</th>\n",
       "      <td>38.000000</td>\n",
       "      <td>466691.000000</td>\n",
       "      <td>0.000000</td>\n",
       "      <td>0.000000</td>\n",
       "    </tr>\n",
       "    <tr>\n",
       "      <th>75%</th>\n",
       "      <td>44.000000</td>\n",
       "      <td>603848.000000</td>\n",
       "      <td>49000.000000</td>\n",
       "      <td>0.000000</td>\n",
       "    </tr>\n",
       "    <tr>\n",
       "      <th>max</th>\n",
       "      <td>64.000000</td>\n",
       "      <td>620962.000000</td>\n",
       "      <td>100500.000000</td>\n",
       "      <td>0.000000</td>\n",
       "    </tr>\n",
       "  </tbody>\n",
       "</table>\n",
       "</div>"
      ],
      "text/plain": [
       "         InsuredAge  InsuredZipCode   CapitalGains    CapitalLoss\n",
       "count  28836.000000    28836.000000   28836.000000   28836.000000\n",
       "mean      38.815370   502436.579068   23066.569566  -24940.612429\n",
       "std        7.996377    72250.868871   27637.813724   27913.209608\n",
       "min       19.000000   430104.000000       0.000000 -111100.000000\n",
       "25%       33.000000   448603.000000       0.000000  -50000.000000\n",
       "50%       38.000000   466691.000000       0.000000       0.000000\n",
       "75%       44.000000   603848.000000   49000.000000       0.000000\n",
       "max       64.000000   620962.000000  100500.000000       0.000000"
      ]
     },
     "execution_count": 7,
     "metadata": {},
     "output_type": "execute_result"
    }
   ],
   "source": [
    "# Checking the summary statistics of the data:\n",
    "TD_data1.describe()"
   ]
  },
  {
   "cell_type": "code",
   "execution_count": 8,
   "id": "0a52c488",
   "metadata": {},
   "outputs": [],
   "source": [
    "# Creating a list of numerical and categorical attributes:\n",
    "num_cols = [\"InsuredAge\", \"InsuredZipCode\", \"CapitalGains\", \"CapitalLoss\"]\n",
    "cat_cols = [\"CustomerID\", \"InsuredGender\", \"InsuredEducationLevel\", \"InsuredOccupation\", \"InsuredHobbies\", \"Country\"]"
   ]
  },
  {
   "cell_type": "code",
   "execution_count": 9,
   "id": "ffe6a7a7",
   "metadata": {},
   "outputs": [],
   "source": [
    "# Converting object data types to category in data1:\n",
    "TD_data1[cat_cols] = TD_data1[cat_cols].astype('category')"
   ]
  },
  {
   "cell_type": "code",
   "execution_count": 10,
   "id": "e3bb0c2b",
   "metadata": {},
   "outputs": [],
   "source": [
    "cat_var=TD_data1.select_dtypes('category').columns"
   ]
  },
  {
   "cell_type": "code",
   "execution_count": 11,
   "id": "6dfb474d",
   "metadata": {},
   "outputs": [
    {
     "data": {
      "text/plain": [
       "CustomerID               category\n",
       "InsuredAge                  int64\n",
       "InsuredZipCode              int64\n",
       "InsuredGender            category\n",
       "InsuredEducationLevel    category\n",
       "InsuredOccupation        category\n",
       "InsuredHobbies           category\n",
       "CapitalGains                int64\n",
       "CapitalLoss                 int64\n",
       "Country                  category\n",
       "dtype: object"
      ]
     },
     "execution_count": 11,
     "metadata": {},
     "output_type": "execute_result"
    }
   ],
   "source": [
    "# Checking the datatypes after type conversion:\n",
    "TD_data1.dtypes"
   ]
  },
  {
   "cell_type": "code",
   "execution_count": 12,
   "id": "5d9ad89a",
   "metadata": {
    "scrolled": true
   },
   "outputs": [
    {
     "data": {
      "text/plain": [
       "CustomerID               28836\n",
       "InsuredAge                  46\n",
       "InsuredZipCode             995\n",
       "InsuredGender                2\n",
       "InsuredEducationLevel        7\n",
       "InsuredOccupation           14\n",
       "InsuredHobbies              20\n",
       "CapitalGains               338\n",
       "CapitalLoss                354\n",
       "Country                      1\n",
       "dtype: int64"
      ]
     },
     "execution_count": 12,
     "metadata": {},
     "output_type": "execute_result"
    }
   ],
   "source": [
    "TD_data1.nunique()"
   ]
  },
  {
   "cell_type": "code",
   "execution_count": 13,
   "id": "0d1b2c47",
   "metadata": {},
   "outputs": [],
   "source": [
    "# Missing values imputation in categorical attributes with 'Most Frequent value':\n",
    "cat_imputer = SimpleImputer(strategy='most_frequent')\n",
    "TD_data1[cat_var]=cat_imputer.fit_transform(TD_data1[cat_var])"
   ]
  },
  {
   "cell_type": "code",
   "execution_count": 14,
   "id": "f0f912be",
   "metadata": {},
   "outputs": [
    {
     "data": {
      "text/plain": [
       "CustomerID               0\n",
       "InsuredAge               0\n",
       "InsuredZipCode           0\n",
       "InsuredGender            0\n",
       "InsuredEducationLevel    0\n",
       "InsuredOccupation        0\n",
       "InsuredHobbies           0\n",
       "CapitalGains             0\n",
       "CapitalLoss              0\n",
       "Country                  0\n",
       "dtype: int64"
      ]
     },
     "execution_count": 14,
     "metadata": {},
     "output_type": "execute_result"
    }
   ],
   "source": [
    "# Checking the null values after imputation:\n",
    "TD_data1.isnull().sum()"
   ]
  },
  {
   "cell_type": "code",
   "execution_count": 15,
   "id": "729b6f5e",
   "metadata": {},
   "outputs": [
    {
     "data": {
      "text/plain": [
       "CustomerID               28836\n",
       "InsuredAge                  46\n",
       "InsuredZipCode             995\n",
       "InsuredGender                2\n",
       "InsuredEducationLevel        7\n",
       "InsuredOccupation           14\n",
       "InsuredHobbies              20\n",
       "CapitalGains               338\n",
       "CapitalLoss                354\n",
       "Country                      1\n",
       "dtype: int64"
      ]
     },
     "execution_count": 15,
     "metadata": {},
     "output_type": "execute_result"
    }
   ],
   "source": [
    "# Checking the unique values:\n",
    "TD_data1.nunique()"
   ]
  },
  {
   "cell_type": "code",
   "execution_count": 16,
   "id": "1012cc82",
   "metadata": {},
   "outputs": [],
   "source": [
    "# Reading Train_Policy data:\n",
    "TP_data2 = pd.read_csv('Train_Policy.csv', na_values=[\"NA\",-1,\"MISSINGVAL\"])"
   ]
  },
  {
   "cell_type": "code",
   "execution_count": 17,
   "id": "f5508257",
   "metadata": {},
   "outputs": [
    {
     "data": {
      "text/html": [
       "<div>\n",
       "<style scoped>\n",
       "    .dataframe tbody tr th:only-of-type {\n",
       "        vertical-align: middle;\n",
       "    }\n",
       "\n",
       "    .dataframe tbody tr th {\n",
       "        vertical-align: top;\n",
       "    }\n",
       "\n",
       "    .dataframe thead th {\n",
       "        text-align: right;\n",
       "    }\n",
       "</style>\n",
       "<table border=\"1\" class=\"dataframe\">\n",
       "  <thead>\n",
       "    <tr style=\"text-align: right;\">\n",
       "      <th></th>\n",
       "      <th>InsurancePolicyNumber</th>\n",
       "      <th>CustomerLoyaltyPeriod</th>\n",
       "      <th>DateOfPolicyCoverage</th>\n",
       "      <th>InsurancePolicyState</th>\n",
       "      <th>Policy_CombinedSingleLimit</th>\n",
       "      <th>Policy_Deductible</th>\n",
       "      <th>PolicyAnnualPremium</th>\n",
       "      <th>UmbrellaLimit</th>\n",
       "      <th>InsuredRelationship</th>\n",
       "      <th>CustomerID</th>\n",
       "    </tr>\n",
       "  </thead>\n",
       "  <tbody>\n",
       "    <tr>\n",
       "      <th>0</th>\n",
       "      <td>110122</td>\n",
       "      <td>328</td>\n",
       "      <td>2014-10-17</td>\n",
       "      <td>State3</td>\n",
       "      <td>250/500</td>\n",
       "      <td>1000</td>\n",
       "      <td>1406.91</td>\n",
       "      <td>0</td>\n",
       "      <td>husband</td>\n",
       "      <td>Cust1001</td>\n",
       "    </tr>\n",
       "    <tr>\n",
       "      <th>1</th>\n",
       "      <td>110125</td>\n",
       "      <td>256</td>\n",
       "      <td>1990-05-25</td>\n",
       "      <td>State1</td>\n",
       "      <td>250/500</td>\n",
       "      <td>2000</td>\n",
       "      <td>1415.74</td>\n",
       "      <td>6000000</td>\n",
       "      <td>unmarried</td>\n",
       "      <td>Cust1004</td>\n",
       "    </tr>\n",
       "    <tr>\n",
       "      <th>2</th>\n",
       "      <td>110126</td>\n",
       "      <td>228</td>\n",
       "      <td>2014-06-06</td>\n",
       "      <td>State1</td>\n",
       "      <td>500/1000</td>\n",
       "      <td>1000</td>\n",
       "      <td>1583.91</td>\n",
       "      <td>6000000</td>\n",
       "      <td>unmarried</td>\n",
       "      <td>Cust1005</td>\n",
       "    </tr>\n",
       "    <tr>\n",
       "      <th>3</th>\n",
       "      <td>110127</td>\n",
       "      <td>256</td>\n",
       "      <td>2006-10-12</td>\n",
       "      <td>State3</td>\n",
       "      <td>250/500</td>\n",
       "      <td>1000</td>\n",
       "      <td>1351.10</td>\n",
       "      <td>0</td>\n",
       "      <td>unmarried</td>\n",
       "      <td>Cust1006</td>\n",
       "    </tr>\n",
       "    <tr>\n",
       "      <th>4</th>\n",
       "      <td>110128</td>\n",
       "      <td>137</td>\n",
       "      <td>2000-06-04</td>\n",
       "      <td>State2</td>\n",
       "      <td>250/500</td>\n",
       "      <td>1000</td>\n",
       "      <td>1333.35</td>\n",
       "      <td>0</td>\n",
       "      <td>husband</td>\n",
       "      <td>Cust1007</td>\n",
       "    </tr>\n",
       "  </tbody>\n",
       "</table>\n",
       "</div>"
      ],
      "text/plain": [
       "   InsurancePolicyNumber  CustomerLoyaltyPeriod DateOfPolicyCoverage  \\\n",
       "0                 110122                    328           2014-10-17   \n",
       "1                 110125                    256           1990-05-25   \n",
       "2                 110126                    228           2014-06-06   \n",
       "3                 110127                    256           2006-10-12   \n",
       "4                 110128                    137           2000-06-04   \n",
       "\n",
       "  InsurancePolicyState Policy_CombinedSingleLimit  Policy_Deductible  \\\n",
       "0               State3                    250/500               1000   \n",
       "1               State1                    250/500               2000   \n",
       "2               State1                   500/1000               1000   \n",
       "3               State3                    250/500               1000   \n",
       "4               State2                    250/500               1000   \n",
       "\n",
       "   PolicyAnnualPremium  UmbrellaLimit InsuredRelationship CustomerID  \n",
       "0              1406.91              0             husband   Cust1001  \n",
       "1              1415.74        6000000           unmarried   Cust1004  \n",
       "2              1583.91        6000000           unmarried   Cust1005  \n",
       "3              1351.10              0           unmarried   Cust1006  \n",
       "4              1333.35              0             husband   Cust1007  "
      ]
     },
     "execution_count": 17,
     "metadata": {},
     "output_type": "execute_result"
    }
   ],
   "source": [
    "# Observing the top 5 records of data2:\n",
    "TP_data2.head()"
   ]
  },
  {
   "cell_type": "code",
   "execution_count": 18,
   "id": "a78c400d",
   "metadata": {},
   "outputs": [
    {
     "data": {
      "text/plain": [
       "(28836, 10)"
      ]
     },
     "execution_count": 18,
     "metadata": {},
     "output_type": "execute_result"
    }
   ],
   "source": [
    "# Observing No of rows and columns in data2:\n",
    "TP_data2.shape"
   ]
  },
  {
   "cell_type": "code",
   "execution_count": 19,
   "id": "ea75969e",
   "metadata": {},
   "outputs": [
    {
     "name": "stdout",
     "output_type": "stream",
     "text": [
      "<class 'pandas.core.frame.DataFrame'>\n",
      "RangeIndex: 28836 entries, 0 to 28835\n",
      "Data columns (total 10 columns):\n",
      " #   Column                      Non-Null Count  Dtype  \n",
      "---  ------                      --------------  -----  \n",
      " 0   InsurancePolicyNumber       28836 non-null  int64  \n",
      " 1   CustomerLoyaltyPeriod       28836 non-null  int64  \n",
      " 2   DateOfPolicyCoverage        28836 non-null  object \n",
      " 3   InsurancePolicyState        28836 non-null  object \n",
      " 4   Policy_CombinedSingleLimit  28836 non-null  object \n",
      " 5   Policy_Deductible           28836 non-null  int64  \n",
      " 6   PolicyAnnualPremium         28695 non-null  float64\n",
      " 7   UmbrellaLimit               28836 non-null  int64  \n",
      " 8   InsuredRelationship         28836 non-null  object \n",
      " 9   CustomerID                  28836 non-null  object \n",
      "dtypes: float64(1), int64(4), object(5)\n",
      "memory usage: 2.2+ MB\n"
     ]
    }
   ],
   "source": [
    "# Observing the data types in data2:\n",
    "TP_data2.info()"
   ]
  },
  {
   "cell_type": "code",
   "execution_count": 20,
   "id": "f2370f29",
   "metadata": {},
   "outputs": [
    {
     "data": {
      "text/plain": [
       "InsurancePolicyNumber           0\n",
       "CustomerLoyaltyPeriod           0\n",
       "DateOfPolicyCoverage            0\n",
       "InsurancePolicyState            0\n",
       "Policy_CombinedSingleLimit      0\n",
       "Policy_Deductible               0\n",
       "PolicyAnnualPremium           141\n",
       "UmbrellaLimit                   0\n",
       "InsuredRelationship             0\n",
       "CustomerID                      0\n",
       "dtype: int64"
      ]
     },
     "execution_count": 20,
     "metadata": {},
     "output_type": "execute_result"
    }
   ],
   "source": [
    "# Checking null values in data2:\n",
    "TP_data2.isnull().sum()"
   ]
  },
  {
   "cell_type": "code",
   "execution_count": 21,
   "id": "9bc5b8ff",
   "metadata": {},
   "outputs": [
    {
     "data": {
      "text/html": [
       "<div>\n",
       "<style scoped>\n",
       "    .dataframe tbody tr th:only-of-type {\n",
       "        vertical-align: middle;\n",
       "    }\n",
       "\n",
       "    .dataframe tbody tr th {\n",
       "        vertical-align: top;\n",
       "    }\n",
       "\n",
       "    .dataframe thead th {\n",
       "        text-align: right;\n",
       "    }\n",
       "</style>\n",
       "<table border=\"1\" class=\"dataframe\">\n",
       "  <thead>\n",
       "    <tr style=\"text-align: right;\">\n",
       "      <th></th>\n",
       "      <th>InsurancePolicyNumber</th>\n",
       "      <th>CustomerLoyaltyPeriod</th>\n",
       "      <th>Policy_Deductible</th>\n",
       "      <th>PolicyAnnualPremium</th>\n",
       "      <th>UmbrellaLimit</th>\n",
       "    </tr>\n",
       "  </thead>\n",
       "  <tbody>\n",
       "    <tr>\n",
       "      <th>count</th>\n",
       "      <td>28836.000000</td>\n",
       "      <td>28836.000000</td>\n",
       "      <td>28836.000000</td>\n",
       "      <td>28695.000000</td>\n",
       "      <td>2.883600e+04</td>\n",
       "    </tr>\n",
       "    <tr>\n",
       "      <th>mean</th>\n",
       "      <td>129312.517097</td>\n",
       "      <td>203.067867</td>\n",
       "      <td>1114.282529</td>\n",
       "      <td>1261.702646</td>\n",
       "      <td>9.836680e+05</td>\n",
       "    </tr>\n",
       "    <tr>\n",
       "      <th>std</th>\n",
       "      <td>11114.060267</td>\n",
       "      <td>99.932951</td>\n",
       "      <td>546.632816</td>\n",
       "      <td>205.385158</td>\n",
       "      <td>1.969282e+06</td>\n",
       "    </tr>\n",
       "    <tr>\n",
       "      <th>min</th>\n",
       "      <td>110122.000000</td>\n",
       "      <td>1.000000</td>\n",
       "      <td>500.000000</td>\n",
       "      <td>436.280000</td>\n",
       "      <td>-1.000000e+06</td>\n",
       "    </tr>\n",
       "    <tr>\n",
       "      <th>25%</th>\n",
       "      <td>119698.750000</td>\n",
       "      <td>126.000000</td>\n",
       "      <td>622.000000</td>\n",
       "      <td>1124.425000</td>\n",
       "      <td>0.000000e+00</td>\n",
       "    </tr>\n",
       "    <tr>\n",
       "      <th>50%</th>\n",
       "      <td>129278.500000</td>\n",
       "      <td>199.000000</td>\n",
       "      <td>1000.000000</td>\n",
       "      <td>1266.440000</td>\n",
       "      <td>0.000000e+00</td>\n",
       "    </tr>\n",
       "    <tr>\n",
       "      <th>75%</th>\n",
       "      <td>138933.250000</td>\n",
       "      <td>267.000000</td>\n",
       "      <td>1627.000000</td>\n",
       "      <td>1397.200000</td>\n",
       "      <td>4.859610e+05</td>\n",
       "    </tr>\n",
       "    <tr>\n",
       "      <th>max</th>\n",
       "      <td>148619.000000</td>\n",
       "      <td>479.000000</td>\n",
       "      <td>2000.000000</td>\n",
       "      <td>2047.590000</td>\n",
       "      <td>1.000000e+07</td>\n",
       "    </tr>\n",
       "  </tbody>\n",
       "</table>\n",
       "</div>"
      ],
      "text/plain": [
       "       InsurancePolicyNumber  CustomerLoyaltyPeriod  Policy_Deductible  \\\n",
       "count           28836.000000           28836.000000       28836.000000   \n",
       "mean           129312.517097             203.067867        1114.282529   \n",
       "std             11114.060267              99.932951         546.632816   \n",
       "min            110122.000000               1.000000         500.000000   \n",
       "25%            119698.750000             126.000000         622.000000   \n",
       "50%            129278.500000             199.000000        1000.000000   \n",
       "75%            138933.250000             267.000000        1627.000000   \n",
       "max            148619.000000             479.000000        2000.000000   \n",
       "\n",
       "       PolicyAnnualPremium  UmbrellaLimit  \n",
       "count         28695.000000   2.883600e+04  \n",
       "mean           1261.702646   9.836680e+05  \n",
       "std             205.385158   1.969282e+06  \n",
       "min             436.280000  -1.000000e+06  \n",
       "25%            1124.425000   0.000000e+00  \n",
       "50%            1266.440000   0.000000e+00  \n",
       "75%            1397.200000   4.859610e+05  \n",
       "max            2047.590000   1.000000e+07  "
      ]
     },
     "execution_count": 21,
     "metadata": {},
     "output_type": "execute_result"
    }
   ],
   "source": [
    "# Checking the summary statistics of the data:\n",
    "TP_data2.describe()"
   ]
  },
  {
   "cell_type": "code",
   "execution_count": 22,
   "id": "55085b40",
   "metadata": {},
   "outputs": [],
   "source": [
    "# Creating a list of numerical and categorical attributes:\n",
    "num_cols = [\"InsurancePolicyNumber\", \"CustomerLoyaltyPeriod\", \"Policy_Deductible\", \"PolicyAnnualPremium\", \"UmbrellaLimit\"]\n",
    "cat_cols = [\"CustomerID\", \"DateOfPolicyCoverage\", \"InsurancePolicyState\", \"Policy_CombinedSingleLimit\", \"InsuredRelationship\"]"
   ]
  },
  {
   "cell_type": "code",
   "execution_count": 23,
   "id": "fe40b2e2",
   "metadata": {},
   "outputs": [],
   "source": [
    "# Converting object data types to category in data2:\n",
    "TP_data2[cat_cols] = TP_data2[cat_cols].astype('category')"
   ]
  },
  {
   "cell_type": "code",
   "execution_count": 24,
   "id": "c180b781",
   "metadata": {},
   "outputs": [],
   "source": [
    "#TP_data2['DateOfPolicyCoverage']=pd.to_datetime(TP_data2['DateOfPolicyCoverage'])"
   ]
  },
  {
   "cell_type": "code",
   "execution_count": 25,
   "id": "a5e1b97f",
   "metadata": {
    "scrolled": true
   },
   "outputs": [
    {
     "data": {
      "text/plain": [
       "InsurancePolicyNumber            int64\n",
       "CustomerLoyaltyPeriod            int64\n",
       "DateOfPolicyCoverage          category\n",
       "InsurancePolicyState          category\n",
       "Policy_CombinedSingleLimit    category\n",
       "Policy_Deductible                int64\n",
       "PolicyAnnualPremium            float64\n",
       "UmbrellaLimit                    int64\n",
       "InsuredRelationship           category\n",
       "CustomerID                    category\n",
       "dtype: object"
      ]
     },
     "execution_count": 25,
     "metadata": {},
     "output_type": "execute_result"
    }
   ],
   "source": [
    "# Checking the datatypes after type conversion:\n",
    "TP_data2.dtypes"
   ]
  },
  {
   "cell_type": "code",
   "execution_count": 26,
   "id": "5832a5a4",
   "metadata": {},
   "outputs": [],
   "source": [
    "#coverting num_cols int to float\n",
    "TP_data2[num_cols] = TP_data2[num_cols].astype('float64')"
   ]
  },
  {
   "cell_type": "code",
   "execution_count": 27,
   "id": "9154bd50",
   "metadata": {},
   "outputs": [],
   "source": [
    "# imputing policy annual premium using mean data2:\n",
    "TP_data2[num_cols] = TP_data2[num_cols].fillna(TP_data2[num_cols].median()[0])"
   ]
  },
  {
   "cell_type": "code",
   "execution_count": 28,
   "id": "5fce1451",
   "metadata": {},
   "outputs": [
    {
     "data": {
      "text/plain": [
       "InsurancePolicyNumber         0\n",
       "CustomerLoyaltyPeriod         0\n",
       "DateOfPolicyCoverage          0\n",
       "InsurancePolicyState          0\n",
       "Policy_CombinedSingleLimit    0\n",
       "Policy_Deductible             0\n",
       "PolicyAnnualPremium           0\n",
       "UmbrellaLimit                 0\n",
       "InsuredRelationship           0\n",
       "CustomerID                    0\n",
       "dtype: int64"
      ]
     },
     "execution_count": 28,
     "metadata": {},
     "output_type": "execute_result"
    }
   ],
   "source": [
    "# checking null values after imputation:\n",
    "TP_data2.isnull().sum()"
   ]
  },
  {
   "cell_type": "code",
   "execution_count": 29,
   "id": "dd01a146",
   "metadata": {},
   "outputs": [
    {
     "data": {
      "text/plain": [
       "InsurancePolicyNumber         28836\n",
       "CustomerLoyaltyPeriod           479\n",
       "DateOfPolicyCoverage           6779\n",
       "InsurancePolicyState              3\n",
       "Policy_CombinedSingleLimit        9\n",
       "Policy_Deductible              1496\n",
       "PolicyAnnualPremium           23852\n",
       "UmbrellaLimit                  7089\n",
       "InsuredRelationship               6\n",
       "CustomerID                    28836\n",
       "dtype: int64"
      ]
     },
     "execution_count": 29,
     "metadata": {},
     "output_type": "execute_result"
    }
   ],
   "source": [
    "# Checking the unique values:\n",
    "TP_data2.nunique()"
   ]
  },
  {
   "cell_type": "code",
   "execution_count": 30,
   "id": "929bfbbf",
   "metadata": {},
   "outputs": [],
   "source": [
    "# Reading Train_Claim data:\n",
    "TC_data3 = pd.read_csv('Train_Claim.csv', na_values=[\"?\", -5, \"MISSINGVALUE\", \"MISSEDDATA\"])"
   ]
  },
  {
   "cell_type": "code",
   "execution_count": 31,
   "id": "60bb8918",
   "metadata": {},
   "outputs": [
    {
     "data": {
      "text/html": [
       "<div>\n",
       "<style scoped>\n",
       "    .dataframe tbody tr th:only-of-type {\n",
       "        vertical-align: middle;\n",
       "    }\n",
       "\n",
       "    .dataframe tbody tr th {\n",
       "        vertical-align: top;\n",
       "    }\n",
       "\n",
       "    .dataframe thead th {\n",
       "        text-align: right;\n",
       "    }\n",
       "</style>\n",
       "<table border=\"1\" class=\"dataframe\">\n",
       "  <thead>\n",
       "    <tr style=\"text-align: right;\">\n",
       "      <th></th>\n",
       "      <th>CustomerID</th>\n",
       "      <th>DateOfIncident</th>\n",
       "      <th>TypeOfIncident</th>\n",
       "      <th>TypeOfCollission</th>\n",
       "      <th>SeverityOfIncident</th>\n",
       "      <th>AuthoritiesContacted</th>\n",
       "      <th>IncidentState</th>\n",
       "      <th>IncidentCity</th>\n",
       "      <th>IncidentAddress</th>\n",
       "      <th>IncidentTime</th>\n",
       "      <th>NumberOfVehicles</th>\n",
       "      <th>PropertyDamage</th>\n",
       "      <th>BodilyInjuries</th>\n",
       "      <th>Witnesses</th>\n",
       "      <th>PoliceReport</th>\n",
       "      <th>AmountOfTotalClaim</th>\n",
       "      <th>AmountOfInjuryClaim</th>\n",
       "      <th>AmountOfPropertyClaim</th>\n",
       "      <th>AmountOfVehicleDamage</th>\n",
       "    </tr>\n",
       "  </thead>\n",
       "  <tbody>\n",
       "    <tr>\n",
       "      <th>0</th>\n",
       "      <td>Cust10000</td>\n",
       "      <td>2015-02-03</td>\n",
       "      <td>Multi-vehicle Collision</td>\n",
       "      <td>Side Collision</td>\n",
       "      <td>Total Loss</td>\n",
       "      <td>Police</td>\n",
       "      <td>State7</td>\n",
       "      <td>City1</td>\n",
       "      <td>Location 1311</td>\n",
       "      <td>17.0</td>\n",
       "      <td>3</td>\n",
       "      <td>NaN</td>\n",
       "      <td>1</td>\n",
       "      <td>0.0</td>\n",
       "      <td>NaN</td>\n",
       "      <td>65501.0</td>\n",
       "      <td>13417</td>\n",
       "      <td>6071</td>\n",
       "      <td>46013</td>\n",
       "    </tr>\n",
       "    <tr>\n",
       "      <th>1</th>\n",
       "      <td>Cust10001</td>\n",
       "      <td>2015-02-02</td>\n",
       "      <td>Multi-vehicle Collision</td>\n",
       "      <td>Side Collision</td>\n",
       "      <td>Total Loss</td>\n",
       "      <td>Police</td>\n",
       "      <td>State7</td>\n",
       "      <td>City5</td>\n",
       "      <td>Location 1311</td>\n",
       "      <td>10.0</td>\n",
       "      <td>3</td>\n",
       "      <td>YES</td>\n",
       "      <td>2</td>\n",
       "      <td>1.0</td>\n",
       "      <td>YES</td>\n",
       "      <td>61382.0</td>\n",
       "      <td>15560</td>\n",
       "      <td>5919</td>\n",
       "      <td>39903</td>\n",
       "    </tr>\n",
       "    <tr>\n",
       "      <th>2</th>\n",
       "      <td>Cust10002</td>\n",
       "      <td>2015-01-15</td>\n",
       "      <td>Single Vehicle Collision</td>\n",
       "      <td>Side Collision</td>\n",
       "      <td>Minor Damage</td>\n",
       "      <td>Other</td>\n",
       "      <td>State8</td>\n",
       "      <td>City6</td>\n",
       "      <td>Location 2081</td>\n",
       "      <td>22.0</td>\n",
       "      <td>1</td>\n",
       "      <td>YES</td>\n",
       "      <td>2</td>\n",
       "      <td>3.0</td>\n",
       "      <td>NO</td>\n",
       "      <td>66755.0</td>\n",
       "      <td>11630</td>\n",
       "      <td>11630</td>\n",
       "      <td>43495</td>\n",
       "    </tr>\n",
       "    <tr>\n",
       "      <th>3</th>\n",
       "      <td>Cust10003</td>\n",
       "      <td>2015-01-19</td>\n",
       "      <td>Single Vehicle Collision</td>\n",
       "      <td>Side Collision</td>\n",
       "      <td>Minor Damage</td>\n",
       "      <td>Other</td>\n",
       "      <td>State9</td>\n",
       "      <td>City6</td>\n",
       "      <td>Location 2081</td>\n",
       "      <td>22.0</td>\n",
       "      <td>1</td>\n",
       "      <td>YES</td>\n",
       "      <td>2</td>\n",
       "      <td>3.0</td>\n",
       "      <td>NO</td>\n",
       "      <td>66243.0</td>\n",
       "      <td>12003</td>\n",
       "      <td>12003</td>\n",
       "      <td>42237</td>\n",
       "    </tr>\n",
       "    <tr>\n",
       "      <th>4</th>\n",
       "      <td>Cust10004</td>\n",
       "      <td>2015-01-09</td>\n",
       "      <td>Single Vehicle Collision</td>\n",
       "      <td>Rear Collision</td>\n",
       "      <td>Minor Damage</td>\n",
       "      <td>Fire</td>\n",
       "      <td>State8</td>\n",
       "      <td>City6</td>\n",
       "      <td>Location 1695</td>\n",
       "      <td>10.0</td>\n",
       "      <td>1</td>\n",
       "      <td>NO</td>\n",
       "      <td>2</td>\n",
       "      <td>1.0</td>\n",
       "      <td>YES</td>\n",
       "      <td>53544.0</td>\n",
       "      <td>8829</td>\n",
       "      <td>7234</td>\n",
       "      <td>37481</td>\n",
       "    </tr>\n",
       "  </tbody>\n",
       "</table>\n",
       "</div>"
      ],
      "text/plain": [
       "  CustomerID DateOfIncident            TypeOfIncident TypeOfCollission  \\\n",
       "0  Cust10000     2015-02-03   Multi-vehicle Collision   Side Collision   \n",
       "1  Cust10001     2015-02-02   Multi-vehicle Collision   Side Collision   \n",
       "2  Cust10002     2015-01-15  Single Vehicle Collision   Side Collision   \n",
       "3  Cust10003     2015-01-19  Single Vehicle Collision   Side Collision   \n",
       "4  Cust10004     2015-01-09  Single Vehicle Collision   Rear Collision   \n",
       "\n",
       "  SeverityOfIncident AuthoritiesContacted IncidentState IncidentCity  \\\n",
       "0         Total Loss               Police        State7        City1   \n",
       "1         Total Loss               Police        State7        City5   \n",
       "2       Minor Damage                Other        State8        City6   \n",
       "3       Minor Damage                Other        State9        City6   \n",
       "4       Minor Damage                 Fire        State8        City6   \n",
       "\n",
       "  IncidentAddress  IncidentTime  NumberOfVehicles PropertyDamage  \\\n",
       "0   Location 1311          17.0                 3            NaN   \n",
       "1   Location 1311          10.0                 3            YES   \n",
       "2   Location 2081          22.0                 1            YES   \n",
       "3   Location 2081          22.0                 1            YES   \n",
       "4   Location 1695          10.0                 1             NO   \n",
       "\n",
       "   BodilyInjuries  Witnesses PoliceReport  AmountOfTotalClaim  \\\n",
       "0               1        0.0          NaN             65501.0   \n",
       "1               2        1.0          YES             61382.0   \n",
       "2               2        3.0           NO             66755.0   \n",
       "3               2        3.0           NO             66243.0   \n",
       "4               2        1.0          YES             53544.0   \n",
       "\n",
       "   AmountOfInjuryClaim  AmountOfPropertyClaim  AmountOfVehicleDamage  \n",
       "0                13417                   6071                  46013  \n",
       "1                15560                   5919                  39903  \n",
       "2                11630                  11630                  43495  \n",
       "3                12003                  12003                  42237  \n",
       "4                 8829                   7234                  37481  "
      ]
     },
     "execution_count": 31,
     "metadata": {},
     "output_type": "execute_result"
    }
   ],
   "source": [
    "# Observing the top 5 records of data3:\n",
    "TC_data3.head()"
   ]
  },
  {
   "cell_type": "code",
   "execution_count": 32,
   "id": "774d527b",
   "metadata": {},
   "outputs": [
    {
     "data": {
      "text/plain": [
       "(28836, 19)"
      ]
     },
     "execution_count": 32,
     "metadata": {},
     "output_type": "execute_result"
    }
   ],
   "source": [
    "# Observing No of rows and columns in data3:\n",
    "TC_data3.shape"
   ]
  },
  {
   "cell_type": "code",
   "execution_count": 33,
   "id": "f12b6c58",
   "metadata": {
    "scrolled": true
   },
   "outputs": [
    {
     "name": "stdout",
     "output_type": "stream",
     "text": [
      "<class 'pandas.core.frame.DataFrame'>\n",
      "RangeIndex: 28836 entries, 0 to 28835\n",
      "Data columns (total 19 columns):\n",
      " #   Column                 Non-Null Count  Dtype  \n",
      "---  ------                 --------------  -----  \n",
      " 0   CustomerID             28836 non-null  object \n",
      " 1   DateOfIncident         28836 non-null  object \n",
      " 2   TypeOfIncident         28836 non-null  object \n",
      " 3   TypeOfCollission       23674 non-null  object \n",
      " 4   SeverityOfIncident     28836 non-null  object \n",
      " 5   AuthoritiesContacted   28836 non-null  object \n",
      " 6   IncidentState          28836 non-null  object \n",
      " 7   IncidentCity           28836 non-null  object \n",
      " 8   IncidentAddress        28836 non-null  object \n",
      " 9   IncidentTime           28805 non-null  float64\n",
      " 10  NumberOfVehicles       28836 non-null  int64  \n",
      " 11  PropertyDamage         18377 non-null  object \n",
      " 12  BodilyInjuries         28836 non-null  int64  \n",
      " 13  Witnesses              28790 non-null  float64\n",
      " 14  PoliceReport           19031 non-null  object \n",
      " 15  AmountOfTotalClaim     28786 non-null  float64\n",
      " 16  AmountOfInjuryClaim    28836 non-null  int64  \n",
      " 17  AmountOfPropertyClaim  28836 non-null  int64  \n",
      " 18  AmountOfVehicleDamage  28836 non-null  int64  \n",
      "dtypes: float64(3), int64(5), object(11)\n",
      "memory usage: 4.2+ MB\n"
     ]
    }
   ],
   "source": [
    "# Observing the data types in data3:\n",
    "TC_data3.info()"
   ]
  },
  {
   "cell_type": "code",
   "execution_count": null,
   "id": "1afbdadb",
   "metadata": {},
   "outputs": [],
   "source": []
  },
  {
   "cell_type": "code",
   "execution_count": 34,
   "id": "8cbb045d",
   "metadata": {},
   "outputs": [
    {
     "data": {
      "text/plain": [
       "CustomerID                   0\n",
       "DateOfIncident               0\n",
       "TypeOfIncident               0\n",
       "TypeOfCollission          5162\n",
       "SeverityOfIncident           0\n",
       "AuthoritiesContacted         0\n",
       "IncidentState                0\n",
       "IncidentCity                 0\n",
       "IncidentAddress              0\n",
       "IncidentTime                31\n",
       "NumberOfVehicles             0\n",
       "PropertyDamage           10459\n",
       "BodilyInjuries               0\n",
       "Witnesses                   46\n",
       "PoliceReport              9805\n",
       "AmountOfTotalClaim          50\n",
       "AmountOfInjuryClaim          0\n",
       "AmountOfPropertyClaim        0\n",
       "AmountOfVehicleDamage        0\n",
       "dtype: int64"
      ]
     },
     "execution_count": 34,
     "metadata": {},
     "output_type": "execute_result"
    }
   ],
   "source": [
    "# Checking null values in data3:\n",
    "TC_data3.isnull().sum()"
   ]
  },
  {
   "cell_type": "code",
   "execution_count": 35,
   "id": "ba581c19",
   "metadata": {
    "scrolled": true
   },
   "outputs": [
    {
     "data": {
      "text/html": [
       "<div>\n",
       "<style scoped>\n",
       "    .dataframe tbody tr th:only-of-type {\n",
       "        vertical-align: middle;\n",
       "    }\n",
       "\n",
       "    .dataframe tbody tr th {\n",
       "        vertical-align: top;\n",
       "    }\n",
       "\n",
       "    .dataframe thead th {\n",
       "        text-align: right;\n",
       "    }\n",
       "</style>\n",
       "<table border=\"1\" class=\"dataframe\">\n",
       "  <thead>\n",
       "    <tr style=\"text-align: right;\">\n",
       "      <th></th>\n",
       "      <th>IncidentTime</th>\n",
       "      <th>NumberOfVehicles</th>\n",
       "      <th>BodilyInjuries</th>\n",
       "      <th>Witnesses</th>\n",
       "      <th>AmountOfTotalClaim</th>\n",
       "      <th>AmountOfInjuryClaim</th>\n",
       "      <th>AmountOfPropertyClaim</th>\n",
       "      <th>AmountOfVehicleDamage</th>\n",
       "    </tr>\n",
       "  </thead>\n",
       "  <tbody>\n",
       "    <tr>\n",
       "      <th>count</th>\n",
       "      <td>28805.000000</td>\n",
       "      <td>28836.000000</td>\n",
       "      <td>28836.000000</td>\n",
       "      <td>28790.00000</td>\n",
       "      <td>28786.000000</td>\n",
       "      <td>28836.000000</td>\n",
       "      <td>28836.000000</td>\n",
       "      <td>28836.000000</td>\n",
       "    </tr>\n",
       "    <tr>\n",
       "      <th>mean</th>\n",
       "      <td>11.764069</td>\n",
       "      <td>1.823207</td>\n",
       "      <td>0.985782</td>\n",
       "      <td>1.48826</td>\n",
       "      <td>52308.545473</td>\n",
       "      <td>7337.118428</td>\n",
       "      <td>7283.870197</td>\n",
       "      <td>37687.129387</td>\n",
       "    </tr>\n",
       "    <tr>\n",
       "      <th>std</th>\n",
       "      <td>6.148869</td>\n",
       "      <td>0.980099</td>\n",
       "      <td>0.784764</td>\n",
       "      <td>1.04079</td>\n",
       "      <td>25101.172550</td>\n",
       "      <td>4427.638593</td>\n",
       "      <td>4375.842738</td>\n",
       "      <td>17977.048232</td>\n",
       "    </tr>\n",
       "    <tr>\n",
       "      <th>min</th>\n",
       "      <td>0.000000</td>\n",
       "      <td>1.000000</td>\n",
       "      <td>0.000000</td>\n",
       "      <td>0.00000</td>\n",
       "      <td>150.000000</td>\n",
       "      <td>0.000000</td>\n",
       "      <td>0.000000</td>\n",
       "      <td>109.000000</td>\n",
       "    </tr>\n",
       "    <tr>\n",
       "      <th>25%</th>\n",
       "      <td>6.000000</td>\n",
       "      <td>1.000000</td>\n",
       "      <td>0.000000</td>\n",
       "      <td>1.00000</td>\n",
       "      <td>44643.750000</td>\n",
       "      <td>4743.750000</td>\n",
       "      <td>4862.000000</td>\n",
       "      <td>32193.250000</td>\n",
       "    </tr>\n",
       "    <tr>\n",
       "      <th>50%</th>\n",
       "      <td>12.000000</td>\n",
       "      <td>1.000000</td>\n",
       "      <td>1.000000</td>\n",
       "      <td>1.00000</td>\n",
       "      <td>58360.000000</td>\n",
       "      <td>7147.000000</td>\n",
       "      <td>7051.000000</td>\n",
       "      <td>42457.500000</td>\n",
       "    </tr>\n",
       "    <tr>\n",
       "      <th>75%</th>\n",
       "      <td>17.000000</td>\n",
       "      <td>3.000000</td>\n",
       "      <td>2.000000</td>\n",
       "      <td>2.00000</td>\n",
       "      <td>68982.750000</td>\n",
       "      <td>10571.250000</td>\n",
       "      <td>10327.000000</td>\n",
       "      <td>49535.750000</td>\n",
       "    </tr>\n",
       "    <tr>\n",
       "      <th>max</th>\n",
       "      <td>23.000000</td>\n",
       "      <td>4.000000</td>\n",
       "      <td>2.000000</td>\n",
       "      <td>3.00000</td>\n",
       "      <td>114920.000000</td>\n",
       "      <td>21450.000000</td>\n",
       "      <td>23670.000000</td>\n",
       "      <td>79560.000000</td>\n",
       "    </tr>\n",
       "  </tbody>\n",
       "</table>\n",
       "</div>"
      ],
      "text/plain": [
       "       IncidentTime  NumberOfVehicles  BodilyInjuries    Witnesses  \\\n",
       "count  28805.000000      28836.000000    28836.000000  28790.00000   \n",
       "mean      11.764069          1.823207        0.985782      1.48826   \n",
       "std        6.148869          0.980099        0.784764      1.04079   \n",
       "min        0.000000          1.000000        0.000000      0.00000   \n",
       "25%        6.000000          1.000000        0.000000      1.00000   \n",
       "50%       12.000000          1.000000        1.000000      1.00000   \n",
       "75%       17.000000          3.000000        2.000000      2.00000   \n",
       "max       23.000000          4.000000        2.000000      3.00000   \n",
       "\n",
       "       AmountOfTotalClaim  AmountOfInjuryClaim  AmountOfPropertyClaim  \\\n",
       "count        28786.000000         28836.000000           28836.000000   \n",
       "mean         52308.545473          7337.118428            7283.870197   \n",
       "std          25101.172550          4427.638593            4375.842738   \n",
       "min            150.000000             0.000000               0.000000   \n",
       "25%          44643.750000          4743.750000            4862.000000   \n",
       "50%          58360.000000          7147.000000            7051.000000   \n",
       "75%          68982.750000         10571.250000           10327.000000   \n",
       "max         114920.000000         21450.000000           23670.000000   \n",
       "\n",
       "       AmountOfVehicleDamage  \n",
       "count           28836.000000  \n",
       "mean            37687.129387  \n",
       "std             17977.048232  \n",
       "min               109.000000  \n",
       "25%             32193.250000  \n",
       "50%             42457.500000  \n",
       "75%             49535.750000  \n",
       "max             79560.000000  "
      ]
     },
     "execution_count": 35,
     "metadata": {},
     "output_type": "execute_result"
    }
   ],
   "source": [
    "# Checking the summary statistics of the data3:\n",
    "TC_data3.describe()"
   ]
  },
  {
   "cell_type": "code",
   "execution_count": 36,
   "id": "f095456f",
   "metadata": {},
   "outputs": [
    {
     "data": {
      "text/plain": [
       "Index(['CustomerID', 'DateOfIncident', 'TypeOfIncident', 'TypeOfCollission',\n",
       "       'SeverityOfIncident', 'AuthoritiesContacted', 'IncidentState',\n",
       "       'IncidentCity', 'IncidentAddress', 'IncidentTime', 'NumberOfVehicles',\n",
       "       'PropertyDamage', 'BodilyInjuries', 'Witnesses', 'PoliceReport',\n",
       "       'AmountOfTotalClaim', 'AmountOfInjuryClaim', 'AmountOfPropertyClaim',\n",
       "       'AmountOfVehicleDamage'],\n",
       "      dtype='object')"
      ]
     },
     "execution_count": 36,
     "metadata": {},
     "output_type": "execute_result"
    }
   ],
   "source": [
    "TC_data3.columns"
   ]
  },
  {
   "cell_type": "code",
   "execution_count": 37,
   "id": "9123573b",
   "metadata": {},
   "outputs": [],
   "source": [
    "num_att = ['IncidentTime','NumberOfVehicles','BodilyInjuries','Witnesses','AmountOfTotalClaim','AmountOfInjuryClaim','AmountOfPropertyClaim','AmountOfVehicleDamage']\n",
    "categorical = ['CustomerID','DateOfIncident','TypeOfIncident','TypeOfCollission','SeverityOfIncident','AuthoritiesContacted','IncidentState','IncidentCity','IncidentAddress','PropertyDamage','PoliceReport']"
   ]
  },
  {
   "cell_type": "code",
   "execution_count": 38,
   "id": "ace98477",
   "metadata": {},
   "outputs": [],
   "source": [
    "# num_att = ['IncidentTime','NumberOfVehicles','BodilyInjuries','Witnesses','AmountOfTotalClaim','AmountOfInjuryClaim','AmountOfPropertyClaim','AmountOfVehicleDamage']\n",
    "# num_att"
   ]
  },
  {
   "cell_type": "code",
   "execution_count": 39,
   "id": "26e2e197",
   "metadata": {},
   "outputs": [],
   "source": [
    "categorical = TC_data3.select_dtypes(include = 'object').columns\n",
    "TC_data3[categorical] = TC_data3[categorical].astype('category')"
   ]
  },
  {
   "cell_type": "code",
   "execution_count": 40,
   "id": "06645a03",
   "metadata": {
    "scrolled": true
   },
   "outputs": [],
   "source": [
    "#categorical"
   ]
  },
  {
   "cell_type": "code",
   "execution_count": null,
   "id": "05a07b07",
   "metadata": {},
   "outputs": [],
   "source": []
  },
  {
   "cell_type": "code",
   "execution_count": 41,
   "id": "988cf798",
   "metadata": {},
   "outputs": [],
   "source": [
    "TC_data3[num_att] = TC_data3[num_att].astype('float64')"
   ]
  },
  {
   "cell_type": "code",
   "execution_count": 42,
   "id": "c6222ad2",
   "metadata": {
    "scrolled": true
   },
   "outputs": [
    {
     "data": {
      "text/plain": [
       "CustomerID               category\n",
       "DateOfIncident           category\n",
       "TypeOfIncident           category\n",
       "TypeOfCollission         category\n",
       "SeverityOfIncident       category\n",
       "AuthoritiesContacted     category\n",
       "IncidentState            category\n",
       "IncidentCity             category\n",
       "IncidentAddress          category\n",
       "IncidentTime              float64\n",
       "NumberOfVehicles          float64\n",
       "PropertyDamage           category\n",
       "BodilyInjuries            float64\n",
       "Witnesses                 float64\n",
       "PoliceReport             category\n",
       "AmountOfTotalClaim        float64\n",
       "AmountOfInjuryClaim       float64\n",
       "AmountOfPropertyClaim     float64\n",
       "AmountOfVehicleDamage     float64\n",
       "dtype: object"
      ]
     },
     "execution_count": 42,
     "metadata": {},
     "output_type": "execute_result"
    }
   ],
   "source": [
    "TC_data3.dtypes"
   ]
  },
  {
   "cell_type": "code",
   "execution_count": 43,
   "id": "c61b3e0e",
   "metadata": {},
   "outputs": [],
   "source": [
    "TC_data3[categorical] = TC_data3[categorical].astype('category')"
   ]
  },
  {
   "cell_type": "code",
   "execution_count": 44,
   "id": "1f8a6db6",
   "metadata": {},
   "outputs": [],
   "source": [
    "# imputing policy annual premium using mean data2:\n",
    "TC_data3[num_att] = TC_data3[num_att].fillna(TC_data3[num_att].mean()[0])"
   ]
  },
  {
   "cell_type": "code",
   "execution_count": 45,
   "id": "d764de42",
   "metadata": {
    "scrolled": true
   },
   "outputs": [],
   "source": [
    "#TC_data3[categorical] = TC_data3[categorical].fillna(TC_data3[categorical].mode()[0])"
   ]
  },
  {
   "cell_type": "code",
   "execution_count": 46,
   "id": "3253e5d0",
   "metadata": {},
   "outputs": [],
   "source": [
    "# Missing values imputation in categorical attributes with 'Most Frequent value':\n",
    "cat_imputer2 = SimpleImputer(strategy='most_frequent')\n",
    "TC_data3[categorical]=cat_imputer2.fit_transform(TC_data3[categorical])"
   ]
  },
  {
   "cell_type": "code",
   "execution_count": 47,
   "id": "1b3d5110",
   "metadata": {},
   "outputs": [
    {
     "data": {
      "text/plain": [
       "CustomerID               0\n",
       "DateOfIncident           0\n",
       "TypeOfIncident           0\n",
       "TypeOfCollission         0\n",
       "SeverityOfIncident       0\n",
       "AuthoritiesContacted     0\n",
       "IncidentState            0\n",
       "IncidentCity             0\n",
       "IncidentAddress          0\n",
       "IncidentTime             0\n",
       "NumberOfVehicles         0\n",
       "PropertyDamage           0\n",
       "BodilyInjuries           0\n",
       "Witnesses                0\n",
       "PoliceReport             0\n",
       "AmountOfTotalClaim       0\n",
       "AmountOfInjuryClaim      0\n",
       "AmountOfPropertyClaim    0\n",
       "AmountOfVehicleDamage    0\n",
       "dtype: int64"
      ]
     },
     "execution_count": 47,
     "metadata": {},
     "output_type": "execute_result"
    }
   ],
   "source": [
    "TC_data3.isnull().sum()"
   ]
  },
  {
   "cell_type": "code",
   "execution_count": 48,
   "id": "ca971121",
   "metadata": {},
   "outputs": [
    {
     "data": {
      "text/plain": [
       "CustomerID               28836\n",
       "DateOfIncident              72\n",
       "TypeOfIncident               4\n",
       "TypeOfCollission             3\n",
       "SeverityOfIncident           4\n",
       "AuthoritiesContacted         5\n",
       "IncidentState                7\n",
       "IncidentCity                 7\n",
       "IncidentAddress           1000\n",
       "IncidentTime                25\n",
       "NumberOfVehicles             4\n",
       "PropertyDamage               2\n",
       "BodilyInjuries               3\n",
       "Witnesses                    5\n",
       "PoliceReport                 2\n",
       "AmountOfTotalClaim       21976\n",
       "AmountOfInjuryClaim      11958\n",
       "AmountOfPropertyClaim    11785\n",
       "AmountOfVehicleDamage    20041\n",
       "dtype: int64"
      ]
     },
     "execution_count": 48,
     "metadata": {},
     "output_type": "execute_result"
    }
   ],
   "source": [
    "# Checking the unique values:\n",
    "TC_data3.nunique()"
   ]
  },
  {
   "cell_type": "code",
   "execution_count": 49,
   "id": "b57b73ce",
   "metadata": {},
   "outputs": [],
   "source": [
    "# Reading the train_vehicle data:\n",
    "TV_data4 = pd.read_csv(\"Train_Vehicle.csv\", na_values = \"???\")"
   ]
  },
  {
   "cell_type": "code",
   "execution_count": 50,
   "id": "bb8719df",
   "metadata": {},
   "outputs": [
    {
     "data": {
      "text/html": [
       "<div>\n",
       "<style scoped>\n",
       "    .dataframe tbody tr th:only-of-type {\n",
       "        vertical-align: middle;\n",
       "    }\n",
       "\n",
       "    .dataframe tbody tr th {\n",
       "        vertical-align: top;\n",
       "    }\n",
       "\n",
       "    .dataframe thead th {\n",
       "        text-align: right;\n",
       "    }\n",
       "</style>\n",
       "<table border=\"1\" class=\"dataframe\">\n",
       "  <thead>\n",
       "    <tr style=\"text-align: right;\">\n",
       "      <th></th>\n",
       "      <th>CustomerID</th>\n",
       "      <th>VehicleAttribute</th>\n",
       "      <th>VehicleAttributeDetails</th>\n",
       "    </tr>\n",
       "  </thead>\n",
       "  <tbody>\n",
       "    <tr>\n",
       "      <th>0</th>\n",
       "      <td>Cust20179</td>\n",
       "      <td>VehicleID</td>\n",
       "      <td>Vehicle8898</td>\n",
       "    </tr>\n",
       "    <tr>\n",
       "      <th>1</th>\n",
       "      <td>Cust21384</td>\n",
       "      <td>VehicleModel</td>\n",
       "      <td>Malibu</td>\n",
       "    </tr>\n",
       "    <tr>\n",
       "      <th>2</th>\n",
       "      <td>Cust33335</td>\n",
       "      <td>VehicleMake</td>\n",
       "      <td>Toyota</td>\n",
       "    </tr>\n",
       "    <tr>\n",
       "      <th>3</th>\n",
       "      <td>Cust27118</td>\n",
       "      <td>VehicleModel</td>\n",
       "      <td>Neon</td>\n",
       "    </tr>\n",
       "    <tr>\n",
       "      <th>4</th>\n",
       "      <td>Cust13038</td>\n",
       "      <td>VehicleID</td>\n",
       "      <td>Vehicle30212</td>\n",
       "    </tr>\n",
       "    <tr>\n",
       "      <th>...</th>\n",
       "      <td>...</td>\n",
       "      <td>...</td>\n",
       "      <td>...</td>\n",
       "    </tr>\n",
       "    <tr>\n",
       "      <th>115339</th>\n",
       "      <td>Cust22134</td>\n",
       "      <td>VehicleMake</td>\n",
       "      <td>Audi</td>\n",
       "    </tr>\n",
       "    <tr>\n",
       "      <th>115340</th>\n",
       "      <td>Cust25338</td>\n",
       "      <td>VehicleID</td>\n",
       "      <td>Vehicle28831</td>\n",
       "    </tr>\n",
       "    <tr>\n",
       "      <th>115341</th>\n",
       "      <td>Cust7637</td>\n",
       "      <td>VehicleID</td>\n",
       "      <td>Vehicle12870</td>\n",
       "    </tr>\n",
       "    <tr>\n",
       "      <th>115342</th>\n",
       "      <td>Cust33581</td>\n",
       "      <td>VehicleID</td>\n",
       "      <td>Vehicle19680</td>\n",
       "    </tr>\n",
       "    <tr>\n",
       "      <th>115343</th>\n",
       "      <td>Cust14156</td>\n",
       "      <td>VehicleModel</td>\n",
       "      <td>Corolla</td>\n",
       "    </tr>\n",
       "  </tbody>\n",
       "</table>\n",
       "<p>115344 rows × 3 columns</p>\n",
       "</div>"
      ],
      "text/plain": [
       "       CustomerID VehicleAttribute VehicleAttributeDetails\n",
       "0       Cust20179        VehicleID             Vehicle8898\n",
       "1       Cust21384     VehicleModel                  Malibu\n",
       "2       Cust33335      VehicleMake                  Toyota\n",
       "3       Cust27118     VehicleModel                    Neon\n",
       "4       Cust13038        VehicleID            Vehicle30212\n",
       "...           ...              ...                     ...\n",
       "115339  Cust22134      VehicleMake                    Audi\n",
       "115340  Cust25338        VehicleID            Vehicle28831\n",
       "115341   Cust7637        VehicleID            Vehicle12870\n",
       "115342  Cust33581        VehicleID            Vehicle19680\n",
       "115343  Cust14156     VehicleModel                 Corolla\n",
       "\n",
       "[115344 rows x 3 columns]"
      ]
     },
     "execution_count": 50,
     "metadata": {},
     "output_type": "execute_result"
    }
   ],
   "source": [
    "# Observing the data:\n",
    "TV_data4"
   ]
  },
  {
   "cell_type": "code",
   "execution_count": 51,
   "id": "dc1eb86b",
   "metadata": {
    "scrolled": true
   },
   "outputs": [
    {
     "name": "stdout",
     "output_type": "stream",
     "text": [
      "<class 'pandas.core.frame.DataFrame'>\n",
      "RangeIndex: 115344 entries, 0 to 115343\n",
      "Data columns (total 3 columns):\n",
      " #   Column                   Non-Null Count   Dtype \n",
      "---  ------                   --------------   ----- \n",
      " 0   CustomerID               115344 non-null  object\n",
      " 1   VehicleAttribute         115344 non-null  object\n",
      " 2   VehicleAttributeDetails  115294 non-null  object\n",
      "dtypes: object(3)\n",
      "memory usage: 2.6+ MB\n"
     ]
    }
   ],
   "source": [
    "# Checking the data types in data4:\n",
    "TV_data4.info()"
   ]
  },
  {
   "cell_type": "code",
   "execution_count": 52,
   "id": "bcca2fd7",
   "metadata": {},
   "outputs": [
    {
     "name": "stdout",
     "output_type": "stream",
     "text": [
      "      CustomerID     VehicleID VehicleModel VehicleMake VehicleYOM\n",
      "0      Cust20179   Vehicle8898    Forrestor         BMW       2011\n",
      "1      Cust13038  Vehicle30212       Maxima      Toyota       2000\n",
      "2       Cust1801  Vehicle24096          MDX      Accura       1999\n",
      "3      Cust14947  Vehicle15216       Ultima      Nissan       1998\n",
      "4      Cust19144  Vehicle29018       Fusion        Ford       2011\n",
      "...          ...           ...          ...         ...        ...\n",
      "28831   Cust2970  Vehicle19228   Pathfinder        Audi       2003\n",
      "28832  Cust19731  Vehicle12644       Malibu   Chevrolet       2014\n",
      "28833  Cust25338  Vehicle28831           95        Saab       2011\n",
      "28834   Cust7637  Vehicle12870       Fusion        Ford       2008\n",
      "28835  Cust33581  Vehicle19680     3 Series         BMW       2004\n",
      "\n",
      "[28836 rows x 5 columns]\n"
     ]
    }
   ],
   "source": [
    "#As shape of the vehicle data is inadequate converting the data into a structured way:\n",
    "vendors=TV_data4['VehicleAttribute'].unique()\n",
    "Vehicledata=TV_data4['VehicleAttribute'].unique()\n",
    "TVehicle_data4=pd.concat([TV_data4.set_index(['CustomerID']).groupby('VehicleAttribute')['VehicleAttributeDetails'].get_group(key) for key in vendors],axis=1)\n",
    "TVehicle_data4.columns=vendors\n",
    "TVehicle_data4.reset_index(inplace=True)\n",
    "print(TVehicle_data4)\n",
    "vehicle_data4 = pd.DataFrame(data=TVehicle_data4)"
   ]
  },
  {
   "cell_type": "code",
   "execution_count": 53,
   "id": "36b71c82",
   "metadata": {},
   "outputs": [
    {
     "data": {
      "text/html": [
       "<div>\n",
       "<style scoped>\n",
       "    .dataframe tbody tr th:only-of-type {\n",
       "        vertical-align: middle;\n",
       "    }\n",
       "\n",
       "    .dataframe tbody tr th {\n",
       "        vertical-align: top;\n",
       "    }\n",
       "\n",
       "    .dataframe thead th {\n",
       "        text-align: right;\n",
       "    }\n",
       "</style>\n",
       "<table border=\"1\" class=\"dataframe\">\n",
       "  <thead>\n",
       "    <tr style=\"text-align: right;\">\n",
       "      <th></th>\n",
       "      <th>CustomerID</th>\n",
       "      <th>VehicleID</th>\n",
       "      <th>VehicleModel</th>\n",
       "      <th>VehicleMake</th>\n",
       "      <th>VehicleYOM</th>\n",
       "    </tr>\n",
       "  </thead>\n",
       "  <tbody>\n",
       "    <tr>\n",
       "      <th>0</th>\n",
       "      <td>Cust20179</td>\n",
       "      <td>Vehicle8898</td>\n",
       "      <td>Forrestor</td>\n",
       "      <td>BMW</td>\n",
       "      <td>2011</td>\n",
       "    </tr>\n",
       "    <tr>\n",
       "      <th>1</th>\n",
       "      <td>Cust13038</td>\n",
       "      <td>Vehicle30212</td>\n",
       "      <td>Maxima</td>\n",
       "      <td>Toyota</td>\n",
       "      <td>2000</td>\n",
       "    </tr>\n",
       "    <tr>\n",
       "      <th>2</th>\n",
       "      <td>Cust1801</td>\n",
       "      <td>Vehicle24096</td>\n",
       "      <td>MDX</td>\n",
       "      <td>Accura</td>\n",
       "      <td>1999</td>\n",
       "    </tr>\n",
       "    <tr>\n",
       "      <th>3</th>\n",
       "      <td>Cust14947</td>\n",
       "      <td>Vehicle15216</td>\n",
       "      <td>Ultima</td>\n",
       "      <td>Nissan</td>\n",
       "      <td>1998</td>\n",
       "    </tr>\n",
       "    <tr>\n",
       "      <th>4</th>\n",
       "      <td>Cust19144</td>\n",
       "      <td>Vehicle29018</td>\n",
       "      <td>Fusion</td>\n",
       "      <td>Ford</td>\n",
       "      <td>2011</td>\n",
       "    </tr>\n",
       "    <tr>\n",
       "      <th>...</th>\n",
       "      <td>...</td>\n",
       "      <td>...</td>\n",
       "      <td>...</td>\n",
       "      <td>...</td>\n",
       "      <td>...</td>\n",
       "    </tr>\n",
       "    <tr>\n",
       "      <th>28831</th>\n",
       "      <td>Cust2970</td>\n",
       "      <td>Vehicle19228</td>\n",
       "      <td>Pathfinder</td>\n",
       "      <td>Audi</td>\n",
       "      <td>2003</td>\n",
       "    </tr>\n",
       "    <tr>\n",
       "      <th>28832</th>\n",
       "      <td>Cust19731</td>\n",
       "      <td>Vehicle12644</td>\n",
       "      <td>Malibu</td>\n",
       "      <td>Chevrolet</td>\n",
       "      <td>2014</td>\n",
       "    </tr>\n",
       "    <tr>\n",
       "      <th>28833</th>\n",
       "      <td>Cust25338</td>\n",
       "      <td>Vehicle28831</td>\n",
       "      <td>95</td>\n",
       "      <td>Saab</td>\n",
       "      <td>2011</td>\n",
       "    </tr>\n",
       "    <tr>\n",
       "      <th>28834</th>\n",
       "      <td>Cust7637</td>\n",
       "      <td>Vehicle12870</td>\n",
       "      <td>Fusion</td>\n",
       "      <td>Ford</td>\n",
       "      <td>2008</td>\n",
       "    </tr>\n",
       "    <tr>\n",
       "      <th>28835</th>\n",
       "      <td>Cust33581</td>\n",
       "      <td>Vehicle19680</td>\n",
       "      <td>3 Series</td>\n",
       "      <td>BMW</td>\n",
       "      <td>2004</td>\n",
       "    </tr>\n",
       "  </tbody>\n",
       "</table>\n",
       "<p>28836 rows × 5 columns</p>\n",
       "</div>"
      ],
      "text/plain": [
       "      CustomerID     VehicleID VehicleModel VehicleMake VehicleYOM\n",
       "0      Cust20179   Vehicle8898    Forrestor         BMW       2011\n",
       "1      Cust13038  Vehicle30212       Maxima      Toyota       2000\n",
       "2       Cust1801  Vehicle24096          MDX      Accura       1999\n",
       "3      Cust14947  Vehicle15216       Ultima      Nissan       1998\n",
       "4      Cust19144  Vehicle29018       Fusion        Ford       2011\n",
       "...          ...           ...          ...         ...        ...\n",
       "28831   Cust2970  Vehicle19228   Pathfinder        Audi       2003\n",
       "28832  Cust19731  Vehicle12644       Malibu   Chevrolet       2014\n",
       "28833  Cust25338  Vehicle28831           95        Saab       2011\n",
       "28834   Cust7637  Vehicle12870       Fusion        Ford       2008\n",
       "28835  Cust33581  Vehicle19680     3 Series         BMW       2004\n",
       "\n",
       "[28836 rows x 5 columns]"
      ]
     },
     "execution_count": 53,
     "metadata": {},
     "output_type": "execute_result"
    }
   ],
   "source": [
    "# Observing the data after re-arrangement:\n",
    "vehicle_data4"
   ]
  },
  {
   "cell_type": "code",
   "execution_count": 54,
   "id": "41830c41",
   "metadata": {},
   "outputs": [
    {
     "data": {
      "text/plain": [
       "CustomerID       0\n",
       "VehicleID        0\n",
       "VehicleModel     0\n",
       "VehicleMake     50\n",
       "VehicleYOM       0\n",
       "dtype: int64"
      ]
     },
     "execution_count": 54,
     "metadata": {},
     "output_type": "execute_result"
    }
   ],
   "source": [
    "# checking the null values in data4:\n",
    "vehicle_data4.isnull().sum()"
   ]
  },
  {
   "cell_type": "code",
   "execution_count": 55,
   "id": "02511a18",
   "metadata": {},
   "outputs": [
    {
     "data": {
      "text/plain": [
       "CustomerID      object\n",
       "VehicleID       object\n",
       "VehicleModel    object\n",
       "VehicleMake     object\n",
       "VehicleYOM      object\n",
       "dtype: object"
      ]
     },
     "execution_count": 55,
     "metadata": {},
     "output_type": "execute_result"
    }
   ],
   "source": [
    "vehicle_data4.dtypes"
   ]
  },
  {
   "cell_type": "code",
   "execution_count": 56,
   "id": "4745a231",
   "metadata": {},
   "outputs": [
    {
     "name": "stdout",
     "output_type": "stream",
     "text": [
      "<class 'pandas.core.frame.DataFrame'>\n",
      "RangeIndex: 28836 entries, 0 to 28835\n",
      "Data columns (total 5 columns):\n",
      " #   Column        Non-Null Count  Dtype \n",
      "---  ------        --------------  ----- \n",
      " 0   CustomerID    28836 non-null  object\n",
      " 1   VehicleID     28836 non-null  object\n",
      " 2   VehicleModel  28836 non-null  object\n",
      " 3   VehicleMake   28786 non-null  object\n",
      " 4   VehicleYOM    28836 non-null  object\n",
      "dtypes: object(5)\n",
      "memory usage: 1.1+ MB\n"
     ]
    }
   ],
   "source": [
    "vehicle_data4.info()"
   ]
  },
  {
   "cell_type": "code",
   "execution_count": 57,
   "id": "633b03e7",
   "metadata": {},
   "outputs": [
    {
     "data": {
      "text/plain": [
       "Index(['CustomerID', 'VehicleID', 'VehicleModel', 'VehicleMake', 'VehicleYOM'], dtype='object')"
      ]
     },
     "execution_count": 57,
     "metadata": {},
     "output_type": "execute_result"
    }
   ],
   "source": [
    "vehicle_data4.columns"
   ]
  },
  {
   "cell_type": "code",
   "execution_count": 58,
   "id": "2a039407",
   "metadata": {},
   "outputs": [],
   "source": [
    "cat_va12 = ['CustomerID','VehicleID','VehicleModel','VehicleMake','VehicleYOM']"
   ]
  },
  {
   "cell_type": "code",
   "execution_count": 59,
   "id": "cdc447db",
   "metadata": {},
   "outputs": [],
   "source": [
    "vehicle_data4[cat_va12] = vehicle_data4[cat_va12].astype('category')"
   ]
  },
  {
   "cell_type": "code",
   "execution_count": 60,
   "id": "4071caa0",
   "metadata": {},
   "outputs": [
    {
     "data": {
      "text/plain": [
       "CustomerID      category\n",
       "VehicleID       category\n",
       "VehicleModel    category\n",
       "VehicleMake     category\n",
       "VehicleYOM      category\n",
       "dtype: object"
      ]
     },
     "execution_count": 60,
     "metadata": {},
     "output_type": "execute_result"
    }
   ],
   "source": [
    "vehicle_data4.dtypes"
   ]
  },
  {
   "cell_type": "code",
   "execution_count": 61,
   "id": "8a63d6cd",
   "metadata": {},
   "outputs": [],
   "source": [
    "# Missing values imputation in categorical attributes with 'Most Frequent value':\n",
    "cat_imputer3 = SimpleImputer(strategy='most_frequent')\n",
    "vehicle_data4[cat_va12]=cat_imputer3.fit_transform(vehicle_data4[cat_va12])"
   ]
  },
  {
   "cell_type": "code",
   "execution_count": 62,
   "id": "18df02c9",
   "metadata": {},
   "outputs": [
    {
     "data": {
      "text/plain": [
       "CustomerID      0\n",
       "VehicleID       0\n",
       "VehicleModel    0\n",
       "VehicleMake     0\n",
       "VehicleYOM      0\n",
       "dtype: int64"
      ]
     },
     "execution_count": 62,
     "metadata": {},
     "output_type": "execute_result"
    }
   ],
   "source": [
    "vehicle_data4.isnull().sum()"
   ]
  },
  {
   "cell_type": "code",
   "execution_count": 63,
   "id": "3bc4d5f2",
   "metadata": {},
   "outputs": [],
   "source": [
    "# Reading Traindata_with_Target data5:\n",
    "TS_data5 = pd.read_csv(\"Traindata_with_Target.csv\")"
   ]
  },
  {
   "cell_type": "code",
   "execution_count": 64,
   "id": "38b04495",
   "metadata": {},
   "outputs": [
    {
     "data": {
      "text/html": [
       "<div>\n",
       "<style scoped>\n",
       "    .dataframe tbody tr th:only-of-type {\n",
       "        vertical-align: middle;\n",
       "    }\n",
       "\n",
       "    .dataframe tbody tr th {\n",
       "        vertical-align: top;\n",
       "    }\n",
       "\n",
       "    .dataframe thead th {\n",
       "        text-align: right;\n",
       "    }\n",
       "</style>\n",
       "<table border=\"1\" class=\"dataframe\">\n",
       "  <thead>\n",
       "    <tr style=\"text-align: right;\">\n",
       "      <th></th>\n",
       "      <th>CustomerID</th>\n",
       "      <th>ReportedFraud</th>\n",
       "    </tr>\n",
       "  </thead>\n",
       "  <tbody>\n",
       "    <tr>\n",
       "      <th>0</th>\n",
       "      <td>Cust20065</td>\n",
       "      <td>N</td>\n",
       "    </tr>\n",
       "    <tr>\n",
       "      <th>1</th>\n",
       "      <td>Cust37589</td>\n",
       "      <td>N</td>\n",
       "    </tr>\n",
       "    <tr>\n",
       "      <th>2</th>\n",
       "      <td>Cust24312</td>\n",
       "      <td>N</td>\n",
       "    </tr>\n",
       "  </tbody>\n",
       "</table>\n",
       "</div>"
      ],
      "text/plain": [
       "  CustomerID ReportedFraud\n",
       "0  Cust20065             N\n",
       "1  Cust37589             N\n",
       "2  Cust24312             N"
      ]
     },
     "execution_count": 64,
     "metadata": {},
     "output_type": "execute_result"
    }
   ],
   "source": [
    "# Observing the top 3 records of the data:\n",
    "TS_data5.head(3)"
   ]
  },
  {
   "cell_type": "code",
   "execution_count": 65,
   "id": "230dad48",
   "metadata": {},
   "outputs": [
    {
     "name": "stdout",
     "output_type": "stream",
     "text": [
      "<class 'pandas.core.frame.DataFrame'>\n",
      "RangeIndex: 28836 entries, 0 to 28835\n",
      "Data columns (total 2 columns):\n",
      " #   Column         Non-Null Count  Dtype \n",
      "---  ------         --------------  ----- \n",
      " 0   CustomerID     28836 non-null  object\n",
      " 1   ReportedFraud  28836 non-null  object\n",
      "dtypes: object(2)\n",
      "memory usage: 450.7+ KB\n"
     ]
    }
   ],
   "source": [
    "# Observing the data types of the data:\n",
    "TS_data5.info()"
   ]
  },
  {
   "cell_type": "code",
   "execution_count": 66,
   "id": "ac4ec139",
   "metadata": {},
   "outputs": [
    {
     "data": {
      "text/plain": [
       "CustomerID       0\n",
       "ReportedFraud    0\n",
       "dtype: int64"
      ]
     },
     "execution_count": 66,
     "metadata": {},
     "output_type": "execute_result"
    }
   ],
   "source": [
    "# Checking the null values in the data:\n",
    "TS_data5.isnull().sum()\n",
    "#there is no null values so no need of imputation"
   ]
  },
  {
   "cell_type": "code",
   "execution_count": 67,
   "id": "879f4bdb",
   "metadata": {},
   "outputs": [],
   "source": [
    "# Converting the target variable to category:\n",
    "TS_data5['ReportedFraud'] = TS_data5['ReportedFraud'].astype('category')"
   ]
  },
  {
   "cell_type": "code",
   "execution_count": 68,
   "id": "d2cfff69",
   "metadata": {},
   "outputs": [
    {
     "data": {
      "text/plain": [
       "CustomerID         object\n",
       "ReportedFraud    category\n",
       "dtype: object"
      ]
     },
     "execution_count": 68,
     "metadata": {},
     "output_type": "execute_result"
    }
   ],
   "source": [
    "# Checking the datatypes after type conversion:\n",
    "TS_data5.dtypes"
   ]
  },
  {
   "cell_type": "code",
   "execution_count": null,
   "id": "2669c86a",
   "metadata": {},
   "outputs": [],
   "source": []
  },
  {
   "cell_type": "code",
   "execution_count": 69,
   "id": "67d64142",
   "metadata": {},
   "outputs": [],
   "source": [
    "# Merging all the train datasets into a dataframe as traindata: "
   ]
  },
  {
   "cell_type": "code",
   "execution_count": 70,
   "id": "d424ba20",
   "metadata": {},
   "outputs": [],
   "source": [
    "traindata = pd.merge(TD_data1, TP_data2, on='CustomerID').merge(TC_data3, on='CustomerID').merge(vehicle_data4, on='CustomerID').merge(TS_data5, on='CustomerID')"
   ]
  },
  {
   "cell_type": "code",
   "execution_count": 71,
   "id": "112a39c3",
   "metadata": {
    "scrolled": true
   },
   "outputs": [
    {
     "data": {
      "text/html": [
       "<div>\n",
       "<style scoped>\n",
       "    .dataframe tbody tr th:only-of-type {\n",
       "        vertical-align: middle;\n",
       "    }\n",
       "\n",
       "    .dataframe tbody tr th {\n",
       "        vertical-align: top;\n",
       "    }\n",
       "\n",
       "    .dataframe thead th {\n",
       "        text-align: right;\n",
       "    }\n",
       "</style>\n",
       "<table border=\"1\" class=\"dataframe\">\n",
       "  <thead>\n",
       "    <tr style=\"text-align: right;\">\n",
       "      <th></th>\n",
       "      <th>CustomerID</th>\n",
       "      <th>InsuredAge</th>\n",
       "      <th>InsuredZipCode</th>\n",
       "      <th>InsuredGender</th>\n",
       "      <th>InsuredEducationLevel</th>\n",
       "      <th>InsuredOccupation</th>\n",
       "      <th>InsuredHobbies</th>\n",
       "      <th>CapitalGains</th>\n",
       "      <th>CapitalLoss</th>\n",
       "      <th>Country</th>\n",
       "      <th>...</th>\n",
       "      <th>PoliceReport</th>\n",
       "      <th>AmountOfTotalClaim</th>\n",
       "      <th>AmountOfInjuryClaim</th>\n",
       "      <th>AmountOfPropertyClaim</th>\n",
       "      <th>AmountOfVehicleDamage</th>\n",
       "      <th>VehicleID</th>\n",
       "      <th>VehicleModel</th>\n",
       "      <th>VehicleMake</th>\n",
       "      <th>VehicleYOM</th>\n",
       "      <th>ReportedFraud</th>\n",
       "    </tr>\n",
       "  </thead>\n",
       "  <tbody>\n",
       "    <tr>\n",
       "      <th>0</th>\n",
       "      <td>Cust10000</td>\n",
       "      <td>35</td>\n",
       "      <td>454776</td>\n",
       "      <td>MALE</td>\n",
       "      <td>JD</td>\n",
       "      <td>armed-forces</td>\n",
       "      <td>movies</td>\n",
       "      <td>56700</td>\n",
       "      <td>-48500</td>\n",
       "      <td>India</td>\n",
       "      <td>...</td>\n",
       "      <td>NO</td>\n",
       "      <td>65501.0</td>\n",
       "      <td>13417.0</td>\n",
       "      <td>6071.0</td>\n",
       "      <td>46013.0</td>\n",
       "      <td>Vehicle26917</td>\n",
       "      <td>A5</td>\n",
       "      <td>Audi</td>\n",
       "      <td>2008</td>\n",
       "      <td>N</td>\n",
       "    </tr>\n",
       "    <tr>\n",
       "      <th>1</th>\n",
       "      <td>Cust10001</td>\n",
       "      <td>36</td>\n",
       "      <td>454776</td>\n",
       "      <td>MALE</td>\n",
       "      <td>JD</td>\n",
       "      <td>tech-support</td>\n",
       "      <td>cross-fit</td>\n",
       "      <td>70600</td>\n",
       "      <td>-48500</td>\n",
       "      <td>India</td>\n",
       "      <td>...</td>\n",
       "      <td>YES</td>\n",
       "      <td>61382.0</td>\n",
       "      <td>15560.0</td>\n",
       "      <td>5919.0</td>\n",
       "      <td>39903.0</td>\n",
       "      <td>Vehicle15893</td>\n",
       "      <td>A5</td>\n",
       "      <td>Audi</td>\n",
       "      <td>2006</td>\n",
       "      <td>N</td>\n",
       "    </tr>\n",
       "    <tr>\n",
       "      <th>2</th>\n",
       "      <td>Cust10002</td>\n",
       "      <td>33</td>\n",
       "      <td>603260</td>\n",
       "      <td>MALE</td>\n",
       "      <td>JD</td>\n",
       "      <td>armed-forces</td>\n",
       "      <td>polo</td>\n",
       "      <td>66400</td>\n",
       "      <td>-63700</td>\n",
       "      <td>India</td>\n",
       "      <td>...</td>\n",
       "      <td>NO</td>\n",
       "      <td>66755.0</td>\n",
       "      <td>11630.0</td>\n",
       "      <td>11630.0</td>\n",
       "      <td>43495.0</td>\n",
       "      <td>Vehicle5152</td>\n",
       "      <td>Jetta</td>\n",
       "      <td>Volkswagen</td>\n",
       "      <td>1999</td>\n",
       "      <td>N</td>\n",
       "    </tr>\n",
       "    <tr>\n",
       "      <th>3</th>\n",
       "      <td>Cust10003</td>\n",
       "      <td>36</td>\n",
       "      <td>474848</td>\n",
       "      <td>MALE</td>\n",
       "      <td>JD</td>\n",
       "      <td>armed-forces</td>\n",
       "      <td>polo</td>\n",
       "      <td>47900</td>\n",
       "      <td>-73400</td>\n",
       "      <td>India</td>\n",
       "      <td>...</td>\n",
       "      <td>NO</td>\n",
       "      <td>66243.0</td>\n",
       "      <td>12003.0</td>\n",
       "      <td>12003.0</td>\n",
       "      <td>42237.0</td>\n",
       "      <td>Vehicle37363</td>\n",
       "      <td>Jetta</td>\n",
       "      <td>Volkswagen</td>\n",
       "      <td>2003</td>\n",
       "      <td>N</td>\n",
       "    </tr>\n",
       "  </tbody>\n",
       "</table>\n",
       "<p>4 rows × 42 columns</p>\n",
       "</div>"
      ],
      "text/plain": [
       "  CustomerID  InsuredAge  InsuredZipCode InsuredGender InsuredEducationLevel  \\\n",
       "0  Cust10000          35          454776          MALE                    JD   \n",
       "1  Cust10001          36          454776          MALE                    JD   \n",
       "2  Cust10002          33          603260          MALE                    JD   \n",
       "3  Cust10003          36          474848          MALE                    JD   \n",
       "\n",
       "  InsuredOccupation InsuredHobbies  CapitalGains  CapitalLoss Country  ...  \\\n",
       "0      armed-forces         movies         56700       -48500   India  ...   \n",
       "1      tech-support      cross-fit         70600       -48500   India  ...   \n",
       "2      armed-forces           polo         66400       -63700   India  ...   \n",
       "3      armed-forces           polo         47900       -73400   India  ...   \n",
       "\n",
       "   PoliceReport  AmountOfTotalClaim AmountOfInjuryClaim AmountOfPropertyClaim  \\\n",
       "0            NO             65501.0             13417.0                6071.0   \n",
       "1           YES             61382.0             15560.0                5919.0   \n",
       "2            NO             66755.0             11630.0               11630.0   \n",
       "3            NO             66243.0             12003.0               12003.0   \n",
       "\n",
       "  AmountOfVehicleDamage     VehicleID  VehicleModel  VehicleMake VehicleYOM  \\\n",
       "0               46013.0  Vehicle26917            A5         Audi       2008   \n",
       "1               39903.0  Vehicle15893            A5         Audi       2006   \n",
       "2               43495.0   Vehicle5152         Jetta   Volkswagen       1999   \n",
       "3               42237.0  Vehicle37363         Jetta   Volkswagen       2003   \n",
       "\n",
       "  ReportedFraud  \n",
       "0             N  \n",
       "1             N  \n",
       "2             N  \n",
       "3             N  \n",
       "\n",
       "[4 rows x 42 columns]"
      ]
     },
     "execution_count": 71,
     "metadata": {},
     "output_type": "execute_result"
    }
   ],
   "source": [
    "# Observing the top 4 records in the data:\n",
    "traindata.head(4)"
   ]
  },
  {
   "cell_type": "code",
   "execution_count": 72,
   "id": "58b5087d",
   "metadata": {},
   "outputs": [
    {
     "data": {
      "text/plain": [
       "0        0.0\n",
       "1        1.0\n",
       "2        3.0\n",
       "3        3.0\n",
       "4        1.0\n",
       "        ... \n",
       "28831    3.0\n",
       "28832    2.0\n",
       "28833    0.0\n",
       "28834    0.0\n",
       "28835    3.0\n",
       "Name: Witnesses, Length: 28836, dtype: float64"
      ]
     },
     "execution_count": 72,
     "metadata": {},
     "output_type": "execute_result"
    }
   ],
   "source": [
    "traindata[\"Witnesses\"]"
   ]
  },
  {
   "cell_type": "code",
   "execution_count": 73,
   "id": "5a6ccf6c",
   "metadata": {},
   "outputs": [
    {
     "data": {
      "text/plain": [
       "(28836, 42)"
      ]
     },
     "execution_count": 73,
     "metadata": {},
     "output_type": "execute_result"
    }
   ],
   "source": [
    "# Checking the shape of train data:\n",
    "traindata.shape"
   ]
  },
  {
   "cell_type": "code",
   "execution_count": 74,
   "id": "78c9d798",
   "metadata": {
    "scrolled": true
   },
   "outputs": [
    {
     "data": {
      "text/plain": [
       "CustomerID                    28836\n",
       "InsuredAge                       46\n",
       "InsuredZipCode                  995\n",
       "InsuredGender                     2\n",
       "InsuredEducationLevel             7\n",
       "InsuredOccupation                14\n",
       "InsuredHobbies                   20\n",
       "CapitalGains                    338\n",
       "CapitalLoss                     354\n",
       "Country                           1\n",
       "InsurancePolicyNumber         28836\n",
       "CustomerLoyaltyPeriod           479\n",
       "DateOfPolicyCoverage           6779\n",
       "InsurancePolicyState              3\n",
       "Policy_CombinedSingleLimit        9\n",
       "Policy_Deductible              1496\n",
       "PolicyAnnualPremium           23852\n",
       "UmbrellaLimit                  7089\n",
       "InsuredRelationship               6\n",
       "DateOfIncident                   72\n",
       "TypeOfIncident                    4\n",
       "TypeOfCollission                  3\n",
       "SeverityOfIncident                4\n",
       "AuthoritiesContacted              5\n",
       "IncidentState                     7\n",
       "IncidentCity                      7\n",
       "IncidentAddress                1000\n",
       "IncidentTime                     25\n",
       "NumberOfVehicles                  4\n",
       "PropertyDamage                    2\n",
       "BodilyInjuries                    3\n",
       "Witnesses                         5\n",
       "PoliceReport                      2\n",
       "AmountOfTotalClaim            21976\n",
       "AmountOfInjuryClaim           11958\n",
       "AmountOfPropertyClaim         11785\n",
       "AmountOfVehicleDamage         20041\n",
       "VehicleID                     28836\n",
       "VehicleModel                     39\n",
       "VehicleMake                      14\n",
       "VehicleYOM                       21\n",
       "ReportedFraud                     2\n",
       "dtype: int64"
      ]
     },
     "execution_count": 74,
     "metadata": {},
     "output_type": "execute_result"
    }
   ],
   "source": [
    "# Checking the unique values in train data:\n",
    "traindata.nunique()"
   ]
  },
  {
   "cell_type": "code",
   "execution_count": 75,
   "id": "5fe47611",
   "metadata": {},
   "outputs": [
    {
     "data": {
      "text/plain": [
       "CustomerID                      object\n",
       "InsuredAge                       int64\n",
       "InsuredZipCode                   int64\n",
       "InsuredGender                   object\n",
       "InsuredEducationLevel           object\n",
       "InsuredOccupation               object\n",
       "InsuredHobbies                  object\n",
       "CapitalGains                     int64\n",
       "CapitalLoss                      int64\n",
       "Country                         object\n",
       "InsurancePolicyNumber          float64\n",
       "CustomerLoyaltyPeriod          float64\n",
       "DateOfPolicyCoverage          category\n",
       "InsurancePolicyState          category\n",
       "Policy_CombinedSingleLimit    category\n",
       "Policy_Deductible              float64\n",
       "PolicyAnnualPremium            float64\n",
       "UmbrellaLimit                  float64\n",
       "InsuredRelationship           category\n",
       "DateOfIncident                  object\n",
       "TypeOfIncident                  object\n",
       "TypeOfCollission                object\n",
       "SeverityOfIncident              object\n",
       "AuthoritiesContacted            object\n",
       "IncidentState                   object\n",
       "IncidentCity                    object\n",
       "IncidentAddress                 object\n",
       "IncidentTime                   float64\n",
       "NumberOfVehicles               float64\n",
       "PropertyDamage                  object\n",
       "BodilyInjuries                 float64\n",
       "Witnesses                      float64\n",
       "PoliceReport                    object\n",
       "AmountOfTotalClaim             float64\n",
       "AmountOfInjuryClaim            float64\n",
       "AmountOfPropertyClaim          float64\n",
       "AmountOfVehicleDamage          float64\n",
       "VehicleID                       object\n",
       "VehicleModel                    object\n",
       "VehicleMake                     object\n",
       "VehicleYOM                      object\n",
       "ReportedFraud                 category\n",
       "dtype: object"
      ]
     },
     "execution_count": 75,
     "metadata": {},
     "output_type": "execute_result"
    }
   ],
   "source": [
    "# Checking the datatypes of train data:\n",
    "traindata.dtypes"
   ]
  },
  {
   "cell_type": "code",
   "execution_count": 76,
   "id": "4de0fbc1",
   "metadata": {},
   "outputs": [],
   "source": [
    "# Converting the categorical attributes of object data type to category:\n",
    "categorical = traindata.select_dtypes(include = 'object').columns\n",
    "traindata[categorical] = traindata[categorical].astype('category')"
   ]
  },
  {
   "cell_type": "code",
   "execution_count": 77,
   "id": "3f0ab107",
   "metadata": {},
   "outputs": [],
   "source": [
    "traindata[\"Witnesses\"] = traindata[\"Witnesses\"].astype('category')"
   ]
  },
  {
   "cell_type": "code",
   "execution_count": 78,
   "id": "9e490cd5",
   "metadata": {
    "scrolled": true
   },
   "outputs": [
    {
     "data": {
      "text/plain": [
       "CustomerID                    category\n",
       "InsuredAge                       int64\n",
       "InsuredZipCode                   int64\n",
       "InsuredGender                 category\n",
       "InsuredEducationLevel         category\n",
       "InsuredOccupation             category\n",
       "InsuredHobbies                category\n",
       "CapitalGains                     int64\n",
       "CapitalLoss                      int64\n",
       "Country                       category\n",
       "InsurancePolicyNumber          float64\n",
       "CustomerLoyaltyPeriod          float64\n",
       "DateOfPolicyCoverage          category\n",
       "InsurancePolicyState          category\n",
       "Policy_CombinedSingleLimit    category\n",
       "Policy_Deductible              float64\n",
       "PolicyAnnualPremium            float64\n",
       "UmbrellaLimit                  float64\n",
       "InsuredRelationship           category\n",
       "DateOfIncident                category\n",
       "TypeOfIncident                category\n",
       "TypeOfCollission              category\n",
       "SeverityOfIncident            category\n",
       "AuthoritiesContacted          category\n",
       "IncidentState                 category\n",
       "IncidentCity                  category\n",
       "IncidentAddress               category\n",
       "IncidentTime                   float64\n",
       "NumberOfVehicles               float64\n",
       "PropertyDamage                category\n",
       "BodilyInjuries                 float64\n",
       "Witnesses                     category\n",
       "PoliceReport                  category\n",
       "AmountOfTotalClaim             float64\n",
       "AmountOfInjuryClaim            float64\n",
       "AmountOfPropertyClaim          float64\n",
       "AmountOfVehicleDamage          float64\n",
       "VehicleID                     category\n",
       "VehicleModel                  category\n",
       "VehicleMake                   category\n",
       "VehicleYOM                    category\n",
       "ReportedFraud                 category\n",
       "dtype: object"
      ]
     },
     "execution_count": 78,
     "metadata": {},
     "output_type": "execute_result"
    }
   ],
   "source": [
    "# Checking the datatypes of train data after type conversion:\n",
    "traindata.dtypes"
   ]
  },
  {
   "cell_type": "code",
   "execution_count": 79,
   "id": "292e6b7f",
   "metadata": {
    "scrolled": true
   },
   "outputs": [
    {
     "data": {
      "text/html": [
       "<div>\n",
       "<style scoped>\n",
       "    .dataframe tbody tr th:only-of-type {\n",
       "        vertical-align: middle;\n",
       "    }\n",
       "\n",
       "    .dataframe tbody tr th {\n",
       "        vertical-align: top;\n",
       "    }\n",
       "\n",
       "    .dataframe thead th {\n",
       "        text-align: right;\n",
       "    }\n",
       "</style>\n",
       "<table border=\"1\" class=\"dataframe\">\n",
       "  <thead>\n",
       "    <tr style=\"text-align: right;\">\n",
       "      <th></th>\n",
       "      <th>InsuredAge</th>\n",
       "      <th>InsuredZipCode</th>\n",
       "      <th>CapitalGains</th>\n",
       "      <th>CapitalLoss</th>\n",
       "      <th>InsurancePolicyNumber</th>\n",
       "      <th>CustomerLoyaltyPeriod</th>\n",
       "      <th>Policy_Deductible</th>\n",
       "      <th>PolicyAnnualPremium</th>\n",
       "      <th>UmbrellaLimit</th>\n",
       "      <th>IncidentTime</th>\n",
       "      <th>NumberOfVehicles</th>\n",
       "      <th>BodilyInjuries</th>\n",
       "      <th>AmountOfTotalClaim</th>\n",
       "      <th>AmountOfInjuryClaim</th>\n",
       "      <th>AmountOfPropertyClaim</th>\n",
       "      <th>AmountOfVehicleDamage</th>\n",
       "    </tr>\n",
       "  </thead>\n",
       "  <tbody>\n",
       "    <tr>\n",
       "      <th>count</th>\n",
       "      <td>28836.000000</td>\n",
       "      <td>28836.000000</td>\n",
       "      <td>28836.000000</td>\n",
       "      <td>28836.000000</td>\n",
       "      <td>28836.000000</td>\n",
       "      <td>28836.000000</td>\n",
       "      <td>28836.000000</td>\n",
       "      <td>28836.000000</td>\n",
       "      <td>2.883600e+04</td>\n",
       "      <td>28836.000000</td>\n",
       "      <td>28836.000000</td>\n",
       "      <td>28836.000000</td>\n",
       "      <td>28836.000000</td>\n",
       "      <td>28836.000000</td>\n",
       "      <td>28836.000000</td>\n",
       "      <td>28836.000000</td>\n",
       "    </tr>\n",
       "    <tr>\n",
       "      <th>mean</th>\n",
       "      <td>38.815370</td>\n",
       "      <td>502436.579068</td>\n",
       "      <td>23066.569566</td>\n",
       "      <td>-24940.612429</td>\n",
       "      <td>129312.517097</td>\n",
       "      <td>203.067867</td>\n",
       "      <td>1114.282529</td>\n",
       "      <td>1887.669092</td>\n",
       "      <td>9.836680e+05</td>\n",
       "      <td>11.764069</td>\n",
       "      <td>1.823207</td>\n",
       "      <td>0.985782</td>\n",
       "      <td>52217.865800</td>\n",
       "      <td>7337.118428</td>\n",
       "      <td>7283.870197</td>\n",
       "      <td>37687.129387</td>\n",
       "    </tr>\n",
       "    <tr>\n",
       "      <th>std</th>\n",
       "      <td>7.996377</td>\n",
       "      <td>72250.868871</td>\n",
       "      <td>27637.813724</td>\n",
       "      <td>27913.209608</td>\n",
       "      <td>11114.060267</td>\n",
       "      <td>99.932951</td>\n",
       "      <td>546.632816</td>\n",
       "      <td>8932.364071</td>\n",
       "      <td>1.969282e+06</td>\n",
       "      <td>6.145563</td>\n",
       "      <td>0.980099</td>\n",
       "      <td>0.784764</td>\n",
       "      <td>25173.607569</td>\n",
       "      <td>4427.638593</td>\n",
       "      <td>4375.842738</td>\n",
       "      <td>17977.048232</td>\n",
       "    </tr>\n",
       "    <tr>\n",
       "      <th>min</th>\n",
       "      <td>19.000000</td>\n",
       "      <td>430104.000000</td>\n",
       "      <td>0.000000</td>\n",
       "      <td>-111100.000000</td>\n",
       "      <td>110122.000000</td>\n",
       "      <td>1.000000</td>\n",
       "      <td>500.000000</td>\n",
       "      <td>436.280000</td>\n",
       "      <td>-1.000000e+06</td>\n",
       "      <td>0.000000</td>\n",
       "      <td>1.000000</td>\n",
       "      <td>0.000000</td>\n",
       "      <td>11.764069</td>\n",
       "      <td>0.000000</td>\n",
       "      <td>0.000000</td>\n",
       "      <td>109.000000</td>\n",
       "    </tr>\n",
       "    <tr>\n",
       "      <th>25%</th>\n",
       "      <td>33.000000</td>\n",
       "      <td>448603.000000</td>\n",
       "      <td>0.000000</td>\n",
       "      <td>-50000.000000</td>\n",
       "      <td>119698.750000</td>\n",
       "      <td>126.000000</td>\n",
       "      <td>622.000000</td>\n",
       "      <td>1125.247500</td>\n",
       "      <td>0.000000e+00</td>\n",
       "      <td>6.000000</td>\n",
       "      <td>1.000000</td>\n",
       "      <td>0.000000</td>\n",
       "      <td>44451.500000</td>\n",
       "      <td>4743.750000</td>\n",
       "      <td>4862.000000</td>\n",
       "      <td>32193.250000</td>\n",
       "    </tr>\n",
       "    <tr>\n",
       "      <th>50%</th>\n",
       "      <td>38.000000</td>\n",
       "      <td>466691.000000</td>\n",
       "      <td>0.000000</td>\n",
       "      <td>0.000000</td>\n",
       "      <td>129278.500000</td>\n",
       "      <td>199.000000</td>\n",
       "      <td>1000.000000</td>\n",
       "      <td>1267.920000</td>\n",
       "      <td>0.000000e+00</td>\n",
       "      <td>12.000000</td>\n",
       "      <td>1.000000</td>\n",
       "      <td>1.000000</td>\n",
       "      <td>58327.500000</td>\n",
       "      <td>7147.000000</td>\n",
       "      <td>7051.000000</td>\n",
       "      <td>42457.500000</td>\n",
       "    </tr>\n",
       "    <tr>\n",
       "      <th>75%</th>\n",
       "      <td>44.000000</td>\n",
       "      <td>603848.000000</td>\n",
       "      <td>49000.000000</td>\n",
       "      <td>0.000000</td>\n",
       "      <td>138933.250000</td>\n",
       "      <td>267.000000</td>\n",
       "      <td>1627.000000</td>\n",
       "      <td>1398.942500</td>\n",
       "      <td>4.859610e+05</td>\n",
       "      <td>17.000000</td>\n",
       "      <td>3.000000</td>\n",
       "      <td>2.000000</td>\n",
       "      <td>68961.750000</td>\n",
       "      <td>10571.250000</td>\n",
       "      <td>10327.000000</td>\n",
       "      <td>49535.750000</td>\n",
       "    </tr>\n",
       "    <tr>\n",
       "      <th>max</th>\n",
       "      <td>64.000000</td>\n",
       "      <td>620962.000000</td>\n",
       "      <td>100500.000000</td>\n",
       "      <td>0.000000</td>\n",
       "      <td>148619.000000</td>\n",
       "      <td>479.000000</td>\n",
       "      <td>2000.000000</td>\n",
       "      <td>129278.500000</td>\n",
       "      <td>1.000000e+07</td>\n",
       "      <td>23.000000</td>\n",
       "      <td>4.000000</td>\n",
       "      <td>2.000000</td>\n",
       "      <td>114920.000000</td>\n",
       "      <td>21450.000000</td>\n",
       "      <td>23670.000000</td>\n",
       "      <td>79560.000000</td>\n",
       "    </tr>\n",
       "  </tbody>\n",
       "</table>\n",
       "</div>"
      ],
      "text/plain": [
       "         InsuredAge  InsuredZipCode   CapitalGains    CapitalLoss  \\\n",
       "count  28836.000000    28836.000000   28836.000000   28836.000000   \n",
       "mean      38.815370   502436.579068   23066.569566  -24940.612429   \n",
       "std        7.996377    72250.868871   27637.813724   27913.209608   \n",
       "min       19.000000   430104.000000       0.000000 -111100.000000   \n",
       "25%       33.000000   448603.000000       0.000000  -50000.000000   \n",
       "50%       38.000000   466691.000000       0.000000       0.000000   \n",
       "75%       44.000000   603848.000000   49000.000000       0.000000   \n",
       "max       64.000000   620962.000000  100500.000000       0.000000   \n",
       "\n",
       "       InsurancePolicyNumber  CustomerLoyaltyPeriod  Policy_Deductible  \\\n",
       "count           28836.000000           28836.000000       28836.000000   \n",
       "mean           129312.517097             203.067867        1114.282529   \n",
       "std             11114.060267              99.932951         546.632816   \n",
       "min            110122.000000               1.000000         500.000000   \n",
       "25%            119698.750000             126.000000         622.000000   \n",
       "50%            129278.500000             199.000000        1000.000000   \n",
       "75%            138933.250000             267.000000        1627.000000   \n",
       "max            148619.000000             479.000000        2000.000000   \n",
       "\n",
       "       PolicyAnnualPremium  UmbrellaLimit  IncidentTime  NumberOfVehicles  \\\n",
       "count         28836.000000   2.883600e+04  28836.000000      28836.000000   \n",
       "mean           1887.669092   9.836680e+05     11.764069          1.823207   \n",
       "std            8932.364071   1.969282e+06      6.145563          0.980099   \n",
       "min             436.280000  -1.000000e+06      0.000000          1.000000   \n",
       "25%            1125.247500   0.000000e+00      6.000000          1.000000   \n",
       "50%            1267.920000   0.000000e+00     12.000000          1.000000   \n",
       "75%            1398.942500   4.859610e+05     17.000000          3.000000   \n",
       "max          129278.500000   1.000000e+07     23.000000          4.000000   \n",
       "\n",
       "       BodilyInjuries  AmountOfTotalClaim  AmountOfInjuryClaim  \\\n",
       "count    28836.000000        28836.000000         28836.000000   \n",
       "mean         0.985782        52217.865800          7337.118428   \n",
       "std          0.784764        25173.607569          4427.638593   \n",
       "min          0.000000           11.764069             0.000000   \n",
       "25%          0.000000        44451.500000          4743.750000   \n",
       "50%          1.000000        58327.500000          7147.000000   \n",
       "75%          2.000000        68961.750000         10571.250000   \n",
       "max          2.000000       114920.000000         21450.000000   \n",
       "\n",
       "       AmountOfPropertyClaim  AmountOfVehicleDamage  \n",
       "count           28836.000000           28836.000000  \n",
       "mean             7283.870197           37687.129387  \n",
       "std              4375.842738           17977.048232  \n",
       "min                 0.000000             109.000000  \n",
       "25%              4862.000000           32193.250000  \n",
       "50%              7051.000000           42457.500000  \n",
       "75%             10327.000000           49535.750000  \n",
       "max             23670.000000           79560.000000  "
      ]
     },
     "execution_count": 79,
     "metadata": {},
     "output_type": "execute_result"
    }
   ],
   "source": [
    "# Checking the summary statistics of train data:\n",
    "traindata.describe()"
   ]
  },
  {
   "cell_type": "code",
   "execution_count": 80,
   "id": "6ed884fd",
   "metadata": {
    "scrolled": false
   },
   "outputs": [
    {
     "data": {
      "text/plain": [
       "CustomerID                    0\n",
       "InsuredAge                    0\n",
       "InsuredZipCode                0\n",
       "InsuredGender                 0\n",
       "InsuredEducationLevel         0\n",
       "InsuredOccupation             0\n",
       "InsuredHobbies                0\n",
       "CapitalGains                  0\n",
       "CapitalLoss                   0\n",
       "Country                       0\n",
       "InsurancePolicyNumber         0\n",
       "CustomerLoyaltyPeriod         0\n",
       "DateOfPolicyCoverage          0\n",
       "InsurancePolicyState          0\n",
       "Policy_CombinedSingleLimit    0\n",
       "Policy_Deductible             0\n",
       "PolicyAnnualPremium           0\n",
       "UmbrellaLimit                 0\n",
       "InsuredRelationship           0\n",
       "DateOfIncident                0\n",
       "TypeOfIncident                0\n",
       "TypeOfCollission              0\n",
       "SeverityOfIncident            0\n",
       "AuthoritiesContacted          0\n",
       "IncidentState                 0\n",
       "IncidentCity                  0\n",
       "IncidentAddress               0\n",
       "IncidentTime                  0\n",
       "NumberOfVehicles              0\n",
       "PropertyDamage                0\n",
       "BodilyInjuries                0\n",
       "Witnesses                     0\n",
       "PoliceReport                  0\n",
       "AmountOfTotalClaim            0\n",
       "AmountOfInjuryClaim           0\n",
       "AmountOfPropertyClaim         0\n",
       "AmountOfVehicleDamage         0\n",
       "VehicleID                     0\n",
       "VehicleModel                  0\n",
       "VehicleMake                   0\n",
       "VehicleYOM                    0\n",
       "ReportedFraud                 0\n",
       "dtype: int64"
      ]
     },
     "execution_count": 80,
     "metadata": {},
     "output_type": "execute_result"
    }
   ],
   "source": [
    "# Checking the null values in train data (imputed the null values with mode- for categorical attributes and median for numerical attributes)\n",
    "traindata.isnull().sum()"
   ]
  },
  {
   "cell_type": "code",
   "execution_count": 81,
   "id": "a2e00d71",
   "metadata": {},
   "outputs": [
    {
     "data": {
      "text/plain": [
       "<AxesSubplot:xlabel='CapitalGains', ylabel='CapitalLoss'>"
      ]
     },
     "execution_count": 81,
     "metadata": {},
     "output_type": "execute_result"
    },
    {
     "data": {
      "image/png": "[encoded data removed]",
      "text/plain": [
       "<Figure size 432x288 with 1 Axes>"
      ]
     },
     "metadata": {
      "needs_background": "light"
     },
     "output_type": "display_data"
    }
   ],
   "source": [
    "traindata.plot(kind='scatter', x='CapitalGains', y='CapitalLoss')"
   ]
  },
  {
   "cell_type": "code",
   "execution_count": 82,
   "id": "4bc1d9d3",
   "metadata": {},
   "outputs": [
    {
     "data": {
      "image/png": "[encoded data removed]",
      "text/plain": [
       "<Figure size 864x432 with 1 Axes>"
      ]
     },
     "metadata": {
      "needs_background": "light"
     },
     "output_type": "display_data"
    }
   ],
   "source": [
    "pd.crosstab(traindata.ReportedFraud, traindata.InsuredGender).plot(kind=\"bar\",\n",
    "                                          color=[\"blue\",\"red\"],\n",
    "                                          figsize=(12,6))\n",
    "\n",
    "plt.title(\"Fraud Frequency For Gender\")\n",
    "plt.xlabel(\"Sex = Male & Female\")\n",
    "plt.ylabel(\"Amount\")\n",
    "plt.legend([\"Female\",\"Male\"])\n",
    "plt.xticks(rotation = 0);"
   ]
  },
  {
   "cell_type": "code",
   "execution_count": 83,
   "id": "12204e94",
   "metadata": {
    "scrolled": true
   },
   "outputs": [
    {
     "data": {
      "image/png": "[encoded data removed]",
      "text/plain": [
       "<Figure size 1584x432 with 1 Axes>"
      ]
     },
     "metadata": {
      "needs_background": "light"
     },
     "output_type": "display_data"
    }
   ],
   "source": [
    "#checking the whitch age reported more fraud:\n",
    "data=traindata.groupby('InsuredAge').agg({'ReportedFraud':'count'}).reset_index()\n",
    "\n",
    "fig, (ax1) = plt.subplots(1,1,figsize=(22, 6))\n",
    "graph =sns.barplot(x='InsuredAge', y='ReportedFraud', data = data, ax=ax1)\n",
    "\n",
    "graph.set_xticklabels(graph.get_xticklabels(),\n",
    "                    rotation=0,\n",
    "                    horizontalalignment='right'\n",
    "                    );"
   ]
  },
  {
   "cell_type": "code",
   "execution_count": 84,
   "id": "571d1513",
   "metadata": {
    "scrolled": true
   },
   "outputs": [
    {
     "data": {
      "text/plain": [
       "<AxesSubplot:xlabel='PoliceReport', ylabel='ReportedFraud'>"
      ]
     },
     "execution_count": 84,
     "metadata": {},
     "output_type": "execute_result"
    },
    {
     "data": {
      "image/png": "[encoded data removed]",
      "text/plain": [
       "<Figure size 720x360 with 1 Axes>"
      ]
     },
     "metadata": {
      "needs_background": "light"
     },
     "output_type": "display_data"
    }
   ],
   "source": [
    "prdata=traindata.groupby('PoliceReport').agg({'ReportedFraud':'count'}).reset_index()\n",
    "fig, (ax1) = plt.subplots(1,1,figsize=(10, 5))\n",
    "sns.barplot(x='PoliceReport', y='ReportedFraud', data = prdata, ax=ax1)"
   ]
  },
  {
   "cell_type": "code",
   "execution_count": 85,
   "id": "fe416048",
   "metadata": {},
   "outputs": [
    {
     "data": {
      "text/plain": [
       "<AxesSubplot:ylabel='ReportedFraud'>"
      ]
     },
     "execution_count": 85,
     "metadata": {},
     "output_type": "execute_result"
    },
    {
     "data": {
      "image/png": "[encoded data removed]",
      "text/plain": [
       "<Figure size 432x288 with 1 Axes>"
      ]
     },
     "metadata": {},
     "output_type": "display_data"
    }
   ],
   "source": [
    "traindata.groupby(['TypeOfCollission']).count().plot(kind='pie', y='ReportedFraud', autopct='%1.0f%%')"
   ]
  },
  {
   "cell_type": "code",
   "execution_count": null,
   "id": "573f1661",
   "metadata": {},
   "outputs": [],
   "source": []
  },
  {
   "cell_type": "code",
   "execution_count": 86,
   "id": "0406b4c2",
   "metadata": {},
   "outputs": [],
   "source": [
    "# Dropping the insignificant attributes from train data:\n",
    "traindata.drop([\"CustomerID\",\"VehicleID\",\"Country\",\"InsurancePolicyNumber\",\"VehicleModel\",\"InsuredHobbies\",\"DateOfPolicyCoverage\",\"InsuredRelationship\",\"InsuredGender\",\"InsurancePolicyState\",\"Policy_CombinedSingleLimit\",\"IncidentAddress\",\"InsuredZipCode\",\"IncidentState\"], axis = 1, inplace=True)\n"
   ]
  },
  {
   "cell_type": "code",
   "execution_count": 87,
   "id": "2d897c1e",
   "metadata": {},
   "outputs": [
    {
     "data": {
      "text/plain": [
       "(28836, 28)"
      ]
     },
     "execution_count": 87,
     "metadata": {},
     "output_type": "execute_result"
    }
   ],
   "source": [
    "# Checking the shape of train data after dropping the insignificant variables:\n",
    "traindata.shape"
   ]
  },
  {
   "cell_type": "code",
   "execution_count": 88,
   "id": "7c2b6bdb",
   "metadata": {},
   "outputs": [
    {
     "data": {
      "image/png": "[encoded data removed]",
      "text/plain": [
       "<Figure size 720x720 with 25 Axes>"
      ]
     },
     "metadata": {
      "needs_background": "light"
     },
     "output_type": "display_data"
    }
   ],
   "source": [
    "# Drawing the boxplot to identify the presence of outliers in train data: \n",
    "traindata.plot(kind ='box',subplots = True,sharex= False,sharey=False,layout=(5,5),figsize=(10,10))\n",
    "plt.show()\n",
    "# gives boxplot for all the attributes present in the data "
   ]
  },
  {
   "cell_type": "code",
   "execution_count": 89,
   "id": "bd8da04c",
   "metadata": {},
   "outputs": [
    {
     "data": {
      "image/png": "[encoded data removed]",
      "text/plain": [
       "<Figure size 720x720 with 16 Axes>"
      ]
     },
     "metadata": {
      "needs_background": "light"
     },
     "output_type": "display_data"
    }
   ],
   "source": [
    "traindata.plot(kind ='hist',subplots = True,sharex= False,sharey=False,layout=(4,4),figsize=(10,10))\n",
    "plt.show()"
   ]
  },
  {
   "cell_type": "code",
   "execution_count": 90,
   "id": "a00a3520",
   "metadata": {
    "scrolled": false
   },
   "outputs": [
    {
     "data": {
      "text/plain": [
       "<AxesSubplot:xlabel='ReportedFraud', ylabel='count'>"
      ]
     },
     "execution_count": 90,
     "metadata": {},
     "output_type": "execute_result"
    },
    {
     "data": {
      "image/png": "[encoded data removed]",
      "text/plain": [
       "<Figure size 432x288 with 1 Axes>"
      ]
     },
     "metadata": {
      "needs_background": "light"
     },
     "output_type": "display_data"
    }
   ],
   "source": [
    "# Observing target variable counts through bargraph:\n",
    "sns.countplot(x='ReportedFraud',data=traindata)"
   ]
  },
  {
   "cell_type": "code",
   "execution_count": 91,
   "id": "5c9cbdaa",
   "metadata": {},
   "outputs": [
    {
     "data": {
      "text/plain": [
       "N    21051\n",
       "Y     7785\n",
       "Name: ReportedFraud, dtype: int64"
      ]
     },
     "execution_count": 91,
     "metadata": {},
     "output_type": "execute_result"
    }
   ],
   "source": [
    "traindata['ReportedFraud'].value_counts()"
   ]
  },
  {
   "cell_type": "code",
   "execution_count": null,
   "id": "861203c6",
   "metadata": {},
   "outputs": [],
   "source": []
  },
  {
   "cell_type": "code",
   "execution_count": 92,
   "id": "bc4da630",
   "metadata": {},
   "outputs": [],
   "source": [
    "# Importing the required libraries to perform pre-processing in train data and splitting into train-test split:\n",
    "from sklearn import preprocessing\n",
    "from sklearn.impute import SimpleImputer\n",
    "\n",
    "from sklearn.compose import ColumnTransformer\n",
    "\n",
    "from sklearn.preprocessing import StandardScaler\n",
    "from sklearn.preprocessing import OneHotEncoder\n",
    "from sklearn.model_selection import train_test_split\n",
    "from sklearn.pipeline import Pipeline\n",
    "from sklearn.model_selection import GridSearchCV, cross_val_score, StratifiedKFold"
   ]
  },
  {
   "cell_type": "code",
   "execution_count": 93,
   "id": "41b1ae88",
   "metadata": {},
   "outputs": [],
   "source": [
    "# Dropping the target variable from train data and storing the rest of the attributes in \"X\" and target attribute in \"y\":\n",
    "X = traindata.drop([\"ReportedFraud\"], axis = 1)\n",
    "y = traindata[\"ReportedFraud\"]"
   ]
  },
  {
   "cell_type": "code",
   "execution_count": 94,
   "id": "9766acb6",
   "metadata": {},
   "outputs": [
    {
     "name": "stdout",
     "output_type": "stream",
     "text": [
      "(28836, 27) (28836,)\n"
     ]
    }
   ],
   "source": [
    "# printing the shapes of X and y: \n",
    "print(X.shape, y.shape)"
   ]
  },
  {
   "cell_type": "code",
   "execution_count": 95,
   "id": "da2b0a6d",
   "metadata": {},
   "outputs": [],
   "source": [
    "# Splitting the data to train and test with test size of 30% from train data \n",
    "# random state is used so that train and test data are maintained; \n",
    "#stratify is used as the data given is a class imbalance problem\n",
    "X_train, X_test, y_train, y_test = train_test_split(X, y, test_size = 0.3, random_state = 123,stratify=y)"
   ]
  },
  {
   "cell_type": "code",
   "execution_count": 96,
   "id": "24f7f4f0",
   "metadata": {},
   "outputs": [
    {
     "name": "stdout",
     "output_type": "stream",
     "text": [
      "(20185, 27)\n",
      "(8651, 27)\n",
      "(20185,)\n",
      "(8651,)\n"
     ]
    }
   ],
   "source": [
    "#checking shape of train and test data:\n",
    "print(X_train.shape)\n",
    "print(X_test.shape)\n",
    "print(y_train.shape)\n",
    "print(y_test.shape)"
   ]
  },
  {
   "cell_type": "code",
   "execution_count": null,
   "id": "16157bfa",
   "metadata": {},
   "outputs": [],
   "source": []
  },
  {
   "cell_type": "code",
   "execution_count": 97,
   "id": "bdac64b0",
   "metadata": {},
   "outputs": [
    {
     "data": {
      "text/plain": [
       "Index(['InsuredAge', 'CapitalGains', 'CapitalLoss', 'CustomerLoyaltyPeriod',\n",
       "       'Policy_Deductible', 'PolicyAnnualPremium', 'UmbrellaLimit',\n",
       "       'IncidentTime', 'NumberOfVehicles', 'BodilyInjuries',\n",
       "       'AmountOfTotalClaim', 'AmountOfInjuryClaim', 'AmountOfPropertyClaim',\n",
       "       'AmountOfVehicleDamage'],\n",
       "      dtype='object')"
      ]
     },
     "execution_count": 97,
     "metadata": {},
     "output_type": "execute_result"
    }
   ],
   "source": [
    "#defining numerical columns in data:\n",
    "numeric_columns=traindata.select_dtypes(['float64','int64']).columns\n",
    "numeric_columns"
   ]
  },
  {
   "cell_type": "code",
   "execution_count": 98,
   "id": "29e47fdd",
   "metadata": {},
   "outputs": [
    {
     "data": {
      "text/plain": [
       "Index(['InsuredEducationLevel', 'InsuredOccupation', 'DateOfIncident',\n",
       "       'TypeOfIncident', 'TypeOfCollission', 'SeverityOfIncident',\n",
       "       'AuthoritiesContacted', 'IncidentCity', 'PropertyDamage', 'Witnesses',\n",
       "       'PoliceReport', 'VehicleMake', 'VehicleYOM'],\n",
       "      dtype='object')"
      ]
     },
     "execution_count": 98,
     "metadata": {},
     "output_type": "execute_result"
    }
   ],
   "source": [
    "#defining categorical columns in data:\n",
    "cat_columns=X_train.select_dtypes(['category']).columns\n",
    "cat_columns"
   ]
  },
  {
   "cell_type": "code",
   "execution_count": 99,
   "id": "1b6682ab",
   "metadata": {
    "scrolled": true
   },
   "outputs": [
    {
     "name": "stdout",
     "output_type": "stream",
     "text": [
      "N    14736\n",
      "Y     5449\n",
      "Name: ReportedFraud, dtype: int64\n"
     ]
    }
   ],
   "source": [
    "# Target variable count in train data:\n",
    "print(y_train.value_counts())"
   ]
  },
  {
   "cell_type": "code",
   "execution_count": 100,
   "id": "1c429e0c",
   "metadata": {},
   "outputs": [],
   "source": [
    "# Importing the required classifiers for model building:\n",
    "from sklearn.ensemble import RandomForestClassifier\n",
    "\n",
    "from sklearn.linear_model import LogisticRegression\n",
    "\n",
    "from sklearn.ensemble import GradientBoostingClassifier\n",
    "\n",
    "from sklearn.metrics import confusion_matrix\n",
    "from sklearn.metrics import classification_report\n",
    "#from imblearn.over_sampling import SMOTE\n",
    "from sklearn.metrics import accuracy_score, recall_score, precision_score, f1_score "
   ]
  },
  {
   "cell_type": "code",
   "execution_count": 101,
   "id": "f7f126e9",
   "metadata": {},
   "outputs": [
    {
     "data": {
      "text/html": [
       "<div>\n",
       "<style scoped>\n",
       "    .dataframe tbody tr th:only-of-type {\n",
       "        vertical-align: middle;\n",
       "    }\n",
       "\n",
       "    .dataframe tbody tr th {\n",
       "        vertical-align: top;\n",
       "    }\n",
       "\n",
       "    .dataframe thead th {\n",
       "        text-align: right;\n",
       "    }\n",
       "</style>\n",
       "<table border=\"1\" class=\"dataframe\">\n",
       "  <thead>\n",
       "    <tr style=\"text-align: right;\">\n",
       "      <th></th>\n",
       "      <th>InsuredAge</th>\n",
       "      <th>InsuredEducationLevel</th>\n",
       "      <th>InsuredOccupation</th>\n",
       "      <th>CapitalGains</th>\n",
       "      <th>CapitalLoss</th>\n",
       "      <th>CustomerLoyaltyPeriod</th>\n",
       "      <th>Policy_Deductible</th>\n",
       "      <th>PolicyAnnualPremium</th>\n",
       "      <th>UmbrellaLimit</th>\n",
       "      <th>DateOfIncident</th>\n",
       "      <th>...</th>\n",
       "      <th>PropertyDamage</th>\n",
       "      <th>BodilyInjuries</th>\n",
       "      <th>Witnesses</th>\n",
       "      <th>PoliceReport</th>\n",
       "      <th>AmountOfTotalClaim</th>\n",
       "      <th>AmountOfInjuryClaim</th>\n",
       "      <th>AmountOfPropertyClaim</th>\n",
       "      <th>AmountOfVehicleDamage</th>\n",
       "      <th>VehicleMake</th>\n",
       "      <th>VehicleYOM</th>\n",
       "    </tr>\n",
       "  </thead>\n",
       "  <tbody>\n",
       "    <tr>\n",
       "      <th>19571</th>\n",
       "      <td>43</td>\n",
       "      <td>College</td>\n",
       "      <td>farming-fishing</td>\n",
       "      <td>0</td>\n",
       "      <td>0</td>\n",
       "      <td>267.0</td>\n",
       "      <td>752.0</td>\n",
       "      <td>1380.50</td>\n",
       "      <td>0.0</td>\n",
       "      <td>2015-02-26</td>\n",
       "      <td>...</td>\n",
       "      <td>NO</td>\n",
       "      <td>0.0</td>\n",
       "      <td>1.0</td>\n",
       "      <td>NO</td>\n",
       "      <td>66137.0</td>\n",
       "      <td>9834.0</td>\n",
       "      <td>10007.0</td>\n",
       "      <td>46296.0</td>\n",
       "      <td>Saab</td>\n",
       "      <td>2001</td>\n",
       "    </tr>\n",
       "    <tr>\n",
       "      <th>22341</th>\n",
       "      <td>34</td>\n",
       "      <td>MD</td>\n",
       "      <td>farming-fishing</td>\n",
       "      <td>52600</td>\n",
       "      <td>-67800</td>\n",
       "      <td>122.0</td>\n",
       "      <td>702.0</td>\n",
       "      <td>1360.28</td>\n",
       "      <td>0.0</td>\n",
       "      <td>2015-01-10</td>\n",
       "      <td>...</td>\n",
       "      <td>NO</td>\n",
       "      <td>0.0</td>\n",
       "      <td>3.0</td>\n",
       "      <td>YES</td>\n",
       "      <td>58102.0</td>\n",
       "      <td>11037.0</td>\n",
       "      <td>5518.0</td>\n",
       "      <td>41547.0</td>\n",
       "      <td>Accura</td>\n",
       "      <td>2006</td>\n",
       "    </tr>\n",
       "    <tr>\n",
       "      <th>25085</th>\n",
       "      <td>36</td>\n",
       "      <td>High School</td>\n",
       "      <td>exec-managerial</td>\n",
       "      <td>36100</td>\n",
       "      <td>0</td>\n",
       "      <td>171.0</td>\n",
       "      <td>2000.0</td>\n",
       "      <td>1096.77</td>\n",
       "      <td>0.0</td>\n",
       "      <td>2015-01-03</td>\n",
       "      <td>...</td>\n",
       "      <td>NO</td>\n",
       "      <td>0.0</td>\n",
       "      <td>2.0</td>\n",
       "      <td>YES</td>\n",
       "      <td>50923.0</td>\n",
       "      <td>5370.0</td>\n",
       "      <td>7960.0</td>\n",
       "      <td>37593.0</td>\n",
       "      <td>BMW</td>\n",
       "      <td>2007</td>\n",
       "    </tr>\n",
       "    <tr>\n",
       "      <th>11675</th>\n",
       "      <td>47</td>\n",
       "      <td>JD</td>\n",
       "      <td>machine-op-inspct</td>\n",
       "      <td>41500</td>\n",
       "      <td>-33100</td>\n",
       "      <td>270.0</td>\n",
       "      <td>937.0</td>\n",
       "      <td>1588.11</td>\n",
       "      <td>0.0</td>\n",
       "      <td>2015-01-29</td>\n",
       "      <td>...</td>\n",
       "      <td>NO</td>\n",
       "      <td>2.0</td>\n",
       "      <td>2.0</td>\n",
       "      <td>NO</td>\n",
       "      <td>53325.0</td>\n",
       "      <td>11100.0</td>\n",
       "      <td>5925.0</td>\n",
       "      <td>36300.0</td>\n",
       "      <td>Nissan</td>\n",
       "      <td>2006</td>\n",
       "    </tr>\n",
       "    <tr>\n",
       "      <th>106</th>\n",
       "      <td>44</td>\n",
       "      <td>PhD</td>\n",
       "      <td>priv-house-serv</td>\n",
       "      <td>83200</td>\n",
       "      <td>0</td>\n",
       "      <td>292.0</td>\n",
       "      <td>500.0</td>\n",
       "      <td>1099.07</td>\n",
       "      <td>0.0</td>\n",
       "      <td>2015-02-28</td>\n",
       "      <td>...</td>\n",
       "      <td>NO</td>\n",
       "      <td>1.0</td>\n",
       "      <td>0.0</td>\n",
       "      <td>YES</td>\n",
       "      <td>61577.0</td>\n",
       "      <td>6232.0</td>\n",
       "      <td>6067.0</td>\n",
       "      <td>49278.0</td>\n",
       "      <td>Saab</td>\n",
       "      <td>2005</td>\n",
       "    </tr>\n",
       "  </tbody>\n",
       "</table>\n",
       "<p>5 rows × 27 columns</p>\n",
       "</div>"
      ],
      "text/plain": [
       "       InsuredAge InsuredEducationLevel  InsuredOccupation  CapitalGains  \\\n",
       "19571          43               College    farming-fishing             0   \n",
       "22341          34                    MD    farming-fishing         52600   \n",
       "25085          36           High School    exec-managerial         36100   \n",
       "11675          47                    JD  machine-op-inspct         41500   \n",
       "106            44                   PhD    priv-house-serv         83200   \n",
       "\n",
       "       CapitalLoss  CustomerLoyaltyPeriod  Policy_Deductible  \\\n",
       "19571            0                  267.0              752.0   \n",
       "22341       -67800                  122.0              702.0   \n",
       "25085            0                  171.0             2000.0   \n",
       "11675       -33100                  270.0              937.0   \n",
       "106              0                  292.0              500.0   \n",
       "\n",
       "       PolicyAnnualPremium  UmbrellaLimit DateOfIncident  ... PropertyDamage  \\\n",
       "19571              1380.50            0.0     2015-02-26  ...             NO   \n",
       "22341              1360.28            0.0     2015-01-10  ...             NO   \n",
       "25085              1096.77            0.0     2015-01-03  ...             NO   \n",
       "11675              1588.11            0.0     2015-01-29  ...             NO   \n",
       "106                1099.07            0.0     2015-02-28  ...             NO   \n",
       "\n",
       "      BodilyInjuries Witnesses PoliceReport AmountOfTotalClaim  \\\n",
       "19571            0.0       1.0           NO            66137.0   \n",
       "22341            0.0       3.0          YES            58102.0   \n",
       "25085            0.0       2.0          YES            50923.0   \n",
       "11675            2.0       2.0           NO            53325.0   \n",
       "106              1.0       0.0          YES            61577.0   \n",
       "\n",
       "       AmountOfInjuryClaim  AmountOfPropertyClaim AmountOfVehicleDamage  \\\n",
       "19571               9834.0                10007.0               46296.0   \n",
       "22341              11037.0                 5518.0               41547.0   \n",
       "25085               5370.0                 7960.0               37593.0   \n",
       "11675              11100.0                 5925.0               36300.0   \n",
       "106                 6232.0                 6067.0               49278.0   \n",
       "\n",
       "       VehicleMake VehicleYOM  \n",
       "19571         Saab       2001  \n",
       "22341       Accura       2006  \n",
       "25085          BMW       2007  \n",
       "11675       Nissan       2006  \n",
       "106           Saab       2005  \n",
       "\n",
       "[5 rows x 27 columns]"
      ]
     },
     "execution_count": 101,
     "metadata": {},
     "output_type": "execute_result"
    }
   ],
   "source": [
    "# Checking the top 5 records in X_train:\n",
    "X_train.head()"
   ]
  },
  {
   "cell_type": "code",
   "execution_count": 102,
   "id": "320b0d16",
   "metadata": {
    "scrolled": true
   },
   "outputs": [
    {
     "data": {
      "text/plain": [
       "19571    N\n",
       "22341    N\n",
       "25085    Y\n",
       "Name: ReportedFraud, dtype: category\n",
       "Categories (2, object): ['N', 'Y']"
      ]
     },
     "execution_count": 102,
     "metadata": {},
     "output_type": "execute_result"
    }
   ],
   "source": [
    "# Checking the top 5 records in y_train:\n",
    "y_train.head(3)"
   ]
  },
  {
   "cell_type": "code",
   "execution_count": 103,
   "id": "c9ff79a8",
   "metadata": {},
   "outputs": [],
   "source": [
    "# Importing the required preprocessing libraries:\n",
    "from sklearn.preprocessing import StandardScaler, OneHotEncoder, LabelEncoder"
   ]
  },
  {
   "cell_type": "code",
   "execution_count": 104,
   "id": "1f358d2c",
   "metadata": {},
   "outputs": [],
   "source": [
    "#label encoding for target (y) variable:\n",
    "le = LabelEncoder()\n",
    "\n",
    "le.fit(y_train)\n",
    "\n",
    "y_train = le.transform(y_train)\n",
    "y_test = le.transform(y_test)"
   ]
  },
  {
   "cell_type": "code",
   "execution_count": 105,
   "id": "8b75a734",
   "metadata": {},
   "outputs": [
    {
     "name": "stdout",
     "output_type": "stream",
     "text": [
      "['N' 'Y']\n"
     ]
    }
   ],
   "source": [
    "#printing the target variable classes:\n",
    "print(le.classes_)"
   ]
  },
  {
   "cell_type": "code",
   "execution_count": 106,
   "id": "ed6c736f",
   "metadata": {},
   "outputs": [
    {
     "name": "stdout",
     "output_type": "stream",
     "text": [
      "['N' 'Y']\n"
     ]
    }
   ],
   "source": [
    "#inverse transfrom for target variable:\n",
    "print(le.inverse_transform([0, 1]))"
   ]
  },
  {
   "cell_type": "code",
   "execution_count": 107,
   "id": "a0289f8b",
   "metadata": {},
   "outputs": [
    {
     "data": {
      "text/plain": [
       "(array([0, 1]), array([14736,  5449], dtype=int64))"
      ]
     },
     "execution_count": 107,
     "metadata": {},
     "output_type": "execute_result"
    }
   ],
   "source": [
    "#array of y_train target column count:\n",
    "np.unique(y_train, return_counts=True)"
   ]
  },
  {
   "cell_type": "code",
   "execution_count": 108,
   "id": "cddd5b23",
   "metadata": {},
   "outputs": [
    {
     "data": {
      "text/plain": [
       "(array([0, 1]), array([6315, 2336], dtype=int64))"
      ]
     },
     "execution_count": 108,
     "metadata": {},
     "output_type": "execute_result"
    }
   ],
   "source": [
    "np.unique(y_test, return_counts=True)"
   ]
  },
  {
   "cell_type": "code",
   "execution_count": 109,
   "id": "ddbaf7fb",
   "metadata": {
    "scrolled": true
   },
   "outputs": [
    {
     "name": "stdout",
     "output_type": "stream",
     "text": [
      "<class 'pandas.core.frame.DataFrame'>\n",
      "Int64Index: 8651 entries, 18564 to 9157\n",
      "Data columns (total 27 columns):\n",
      " #   Column                 Non-Null Count  Dtype   \n",
      "---  ------                 --------------  -----   \n",
      " 0   InsuredAge             8651 non-null   int64   \n",
      " 1   InsuredEducationLevel  8651 non-null   category\n",
      " 2   InsuredOccupation      8651 non-null   category\n",
      " 3   CapitalGains           8651 non-null   int64   \n",
      " 4   CapitalLoss            8651 non-null   int64   \n",
      " 5   CustomerLoyaltyPeriod  8651 non-null   float64 \n",
      " 6   Policy_Deductible      8651 non-null   float64 \n",
      " 7   PolicyAnnualPremium    8651 non-null   float64 \n",
      " 8   UmbrellaLimit          8651 non-null   float64 \n",
      " 9   DateOfIncident         8651 non-null   category\n",
      " 10  TypeOfIncident         8651 non-null   category\n",
      " 11  TypeOfCollission       8651 non-null   category\n",
      " 12  SeverityOfIncident     8651 non-null   category\n",
      " 13  AuthoritiesContacted   8651 non-null   category\n",
      " 14  IncidentCity           8651 non-null   category\n",
      " 15  IncidentTime           8651 non-null   float64 \n",
      " 16  NumberOfVehicles       8651 non-null   float64 \n",
      " 17  PropertyDamage         8651 non-null   category\n",
      " 18  BodilyInjuries         8651 non-null   float64 \n",
      " 19  Witnesses              8651 non-null   category\n",
      " 20  PoliceReport           8651 non-null   category\n",
      " 21  AmountOfTotalClaim     8651 non-null   float64 \n",
      " 22  AmountOfInjuryClaim    8651 non-null   float64 \n",
      " 23  AmountOfPropertyClaim  8651 non-null   float64 \n",
      " 24  AmountOfVehicleDamage  8651 non-null   float64 \n",
      " 25  VehicleMake            8651 non-null   category\n",
      " 26  VehicleYOM             8651 non-null   category\n",
      "dtypes: category(13), float64(11), int64(3)\n",
      "memory usage: 1.1 MB\n"
     ]
    }
   ],
   "source": [
    "#info of X_test:\n",
    "X_test.info()"
   ]
  },
  {
   "cell_type": "code",
   "execution_count": 110,
   "id": "3ef0c8c3",
   "metadata": {},
   "outputs": [],
   "source": [
    "#standardscaler for numerical columns\n",
    "scaler = StandardScaler()\n",
    "scaler.fit(X_train[numeric_columns])\n",
    "\n",
    "X_train_num = pd.DataFrame(scaler.transform(X_train[numeric_columns]), columns=numeric_columns)\n",
    "X_test_num = pd.DataFrame(scaler.transform(X_test[numeric_columns]), columns=numeric_columns)"
   ]
  },
  {
   "cell_type": "code",
   "execution_count": 111,
   "id": "fc005595",
   "metadata": {},
   "outputs": [
    {
     "data": {
      "text/html": [
       "<div>\n",
       "<style scoped>\n",
       "    .dataframe tbody tr th:only-of-type {\n",
       "        vertical-align: middle;\n",
       "    }\n",
       "\n",
       "    .dataframe tbody tr th {\n",
       "        vertical-align: top;\n",
       "    }\n",
       "\n",
       "    .dataframe thead th {\n",
       "        text-align: right;\n",
       "    }\n",
       "</style>\n",
       "<table border=\"1\" class=\"dataframe\">\n",
       "  <thead>\n",
       "    <tr style=\"text-align: right;\">\n",
       "      <th></th>\n",
       "      <th>InsuredAge</th>\n",
       "      <th>CapitalGains</th>\n",
       "      <th>CapitalLoss</th>\n",
       "      <th>CustomerLoyaltyPeriod</th>\n",
       "      <th>Policy_Deductible</th>\n",
       "      <th>PolicyAnnualPremium</th>\n",
       "      <th>UmbrellaLimit</th>\n",
       "      <th>IncidentTime</th>\n",
       "      <th>NumberOfVehicles</th>\n",
       "      <th>BodilyInjuries</th>\n",
       "      <th>AmountOfTotalClaim</th>\n",
       "      <th>AmountOfInjuryClaim</th>\n",
       "      <th>AmountOfPropertyClaim</th>\n",
       "      <th>AmountOfVehicleDamage</th>\n",
       "    </tr>\n",
       "  </thead>\n",
       "  <tbody>\n",
       "    <tr>\n",
       "      <th>0</th>\n",
       "      <td>0.522028</td>\n",
       "      <td>-0.839492</td>\n",
       "      <td>0.887849</td>\n",
       "      <td>0.637893</td>\n",
       "      <td>-0.662400</td>\n",
       "      <td>-0.054794</td>\n",
       "      <td>-0.497296</td>\n",
       "      <td>0.531279</td>\n",
       "      <td>0.180554</td>\n",
       "      <td>-1.262542</td>\n",
       "      <td>0.557745</td>\n",
       "      <td>0.568441</td>\n",
       "      <td>0.630236</td>\n",
       "      <td>0.482915</td>\n",
       "    </tr>\n",
       "    <tr>\n",
       "      <th>1</th>\n",
       "      <td>-0.602893</td>\n",
       "      <td>1.063855</td>\n",
       "      <td>-1.541729</td>\n",
       "      <td>-0.814577</td>\n",
       "      <td>-0.753785</td>\n",
       "      <td>-0.057114</td>\n",
       "      <td>-0.497296</td>\n",
       "      <td>-1.418939</td>\n",
       "      <td>-0.840024</td>\n",
       "      <td>-1.262542</td>\n",
       "      <td>0.239032</td>\n",
       "      <td>0.840169</td>\n",
       "      <td>-0.397971</td>\n",
       "      <td>0.219290</td>\n",
       "    </tr>\n",
       "    <tr>\n",
       "      <th>2</th>\n",
       "      <td>-0.352911</td>\n",
       "      <td>0.466798</td>\n",
       "      <td>0.887849</td>\n",
       "      <td>-0.323743</td>\n",
       "      <td>1.618591</td>\n",
       "      <td>-0.087339</td>\n",
       "      <td>-0.497296</td>\n",
       "      <td>-0.606348</td>\n",
       "      <td>1.201131</td>\n",
       "      <td>-1.262542</td>\n",
       "      <td>-0.045727</td>\n",
       "      <td>-0.439865</td>\n",
       "      <td>0.161370</td>\n",
       "      <td>-0.000204</td>\n",
       "    </tr>\n",
       "    <tr>\n",
       "      <th>3</th>\n",
       "      <td>1.021993</td>\n",
       "      <td>0.662198</td>\n",
       "      <td>-0.298272</td>\n",
       "      <td>0.667944</td>\n",
       "      <td>-0.324272</td>\n",
       "      <td>-0.030981</td>\n",
       "      <td>-0.497296</td>\n",
       "      <td>-0.118794</td>\n",
       "      <td>1.201131</td>\n",
       "      <td>1.285135</td>\n",
       "      <td>0.049550</td>\n",
       "      <td>0.854399</td>\n",
       "      <td>-0.304748</td>\n",
       "      <td>-0.071980</td>\n",
       "    </tr>\n",
       "    <tr>\n",
       "      <th>4</th>\n",
       "      <td>0.647020</td>\n",
       "      <td>2.171126</td>\n",
       "      <td>0.887849</td>\n",
       "      <td>0.888319</td>\n",
       "      <td>-1.122984</td>\n",
       "      <td>-0.087075</td>\n",
       "      <td>-0.497296</td>\n",
       "      <td>0.043725</td>\n",
       "      <td>-0.840024</td>\n",
       "      <td>0.011296</td>\n",
       "      <td>0.376870</td>\n",
       "      <td>-0.245161</td>\n",
       "      <td>-0.272223</td>\n",
       "      <td>0.648451</td>\n",
       "    </tr>\n",
       "  </tbody>\n",
       "</table>\n",
       "</div>"
      ],
      "text/plain": [
       "   InsuredAge  CapitalGains  CapitalLoss  CustomerLoyaltyPeriod  \\\n",
       "0    0.522028     -0.839492     0.887849               0.637893   \n",
       "1   -0.602893      1.063855    -1.541729              -0.814577   \n",
       "2   -0.352911      0.466798     0.887849              -0.323743   \n",
       "3    1.021993      0.662198    -0.298272               0.667944   \n",
       "4    0.647020      2.171126     0.887849               0.888319   \n",
       "\n",
       "   Policy_Deductible  PolicyAnnualPremium  UmbrellaLimit  IncidentTime  \\\n",
       "0          -0.662400            -0.054794      -0.497296      0.531279   \n",
       "1          -0.753785            -0.057114      -0.497296     -1.418939   \n",
       "2           1.618591            -0.087339      -0.497296     -0.606348   \n",
       "3          -0.324272            -0.030981      -0.497296     -0.118794   \n",
       "4          -1.122984            -0.087075      -0.497296      0.043725   \n",
       "\n",
       "   NumberOfVehicles  BodilyInjuries  AmountOfTotalClaim  AmountOfInjuryClaim  \\\n",
       "0          0.180554       -1.262542            0.557745             0.568441   \n",
       "1         -0.840024       -1.262542            0.239032             0.840169   \n",
       "2          1.201131       -1.262542           -0.045727            -0.439865   \n",
       "3          1.201131        1.285135            0.049550             0.854399   \n",
       "4         -0.840024        0.011296            0.376870            -0.245161   \n",
       "\n",
       "   AmountOfPropertyClaim  AmountOfVehicleDamage  \n",
       "0               0.630236               0.482915  \n",
       "1              -0.397971               0.219290  \n",
       "2               0.161370              -0.000204  \n",
       "3              -0.304748              -0.071980  \n",
       "4              -0.272223               0.648451  "
      ]
     },
     "execution_count": 111,
     "metadata": {},
     "output_type": "execute_result"
    }
   ],
   "source": [
    "#checking the head of data after scaling\n",
    "X_train_num.head()"
   ]
  },
  {
   "cell_type": "code",
   "execution_count": 112,
   "id": "e21d56c1",
   "metadata": {},
   "outputs": [
    {
     "name": "stderr",
     "output_type": "stream",
     "text": [
      "C:\\Users\\M SHYAMA KRISHNA\\Anaconda3\\lib\\site-packages\\sklearn\\utils\\deprecation.py:87: FutureWarning: Function get_feature_names is deprecated; get_feature_names is deprecated in 1.0 and will be removed in 1.2. Please use get_feature_names_out instead.\n",
      "  warnings.warn(msg, category=FutureWarning)\n"
     ]
    }
   ],
   "source": [
    "#ohe = OneHotEncoder()\n",
    "ohe = OneHotEncoder(handle_unknown='ignore', drop = \"first\")\n",
    "ohe.fit(X_train[cat_columns])\n",
    "\n",
    "columns_ohe = list(ohe.get_feature_names(cat_columns))"
   ]
  },
  {
   "cell_type": "code",
   "execution_count": null,
   "id": "8dc8c0cf",
   "metadata": {},
   "outputs": [],
   "source": []
  },
  {
   "cell_type": "code",
   "execution_count": 113,
   "id": "a00a12e5",
   "metadata": {},
   "outputs": [],
   "source": [
    "X_train_cat = ohe.transform(X_train[cat_columns])\n",
    "X_test_cat  = ohe.transform(X_test[cat_columns])"
   ]
  },
  {
   "cell_type": "code",
   "execution_count": 114,
   "id": "8b9ffe22",
   "metadata": {},
   "outputs": [],
   "source": [
    "X_train_cat = pd.DataFrame(X_train_cat.todense(), columns=columns_ohe)\n",
    "X_test_cat  = pd.DataFrame(X_test_cat.todense(), columns=columns_ohe)"
   ]
  },
  {
   "cell_type": "code",
   "execution_count": 115,
   "id": "6995ac0e",
   "metadata": {},
   "outputs": [
    {
     "data": {
      "text/html": [
       "<div>\n",
       "<style scoped>\n",
       "    .dataframe tbody tr th:only-of-type {\n",
       "        vertical-align: middle;\n",
       "    }\n",
       "\n",
       "    .dataframe tbody tr th {\n",
       "        vertical-align: top;\n",
       "    }\n",
       "\n",
       "    .dataframe thead th {\n",
       "        text-align: right;\n",
       "    }\n",
       "</style>\n",
       "<table border=\"1\" class=\"dataframe\">\n",
       "  <thead>\n",
       "    <tr style=\"text-align: right;\">\n",
       "      <th></th>\n",
       "      <th>InsuredEducationLevel_College</th>\n",
       "      <th>InsuredEducationLevel_High School</th>\n",
       "      <th>InsuredEducationLevel_JD</th>\n",
       "      <th>InsuredEducationLevel_MD</th>\n",
       "      <th>InsuredEducationLevel_Masters</th>\n",
       "      <th>InsuredEducationLevel_PhD</th>\n",
       "      <th>InsuredOccupation_armed-forces</th>\n",
       "      <th>InsuredOccupation_craft-repair</th>\n",
       "      <th>InsuredOccupation_exec-managerial</th>\n",
       "      <th>InsuredOccupation_farming-fishing</th>\n",
       "      <th>...</th>\n",
       "      <th>VehicleYOM_2006</th>\n",
       "      <th>VehicleYOM_2007</th>\n",
       "      <th>VehicleYOM_2008</th>\n",
       "      <th>VehicleYOM_2009</th>\n",
       "      <th>VehicleYOM_2010</th>\n",
       "      <th>VehicleYOM_2011</th>\n",
       "      <th>VehicleYOM_2012</th>\n",
       "      <th>VehicleYOM_2013</th>\n",
       "      <th>VehicleYOM_2014</th>\n",
       "      <th>VehicleYOM_2015</th>\n",
       "    </tr>\n",
       "  </thead>\n",
       "  <tbody>\n",
       "    <tr>\n",
       "      <th>0</th>\n",
       "      <td>1.0</td>\n",
       "      <td>0.0</td>\n",
       "      <td>0.0</td>\n",
       "      <td>0.0</td>\n",
       "      <td>0.0</td>\n",
       "      <td>0.0</td>\n",
       "      <td>0.0</td>\n",
       "      <td>0.0</td>\n",
       "      <td>0.0</td>\n",
       "      <td>1.0</td>\n",
       "      <td>...</td>\n",
       "      <td>0.0</td>\n",
       "      <td>0.0</td>\n",
       "      <td>0.0</td>\n",
       "      <td>0.0</td>\n",
       "      <td>0.0</td>\n",
       "      <td>0.0</td>\n",
       "      <td>0.0</td>\n",
       "      <td>0.0</td>\n",
       "      <td>0.0</td>\n",
       "      <td>0.0</td>\n",
       "    </tr>\n",
       "    <tr>\n",
       "      <th>1</th>\n",
       "      <td>0.0</td>\n",
       "      <td>0.0</td>\n",
       "      <td>0.0</td>\n",
       "      <td>1.0</td>\n",
       "      <td>0.0</td>\n",
       "      <td>0.0</td>\n",
       "      <td>0.0</td>\n",
       "      <td>0.0</td>\n",
       "      <td>0.0</td>\n",
       "      <td>1.0</td>\n",
       "      <td>...</td>\n",
       "      <td>1.0</td>\n",
       "      <td>0.0</td>\n",
       "      <td>0.0</td>\n",
       "      <td>0.0</td>\n",
       "      <td>0.0</td>\n",
       "      <td>0.0</td>\n",
       "      <td>0.0</td>\n",
       "      <td>0.0</td>\n",
       "      <td>0.0</td>\n",
       "      <td>0.0</td>\n",
       "    </tr>\n",
       "    <tr>\n",
       "      <th>2</th>\n",
       "      <td>0.0</td>\n",
       "      <td>1.0</td>\n",
       "      <td>0.0</td>\n",
       "      <td>0.0</td>\n",
       "      <td>0.0</td>\n",
       "      <td>0.0</td>\n",
       "      <td>0.0</td>\n",
       "      <td>0.0</td>\n",
       "      <td>1.0</td>\n",
       "      <td>0.0</td>\n",
       "      <td>...</td>\n",
       "      <td>0.0</td>\n",
       "      <td>1.0</td>\n",
       "      <td>0.0</td>\n",
       "      <td>0.0</td>\n",
       "      <td>0.0</td>\n",
       "      <td>0.0</td>\n",
       "      <td>0.0</td>\n",
       "      <td>0.0</td>\n",
       "      <td>0.0</td>\n",
       "      <td>0.0</td>\n",
       "    </tr>\n",
       "    <tr>\n",
       "      <th>3</th>\n",
       "      <td>0.0</td>\n",
       "      <td>0.0</td>\n",
       "      <td>1.0</td>\n",
       "      <td>0.0</td>\n",
       "      <td>0.0</td>\n",
       "      <td>0.0</td>\n",
       "      <td>0.0</td>\n",
       "      <td>0.0</td>\n",
       "      <td>0.0</td>\n",
       "      <td>0.0</td>\n",
       "      <td>...</td>\n",
       "      <td>1.0</td>\n",
       "      <td>0.0</td>\n",
       "      <td>0.0</td>\n",
       "      <td>0.0</td>\n",
       "      <td>0.0</td>\n",
       "      <td>0.0</td>\n",
       "      <td>0.0</td>\n",
       "      <td>0.0</td>\n",
       "      <td>0.0</td>\n",
       "      <td>0.0</td>\n",
       "    </tr>\n",
       "    <tr>\n",
       "      <th>4</th>\n",
       "      <td>0.0</td>\n",
       "      <td>0.0</td>\n",
       "      <td>0.0</td>\n",
       "      <td>0.0</td>\n",
       "      <td>0.0</td>\n",
       "      <td>1.0</td>\n",
       "      <td>0.0</td>\n",
       "      <td>0.0</td>\n",
       "      <td>0.0</td>\n",
       "      <td>0.0</td>\n",
       "      <td>...</td>\n",
       "      <td>0.0</td>\n",
       "      <td>0.0</td>\n",
       "      <td>0.0</td>\n",
       "      <td>0.0</td>\n",
       "      <td>0.0</td>\n",
       "      <td>0.0</td>\n",
       "      <td>0.0</td>\n",
       "      <td>0.0</td>\n",
       "      <td>0.0</td>\n",
       "      <td>0.0</td>\n",
       "    </tr>\n",
       "  </tbody>\n",
       "</table>\n",
       "<p>5 rows × 147 columns</p>\n",
       "</div>"
      ],
      "text/plain": [
       "   InsuredEducationLevel_College  InsuredEducationLevel_High School  \\\n",
       "0                            1.0                                0.0   \n",
       "1                            0.0                                0.0   \n",
       "2                            0.0                                1.0   \n",
       "3                            0.0                                0.0   \n",
       "4                            0.0                                0.0   \n",
       "\n",
       "   InsuredEducationLevel_JD  InsuredEducationLevel_MD  \\\n",
       "0                       0.0                       0.0   \n",
       "1                       0.0                       1.0   \n",
       "2                       0.0                       0.0   \n",
       "3                       1.0                       0.0   \n",
       "4                       0.0                       0.0   \n",
       "\n",
       "   InsuredEducationLevel_Masters  InsuredEducationLevel_PhD  \\\n",
       "0                            0.0                        0.0   \n",
       "1                            0.0                        0.0   \n",
       "2                            0.0                        0.0   \n",
       "3                            0.0                        0.0   \n",
       "4                            0.0                        1.0   \n",
       "\n",
       "   InsuredOccupation_armed-forces  InsuredOccupation_craft-repair  \\\n",
       "0                             0.0                             0.0   \n",
       "1                             0.0                             0.0   \n",
       "2                             0.0                             0.0   \n",
       "3                             0.0                             0.0   \n",
       "4                             0.0                             0.0   \n",
       "\n",
       "   InsuredOccupation_exec-managerial  InsuredOccupation_farming-fishing  ...  \\\n",
       "0                                0.0                                1.0  ...   \n",
       "1                                0.0                                1.0  ...   \n",
       "2                                1.0                                0.0  ...   \n",
       "3                                0.0                                0.0  ...   \n",
       "4                                0.0                                0.0  ...   \n",
       "\n",
       "   VehicleYOM_2006  VehicleYOM_2007  VehicleYOM_2008  VehicleYOM_2009  \\\n",
       "0              0.0              0.0              0.0              0.0   \n",
       "1              1.0              0.0              0.0              0.0   \n",
       "2              0.0              1.0              0.0              0.0   \n",
       "3              1.0              0.0              0.0              0.0   \n",
       "4              0.0              0.0              0.0              0.0   \n",
       "\n",
       "   VehicleYOM_2010  VehicleYOM_2011  VehicleYOM_2012  VehicleYOM_2013  \\\n",
       "0              0.0              0.0              0.0              0.0   \n",
       "1              0.0              0.0              0.0              0.0   \n",
       "2              0.0              0.0              0.0              0.0   \n",
       "3              0.0              0.0              0.0              0.0   \n",
       "4              0.0              0.0              0.0              0.0   \n",
       "\n",
       "   VehicleYOM_2014  VehicleYOM_2015  \n",
       "0              0.0              0.0  \n",
       "1              0.0              0.0  \n",
       "2              0.0              0.0  \n",
       "3              0.0              0.0  \n",
       "4              0.0              0.0  \n",
       "\n",
       "[5 rows x 147 columns]"
      ]
     },
     "execution_count": 115,
     "metadata": {},
     "output_type": "execute_result"
    }
   ],
   "source": [
    "X_train_cat.head()"
   ]
  },
  {
   "cell_type": "code",
   "execution_count": 116,
   "id": "6ae13607",
   "metadata": {},
   "outputs": [],
   "source": [
    "#droping the columns which are not given in test data\n",
    "X_train_cat.drop([\"DateOfIncident_2015-03-08\",\"DateOfIncident_2015-03-10\",\"DateOfIncident_2015-03-11\",\"DateOfIncident_2015-03-12\",\"DateOfIncident_2015-03-14\"], axis = 1, inplace=True)"
   ]
  },
  {
   "cell_type": "code",
   "execution_count": 117,
   "id": "f91efaea",
   "metadata": {},
   "outputs": [],
   "source": [
    "X_test_cat.drop([\"DateOfIncident_2015-03-08\",\"DateOfIncident_2015-03-10\",\"DateOfIncident_2015-03-11\",\"DateOfIncident_2015-03-12\",\"DateOfIncident_2015-03-14\"], axis = 1, inplace=True)"
   ]
  },
  {
   "cell_type": "code",
   "execution_count": 118,
   "id": "8c0d77a6",
   "metadata": {},
   "outputs": [],
   "source": [
    "X_train = pd.concat([X_train_num, X_train_cat], axis=1)\n",
    "X_test = pd.concat([X_test_num, X_test_cat], axis=1)"
   ]
  },
  {
   "cell_type": "code",
   "execution_count": 119,
   "id": "bb80cef9",
   "metadata": {},
   "outputs": [
    {
     "name": "stdout",
     "output_type": "stream",
     "text": [
      "(20185, 156) (8651, 156)\n"
     ]
    }
   ],
   "source": [
    "#checking the shape of train and test:\n",
    "print(X_train.shape, X_test.shape)"
   ]
  },
  {
   "cell_type": "code",
   "execution_count": 120,
   "id": "73ff80db",
   "metadata": {},
   "outputs": [
    {
     "data": {
      "text/html": [
       "<div>\n",
       "<style scoped>\n",
       "    .dataframe tbody tr th:only-of-type {\n",
       "        vertical-align: middle;\n",
       "    }\n",
       "\n",
       "    .dataframe tbody tr th {\n",
       "        vertical-align: top;\n",
       "    }\n",
       "\n",
       "    .dataframe thead th {\n",
       "        text-align: right;\n",
       "    }\n",
       "</style>\n",
       "<table border=\"1\" class=\"dataframe\">\n",
       "  <thead>\n",
       "    <tr style=\"text-align: right;\">\n",
       "      <th></th>\n",
       "      <th>InsuredAge</th>\n",
       "      <th>CapitalGains</th>\n",
       "      <th>CapitalLoss</th>\n",
       "      <th>CustomerLoyaltyPeriod</th>\n",
       "      <th>Policy_Deductible</th>\n",
       "      <th>PolicyAnnualPremium</th>\n",
       "      <th>UmbrellaLimit</th>\n",
       "      <th>IncidentTime</th>\n",
       "      <th>NumberOfVehicles</th>\n",
       "      <th>BodilyInjuries</th>\n",
       "      <th>...</th>\n",
       "      <th>VehicleYOM_2006</th>\n",
       "      <th>VehicleYOM_2007</th>\n",
       "      <th>VehicleYOM_2008</th>\n",
       "      <th>VehicleYOM_2009</th>\n",
       "      <th>VehicleYOM_2010</th>\n",
       "      <th>VehicleYOM_2011</th>\n",
       "      <th>VehicleYOM_2012</th>\n",
       "      <th>VehicleYOM_2013</th>\n",
       "      <th>VehicleYOM_2014</th>\n",
       "      <th>VehicleYOM_2015</th>\n",
       "    </tr>\n",
       "  </thead>\n",
       "  <tbody>\n",
       "    <tr>\n",
       "      <th>0</th>\n",
       "      <td>0.522028</td>\n",
       "      <td>-0.839492</td>\n",
       "      <td>0.887849</td>\n",
       "      <td>0.637893</td>\n",
       "      <td>-0.662400</td>\n",
       "      <td>-0.054794</td>\n",
       "      <td>-0.497296</td>\n",
       "      <td>0.531279</td>\n",
       "      <td>0.180554</td>\n",
       "      <td>-1.262542</td>\n",
       "      <td>...</td>\n",
       "      <td>0.0</td>\n",
       "      <td>0.0</td>\n",
       "      <td>0.0</td>\n",
       "      <td>0.0</td>\n",
       "      <td>0.0</td>\n",
       "      <td>0.0</td>\n",
       "      <td>0.0</td>\n",
       "      <td>0.0</td>\n",
       "      <td>0.0</td>\n",
       "      <td>0.0</td>\n",
       "    </tr>\n",
       "    <tr>\n",
       "      <th>1</th>\n",
       "      <td>-0.602893</td>\n",
       "      <td>1.063855</td>\n",
       "      <td>-1.541729</td>\n",
       "      <td>-0.814577</td>\n",
       "      <td>-0.753785</td>\n",
       "      <td>-0.057114</td>\n",
       "      <td>-0.497296</td>\n",
       "      <td>-1.418939</td>\n",
       "      <td>-0.840024</td>\n",
       "      <td>-1.262542</td>\n",
       "      <td>...</td>\n",
       "      <td>1.0</td>\n",
       "      <td>0.0</td>\n",
       "      <td>0.0</td>\n",
       "      <td>0.0</td>\n",
       "      <td>0.0</td>\n",
       "      <td>0.0</td>\n",
       "      <td>0.0</td>\n",
       "      <td>0.0</td>\n",
       "      <td>0.0</td>\n",
       "      <td>0.0</td>\n",
       "    </tr>\n",
       "    <tr>\n",
       "      <th>2</th>\n",
       "      <td>-0.352911</td>\n",
       "      <td>0.466798</td>\n",
       "      <td>0.887849</td>\n",
       "      <td>-0.323743</td>\n",
       "      <td>1.618591</td>\n",
       "      <td>-0.087339</td>\n",
       "      <td>-0.497296</td>\n",
       "      <td>-0.606348</td>\n",
       "      <td>1.201131</td>\n",
       "      <td>-1.262542</td>\n",
       "      <td>...</td>\n",
       "      <td>0.0</td>\n",
       "      <td>1.0</td>\n",
       "      <td>0.0</td>\n",
       "      <td>0.0</td>\n",
       "      <td>0.0</td>\n",
       "      <td>0.0</td>\n",
       "      <td>0.0</td>\n",
       "      <td>0.0</td>\n",
       "      <td>0.0</td>\n",
       "      <td>0.0</td>\n",
       "    </tr>\n",
       "  </tbody>\n",
       "</table>\n",
       "<p>3 rows × 156 columns</p>\n",
       "</div>"
      ],
      "text/plain": [
       "   InsuredAge  CapitalGains  CapitalLoss  CustomerLoyaltyPeriod  \\\n",
       "0    0.522028     -0.839492     0.887849               0.637893   \n",
       "1   -0.602893      1.063855    -1.541729              -0.814577   \n",
       "2   -0.352911      0.466798     0.887849              -0.323743   \n",
       "\n",
       "   Policy_Deductible  PolicyAnnualPremium  UmbrellaLimit  IncidentTime  \\\n",
       "0          -0.662400            -0.054794      -0.497296      0.531279   \n",
       "1          -0.753785            -0.057114      -0.497296     -1.418939   \n",
       "2           1.618591            -0.087339      -0.497296     -0.606348   \n",
       "\n",
       "   NumberOfVehicles  BodilyInjuries  ...  VehicleYOM_2006  VehicleYOM_2007  \\\n",
       "0          0.180554       -1.262542  ...              0.0              0.0   \n",
       "1         -0.840024       -1.262542  ...              1.0              0.0   \n",
       "2          1.201131       -1.262542  ...              0.0              1.0   \n",
       "\n",
       "   VehicleYOM_2008  VehicleYOM_2009  VehicleYOM_2010  VehicleYOM_2011  \\\n",
       "0              0.0              0.0              0.0              0.0   \n",
       "1              0.0              0.0              0.0              0.0   \n",
       "2              0.0              0.0              0.0              0.0   \n",
       "\n",
       "   VehicleYOM_2012  VehicleYOM_2013  VehicleYOM_2014  VehicleYOM_2015  \n",
       "0              0.0              0.0              0.0              0.0  \n",
       "1              0.0              0.0              0.0              0.0  \n",
       "2              0.0              0.0              0.0              0.0  \n",
       "\n",
       "[3 rows x 156 columns]"
      ]
     },
     "execution_count": 120,
     "metadata": {},
     "output_type": "execute_result"
    }
   ],
   "source": [
    "X_train.head(3)"
   ]
  },
  {
   "cell_type": "code",
   "execution_count": 121,
   "id": "8364754d",
   "metadata": {},
   "outputs": [
    {
     "data": {
      "text/html": [
       "<div>\n",
       "<style scoped>\n",
       "    .dataframe tbody tr th:only-of-type {\n",
       "        vertical-align: middle;\n",
       "    }\n",
       "\n",
       "    .dataframe tbody tr th {\n",
       "        vertical-align: top;\n",
       "    }\n",
       "\n",
       "    .dataframe thead th {\n",
       "        text-align: right;\n",
       "    }\n",
       "</style>\n",
       "<table border=\"1\" class=\"dataframe\">\n",
       "  <thead>\n",
       "    <tr style=\"text-align: right;\">\n",
       "      <th></th>\n",
       "      <th>InsuredAge</th>\n",
       "      <th>CapitalGains</th>\n",
       "      <th>CapitalLoss</th>\n",
       "      <th>CustomerLoyaltyPeriod</th>\n",
       "      <th>Policy_Deductible</th>\n",
       "      <th>PolicyAnnualPremium</th>\n",
       "      <th>UmbrellaLimit</th>\n",
       "      <th>IncidentTime</th>\n",
       "      <th>NumberOfVehicles</th>\n",
       "      <th>BodilyInjuries</th>\n",
       "      <th>...</th>\n",
       "      <th>VehicleYOM_2006</th>\n",
       "      <th>VehicleYOM_2007</th>\n",
       "      <th>VehicleYOM_2008</th>\n",
       "      <th>VehicleYOM_2009</th>\n",
       "      <th>VehicleYOM_2010</th>\n",
       "      <th>VehicleYOM_2011</th>\n",
       "      <th>VehicleYOM_2012</th>\n",
       "      <th>VehicleYOM_2013</th>\n",
       "      <th>VehicleYOM_2014</th>\n",
       "      <th>VehicleYOM_2015</th>\n",
       "    </tr>\n",
       "  </thead>\n",
       "  <tbody>\n",
       "    <tr>\n",
       "      <th>0</th>\n",
       "      <td>0.022063</td>\n",
       "      <td>1.483605</td>\n",
       "      <td>-1.652815</td>\n",
       "      <td>-1.585889</td>\n",
       "      <td>-0.366309</td>\n",
       "      <td>-0.056858</td>\n",
       "      <td>2.808657</td>\n",
       "      <td>0.531279</td>\n",
       "      <td>1.201131</td>\n",
       "      <td>0.011296</td>\n",
       "      <td>...</td>\n",
       "      <td>0.0</td>\n",
       "      <td>1.0</td>\n",
       "      <td>0.0</td>\n",
       "      <td>0.0</td>\n",
       "      <td>0.0</td>\n",
       "      <td>0.0</td>\n",
       "      <td>0.0</td>\n",
       "      <td>0.0</td>\n",
       "      <td>0.0</td>\n",
       "      <td>0.0</td>\n",
       "    </tr>\n",
       "    <tr>\n",
       "      <th>1</th>\n",
       "      <td>0.272046</td>\n",
       "      <td>-0.839492</td>\n",
       "      <td>-1.928741</td>\n",
       "      <td>0.407501</td>\n",
       "      <td>0.713871</td>\n",
       "      <td>-0.018658</td>\n",
       "      <td>-0.497296</td>\n",
       "      <td>-0.768866</td>\n",
       "      <td>1.201131</td>\n",
       "      <td>0.011296</td>\n",
       "      <td>...</td>\n",
       "      <td>0.0</td>\n",
       "      <td>0.0</td>\n",
       "      <td>1.0</td>\n",
       "      <td>0.0</td>\n",
       "      <td>0.0</td>\n",
       "      <td>0.0</td>\n",
       "      <td>0.0</td>\n",
       "      <td>0.0</td>\n",
       "      <td>0.0</td>\n",
       "      <td>0.0</td>\n",
       "    </tr>\n",
       "    <tr>\n",
       "      <th>2</th>\n",
       "      <td>-1.227850</td>\n",
       "      <td>-0.839492</td>\n",
       "      <td>0.887849</td>\n",
       "      <td>-0.714407</td>\n",
       "      <td>-0.209126</td>\n",
       "      <td>-0.052126</td>\n",
       "      <td>-0.497296</td>\n",
       "      <td>-0.931385</td>\n",
       "      <td>-0.840024</td>\n",
       "      <td>0.011296</td>\n",
       "      <td>...</td>\n",
       "      <td>0.0</td>\n",
       "      <td>0.0</td>\n",
       "      <td>0.0</td>\n",
       "      <td>0.0</td>\n",
       "      <td>0.0</td>\n",
       "      <td>0.0</td>\n",
       "      <td>0.0</td>\n",
       "      <td>0.0</td>\n",
       "      <td>0.0</td>\n",
       "      <td>0.0</td>\n",
       "    </tr>\n",
       "  </tbody>\n",
       "</table>\n",
       "<p>3 rows × 156 columns</p>\n",
       "</div>"
      ],
      "text/plain": [
       "   InsuredAge  CapitalGains  CapitalLoss  CustomerLoyaltyPeriod  \\\n",
       "0    0.022063      1.483605    -1.652815              -1.585889   \n",
       "1    0.272046     -0.839492    -1.928741               0.407501   \n",
       "2   -1.227850     -0.839492     0.887849              -0.714407   \n",
       "\n",
       "   Policy_Deductible  PolicyAnnualPremium  UmbrellaLimit  IncidentTime  \\\n",
       "0          -0.366309            -0.056858       2.808657      0.531279   \n",
       "1           0.713871            -0.018658      -0.497296     -0.768866   \n",
       "2          -0.209126            -0.052126      -0.497296     -0.931385   \n",
       "\n",
       "   NumberOfVehicles  BodilyInjuries  ...  VehicleYOM_2006  VehicleYOM_2007  \\\n",
       "0          1.201131        0.011296  ...              0.0              1.0   \n",
       "1          1.201131        0.011296  ...              0.0              0.0   \n",
       "2         -0.840024        0.011296  ...              0.0              0.0   \n",
       "\n",
       "   VehicleYOM_2008  VehicleYOM_2009  VehicleYOM_2010  VehicleYOM_2011  \\\n",
       "0              0.0              0.0              0.0              0.0   \n",
       "1              1.0              0.0              0.0              0.0   \n",
       "2              0.0              0.0              0.0              0.0   \n",
       "\n",
       "   VehicleYOM_2012  VehicleYOM_2013  VehicleYOM_2014  VehicleYOM_2015  \n",
       "0              0.0              0.0              0.0              0.0  \n",
       "1              0.0              0.0              0.0              0.0  \n",
       "2              0.0              0.0              0.0              0.0  \n",
       "\n",
       "[3 rows x 156 columns]"
      ]
     },
     "execution_count": 121,
     "metadata": {},
     "output_type": "execute_result"
    }
   ],
   "source": [
    "X_test.head(3)"
   ]
  },
  {
   "cell_type": "code",
   "execution_count": 122,
   "id": "7a4cebb0",
   "metadata": {},
   "outputs": [
    {
     "data": {
      "text/plain": [
       "(20185, 156)"
      ]
     },
     "execution_count": 122,
     "metadata": {},
     "output_type": "execute_result"
    }
   ],
   "source": [
    "X_train.shape"
   ]
  },
  {
   "cell_type": "code",
   "execution_count": 123,
   "id": "6c1f8f52",
   "metadata": {},
   "outputs": [],
   "source": [
    "scores = pd.DataFrame(columns=['Model', 'Train_Recall', 'Train_Precision', 'Train_F1_Score', \n",
    "                               'Test_Recall', 'Test_Precision', 'Test_F1_Score'])\n",
    "\n",
    "def get_metrics(train_actual, train_predicted, test_actual, test_predicted, model_description, dataframe):\n",
    "\n",
    "    train_recall    = recall_score(train_actual, train_predicted, average=\"weighted\")\n",
    "    train_precision = precision_score(train_actual, train_predicted, average=\"weighted\")\n",
    "    train_f1score   = f1_score(train_actual, train_predicted, average=\"weighted\")\n",
    "    \n",
    "    test_recall     = recall_score(test_actual, test_predicted, average=\"weighted\")\n",
    "    test_precision  = precision_score(test_actual, test_predicted, average=\"weighted\")\n",
    "    test_f1score    = f1_score(test_actual, test_predicted, average=\"weighted\")\n",
    "\n",
    "    dataframe       = dataframe.append(pd.Series([model_description, \n",
    "                                                train_recall, train_precision, train_f1score,\n",
    "                                                test_recall, test_precision, test_f1score],\n",
    "                                                 index=scores.columns ), \n",
    "                                       ignore_index=True)\n",
    "\n",
    "    return(dataframe)"
   ]
  },
  {
   "cell_type": "code",
   "execution_count": 124,
   "id": "63a5dc40",
   "metadata": {},
   "outputs": [],
   "source": [
    "def classifcation_report_train_test(y_train, y_train_pred, y_test, y_test_pred):\n",
    "\n",
    "    print('''\n",
    "            =========================================\n",
    "               CLASSIFICATION REPORT FOR TRAIN DATA\n",
    "            =========================================\n",
    "            ''')\n",
    "    print(classification_report(y_train, y_train_pred, digits=4))\n",
    "\n",
    "    print('''\n",
    "            =========================================\n",
    "               CLASSIFICATION REPORT FOR TEST DATA\n",
    "            =========================================\n",
    "            ''')\n",
    "    print(classification_report(y_test, y_test_pred, digits=4))"
   ]
  },
  {
   "cell_type": "markdown",
   "id": "3332bc5c",
   "metadata": {},
   "source": [
    "# Logistic Regression"
   ]
  },
  {
   "cell_type": "code",
   "execution_count": 125,
   "id": "7cca6245",
   "metadata": {},
   "outputs": [],
   "source": [
    "from sklearn.linear_model import LogisticRegression"
   ]
  },
  {
   "cell_type": "code",
   "execution_count": 126,
   "id": "193e22bb",
   "metadata": {},
   "outputs": [],
   "source": [
    "logistic_model = LogisticRegression(solver='liblinear',random_state=1230)"
   ]
  },
  {
   "cell_type": "code",
   "execution_count": 127,
   "id": "cf6ac26a",
   "metadata": {},
   "outputs": [],
   "source": [
    "Model=logistic_model.fit(X_train,y_train)"
   ]
  },
  {
   "cell_type": "code",
   "execution_count": 128,
   "id": "9c1b7b9b",
   "metadata": {},
   "outputs": [],
   "source": [
    "y_train_Pred_log = logistic_model.predict(X_train)\n",
    "y_test_Pred_log = logistic_model.predict(X_test)"
   ]
  },
  {
   "cell_type": "code",
   "execution_count": 129,
   "id": "26effa92",
   "metadata": {},
   "outputs": [],
   "source": [
    "y_pred = logistic_model.predict(X_test)"
   ]
  },
  {
   "cell_type": "code",
   "execution_count": 130,
   "id": "7d8a66cd",
   "metadata": {},
   "outputs": [
    {
     "name": "stdout",
     "output_type": "stream",
     "text": [
      "[[5781  534]\n",
      " [1174 1162]]\n"
     ]
    }
   ],
   "source": [
    "from sklearn.metrics import confusion_matrix, accuracy_score\n",
    "cmr = confusion_matrix(y_test, y_pred)\n",
    "print(cmr)"
   ]
  },
  {
   "cell_type": "code",
   "execution_count": 131,
   "id": "54c28a0c",
   "metadata": {},
   "outputs": [
    {
     "name": "stdout",
     "output_type": "stream",
     "text": [
      "Confusion matrix\n",
      "\n",
      " [[5781  534]\n",
      " [1174 1162]]\n",
      "\n",
      "True Positives(TP) =  5781\n",
      "\n",
      "True Negatives(TN) =  1162\n",
      "\n",
      "False Positives(FP) =  534\n",
      "\n",
      "False Negatives(FN) =  1174\n"
     ]
    }
   ],
   "source": [
    "cm = confusion_matrix(y_test, y_pred)\n",
    "\n",
    "print('Confusion matrix\\n\\n', cm)\n",
    "\n",
    "\n",
    "print('\\nTrue Positives(TP) = ', cm[0,0])\n",
    "\n",
    "print('\\nTrue Negatives(TN) = ', cm[1,1])\n",
    "\n",
    "print('\\nFalse Positives(FP) = ', cm[0,1])\n",
    "\n",
    "print('\\nFalse Negatives(FN) = ', cm[1,0])"
   ]
  },
  {
   "cell_type": "code",
   "execution_count": 132,
   "id": "a4b621a1",
   "metadata": {},
   "outputs": [
    {
     "data": {
      "text/plain": [
       "0.706435468389028"
      ]
     },
     "execution_count": 132,
     "metadata": {},
     "output_type": "execute_result"
    }
   ],
   "source": [
    "from sklearn.metrics import roc_auc_score\n",
    "roc_auc_score(y_test, y_pred)"
   ]
  },
  {
   "cell_type": "code",
   "execution_count": 133,
   "id": "388aaf4f",
   "metadata": {},
   "outputs": [
    {
     "data": {
      "image/png": "[encoded data removed]",
      "text/plain": [
       "<Figure size 432x288 with 1 Axes>"
      ]
     },
     "metadata": {
      "needs_background": "light"
     },
     "output_type": "display_data"
    }
   ],
   "source": [
    "from sklearn.metrics import roc_auc_score\n",
    "from sklearn.metrics import roc_curve\n",
    "logit_roc_auc = roc_auc_score(y_test, logistic_model.predict(X_test))\n",
    "fpr, tpr, thresholds = roc_curve(y_test, logistic_model.predict_proba(X_test)[:, 1])\n",
    "plt.figure()\n",
    "plt.plot(fpr, tpr, label='Logistic Regression (area = %0.2f)' % logit_roc_auc)\n",
    "plt.plot([0, 1], [0, 1],'r--')\n",
    "plt.xlim([0.0, 1.0])\n",
    "plt.ylim([0.0, 1.05])\n",
    "plt.xlabel('False Positive Rate')\n",
    "plt.ylabel('True Positive Rate')\n",
    "plt.title('Receiver operating characteristic')\n",
    "plt.legend(loc=\"lower right\")\n",
    "plt.savefig('Log_ROC')\n",
    "plt.show()"
   ]
  },
  {
   "cell_type": "code",
   "execution_count": 134,
   "id": "7864a7f6",
   "metadata": {},
   "outputs": [
    {
     "name": "stdout",
     "output_type": "stream",
     "text": [
      "\n",
      "            =========================================\n",
      "               CLASSIFICATION REPORT FOR TRAIN DATA\n",
      "            =========================================\n",
      "            \n",
      "              precision    recall  f1-score   support\n",
      "\n",
      "           0     0.8281    0.9146    0.8692     14736\n",
      "           1     0.6783    0.4867    0.5667      5449\n",
      "\n",
      "    accuracy                         0.7991     20185\n",
      "   macro avg     0.7532    0.7007    0.7180     20185\n",
      "weighted avg     0.7877    0.7991    0.7876     20185\n",
      "\n",
      "\n",
      "            =========================================\n",
      "               CLASSIFICATION REPORT FOR TEST DATA\n",
      "            =========================================\n",
      "            \n",
      "              precision    recall  f1-score   support\n",
      "\n",
      "           0     0.8312    0.9154    0.8713      6315\n",
      "           1     0.6851    0.4974    0.5764      2336\n",
      "\n",
      "    accuracy                         0.8026      8651\n",
      "   macro avg     0.7582    0.7064    0.7238      8651\n",
      "weighted avg     0.7918    0.8026    0.7917      8651\n",
      "\n"
     ]
    }
   ],
   "source": [
    "classifcation_report_train_test(y_train, y_train_Pred_log, y_test, y_test_Pred_log)"
   ]
  },
  {
   "cell_type": "code",
   "execution_count": 135,
   "id": "2250d3cf",
   "metadata": {
    "scrolled": true
   },
   "outputs": [
    {
     "data": {
      "text/html": [
       "<div>\n",
       "<style scoped>\n",
       "    .dataframe tbody tr th:only-of-type {\n",
       "        vertical-align: middle;\n",
       "    }\n",
       "\n",
       "    .dataframe tbody tr th {\n",
       "        vertical-align: top;\n",
       "    }\n",
       "\n",
       "    .dataframe thead th {\n",
       "        text-align: right;\n",
       "    }\n",
       "</style>\n",
       "<table border=\"1\" class=\"dataframe\">\n",
       "  <thead>\n",
       "    <tr style=\"text-align: right;\">\n",
       "      <th></th>\n",
       "      <th>Model</th>\n",
       "      <th>Train_Recall</th>\n",
       "      <th>Train_Precision</th>\n",
       "      <th>Train_F1_Score</th>\n",
       "      <th>Test_Recall</th>\n",
       "      <th>Test_Precision</th>\n",
       "      <th>Test_F1_Score</th>\n",
       "    </tr>\n",
       "  </thead>\n",
       "  <tbody>\n",
       "    <tr>\n",
       "      <th>0</th>\n",
       "      <td>Logistic</td>\n",
       "      <td>0.799108</td>\n",
       "      <td>0.787681</td>\n",
       "      <td>0.787576</td>\n",
       "      <td>0.802566</td>\n",
       "      <td>0.791761</td>\n",
       "      <td>0.791658</td>\n",
       "    </tr>\n",
       "  </tbody>\n",
       "</table>\n",
       "</div>"
      ],
      "text/plain": [
       "      Model  Train_Recall  Train_Precision  Train_F1_Score  Test_Recall  \\\n",
       "0  Logistic      0.799108         0.787681        0.787576     0.802566   \n",
       "\n",
       "   Test_Precision  Test_F1_Score  \n",
       "0        0.791761       0.791658  "
      ]
     },
     "execution_count": 135,
     "metadata": {},
     "output_type": "execute_result"
    }
   ],
   "source": [
    "scores=get_metrics(y_train,y_train_Pred_log,y_test,y_test_Pred_log,\"Logistic\",scores)\n",
    "scores"
   ]
  },
  {
   "cell_type": "markdown",
   "id": "9a4f8fa2",
   "metadata": {},
   "source": [
    "# Lasso logistic regression"
   ]
  },
  {
   "cell_type": "code",
   "execution_count": 136,
   "id": "ec5e5224",
   "metadata": {},
   "outputs": [],
   "source": [
    "l1_model = LogisticRegression(penalty='l1', solver='saga')"
   ]
  },
  {
   "cell_type": "code",
   "execution_count": 137,
   "id": "40bb3035",
   "metadata": {},
   "outputs": [
    {
     "name": "stderr",
     "output_type": "stream",
     "text": [
      "C:\\Users\\M SHYAMA KRISHNA\\Anaconda3\\lib\\site-packages\\sklearn\\linear_model\\_sag.py:352: ConvergenceWarning: The max_iter was reached which means the coef_ did not converge\n",
      "  warnings.warn(\n"
     ]
    }
   ],
   "source": [
    "Model2=l1_model.fit(X_train,y_train)"
   ]
  },
  {
   "cell_type": "code",
   "execution_count": 138,
   "id": "383904d2",
   "metadata": {},
   "outputs": [],
   "source": [
    "y_train_Pred_log1 = l1_model.predict(X_train)\n",
    "y_test_Pred_log1 = l1_model.predict(X_test)"
   ]
  },
  {
   "cell_type": "code",
   "execution_count": 139,
   "id": "0046e466",
   "metadata": {},
   "outputs": [],
   "source": [
    "y_pred1 = l1_model.predict(X_test)"
   ]
  },
  {
   "cell_type": "code",
   "execution_count": 140,
   "id": "6e43f0da",
   "metadata": {},
   "outputs": [
    {
     "name": "stdout",
     "output_type": "stream",
     "text": [
      "[[5780  535]\n",
      " [1179 1157]]\n"
     ]
    }
   ],
   "source": [
    "from sklearn.metrics import confusion_matrix, accuracy_score\n",
    "cmr = confusion_matrix(y_test, y_pred1)\n",
    "print(cmr)"
   ]
  },
  {
   "cell_type": "code",
   "execution_count": 141,
   "id": "2bd780c6",
   "metadata": {},
   "outputs": [
    {
     "name": "stdout",
     "output_type": "stream",
     "text": [
      "Confusion matrix\n",
      "\n",
      " [[5780  535]\n",
      " [1179 1157]]\n",
      "\n",
      "True Positives(TP) =  5780\n",
      "\n",
      "True Negatives(TN) =  1157\n",
      "\n",
      "False Positives(FP) =  535\n",
      "\n",
      "False Negatives(FN) =  1179\n"
     ]
    }
   ],
   "source": [
    "cm = confusion_matrix(y_test, y_pred1)\n",
    "\n",
    "print('Confusion matrix\\n\\n', cm)\n",
    "\n",
    "\n",
    "print('\\nTrue Positives(TP) = ', cm[0,0])\n",
    "\n",
    "print('\\nTrue Negatives(TN) = ', cm[1,1])\n",
    "\n",
    "print('\\nFalse Positives(FP) = ', cm[0,1])\n",
    "\n",
    "print('\\nFalse Negatives(FN) = ', cm[1,0])"
   ]
  },
  {
   "cell_type": "code",
   "execution_count": 142,
   "id": "01907047",
   "metadata": {},
   "outputs": [
    {
     "data": {
      "text/plain": [
       "0.7052860863458389"
      ]
     },
     "execution_count": 142,
     "metadata": {},
     "output_type": "execute_result"
    }
   ],
   "source": [
    "from sklearn.metrics import roc_auc_score\n",
    "roc_auc_score(y_test, y_pred1)"
   ]
  },
  {
   "cell_type": "code",
   "execution_count": 143,
   "id": "f8f8a849",
   "metadata": {},
   "outputs": [
    {
     "data": {
      "image/png": "[encoded data removed]",
      "text/plain": [
       "<Figure size 432x288 with 1 Axes>"
      ]
     },
     "metadata": {
      "needs_background": "light"
     },
     "output_type": "display_data"
    }
   ],
   "source": [
    "from sklearn.metrics import roc_auc_score\n",
    "from sklearn.metrics import roc_curve\n",
    "logit_roc_auc = roc_auc_score(y_test, l1_model.predict(X_test))\n",
    "fpr, tpr, thresholds = roc_curve(y_test, l1_model.predict_proba(X_test)[:, 1])\n",
    "plt.figure()\n",
    "plt.plot(fpr, tpr, label='Logistic Regression (area = %0.2f)' % logit_roc_auc)\n",
    "plt.plot([0, 1], [0, 1],'r--')\n",
    "plt.xlim([0.0, 1.0])\n",
    "plt.ylim([0.0, 1.05])\n",
    "plt.xlabel('False Positive Rate')\n",
    "plt.ylabel('True Positive Rate')\n",
    "plt.title('Receiver operating characteristic')\n",
    "plt.legend(loc=\"lower right\")\n",
    "plt.savefig('Log_ROC')\n",
    "plt.show()"
   ]
  },
  {
   "cell_type": "code",
   "execution_count": 144,
   "id": "64314c7d",
   "metadata": {},
   "outputs": [
    {
     "name": "stdout",
     "output_type": "stream",
     "text": [
      "\n",
      "            =========================================\n",
      "               CLASSIFICATION REPORT FOR TRAIN DATA\n",
      "            =========================================\n",
      "            \n",
      "              precision    recall  f1-score   support\n",
      "\n",
      "           0     0.8285    0.9138    0.8691     14736\n",
      "           1     0.6770    0.4885    0.5675      5449\n",
      "\n",
      "    accuracy                         0.7990     20185\n",
      "   macro avg     0.7528    0.7012    0.7183     20185\n",
      "weighted avg     0.7876    0.7990    0.7877     20185\n",
      "\n",
      "\n",
      "            =========================================\n",
      "               CLASSIFICATION REPORT FOR TEST DATA\n",
      "            =========================================\n",
      "            \n",
      "              precision    recall  f1-score   support\n",
      "\n",
      "           0     0.8306    0.9153    0.8709      6315\n",
      "           1     0.6838    0.4953    0.5745      2336\n",
      "\n",
      "    accuracy                         0.8019      8651\n",
      "   macro avg     0.7572    0.7053    0.7227      8651\n",
      "weighted avg     0.7909    0.8019    0.7908      8651\n",
      "\n"
     ]
    }
   ],
   "source": [
    "classifcation_report_train_test(y_train, y_train_Pred_log1, y_test, y_test_Pred_log1)"
   ]
  },
  {
   "cell_type": "code",
   "execution_count": 145,
   "id": "39ef14d6",
   "metadata": {},
   "outputs": [
    {
     "data": {
      "text/html": [
       "<div>\n",
       "<style scoped>\n",
       "    .dataframe tbody tr th:only-of-type {\n",
       "        vertical-align: middle;\n",
       "    }\n",
       "\n",
       "    .dataframe tbody tr th {\n",
       "        vertical-align: top;\n",
       "    }\n",
       "\n",
       "    .dataframe thead th {\n",
       "        text-align: right;\n",
       "    }\n",
       "</style>\n",
       "<table border=\"1\" class=\"dataframe\">\n",
       "  <thead>\n",
       "    <tr style=\"text-align: right;\">\n",
       "      <th></th>\n",
       "      <th>Model</th>\n",
       "      <th>Train_Recall</th>\n",
       "      <th>Train_Precision</th>\n",
       "      <th>Train_F1_Score</th>\n",
       "      <th>Test_Recall</th>\n",
       "      <th>Test_Precision</th>\n",
       "      <th>Test_F1_Score</th>\n",
       "    </tr>\n",
       "  </thead>\n",
       "  <tbody>\n",
       "    <tr>\n",
       "      <th>0</th>\n",
       "      <td>Logistic</td>\n",
       "      <td>0.799108</td>\n",
       "      <td>0.787681</td>\n",
       "      <td>0.787576</td>\n",
       "      <td>0.802566</td>\n",
       "      <td>0.791761</td>\n",
       "      <td>0.791658</td>\n",
       "    </tr>\n",
       "    <tr>\n",
       "      <th>1</th>\n",
       "      <td>Lasso_LR</td>\n",
       "      <td>0.799009</td>\n",
       "      <td>0.787622</td>\n",
       "      <td>0.787678</td>\n",
       "      <td>0.801873</td>\n",
       "      <td>0.790947</td>\n",
       "      <td>0.790840</td>\n",
       "    </tr>\n",
       "  </tbody>\n",
       "</table>\n",
       "</div>"
      ],
      "text/plain": [
       "      Model  Train_Recall  Train_Precision  Train_F1_Score  Test_Recall  \\\n",
       "0  Logistic      0.799108         0.787681        0.787576     0.802566   \n",
       "1  Lasso_LR      0.799009         0.787622        0.787678     0.801873   \n",
       "\n",
       "   Test_Precision  Test_F1_Score  \n",
       "0        0.791761       0.791658  \n",
       "1        0.790947       0.790840  "
      ]
     },
     "execution_count": 145,
     "metadata": {},
     "output_type": "execute_result"
    }
   ],
   "source": [
    "scores=get_metrics(y_train,y_train_Pred_log1,y_test,y_test_Pred_log1,\"Lasso_LR\",scores)\n",
    "scores"
   ]
  },
  {
   "cell_type": "markdown",
   "id": "a0449217",
   "metadata": {},
   "source": [
    "# Ridge logistic regression"
   ]
  },
  {
   "cell_type": "code",
   "execution_count": 146,
   "id": "b721390e",
   "metadata": {},
   "outputs": [],
   "source": [
    "l2_model = LogisticRegression(penalty='l2', solver='saga')"
   ]
  },
  {
   "cell_type": "code",
   "execution_count": 147,
   "id": "70e1e279",
   "metadata": {},
   "outputs": [
    {
     "name": "stderr",
     "output_type": "stream",
     "text": [
      "C:\\Users\\M SHYAMA KRISHNA\\Anaconda3\\lib\\site-packages\\sklearn\\linear_model\\_sag.py:352: ConvergenceWarning: The max_iter was reached which means the coef_ did not converge\n",
      "  warnings.warn(\n"
     ]
    }
   ],
   "source": [
    "Model3=l2_model.fit(X_train,y_train)"
   ]
  },
  {
   "cell_type": "code",
   "execution_count": 148,
   "id": "00f4759e",
   "metadata": {},
   "outputs": [],
   "source": [
    "y_train_Pred_log2 = l2_model.predict(X_train)\n",
    "y_test_Pred_log2 = l2_model.predict(X_test)"
   ]
  },
  {
   "cell_type": "code",
   "execution_count": 149,
   "id": "d14d64f6",
   "metadata": {},
   "outputs": [],
   "source": [
    "y_pred2 = l1_model.predict(X_test)"
   ]
  },
  {
   "cell_type": "code",
   "execution_count": 150,
   "id": "691225e5",
   "metadata": {},
   "outputs": [
    {
     "name": "stdout",
     "output_type": "stream",
     "text": [
      "[[5780  535]\n",
      " [1179 1157]]\n"
     ]
    }
   ],
   "source": [
    "from sklearn.metrics import confusion_matrix, accuracy_score\n",
    "cmr = confusion_matrix(y_test, y_pred2)\n",
    "print(cmr)"
   ]
  },
  {
   "cell_type": "code",
   "execution_count": 151,
   "id": "74449066",
   "metadata": {},
   "outputs": [
    {
     "name": "stdout",
     "output_type": "stream",
     "text": [
      "Confusion matrix\n",
      "\n",
      " [[5780  535]\n",
      " [1179 1157]]\n",
      "\n",
      "True Positives(TP) =  5780\n",
      "\n",
      "True Negatives(TN) =  1157\n",
      "\n",
      "False Positives(FP) =  535\n",
      "\n",
      "False Negatives(FN) =  1179\n"
     ]
    }
   ],
   "source": [
    "cm = confusion_matrix(y_test, y_pred2)\n",
    "\n",
    "print('Confusion matrix\\n\\n', cm)\n",
    "\n",
    "\n",
    "print('\\nTrue Positives(TP) = ', cm[0,0])\n",
    "\n",
    "print('\\nTrue Negatives(TN) = ', cm[1,1])\n",
    "\n",
    "print('\\nFalse Positives(FP) = ', cm[0,1])\n",
    "\n",
    "print('\\nFalse Negatives(FN) = ', cm[1,0])"
   ]
  },
  {
   "cell_type": "code",
   "execution_count": 152,
   "id": "47d097aa",
   "metadata": {},
   "outputs": [
    {
     "data": {
      "text/plain": [
       "0.7052860863458389"
      ]
     },
     "execution_count": 152,
     "metadata": {},
     "output_type": "execute_result"
    }
   ],
   "source": [
    "from sklearn.metrics import roc_auc_score\n",
    "roc_auc_score(y_test, y_pred2)"
   ]
  },
  {
   "cell_type": "code",
   "execution_count": 153,
   "id": "f866c08b",
   "metadata": {},
   "outputs": [
    {
     "data": {
      "image/png": "[encoded data removed]",
      "text/plain": [
       "<Figure size 432x288 with 1 Axes>"
      ]
     },
     "metadata": {
      "needs_background": "light"
     },
     "output_type": "display_data"
    }
   ],
   "source": [
    "from sklearn.metrics import roc_auc_score\n",
    "from sklearn.metrics import roc_curve\n",
    "logit_roc_auc = roc_auc_score(y_test, l2_model.predict(X_test))\n",
    "fpr, tpr, thresholds = roc_curve(y_test, l2_model.predict_proba(X_test)[:, 1])\n",
    "plt.figure()\n",
    "plt.plot(fpr, tpr, label='Logistic Regression (area = %0.2f)' % logit_roc_auc)\n",
    "plt.plot([0, 1], [0, 1],'r--')\n",
    "plt.xlim([0.0, 1.0])\n",
    "plt.ylim([0.0, 1.05])\n",
    "plt.xlabel('False Positive Rate')\n",
    "plt.ylabel('True Positive Rate')\n",
    "plt.title('Receiver operating characteristic')\n",
    "plt.legend(loc=\"lower right\")\n",
    "plt.savefig('Log_ROC')\n",
    "plt.show()"
   ]
  },
  {
   "cell_type": "code",
   "execution_count": 154,
   "id": "2821de29",
   "metadata": {},
   "outputs": [
    {
     "name": "stdout",
     "output_type": "stream",
     "text": [
      "\n",
      "            =========================================\n",
      "               CLASSIFICATION REPORT FOR TRAIN DATA\n",
      "            =========================================\n",
      "            \n",
      "              precision    recall  f1-score   support\n",
      "\n",
      "           0     0.8280    0.9146    0.8692     14736\n",
      "           1     0.6781    0.4863    0.5664      5449\n",
      "\n",
      "    accuracy                         0.7990     20185\n",
      "   macro avg     0.7531    0.7005    0.7178     20185\n",
      "weighted avg     0.7876    0.7990    0.7875     20185\n",
      "\n",
      "\n",
      "            =========================================\n",
      "               CLASSIFICATION REPORT FOR TEST DATA\n",
      "            =========================================\n",
      "            \n",
      "              precision    recall  f1-score   support\n",
      "\n",
      "           0     0.8311    0.9156    0.8713      6315\n",
      "           1     0.6854    0.4970    0.5762      2336\n",
      "\n",
      "    accuracy                         0.8026      8651\n",
      "   macro avg     0.7582    0.7063    0.7237      8651\n",
      "weighted avg     0.7918    0.8026    0.7916      8651\n",
      "\n"
     ]
    }
   ],
   "source": [
    "classifcation_report_train_test(y_train, y_train_Pred_log2, y_test, y_test_Pred_log2)"
   ]
  },
  {
   "cell_type": "code",
   "execution_count": 155,
   "id": "c284717f",
   "metadata": {
    "scrolled": true
   },
   "outputs": [
    {
     "data": {
      "text/html": [
       "<div>\n",
       "<style scoped>\n",
       "    .dataframe tbody tr th:only-of-type {\n",
       "        vertical-align: middle;\n",
       "    }\n",
       "\n",
       "    .dataframe tbody tr th {\n",
       "        vertical-align: top;\n",
       "    }\n",
       "\n",
       "    .dataframe thead th {\n",
       "        text-align: right;\n",
       "    }\n",
       "</style>\n",
       "<table border=\"1\" class=\"dataframe\">\n",
       "  <thead>\n",
       "    <tr style=\"text-align: right;\">\n",
       "      <th></th>\n",
       "      <th>Model</th>\n",
       "      <th>Train_Recall</th>\n",
       "      <th>Train_Precision</th>\n",
       "      <th>Train_F1_Score</th>\n",
       "      <th>Test_Recall</th>\n",
       "      <th>Test_Precision</th>\n",
       "      <th>Test_F1_Score</th>\n",
       "    </tr>\n",
       "  </thead>\n",
       "  <tbody>\n",
       "    <tr>\n",
       "      <th>0</th>\n",
       "      <td>Logistic</td>\n",
       "      <td>0.799108</td>\n",
       "      <td>0.787681</td>\n",
       "      <td>0.787576</td>\n",
       "      <td>0.802566</td>\n",
       "      <td>0.791761</td>\n",
       "      <td>0.791658</td>\n",
       "    </tr>\n",
       "    <tr>\n",
       "      <th>1</th>\n",
       "      <td>Lasso_LR</td>\n",
       "      <td>0.799009</td>\n",
       "      <td>0.787622</td>\n",
       "      <td>0.787678</td>\n",
       "      <td>0.801873</td>\n",
       "      <td>0.790947</td>\n",
       "      <td>0.790840</td>\n",
       "    </tr>\n",
       "    <tr>\n",
       "      <th>2</th>\n",
       "      <td>Ridge_LR</td>\n",
       "      <td>0.799009</td>\n",
       "      <td>0.787562</td>\n",
       "      <td>0.787452</td>\n",
       "      <td>0.802566</td>\n",
       "      <td>0.791750</td>\n",
       "      <td>0.791615</td>\n",
       "    </tr>\n",
       "  </tbody>\n",
       "</table>\n",
       "</div>"
      ],
      "text/plain": [
       "      Model  Train_Recall  Train_Precision  Train_F1_Score  Test_Recall  \\\n",
       "0  Logistic      0.799108         0.787681        0.787576     0.802566   \n",
       "1  Lasso_LR      0.799009         0.787622        0.787678     0.801873   \n",
       "2  Ridge_LR      0.799009         0.787562        0.787452     0.802566   \n",
       "\n",
       "   Test_Precision  Test_F1_Score  \n",
       "0        0.791761       0.791658  \n",
       "1        0.790947       0.790840  \n",
       "2        0.791750       0.791615  "
      ]
     },
     "execution_count": 155,
     "metadata": {},
     "output_type": "execute_result"
    }
   ],
   "source": [
    "scores=get_metrics(y_train,y_train_Pred_log2,y_test,y_test_Pred_log2,\"Ridge_LR\",scores)\n",
    "scores"
   ]
  },
  {
   "cell_type": "markdown",
   "id": "18454362",
   "metadata": {},
   "source": [
    "##### RANDOM FOREST"
   ]
  },
  {
   "cell_type": "code",
   "execution_count": 156,
   "id": "6f16b493",
   "metadata": {},
   "outputs": [],
   "source": [
    "rf = RandomForestClassifier()"
   ]
  },
  {
   "cell_type": "code",
   "execution_count": 157,
   "id": "b4e1e2f2",
   "metadata": {},
   "outputs": [
    {
     "data": {
      "text/plain": [
       "RandomForestClassifier()"
      ]
     },
     "execution_count": 157,
     "metadata": {},
     "output_type": "execute_result"
    }
   ],
   "source": [
    "rf.fit(X=X_train, y=y_train)"
   ]
  },
  {
   "cell_type": "code",
   "execution_count": 158,
   "id": "5e1da926",
   "metadata": {},
   "outputs": [],
   "source": [
    "y_pred_train = rf.predict(X_train)\n",
    "y_pred_test = rf.predict(X_test)"
   ]
  },
  {
   "cell_type": "code",
   "execution_count": 159,
   "id": "53e5c6fd",
   "metadata": {},
   "outputs": [
    {
     "name": "stdout",
     "output_type": "stream",
     "text": [
      "\n",
      "            =========================================\n",
      "               CLASSIFICATION REPORT FOR TRAIN DATA\n",
      "            =========================================\n",
      "            \n",
      "              precision    recall  f1-score   support\n",
      "\n",
      "           0     1.0000    1.0000    1.0000     14736\n",
      "           1     1.0000    1.0000    1.0000      5449\n",
      "\n",
      "    accuracy                         1.0000     20185\n",
      "   macro avg     1.0000    1.0000    1.0000     20185\n",
      "weighted avg     1.0000    1.0000    1.0000     20185\n",
      "\n",
      "\n",
      "            =========================================\n",
      "               CLASSIFICATION REPORT FOR TEST DATA\n",
      "            =========================================\n",
      "            \n",
      "              precision    recall  f1-score   support\n",
      "\n",
      "           0     0.9135    0.9762    0.9438      6315\n",
      "           1     0.9211    0.7500    0.8268      2336\n",
      "\n",
      "    accuracy                         0.9152      8651\n",
      "   macro avg     0.9173    0.8631    0.8853      8651\n",
      "weighted avg     0.9155    0.9152    0.9122      8651\n",
      "\n"
     ]
    }
   ],
   "source": [
    "classifcation_report_train_test(y_train, y_pred_train, y_test, y_pred_test)"
   ]
  },
  {
   "cell_type": "code",
   "execution_count": 160,
   "id": "efca4c23",
   "metadata": {
    "scrolled": false
   },
   "outputs": [
    {
     "data": {
      "text/html": [
       "<div>\n",
       "<style scoped>\n",
       "    .dataframe tbody tr th:only-of-type {\n",
       "        vertical-align: middle;\n",
       "    }\n",
       "\n",
       "    .dataframe tbody tr th {\n",
       "        vertical-align: top;\n",
       "    }\n",
       "\n",
       "    .dataframe thead th {\n",
       "        text-align: right;\n",
       "    }\n",
       "</style>\n",
       "<table border=\"1\" class=\"dataframe\">\n",
       "  <thead>\n",
       "    <tr style=\"text-align: right;\">\n",
       "      <th></th>\n",
       "      <th>Model</th>\n",
       "      <th>Train_Recall</th>\n",
       "      <th>Train_Precision</th>\n",
       "      <th>Train_F1_Score</th>\n",
       "      <th>Test_Recall</th>\n",
       "      <th>Test_Precision</th>\n",
       "      <th>Test_F1_Score</th>\n",
       "    </tr>\n",
       "  </thead>\n",
       "  <tbody>\n",
       "    <tr>\n",
       "      <th>0</th>\n",
       "      <td>Logistic</td>\n",
       "      <td>0.799108</td>\n",
       "      <td>0.787681</td>\n",
       "      <td>0.787576</td>\n",
       "      <td>0.802566</td>\n",
       "      <td>0.791761</td>\n",
       "      <td>0.791658</td>\n",
       "    </tr>\n",
       "    <tr>\n",
       "      <th>1</th>\n",
       "      <td>Lasso_LR</td>\n",
       "      <td>0.799009</td>\n",
       "      <td>0.787622</td>\n",
       "      <td>0.787678</td>\n",
       "      <td>0.801873</td>\n",
       "      <td>0.790947</td>\n",
       "      <td>0.790840</td>\n",
       "    </tr>\n",
       "    <tr>\n",
       "      <th>2</th>\n",
       "      <td>Ridge_LR</td>\n",
       "      <td>0.799009</td>\n",
       "      <td>0.787562</td>\n",
       "      <td>0.787452</td>\n",
       "      <td>0.802566</td>\n",
       "      <td>0.791750</td>\n",
       "      <td>0.791615</td>\n",
       "    </tr>\n",
       "    <tr>\n",
       "      <th>3</th>\n",
       "      <td>RandomForest</td>\n",
       "      <td>1.000000</td>\n",
       "      <td>1.000000</td>\n",
       "      <td>1.000000</td>\n",
       "      <td>0.915154</td>\n",
       "      <td>0.915539</td>\n",
       "      <td>0.912219</td>\n",
       "    </tr>\n",
       "  </tbody>\n",
       "</table>\n",
       "</div>"
      ],
      "text/plain": [
       "          Model  Train_Recall  Train_Precision  Train_F1_Score  Test_Recall  \\\n",
       "0      Logistic      0.799108         0.787681        0.787576     0.802566   \n",
       "1      Lasso_LR      0.799009         0.787622        0.787678     0.801873   \n",
       "2      Ridge_LR      0.799009         0.787562        0.787452     0.802566   \n",
       "3  RandomForest      1.000000         1.000000        1.000000     0.915154   \n",
       "\n",
       "   Test_Precision  Test_F1_Score  \n",
       "0        0.791761       0.791658  \n",
       "1        0.790947       0.790840  \n",
       "2        0.791750       0.791615  \n",
       "3        0.915539       0.912219  "
      ]
     },
     "execution_count": 160,
     "metadata": {},
     "output_type": "execute_result"
    }
   ],
   "source": [
    "scores = get_metrics(y_train, y_pred_train, y_test, y_pred_test, \"RandomForest\", scores)\n",
    "scores"
   ]
  },
  {
   "cell_type": "markdown",
   "id": "0bf63232",
   "metadata": {},
   "source": [
    "#### XG-BOOST"
   ]
  },
  {
   "cell_type": "code",
   "execution_count": 161,
   "id": "5766ac63",
   "metadata": {},
   "outputs": [
    {
     "name": "stdout",
     "output_type": "stream",
     "text": [
      "Requirement already satisfied: xgboost in c:\\users\\m shyama krishna\\anaconda3\\lib\\site-packages (1.6.1)\n",
      "Requirement already satisfied: numpy in c:\\users\\m shyama krishna\\anaconda3\\lib\\site-packages (from xgboost) (1.20.3)\n",
      "Requirement already satisfied: scipy in c:\\users\\m shyama krishna\\anaconda3\\lib\\site-packages (from xgboost) (1.7.1)\n"
     ]
    }
   ],
   "source": [
    "!pip install xgboost"
   ]
  },
  {
   "cell_type": "code",
   "execution_count": 162,
   "id": "085b7707",
   "metadata": {},
   "outputs": [],
   "source": [
    "from xgboost import XGBClassifier"
   ]
  },
  {
   "cell_type": "code",
   "execution_count": 163,
   "id": "e4edaf6c",
   "metadata": {},
   "outputs": [],
   "source": [
    "xgb = XGBClassifier()"
   ]
  },
  {
   "cell_type": "code",
   "execution_count": 164,
   "id": "5543ac0f",
   "metadata": {},
   "outputs": [
    {
     "data": {
      "text/plain": [
       "XGBClassifier(base_score=0.5, booster='gbtree', callbacks=None,\n",
       "              colsample_bylevel=1, colsample_bynode=1, colsample_bytree=1,\n",
       "              early_stopping_rounds=None, enable_categorical=False,\n",
       "              eval_metric=None, gamma=0, gpu_id=-1, grow_policy='depthwise',\n",
       "              importance_type=None, interaction_constraints='',\n",
       "              learning_rate=0.300000012, max_bin=256, max_cat_to_onehot=4,\n",
       "              max_delta_step=0, max_depth=6, max_leaves=0, min_child_weight=1,\n",
       "              missing=nan, monotone_constraints='()', n_estimators=100,\n",
       "              n_jobs=0, num_parallel_tree=1, predictor='auto', random_state=0,\n",
       "              reg_alpha=0, reg_lambda=1, ...)"
      ]
     },
     "execution_count": 164,
     "metadata": {},
     "output_type": "execute_result"
    }
   ],
   "source": [
    "xgb.fit(X_train, y_train)"
   ]
  },
  {
   "cell_type": "code",
   "execution_count": 165,
   "id": "6700d953",
   "metadata": {},
   "outputs": [],
   "source": [
    "y_pred_train_xg = xgb.predict(X_train)\n",
    "y_pred_test_xg= xgb.predict(X_test)"
   ]
  },
  {
   "cell_type": "code",
   "execution_count": 166,
   "id": "68494d6b",
   "metadata": {},
   "outputs": [
    {
     "name": "stdout",
     "output_type": "stream",
     "text": [
      "\n",
      "            =========================================\n",
      "               CLASSIFICATION REPORT FOR TRAIN DATA\n",
      "            =========================================\n",
      "            \n",
      "              precision    recall  f1-score   support\n",
      "\n",
      "           0     0.9490    0.9875    0.9679     14736\n",
      "           1     0.9621    0.8565    0.9062      5449\n",
      "\n",
      "    accuracy                         0.9521     20185\n",
      "   macro avg     0.9555    0.9220    0.9370     20185\n",
      "weighted avg     0.9525    0.9521    0.9512     20185\n",
      "\n",
      "\n",
      "            =========================================\n",
      "               CLASSIFICATION REPORT FOR TEST DATA\n",
      "            =========================================\n",
      "            \n",
      "              precision    recall  f1-score   support\n",
      "\n",
      "           0     0.9210    0.9656    0.9428      6315\n",
      "           1     0.8931    0.7761    0.8305      2336\n",
      "\n",
      "    accuracy                         0.9145      8651\n",
      "   macro avg     0.9071    0.8709    0.8867      8651\n",
      "weighted avg     0.9135    0.9145    0.9125      8651\n",
      "\n"
     ]
    }
   ],
   "source": [
    "classifcation_report_train_test(y_train, y_pred_train_xg, y_test, y_pred_test_xg)"
   ]
  },
  {
   "cell_type": "code",
   "execution_count": 167,
   "id": "76c7df45",
   "metadata": {},
   "outputs": [
    {
     "data": {
      "text/html": [
       "<div>\n",
       "<style scoped>\n",
       "    .dataframe tbody tr th:only-of-type {\n",
       "        vertical-align: middle;\n",
       "    }\n",
       "\n",
       "    .dataframe tbody tr th {\n",
       "        vertical-align: top;\n",
       "    }\n",
       "\n",
       "    .dataframe thead th {\n",
       "        text-align: right;\n",
       "    }\n",
       "</style>\n",
       "<table border=\"1\" class=\"dataframe\">\n",
       "  <thead>\n",
       "    <tr style=\"text-align: right;\">\n",
       "      <th></th>\n",
       "      <th>Model</th>\n",
       "      <th>Train_Recall</th>\n",
       "      <th>Train_Precision</th>\n",
       "      <th>Train_F1_Score</th>\n",
       "      <th>Test_Recall</th>\n",
       "      <th>Test_Precision</th>\n",
       "      <th>Test_F1_Score</th>\n",
       "    </tr>\n",
       "  </thead>\n",
       "  <tbody>\n",
       "    <tr>\n",
       "      <th>0</th>\n",
       "      <td>Logistic</td>\n",
       "      <td>0.799108</td>\n",
       "      <td>0.787681</td>\n",
       "      <td>0.787576</td>\n",
       "      <td>0.802566</td>\n",
       "      <td>0.791761</td>\n",
       "      <td>0.791658</td>\n",
       "    </tr>\n",
       "    <tr>\n",
       "      <th>1</th>\n",
       "      <td>Lasso_LR</td>\n",
       "      <td>0.799009</td>\n",
       "      <td>0.787622</td>\n",
       "      <td>0.787678</td>\n",
       "      <td>0.801873</td>\n",
       "      <td>0.790947</td>\n",
       "      <td>0.790840</td>\n",
       "    </tr>\n",
       "    <tr>\n",
       "      <th>2</th>\n",
       "      <td>Ridge_LR</td>\n",
       "      <td>0.799009</td>\n",
       "      <td>0.787562</td>\n",
       "      <td>0.787452</td>\n",
       "      <td>0.802566</td>\n",
       "      <td>0.791750</td>\n",
       "      <td>0.791615</td>\n",
       "    </tr>\n",
       "    <tr>\n",
       "      <th>3</th>\n",
       "      <td>RandomForest</td>\n",
       "      <td>1.000000</td>\n",
       "      <td>1.000000</td>\n",
       "      <td>1.000000</td>\n",
       "      <td>0.915154</td>\n",
       "      <td>0.915539</td>\n",
       "      <td>0.912219</td>\n",
       "    </tr>\n",
       "    <tr>\n",
       "      <th>4</th>\n",
       "      <td>Xgboost</td>\n",
       "      <td>0.952143</td>\n",
       "      <td>0.952530</td>\n",
       "      <td>0.951229</td>\n",
       "      <td>0.914461</td>\n",
       "      <td>0.913474</td>\n",
       "      <td>0.912475</td>\n",
       "    </tr>\n",
       "  </tbody>\n",
       "</table>\n",
       "</div>"
      ],
      "text/plain": [
       "          Model  Train_Recall  Train_Precision  Train_F1_Score  Test_Recall  \\\n",
       "0      Logistic      0.799108         0.787681        0.787576     0.802566   \n",
       "1      Lasso_LR      0.799009         0.787622        0.787678     0.801873   \n",
       "2      Ridge_LR      0.799009         0.787562        0.787452     0.802566   \n",
       "3  RandomForest      1.000000         1.000000        1.000000     0.915154   \n",
       "4       Xgboost      0.952143         0.952530        0.951229     0.914461   \n",
       "\n",
       "   Test_Precision  Test_F1_Score  \n",
       "0        0.791761       0.791658  \n",
       "1        0.790947       0.790840  \n",
       "2        0.791750       0.791615  \n",
       "3        0.915539       0.912219  \n",
       "4        0.913474       0.912475  "
      ]
     },
     "execution_count": 167,
     "metadata": {},
     "output_type": "execute_result"
    }
   ],
   "source": [
    "scores = get_metrics(y_train, y_pred_train_xg, y_test, y_pred_test_xg, \"Xgboost\", scores)\n",
    "scores"
   ]
  },
  {
   "cell_type": "code",
   "execution_count": null,
   "id": "eae36933",
   "metadata": {},
   "outputs": [],
   "source": []
  },
  {
   "cell_type": "code",
   "execution_count": 168,
   "id": "8c893af8",
   "metadata": {},
   "outputs": [],
   "source": [
    "XGB = XGBClassifier(n_jobs=-1)\n",
    " \n",
    "# Use a grid over parameters of interest\n",
    "param_grid = {\n",
    "    'colsample_bytree': np.linspace(0.6, 0.8, 2),\n",
    "    'n_estimators': [50, 100],\n",
    "    'max_depth': [5, 6]}\n",
    "\n",
    "CV_XGB = GridSearchCV(estimator=XGB, param_grid=param_grid, cv=3)"
   ]
  },
  {
   "cell_type": "code",
   "execution_count": 169,
   "id": "f6f03e13",
   "metadata": {},
   "outputs": [
    {
     "data": {
      "text/plain": [
       "GridSearchCV(cv=3,\n",
       "             estimator=XGBClassifier(base_score=None, booster=None,\n",
       "                                     callbacks=None, colsample_bylevel=None,\n",
       "                                     colsample_bynode=None,\n",
       "                                     colsample_bytree=None,\n",
       "                                     early_stopping_rounds=None,\n",
       "                                     enable_categorical=False, eval_metric=None,\n",
       "                                     gamma=None, gpu_id=None, grow_policy=None,\n",
       "                                     importance_type=None,\n",
       "                                     interaction_constraints=None,\n",
       "                                     learning_rate=None, max_bin=None,\n",
       "                                     max_cat_to_onehot=None,\n",
       "                                     max_delta_step=None, max_depth=None,\n",
       "                                     max_leaves=None, min_child_weight=None,\n",
       "                                     missing=nan, monotone_constraints=None,\n",
       "                                     n_estimators=100, n_jobs=-1,\n",
       "                                     num_parallel_tree=None, predictor=None,\n",
       "                                     random_state=None, reg_alpha=None,\n",
       "                                     reg_lambda=None, ...),\n",
       "             param_grid={'colsample_bytree': array([0.6, 0.8]),\n",
       "                         'max_depth': [5, 6], 'n_estimators': [50, 100]})"
      ]
     },
     "execution_count": 169,
     "metadata": {},
     "output_type": "execute_result"
    }
   ],
   "source": [
    "CV_XGB.fit(X=X_train, y=y_train)"
   ]
  },
  {
   "cell_type": "code",
   "execution_count": 170,
   "id": "0f448cd1",
   "metadata": {},
   "outputs": [],
   "source": [
    "# find the best model"
   ]
  },
  {
   "cell_type": "code",
   "execution_count": 171,
   "id": "c4d20fd8",
   "metadata": {},
   "outputs": [],
   "source": [
    "best_xgb_model = CV_XGB.best_estimator_"
   ]
  },
  {
   "cell_type": "code",
   "execution_count": 172,
   "id": "2e75c4f5",
   "metadata": {},
   "outputs": [
    {
     "name": "stdout",
     "output_type": "stream",
     "text": [
      "0.9026007542910174 {'colsample_bytree': 0.6, 'max_depth': 6, 'n_estimators': 100}\n"
     ]
    }
   ],
   "source": [
    "print(CV_XGB.best_score_, CV_XGB.best_params_)"
   ]
  },
  {
   "cell_type": "code",
   "execution_count": 173,
   "id": "a7b04cd3",
   "metadata": {},
   "outputs": [],
   "source": [
    "# best_xgb_model"
   ]
  },
  {
   "cell_type": "code",
   "execution_count": 174,
   "id": "205f68a2",
   "metadata": {},
   "outputs": [],
   "source": [
    "y_pred_train_xgv = best_xgb_model.predict(X_train)\n",
    "y_pred_test_xgv = best_xgb_model.predict(X_test)"
   ]
  },
  {
   "cell_type": "code",
   "execution_count": 175,
   "id": "782edd39",
   "metadata": {},
   "outputs": [
    {
     "name": "stdout",
     "output_type": "stream",
     "text": [
      "\n",
      "            =========================================\n",
      "               CLASSIFICATION REPORT FOR TRAIN DATA\n",
      "            =========================================\n",
      "            \n",
      "              precision    recall  f1-score   support\n",
      "\n",
      "           0     0.9461    0.9860    0.9657     14736\n",
      "           1     0.9573    0.8482    0.8995      5449\n",
      "\n",
      "    accuracy                         0.9488     20185\n",
      "   macro avg     0.9517    0.9171    0.9326     20185\n",
      "weighted avg     0.9492    0.9488    0.9478     20185\n",
      "\n",
      "\n",
      "            =========================================\n",
      "               CLASSIFICATION REPORT FOR TEST DATA\n",
      "            =========================================\n",
      "            \n",
      "              precision    recall  f1-score   support\n",
      "\n",
      "           0     0.9149    0.9634    0.9385      6315\n",
      "           1     0.8846    0.7577    0.8162      2336\n",
      "\n",
      "    accuracy                         0.9079      8651\n",
      "   macro avg     0.8997    0.8606    0.8774      8651\n",
      "weighted avg     0.9067    0.9079    0.9055      8651\n",
      "\n"
     ]
    }
   ],
   "source": [
    "classifcation_report_train_test(y_train, y_pred_train_xgv, y_test, y_pred_test_xgv)"
   ]
  },
  {
   "cell_type": "code",
   "execution_count": 176,
   "id": "8c1fa402",
   "metadata": {},
   "outputs": [
    {
     "data": {
      "text/html": [
       "<div>\n",
       "<style scoped>\n",
       "    .dataframe tbody tr th:only-of-type {\n",
       "        vertical-align: middle;\n",
       "    }\n",
       "\n",
       "    .dataframe tbody tr th {\n",
       "        vertical-align: top;\n",
       "    }\n",
       "\n",
       "    .dataframe thead th {\n",
       "        text-align: right;\n",
       "    }\n",
       "</style>\n",
       "<table border=\"1\" class=\"dataframe\">\n",
       "  <thead>\n",
       "    <tr style=\"text-align: right;\">\n",
       "      <th></th>\n",
       "      <th>Model</th>\n",
       "      <th>Train_Recall</th>\n",
       "      <th>Train_Precision</th>\n",
       "      <th>Train_F1_Score</th>\n",
       "      <th>Test_Recall</th>\n",
       "      <th>Test_Precision</th>\n",
       "      <th>Test_F1_Score</th>\n",
       "    </tr>\n",
       "  </thead>\n",
       "  <tbody>\n",
       "    <tr>\n",
       "      <th>0</th>\n",
       "      <td>Logistic</td>\n",
       "      <td>0.799108</td>\n",
       "      <td>0.787681</td>\n",
       "      <td>0.787576</td>\n",
       "      <td>0.802566</td>\n",
       "      <td>0.791761</td>\n",
       "      <td>0.791658</td>\n",
       "    </tr>\n",
       "    <tr>\n",
       "      <th>1</th>\n",
       "      <td>Lasso_LR</td>\n",
       "      <td>0.799009</td>\n",
       "      <td>0.787622</td>\n",
       "      <td>0.787678</td>\n",
       "      <td>0.801873</td>\n",
       "      <td>0.790947</td>\n",
       "      <td>0.790840</td>\n",
       "    </tr>\n",
       "    <tr>\n",
       "      <th>2</th>\n",
       "      <td>Ridge_LR</td>\n",
       "      <td>0.799009</td>\n",
       "      <td>0.787562</td>\n",
       "      <td>0.787452</td>\n",
       "      <td>0.802566</td>\n",
       "      <td>0.791750</td>\n",
       "      <td>0.791615</td>\n",
       "    </tr>\n",
       "    <tr>\n",
       "      <th>3</th>\n",
       "      <td>RandomForest</td>\n",
       "      <td>1.000000</td>\n",
       "      <td>1.000000</td>\n",
       "      <td>1.000000</td>\n",
       "      <td>0.915154</td>\n",
       "      <td>0.915539</td>\n",
       "      <td>0.912219</td>\n",
       "    </tr>\n",
       "    <tr>\n",
       "      <th>4</th>\n",
       "      <td>Xgboost</td>\n",
       "      <td>0.952143</td>\n",
       "      <td>0.952530</td>\n",
       "      <td>0.951229</td>\n",
       "      <td>0.914461</td>\n",
       "      <td>0.913474</td>\n",
       "      <td>0.912475</td>\n",
       "    </tr>\n",
       "    <tr>\n",
       "      <th>5</th>\n",
       "      <td>XGBoostGV</td>\n",
       "      <td>0.948823</td>\n",
       "      <td>0.949167</td>\n",
       "      <td>0.947805</td>\n",
       "      <td>0.907872</td>\n",
       "      <td>0.906697</td>\n",
       "      <td>0.905504</td>\n",
       "    </tr>\n",
       "  </tbody>\n",
       "</table>\n",
       "</div>"
      ],
      "text/plain": [
       "          Model  Train_Recall  Train_Precision  Train_F1_Score  Test_Recall  \\\n",
       "0      Logistic      0.799108         0.787681        0.787576     0.802566   \n",
       "1      Lasso_LR      0.799009         0.787622        0.787678     0.801873   \n",
       "2      Ridge_LR      0.799009         0.787562        0.787452     0.802566   \n",
       "3  RandomForest      1.000000         1.000000        1.000000     0.915154   \n",
       "4       Xgboost      0.952143         0.952530        0.951229     0.914461   \n",
       "5     XGBoostGV      0.948823         0.949167        0.947805     0.907872   \n",
       "\n",
       "   Test_Precision  Test_F1_Score  \n",
       "0        0.791761       0.791658  \n",
       "1        0.790947       0.790840  \n",
       "2        0.791750       0.791615  \n",
       "3        0.915539       0.912219  \n",
       "4        0.913474       0.912475  \n",
       "5        0.906697       0.905504  "
      ]
     },
     "execution_count": 176,
     "metadata": {},
     "output_type": "execute_result"
    }
   ],
   "source": [
    "scores = get_metrics(y_train, y_pred_train_xgv, y_test, y_pred_test_xgv, \"XGBoostGV\", scores)\n",
    "scores"
   ]
  },
  {
   "cell_type": "code",
   "execution_count": 177,
   "id": "6ce7e424",
   "metadata": {},
   "outputs": [],
   "source": [
    "#random forest,knn,xgboost,"
   ]
  },
  {
   "cell_type": "markdown",
   "id": "752866cf",
   "metadata": {},
   "source": [
    "##### KNN "
   ]
  },
  {
   "cell_type": "code",
   "execution_count": 178,
   "id": "98b9a949",
   "metadata": {},
   "outputs": [],
   "source": [
    "from sklearn.neighbors import KNeighborsClassifier"
   ]
  },
  {
   "cell_type": "code",
   "execution_count": 179,
   "id": "55622e3c",
   "metadata": {},
   "outputs": [
    {
     "data": {
      "text/plain": [
       "KNeighborsClassifier()"
      ]
     },
     "execution_count": 179,
     "metadata": {},
     "output_type": "execute_result"
    }
   ],
   "source": [
    "model_knn= KNeighborsClassifier(n_neighbors=5)  #n_neighbors=5 (By default)\n",
    "model_knn.fit(X_train,y_train)"
   ]
  },
  {
   "cell_type": "code",
   "execution_count": 180,
   "id": "815459a7",
   "metadata": {},
   "outputs": [],
   "source": [
    "y_train_pred_knn = model_knn.predict(X_train)\n",
    "y_test_pred_knn  = model_knn.predict(X_test)"
   ]
  },
  {
   "cell_type": "code",
   "execution_count": 181,
   "id": "5d97be88",
   "metadata": {},
   "outputs": [
    {
     "name": "stdout",
     "output_type": "stream",
     "text": [
      "\n",
      "            =========================================\n",
      "               CLASSIFICATION REPORT FOR TRAIN DATA\n",
      "            =========================================\n",
      "            \n",
      "              precision    recall  f1-score   support\n",
      "\n",
      "           0     0.9416    0.9806    0.9607     14736\n",
      "           1     0.9409    0.8354    0.8850      5449\n",
      "\n",
      "    accuracy                         0.9414     20185\n",
      "   macro avg     0.9412    0.9080    0.9228     20185\n",
      "weighted avg     0.9414    0.9414    0.9402     20185\n",
      "\n",
      "\n",
      "            =========================================\n",
      "               CLASSIFICATION REPORT FOR TEST DATA\n",
      "            =========================================\n",
      "            \n",
      "              precision    recall  f1-score   support\n",
      "\n",
      "           0     0.9386    0.9762    0.9571      6315\n",
      "           1     0.9280    0.8275    0.8749      2336\n",
      "\n",
      "    accuracy                         0.9361      8651\n",
      "   macro avg     0.9333    0.9019    0.9160      8651\n",
      "weighted avg     0.9358    0.9361    0.9349      8651\n",
      "\n"
     ]
    }
   ],
   "source": [
    "classifcation_report_train_test(y_train, y_train_pred_knn, y_test, y_test_pred_knn)"
   ]
  },
  {
   "cell_type": "code",
   "execution_count": 182,
   "id": "cc5e7f88",
   "metadata": {},
   "outputs": [
    {
     "data": {
      "text/html": [
       "<div>\n",
       "<style scoped>\n",
       "    .dataframe tbody tr th:only-of-type {\n",
       "        vertical-align: middle;\n",
       "    }\n",
       "\n",
       "    .dataframe tbody tr th {\n",
       "        vertical-align: top;\n",
       "    }\n",
       "\n",
       "    .dataframe thead th {\n",
       "        text-align: right;\n",
       "    }\n",
       "</style>\n",
       "<table border=\"1\" class=\"dataframe\">\n",
       "  <thead>\n",
       "    <tr style=\"text-align: right;\">\n",
       "      <th></th>\n",
       "      <th>Model</th>\n",
       "      <th>Train_Recall</th>\n",
       "      <th>Train_Precision</th>\n",
       "      <th>Train_F1_Score</th>\n",
       "      <th>Test_Recall</th>\n",
       "      <th>Test_Precision</th>\n",
       "      <th>Test_F1_Score</th>\n",
       "    </tr>\n",
       "  </thead>\n",
       "  <tbody>\n",
       "    <tr>\n",
       "      <th>0</th>\n",
       "      <td>Logistic</td>\n",
       "      <td>0.799108</td>\n",
       "      <td>0.787681</td>\n",
       "      <td>0.787576</td>\n",
       "      <td>0.802566</td>\n",
       "      <td>0.791761</td>\n",
       "      <td>0.791658</td>\n",
       "    </tr>\n",
       "    <tr>\n",
       "      <th>1</th>\n",
       "      <td>Lasso_LR</td>\n",
       "      <td>0.799009</td>\n",
       "      <td>0.787622</td>\n",
       "      <td>0.787678</td>\n",
       "      <td>0.801873</td>\n",
       "      <td>0.790947</td>\n",
       "      <td>0.790840</td>\n",
       "    </tr>\n",
       "    <tr>\n",
       "      <th>2</th>\n",
       "      <td>Ridge_LR</td>\n",
       "      <td>0.799009</td>\n",
       "      <td>0.787562</td>\n",
       "      <td>0.787452</td>\n",
       "      <td>0.802566</td>\n",
       "      <td>0.791750</td>\n",
       "      <td>0.791615</td>\n",
       "    </tr>\n",
       "    <tr>\n",
       "      <th>3</th>\n",
       "      <td>RandomForest</td>\n",
       "      <td>1.000000</td>\n",
       "      <td>1.000000</td>\n",
       "      <td>1.000000</td>\n",
       "      <td>0.915154</td>\n",
       "      <td>0.915539</td>\n",
       "      <td>0.912219</td>\n",
       "    </tr>\n",
       "    <tr>\n",
       "      <th>4</th>\n",
       "      <td>Xgboost</td>\n",
       "      <td>0.952143</td>\n",
       "      <td>0.952530</td>\n",
       "      <td>0.951229</td>\n",
       "      <td>0.914461</td>\n",
       "      <td>0.913474</td>\n",
       "      <td>0.912475</td>\n",
       "    </tr>\n",
       "    <tr>\n",
       "      <th>5</th>\n",
       "      <td>XGBoostGV</td>\n",
       "      <td>0.948823</td>\n",
       "      <td>0.949167</td>\n",
       "      <td>0.947805</td>\n",
       "      <td>0.907872</td>\n",
       "      <td>0.906697</td>\n",
       "      <td>0.905504</td>\n",
       "    </tr>\n",
       "    <tr>\n",
       "      <th>6</th>\n",
       "      <td>KNN</td>\n",
       "      <td>0.941392</td>\n",
       "      <td>0.941372</td>\n",
       "      <td>0.940247</td>\n",
       "      <td>0.936077</td>\n",
       "      <td>0.935765</td>\n",
       "      <td>0.934875</td>\n",
       "    </tr>\n",
       "  </tbody>\n",
       "</table>\n",
       "</div>"
      ],
      "text/plain": [
       "          Model  Train_Recall  Train_Precision  Train_F1_Score  Test_Recall  \\\n",
       "0      Logistic      0.799108         0.787681        0.787576     0.802566   \n",
       "1      Lasso_LR      0.799009         0.787622        0.787678     0.801873   \n",
       "2      Ridge_LR      0.799009         0.787562        0.787452     0.802566   \n",
       "3  RandomForest      1.000000         1.000000        1.000000     0.915154   \n",
       "4       Xgboost      0.952143         0.952530        0.951229     0.914461   \n",
       "5     XGBoostGV      0.948823         0.949167        0.947805     0.907872   \n",
       "6           KNN      0.941392         0.941372        0.940247     0.936077   \n",
       "\n",
       "   Test_Precision  Test_F1_Score  \n",
       "0        0.791761       0.791658  \n",
       "1        0.790947       0.790840  \n",
       "2        0.791750       0.791615  \n",
       "3        0.915539       0.912219  \n",
       "4        0.913474       0.912475  \n",
       "5        0.906697       0.905504  \n",
       "6        0.935765       0.934875  "
      ]
     },
     "execution_count": 182,
     "metadata": {},
     "output_type": "execute_result"
    }
   ],
   "source": [
    "scores=get_metrics(y_train,y_train_pred_knn,y_test,y_test_pred_knn,\"KNN\",scores)\n",
    "scores"
   ]
  },
  {
   "cell_type": "code",
   "execution_count": null,
   "id": "1db00e7a",
   "metadata": {},
   "outputs": [],
   "source": []
  },
  {
   "cell_type": "code",
   "execution_count": null,
   "id": "3629089f",
   "metadata": {},
   "outputs": [],
   "source": []
  },
  {
   "cell_type": "markdown",
   "id": "94383ddf",
   "metadata": {},
   "source": [
    "#### SMOTE IMPLEMENTATION "
   ]
  },
  {
   "cell_type": "code",
   "execution_count": 183,
   "id": "c8058bf3",
   "metadata": {},
   "outputs": [],
   "source": [
    "from imblearn.over_sampling import SMOTE\n",
    "smote = SMOTE(random_state=123)"
   ]
  },
  {
   "cell_type": "code",
   "execution_count": 184,
   "id": "c83a8506",
   "metadata": {},
   "outputs": [],
   "source": [
    "X_train_sm, y_train_sm = smote.fit_resample(X_train, y_train)"
   ]
  },
  {
   "cell_type": "code",
   "execution_count": 185,
   "id": "37974d97",
   "metadata": {},
   "outputs": [
    {
     "data": {
      "text/plain": [
       "(29472, 156)"
      ]
     },
     "execution_count": 185,
     "metadata": {},
     "output_type": "execute_result"
    }
   ],
   "source": [
    "X_train_sm.shape"
   ]
  },
  {
   "cell_type": "code",
   "execution_count": 186,
   "id": "7440317b",
   "metadata": {},
   "outputs": [
    {
     "data": {
      "text/plain": [
       "(29472,)"
      ]
     },
     "execution_count": 186,
     "metadata": {},
     "output_type": "execute_result"
    }
   ],
   "source": [
    "y_train_sm.shape"
   ]
  },
  {
   "cell_type": "code",
   "execution_count": 187,
   "id": "ae5f173a",
   "metadata": {},
   "outputs": [
    {
     "name": "stdout",
     "output_type": "stream",
     "text": [
      "0    50.0\n",
      "1    50.0\n",
      "dtype: float64\n"
     ]
    }
   ],
   "source": [
    "print(pd.value_counts(y_train_sm, normalize=True) * 100)"
   ]
  },
  {
   "cell_type": "markdown",
   "id": "fb85dc6e",
   "metadata": {},
   "source": [
    "##### RANDOM FOREST USING SMOTE"
   ]
  },
  {
   "cell_type": "code",
   "execution_count": 188,
   "id": "0c268b84",
   "metadata": {},
   "outputs": [],
   "source": [
    "rfclf2 = RandomForestClassifier(class_weight='balanced')"
   ]
  },
  {
   "cell_type": "code",
   "execution_count": 189,
   "id": "03478cb0",
   "metadata": {},
   "outputs": [],
   "source": [
    "rfclf2 = rfclf2.fit(X_train_sm, y_train_sm)"
   ]
  },
  {
   "cell_type": "code",
   "execution_count": 190,
   "id": "b130a8e1",
   "metadata": {},
   "outputs": [],
   "source": [
    "train_pred=rfclf2.predict(X_train_sm)\n",
    "test_pred=rfclf2.predict(X_test)"
   ]
  },
  {
   "cell_type": "code",
   "execution_count": 191,
   "id": "ba69b14e",
   "metadata": {
    "scrolled": true
   },
   "outputs": [
    {
     "name": "stdout",
     "output_type": "stream",
     "text": [
      "\n",
      "            =========================================\n",
      "               CLASSIFICATION REPORT FOR TRAIN DATA\n",
      "            =========================================\n",
      "            \n",
      "              precision    recall  f1-score   support\n",
      "\n",
      "           0     0.9999    1.0000    1.0000     14736\n",
      "           1     1.0000    0.9999    1.0000     14736\n",
      "\n",
      "    accuracy                         1.0000     29472\n",
      "   macro avg     1.0000    1.0000    1.0000     29472\n",
      "weighted avg     1.0000    1.0000    1.0000     29472\n",
      "\n",
      "\n",
      "            =========================================\n",
      "               CLASSIFICATION REPORT FOR TEST DATA\n",
      "            =========================================\n",
      "            \n",
      "              precision    recall  f1-score   support\n",
      "\n",
      "           0     0.9171    0.9685    0.9421      6315\n",
      "           1     0.8996    0.7633    0.8258      2336\n",
      "\n",
      "    accuracy                         0.9131      8651\n",
      "   macro avg     0.9083    0.8659    0.8840      8651\n",
      "weighted avg     0.9124    0.9131    0.9107      8651\n",
      "\n"
     ]
    }
   ],
   "source": [
    "classifcation_report_train_test(y_train_sm, train_pred, y_test, test_pred)"
   ]
  },
  {
   "cell_type": "code",
   "execution_count": 192,
   "id": "495a2e16",
   "metadata": {},
   "outputs": [
    {
     "data": {
      "text/html": [
       "<div>\n",
       "<style scoped>\n",
       "    .dataframe tbody tr th:only-of-type {\n",
       "        vertical-align: middle;\n",
       "    }\n",
       "\n",
       "    .dataframe tbody tr th {\n",
       "        vertical-align: top;\n",
       "    }\n",
       "\n",
       "    .dataframe thead th {\n",
       "        text-align: right;\n",
       "    }\n",
       "</style>\n",
       "<table border=\"1\" class=\"dataframe\">\n",
       "  <thead>\n",
       "    <tr style=\"text-align: right;\">\n",
       "      <th></th>\n",
       "      <th>Model</th>\n",
       "      <th>Train_Recall</th>\n",
       "      <th>Train_Precision</th>\n",
       "      <th>Train_F1_Score</th>\n",
       "      <th>Test_Recall</th>\n",
       "      <th>Test_Precision</th>\n",
       "      <th>Test_F1_Score</th>\n",
       "    </tr>\n",
       "  </thead>\n",
       "  <tbody>\n",
       "    <tr>\n",
       "      <th>0</th>\n",
       "      <td>Logistic</td>\n",
       "      <td>0.799108</td>\n",
       "      <td>0.787681</td>\n",
       "      <td>0.787576</td>\n",
       "      <td>0.802566</td>\n",
       "      <td>0.791761</td>\n",
       "      <td>0.791658</td>\n",
       "    </tr>\n",
       "    <tr>\n",
       "      <th>1</th>\n",
       "      <td>Lasso_LR</td>\n",
       "      <td>0.799009</td>\n",
       "      <td>0.787622</td>\n",
       "      <td>0.787678</td>\n",
       "      <td>0.801873</td>\n",
       "      <td>0.790947</td>\n",
       "      <td>0.790840</td>\n",
       "    </tr>\n",
       "    <tr>\n",
       "      <th>2</th>\n",
       "      <td>Ridge_LR</td>\n",
       "      <td>0.799009</td>\n",
       "      <td>0.787562</td>\n",
       "      <td>0.787452</td>\n",
       "      <td>0.802566</td>\n",
       "      <td>0.791750</td>\n",
       "      <td>0.791615</td>\n",
       "    </tr>\n",
       "    <tr>\n",
       "      <th>3</th>\n",
       "      <td>RandomForest</td>\n",
       "      <td>1.000000</td>\n",
       "      <td>1.000000</td>\n",
       "      <td>1.000000</td>\n",
       "      <td>0.915154</td>\n",
       "      <td>0.915539</td>\n",
       "      <td>0.912219</td>\n",
       "    </tr>\n",
       "    <tr>\n",
       "      <th>4</th>\n",
       "      <td>Xgboost</td>\n",
       "      <td>0.952143</td>\n",
       "      <td>0.952530</td>\n",
       "      <td>0.951229</td>\n",
       "      <td>0.914461</td>\n",
       "      <td>0.913474</td>\n",
       "      <td>0.912475</td>\n",
       "    </tr>\n",
       "    <tr>\n",
       "      <th>5</th>\n",
       "      <td>XGBoostGV</td>\n",
       "      <td>0.948823</td>\n",
       "      <td>0.949167</td>\n",
       "      <td>0.947805</td>\n",
       "      <td>0.907872</td>\n",
       "      <td>0.906697</td>\n",
       "      <td>0.905504</td>\n",
       "    </tr>\n",
       "    <tr>\n",
       "      <th>6</th>\n",
       "      <td>KNN</td>\n",
       "      <td>0.941392</td>\n",
       "      <td>0.941372</td>\n",
       "      <td>0.940247</td>\n",
       "      <td>0.936077</td>\n",
       "      <td>0.935765</td>\n",
       "      <td>0.934875</td>\n",
       "    </tr>\n",
       "    <tr>\n",
       "      <th>7</th>\n",
       "      <td>Random forest_smote</td>\n",
       "      <td>0.999966</td>\n",
       "      <td>0.999966</td>\n",
       "      <td>0.999966</td>\n",
       "      <td>0.913074</td>\n",
       "      <td>0.912358</td>\n",
       "      <td>0.910695</td>\n",
       "    </tr>\n",
       "  </tbody>\n",
       "</table>\n",
       "</div>"
      ],
      "text/plain": [
       "                 Model  Train_Recall  Train_Precision  Train_F1_Score  \\\n",
       "0             Logistic      0.799108         0.787681        0.787576   \n",
       "1             Lasso_LR      0.799009         0.787622        0.787678   \n",
       "2             Ridge_LR      0.799009         0.787562        0.787452   \n",
       "3         RandomForest      1.000000         1.000000        1.000000   \n",
       "4              Xgboost      0.952143         0.952530        0.951229   \n",
       "5            XGBoostGV      0.948823         0.949167        0.947805   \n",
       "6                  KNN      0.941392         0.941372        0.940247   \n",
       "7  Random forest_smote      0.999966         0.999966        0.999966   \n",
       "\n",
       "   Test_Recall  Test_Precision  Test_F1_Score  \n",
       "0     0.802566        0.791761       0.791658  \n",
       "1     0.801873        0.790947       0.790840  \n",
       "2     0.802566        0.791750       0.791615  \n",
       "3     0.915154        0.915539       0.912219  \n",
       "4     0.914461        0.913474       0.912475  \n",
       "5     0.907872        0.906697       0.905504  \n",
       "6     0.936077        0.935765       0.934875  \n",
       "7     0.913074        0.912358       0.910695  "
      ]
     },
     "execution_count": 192,
     "metadata": {},
     "output_type": "execute_result"
    }
   ],
   "source": [
    "scores=get_metrics(y_train_sm,train_pred,y_test,test_pred,\"Random forest_smote\",scores)\n",
    "scores"
   ]
  },
  {
   "cell_type": "markdown",
   "id": "6e94364a",
   "metadata": {},
   "source": [
    "#### KNN USING SMOTE "
   ]
  },
  {
   "cell_type": "code",
   "execution_count": 193,
   "id": "e4883fd6",
   "metadata": {},
   "outputs": [
    {
     "data": {
      "text/plain": [
       "KNeighborsClassifier()"
      ]
     },
     "execution_count": 193,
     "metadata": {},
     "output_type": "execute_result"
    }
   ],
   "source": [
    "model_knn= KNeighborsClassifier(n_neighbors=5)  #n_neighbors=5 (By default)\n",
    "model_knn.fit(X_train_sm,y_train_sm)"
   ]
  },
  {
   "cell_type": "code",
   "execution_count": 194,
   "id": "04a2e5dc",
   "metadata": {},
   "outputs": [],
   "source": [
    "y_train_pred_knn1 = model_knn.predict(X_train_sm)\n",
    "y_test_pred_knn1  = model_knn.predict(X_test)"
   ]
  },
  {
   "cell_type": "code",
   "execution_count": 195,
   "id": "2d33d772",
   "metadata": {},
   "outputs": [
    {
     "name": "stdout",
     "output_type": "stream",
     "text": [
      "\n",
      "            =========================================\n",
      "               CLASSIFICATION REPORT FOR TRAIN DATA\n",
      "            =========================================\n",
      "            \n",
      "              precision    recall  f1-score   support\n",
      "\n",
      "           0     0.9710    0.9277    0.9489     14736\n",
      "           1     0.9308    0.9723    0.9511     14736\n",
      "\n",
      "    accuracy                         0.9500     29472\n",
      "   macro avg     0.9509    0.9500    0.9500     29472\n",
      "weighted avg     0.9509    0.9500    0.9500     29472\n",
      "\n",
      "\n",
      "            =========================================\n",
      "               CLASSIFICATION REPORT FOR TEST DATA\n",
      "            =========================================\n",
      "            \n",
      "              precision    recall  f1-score   support\n",
      "\n",
      "           0     0.9423    0.8846    0.9125      6315\n",
      "           1     0.7323    0.8536    0.7883      2336\n",
      "\n",
      "    accuracy                         0.8762      8651\n",
      "   macro avg     0.8373    0.8691    0.8504      8651\n",
      "weighted avg     0.8856    0.8762    0.8790      8651\n",
      "\n"
     ]
    }
   ],
   "source": [
    "classifcation_report_train_test(y_train_sm, y_train_pred_knn1, y_test, y_test_pred_knn1)"
   ]
  },
  {
   "cell_type": "code",
   "execution_count": 196,
   "id": "4cff7fc4",
   "metadata": {},
   "outputs": [
    {
     "data": {
      "text/html": [
       "<div>\n",
       "<style scoped>\n",
       "    .dataframe tbody tr th:only-of-type {\n",
       "        vertical-align: middle;\n",
       "    }\n",
       "\n",
       "    .dataframe tbody tr th {\n",
       "        vertical-align: top;\n",
       "    }\n",
       "\n",
       "    .dataframe thead th {\n",
       "        text-align: right;\n",
       "    }\n",
       "</style>\n",
       "<table border=\"1\" class=\"dataframe\">\n",
       "  <thead>\n",
       "    <tr style=\"text-align: right;\">\n",
       "      <th></th>\n",
       "      <th>Model</th>\n",
       "      <th>Train_Recall</th>\n",
       "      <th>Train_Precision</th>\n",
       "      <th>Train_F1_Score</th>\n",
       "      <th>Test_Recall</th>\n",
       "      <th>Test_Precision</th>\n",
       "      <th>Test_F1_Score</th>\n",
       "    </tr>\n",
       "  </thead>\n",
       "  <tbody>\n",
       "    <tr>\n",
       "      <th>0</th>\n",
       "      <td>Logistic</td>\n",
       "      <td>0.799108</td>\n",
       "      <td>0.787681</td>\n",
       "      <td>0.787576</td>\n",
       "      <td>0.802566</td>\n",
       "      <td>0.791761</td>\n",
       "      <td>0.791658</td>\n",
       "    </tr>\n",
       "    <tr>\n",
       "      <th>1</th>\n",
       "      <td>Lasso_LR</td>\n",
       "      <td>0.799009</td>\n",
       "      <td>0.787622</td>\n",
       "      <td>0.787678</td>\n",
       "      <td>0.801873</td>\n",
       "      <td>0.790947</td>\n",
       "      <td>0.790840</td>\n",
       "    </tr>\n",
       "    <tr>\n",
       "      <th>2</th>\n",
       "      <td>Ridge_LR</td>\n",
       "      <td>0.799009</td>\n",
       "      <td>0.787562</td>\n",
       "      <td>0.787452</td>\n",
       "      <td>0.802566</td>\n",
       "      <td>0.791750</td>\n",
       "      <td>0.791615</td>\n",
       "    </tr>\n",
       "    <tr>\n",
       "      <th>3</th>\n",
       "      <td>RandomForest</td>\n",
       "      <td>1.000000</td>\n",
       "      <td>1.000000</td>\n",
       "      <td>1.000000</td>\n",
       "      <td>0.915154</td>\n",
       "      <td>0.915539</td>\n",
       "      <td>0.912219</td>\n",
       "    </tr>\n",
       "    <tr>\n",
       "      <th>4</th>\n",
       "      <td>Xgboost</td>\n",
       "      <td>0.952143</td>\n",
       "      <td>0.952530</td>\n",
       "      <td>0.951229</td>\n",
       "      <td>0.914461</td>\n",
       "      <td>0.913474</td>\n",
       "      <td>0.912475</td>\n",
       "    </tr>\n",
       "    <tr>\n",
       "      <th>5</th>\n",
       "      <td>XGBoostGV</td>\n",
       "      <td>0.948823</td>\n",
       "      <td>0.949167</td>\n",
       "      <td>0.947805</td>\n",
       "      <td>0.907872</td>\n",
       "      <td>0.906697</td>\n",
       "      <td>0.905504</td>\n",
       "    </tr>\n",
       "    <tr>\n",
       "      <th>6</th>\n",
       "      <td>KNN</td>\n",
       "      <td>0.941392</td>\n",
       "      <td>0.941372</td>\n",
       "      <td>0.940247</td>\n",
       "      <td>0.936077</td>\n",
       "      <td>0.935765</td>\n",
       "      <td>0.934875</td>\n",
       "    </tr>\n",
       "    <tr>\n",
       "      <th>7</th>\n",
       "      <td>Random forest_smote</td>\n",
       "      <td>0.999966</td>\n",
       "      <td>0.999966</td>\n",
       "      <td>0.999966</td>\n",
       "      <td>0.913074</td>\n",
       "      <td>0.912358</td>\n",
       "      <td>0.910695</td>\n",
       "    </tr>\n",
       "    <tr>\n",
       "      <th>8</th>\n",
       "      <td>KNN_smote</td>\n",
       "      <td>0.950020</td>\n",
       "      <td>0.950917</td>\n",
       "      <td>0.949996</td>\n",
       "      <td>0.876199</td>\n",
       "      <td>0.885595</td>\n",
       "      <td>0.878978</td>\n",
       "    </tr>\n",
       "  </tbody>\n",
       "</table>\n",
       "</div>"
      ],
      "text/plain": [
       "                 Model  Train_Recall  Train_Precision  Train_F1_Score  \\\n",
       "0             Logistic      0.799108         0.787681        0.787576   \n",
       "1             Lasso_LR      0.799009         0.787622        0.787678   \n",
       "2             Ridge_LR      0.799009         0.787562        0.787452   \n",
       "3         RandomForest      1.000000         1.000000        1.000000   \n",
       "4              Xgboost      0.952143         0.952530        0.951229   \n",
       "5            XGBoostGV      0.948823         0.949167        0.947805   \n",
       "6                  KNN      0.941392         0.941372        0.940247   \n",
       "7  Random forest_smote      0.999966         0.999966        0.999966   \n",
       "8            KNN_smote      0.950020         0.950917        0.949996   \n",
       "\n",
       "   Test_Recall  Test_Precision  Test_F1_Score  \n",
       "0     0.802566        0.791761       0.791658  \n",
       "1     0.801873        0.790947       0.790840  \n",
       "2     0.802566        0.791750       0.791615  \n",
       "3     0.915154        0.915539       0.912219  \n",
       "4     0.914461        0.913474       0.912475  \n",
       "5     0.907872        0.906697       0.905504  \n",
       "6     0.936077        0.935765       0.934875  \n",
       "7     0.913074        0.912358       0.910695  \n",
       "8     0.876199        0.885595       0.878978  "
      ]
     },
     "execution_count": 196,
     "metadata": {},
     "output_type": "execute_result"
    }
   ],
   "source": [
    "scores=get_metrics(y_train_sm,y_train_pred_knn1,y_test,y_test_pred_knn1,\"KNN_smote\",scores)\n",
    "scores"
   ]
  },
  {
   "cell_type": "markdown",
   "id": "55ebe682",
   "metadata": {},
   "source": [
    "##### XG-BOOST USING SMOTE "
   ]
  },
  {
   "cell_type": "code",
   "execution_count": 197,
   "id": "fbaadfb1",
   "metadata": {},
   "outputs": [],
   "source": [
    "from xgboost import XGBClassifier"
   ]
  },
  {
   "cell_type": "code",
   "execution_count": 198,
   "id": "4f71438f",
   "metadata": {},
   "outputs": [],
   "source": [
    "xgb = XGBClassifier()"
   ]
  },
  {
   "cell_type": "code",
   "execution_count": 199,
   "id": "e670805b",
   "metadata": {},
   "outputs": [
    {
     "data": {
      "text/plain": [
       "XGBClassifier(base_score=0.5, booster='gbtree', callbacks=None,\n",
       "              colsample_bylevel=1, colsample_bynode=1, colsample_bytree=1,\n",
       "              early_stopping_rounds=None, enable_categorical=False,\n",
       "              eval_metric=None, gamma=0, gpu_id=-1, grow_policy='depthwise',\n",
       "              importance_type=None, interaction_constraints='',\n",
       "              learning_rate=0.300000012, max_bin=256, max_cat_to_onehot=4,\n",
       "              max_delta_step=0, max_depth=6, max_leaves=0, min_child_weight=1,\n",
       "              missing=nan, monotone_constraints='()', n_estimators=100,\n",
       "              n_jobs=0, num_parallel_tree=1, predictor='auto', random_state=0,\n",
       "              reg_alpha=0, reg_lambda=1, ...)"
      ]
     },
     "execution_count": 199,
     "metadata": {},
     "output_type": "execute_result"
    }
   ],
   "source": [
    "xgb.fit(X_train_sm, y_train_sm)"
   ]
  },
  {
   "cell_type": "code",
   "execution_count": 200,
   "id": "79569751",
   "metadata": {},
   "outputs": [],
   "source": [
    "y_pred_train_xsmote = xgb.predict(X_train_sm)\n",
    "y_pred_test_xsmote = xgb.predict(X_test)"
   ]
  },
  {
   "cell_type": "code",
   "execution_count": 201,
   "id": "6a3ee6cd",
   "metadata": {},
   "outputs": [
    {
     "name": "stdout",
     "output_type": "stream",
     "text": [
      "\n",
      "            =========================================\n",
      "               CLASSIFICATION REPORT FOR TRAIN DATA\n",
      "            =========================================\n",
      "            \n",
      "              precision    recall  f1-score   support\n",
      "\n",
      "           0     0.9453    0.9841    0.9643     14736\n",
      "           1     0.9834    0.9431    0.9628     14736\n",
      "\n",
      "    accuracy                         0.9636     29472\n",
      "   macro avg     0.9644    0.9636    0.9636     29472\n",
      "weighted avg     0.9644    0.9636    0.9636     29472\n",
      "\n",
      "\n",
      "            =========================================\n",
      "               CLASSIFICATION REPORT FOR TEST DATA\n",
      "            =========================================\n",
      "            \n",
      "              precision    recall  f1-score   support\n",
      "\n",
      "           0     0.9176    0.9610    0.9388      6315\n",
      "           1     0.8792    0.7667    0.8191      2336\n",
      "\n",
      "    accuracy                         0.9086      8651\n",
      "   macro avg     0.8984    0.8639    0.8790      8651\n",
      "weighted avg     0.9072    0.9086    0.9065      8651\n",
      "\n"
     ]
    }
   ],
   "source": [
    "classifcation_report_train_test(y_train_sm, y_pred_train_xsmote, y_test, y_pred_test_xsmote)"
   ]
  },
  {
   "cell_type": "code",
   "execution_count": 202,
   "id": "9dc0667a",
   "metadata": {},
   "outputs": [
    {
     "data": {
      "text/html": [
       "<div>\n",
       "<style scoped>\n",
       "    .dataframe tbody tr th:only-of-type {\n",
       "        vertical-align: middle;\n",
       "    }\n",
       "\n",
       "    .dataframe tbody tr th {\n",
       "        vertical-align: top;\n",
       "    }\n",
       "\n",
       "    .dataframe thead th {\n",
       "        text-align: right;\n",
       "    }\n",
       "</style>\n",
       "<table border=\"1\" class=\"dataframe\">\n",
       "  <thead>\n",
       "    <tr style=\"text-align: right;\">\n",
       "      <th></th>\n",
       "      <th>Model</th>\n",
       "      <th>Train_Recall</th>\n",
       "      <th>Train_Precision</th>\n",
       "      <th>Train_F1_Score</th>\n",
       "      <th>Test_Recall</th>\n",
       "      <th>Test_Precision</th>\n",
       "      <th>Test_F1_Score</th>\n",
       "    </tr>\n",
       "  </thead>\n",
       "  <tbody>\n",
       "    <tr>\n",
       "      <th>0</th>\n",
       "      <td>Logistic</td>\n",
       "      <td>0.799108</td>\n",
       "      <td>0.787681</td>\n",
       "      <td>0.787576</td>\n",
       "      <td>0.802566</td>\n",
       "      <td>0.791761</td>\n",
       "      <td>0.791658</td>\n",
       "    </tr>\n",
       "    <tr>\n",
       "      <th>1</th>\n",
       "      <td>Lasso_LR</td>\n",
       "      <td>0.799009</td>\n",
       "      <td>0.787622</td>\n",
       "      <td>0.787678</td>\n",
       "      <td>0.801873</td>\n",
       "      <td>0.790947</td>\n",
       "      <td>0.790840</td>\n",
       "    </tr>\n",
       "    <tr>\n",
       "      <th>2</th>\n",
       "      <td>Ridge_LR</td>\n",
       "      <td>0.799009</td>\n",
       "      <td>0.787562</td>\n",
       "      <td>0.787452</td>\n",
       "      <td>0.802566</td>\n",
       "      <td>0.791750</td>\n",
       "      <td>0.791615</td>\n",
       "    </tr>\n",
       "    <tr>\n",
       "      <th>3</th>\n",
       "      <td>RandomForest</td>\n",
       "      <td>1.000000</td>\n",
       "      <td>1.000000</td>\n",
       "      <td>1.000000</td>\n",
       "      <td>0.915154</td>\n",
       "      <td>0.915539</td>\n",
       "      <td>0.912219</td>\n",
       "    </tr>\n",
       "    <tr>\n",
       "      <th>4</th>\n",
       "      <td>Xgboost</td>\n",
       "      <td>0.952143</td>\n",
       "      <td>0.952530</td>\n",
       "      <td>0.951229</td>\n",
       "      <td>0.914461</td>\n",
       "      <td>0.913474</td>\n",
       "      <td>0.912475</td>\n",
       "    </tr>\n",
       "    <tr>\n",
       "      <th>5</th>\n",
       "      <td>XGBoostGV</td>\n",
       "      <td>0.948823</td>\n",
       "      <td>0.949167</td>\n",
       "      <td>0.947805</td>\n",
       "      <td>0.907872</td>\n",
       "      <td>0.906697</td>\n",
       "      <td>0.905504</td>\n",
       "    </tr>\n",
       "    <tr>\n",
       "      <th>6</th>\n",
       "      <td>KNN</td>\n",
       "      <td>0.941392</td>\n",
       "      <td>0.941372</td>\n",
       "      <td>0.940247</td>\n",
       "      <td>0.936077</td>\n",
       "      <td>0.935765</td>\n",
       "      <td>0.934875</td>\n",
       "    </tr>\n",
       "    <tr>\n",
       "      <th>7</th>\n",
       "      <td>Random forest_smote</td>\n",
       "      <td>0.999966</td>\n",
       "      <td>0.999966</td>\n",
       "      <td>0.999966</td>\n",
       "      <td>0.913074</td>\n",
       "      <td>0.912358</td>\n",
       "      <td>0.910695</td>\n",
       "    </tr>\n",
       "    <tr>\n",
       "      <th>8</th>\n",
       "      <td>KNN_smote</td>\n",
       "      <td>0.950020</td>\n",
       "      <td>0.950917</td>\n",
       "      <td>0.949996</td>\n",
       "      <td>0.876199</td>\n",
       "      <td>0.885595</td>\n",
       "      <td>0.878978</td>\n",
       "    </tr>\n",
       "    <tr>\n",
       "      <th>9</th>\n",
       "      <td>Xgboost_smote</td>\n",
       "      <td>0.963593</td>\n",
       "      <td>0.964375</td>\n",
       "      <td>0.963577</td>\n",
       "      <td>0.908565</td>\n",
       "      <td>0.907239</td>\n",
       "      <td>0.906497</td>\n",
       "    </tr>\n",
       "  </tbody>\n",
       "</table>\n",
       "</div>"
      ],
      "text/plain": [
       "                 Model  Train_Recall  Train_Precision  Train_F1_Score  \\\n",
       "0             Logistic      0.799108         0.787681        0.787576   \n",
       "1             Lasso_LR      0.799009         0.787622        0.787678   \n",
       "2             Ridge_LR      0.799009         0.787562        0.787452   \n",
       "3         RandomForest      1.000000         1.000000        1.000000   \n",
       "4              Xgboost      0.952143         0.952530        0.951229   \n",
       "5            XGBoostGV      0.948823         0.949167        0.947805   \n",
       "6                  KNN      0.941392         0.941372        0.940247   \n",
       "7  Random forest_smote      0.999966         0.999966        0.999966   \n",
       "8            KNN_smote      0.950020         0.950917        0.949996   \n",
       "9        Xgboost_smote      0.963593         0.964375        0.963577   \n",
       "\n",
       "   Test_Recall  Test_Precision  Test_F1_Score  \n",
       "0     0.802566        0.791761       0.791658  \n",
       "1     0.801873        0.790947       0.790840  \n",
       "2     0.802566        0.791750       0.791615  \n",
       "3     0.915154        0.915539       0.912219  \n",
       "4     0.914461        0.913474       0.912475  \n",
       "5     0.907872        0.906697       0.905504  \n",
       "6     0.936077        0.935765       0.934875  \n",
       "7     0.913074        0.912358       0.910695  \n",
       "8     0.876199        0.885595       0.878978  \n",
       "9     0.908565        0.907239       0.906497  "
      ]
     },
     "execution_count": 202,
     "metadata": {},
     "output_type": "execute_result"
    }
   ],
   "source": [
    "scores = get_metrics(y_train_sm, y_pred_train_xsmote, y_test, y_pred_test_xsmote, \"Xgboost_smote\", scores)\n",
    "scores"
   ]
  },
  {
   "cell_type": "markdown",
   "id": "b3afed0b",
   "metadata": {},
   "source": [
    "#### ANN"
   ]
  },
  {
   "cell_type": "code",
   "execution_count": 203,
   "id": "f19fd957",
   "metadata": {},
   "outputs": [],
   "source": [
    "# import tensorflow as tf\n",
    "# from tensorflow.keras.models import Sequential\n",
    "# from tensorflow.keras.layers import Dense, Dropout\n",
    "# tf.random.set_seed(0)"
   ]
  },
  {
   "cell_type": "code",
   "execution_count": 204,
   "id": "96d1489f",
   "metadata": {},
   "outputs": [],
   "source": [
    "# model = Sequential()\n",
    "# model.add(Dense(64, activation='relu', input_shape=(156,)))\n",
    "# model.add(Dropout(0.1))\n",
    "# model.add(Dense(32, activation='relu'))\n",
    "# model.add(Dropout(0.1))\n",
    "# model.add(Dense(16, input_dim=1, activation='relu'))\n",
    "# model.add(Dropout(0.1))\n",
    "# model.add(Dense(12, activation='relu'))\n",
    "# model.add(Dropout(0.1))\n",
    "# model.add(Dense(1, activation='sigmoid'))"
   ]
  },
  {
   "cell_type": "code",
   "execution_count": 205,
   "id": "dbe7b87b",
   "metadata": {},
   "outputs": [],
   "source": [
    "# # fit the model\n",
    "# model.compile(loss='binary_crossentropy', optimizer='RMSprop', metrics=['accuracy', 'AUC'])\n",
    "# model.fit(X_train_sm, y_train_sm, epochs=35, batch_size=64, validation_data=(X_test, y_test), validation_batch_size=64, verbose=0)"
   ]
  },
  {
   "cell_type": "code",
   "execution_count": 206,
   "id": "45bbdfb7",
   "metadata": {},
   "outputs": [],
   "source": [
    "# y_pred = model.predict(X_test)\n",
    "# y_pred = y_pred.flatten()\n",
    "# print(y_pred.round(2))"
   ]
  },
  {
   "cell_type": "code",
   "execution_count": 207,
   "id": "d702113c",
   "metadata": {},
   "outputs": [],
   "source": [
    "# y_train_Pred_ann = model.predict(X_train_sm)"
   ]
  },
  {
   "cell_type": "code",
   "execution_count": 208,
   "id": "12e6f26c",
   "metadata": {},
   "outputs": [],
   "source": [
    "# y_pred = np.round(y_pred > 0.5, 1, 0)\n",
    "# print(y_pred)"
   ]
  },
  {
   "cell_type": "code",
   "execution_count": 209,
   "id": "98ddbaf2",
   "metadata": {},
   "outputs": [],
   "source": [
    "# print(confusion_matrix(y_test, y_pred))"
   ]
  },
  {
   "cell_type": "code",
   "execution_count": 210,
   "id": "a6c475ee",
   "metadata": {
    "scrolled": true
   },
   "outputs": [],
   "source": [
    "# print(classification_report(y_test, y_pred))"
   ]
  },
  {
   "cell_type": "code",
   "execution_count": 211,
   "id": "bb87aea6",
   "metadata": {},
   "outputs": [],
   "source": [
    "# y_pred"
   ]
  },
  {
   "cell_type": "code",
   "execution_count": 212,
   "id": "d84cd3b2",
   "metadata": {},
   "outputs": [],
   "source": [
    "# scores=get_metrics(y_train_sm,y_train_Pred_ann,y_test,y_pred,\"ANN_model_smote\",scores)\n",
    "# scores"
   ]
  },
  {
   "cell_type": "markdown",
   "id": "86ded81a",
   "metadata": {},
   "source": [
    "# TEST DATA"
   ]
  },
  {
   "cell_type": "code",
   "execution_count": 213,
   "id": "d5d137f5",
   "metadata": {},
   "outputs": [],
   "source": [
    "# Reading the test data:\n",
    "# Reading Test_Demographics data:\n",
    "TD_data6 = pd.read_csv(\"Test_Demographics.csv\",na_values=\"NA\")"
   ]
  },
  {
   "cell_type": "code",
   "execution_count": 214,
   "id": "345e58cc",
   "metadata": {},
   "outputs": [
    {
     "data": {
      "text/html": [
       "<div>\n",
       "<style scoped>\n",
       "    .dataframe tbody tr th:only-of-type {\n",
       "        vertical-align: middle;\n",
       "    }\n",
       "\n",
       "    .dataframe tbody tr th {\n",
       "        vertical-align: top;\n",
       "    }\n",
       "\n",
       "    .dataframe thead th {\n",
       "        text-align: right;\n",
       "    }\n",
       "</style>\n",
       "<table border=\"1\" class=\"dataframe\">\n",
       "  <thead>\n",
       "    <tr style=\"text-align: right;\">\n",
       "      <th></th>\n",
       "      <th>CustomerID</th>\n",
       "      <th>InsuredAge</th>\n",
       "      <th>InsuredZipCode</th>\n",
       "      <th>InsuredGender</th>\n",
       "      <th>InsuredEducationLevel</th>\n",
       "      <th>InsuredOccupation</th>\n",
       "      <th>InsuredHobbies</th>\n",
       "      <th>CapitalGains</th>\n",
       "      <th>CapitalLoss</th>\n",
       "      <th>Country</th>\n",
       "    </tr>\n",
       "  </thead>\n",
       "  <tbody>\n",
       "    <tr>\n",
       "      <th>0</th>\n",
       "      <td>Cust10008</td>\n",
       "      <td>27</td>\n",
       "      <td>471704</td>\n",
       "      <td>FEMALE</td>\n",
       "      <td>High School</td>\n",
       "      <td>adm-clerical</td>\n",
       "      <td>base-jumping</td>\n",
       "      <td>56400</td>\n",
       "      <td>-57000</td>\n",
       "      <td>India</td>\n",
       "    </tr>\n",
       "    <tr>\n",
       "      <th>1</th>\n",
       "      <td>Cust10010</td>\n",
       "      <td>40</td>\n",
       "      <td>455810</td>\n",
       "      <td>FEMALE</td>\n",
       "      <td>MD</td>\n",
       "      <td>prof-specialty</td>\n",
       "      <td>golf</td>\n",
       "      <td>56700</td>\n",
       "      <td>-65600</td>\n",
       "      <td>India</td>\n",
       "    </tr>\n",
       "    <tr>\n",
       "      <th>2</th>\n",
       "      <td>Cust10015</td>\n",
       "      <td>39</td>\n",
       "      <td>461919</td>\n",
       "      <td>MALE</td>\n",
       "      <td>JD</td>\n",
       "      <td>other-service</td>\n",
       "      <td>movies</td>\n",
       "      <td>30400</td>\n",
       "      <td>0</td>\n",
       "      <td>India</td>\n",
       "    </tr>\n",
       "    <tr>\n",
       "      <th>3</th>\n",
       "      <td>Cust10020</td>\n",
       "      <td>38</td>\n",
       "      <td>600904</td>\n",
       "      <td>FEMALE</td>\n",
       "      <td>Masters</td>\n",
       "      <td>exec-managerial</td>\n",
       "      <td>video-games</td>\n",
       "      <td>68500</td>\n",
       "      <td>0</td>\n",
       "      <td>India</td>\n",
       "    </tr>\n",
       "    <tr>\n",
       "      <th>4</th>\n",
       "      <td>Cust1003</td>\n",
       "      <td>29</td>\n",
       "      <td>430632</td>\n",
       "      <td>FEMALE</td>\n",
       "      <td>PhD</td>\n",
       "      <td>sales</td>\n",
       "      <td>board-games</td>\n",
       "      <td>35100</td>\n",
       "      <td>0</td>\n",
       "      <td>India</td>\n",
       "    </tr>\n",
       "  </tbody>\n",
       "</table>\n",
       "</div>"
      ],
      "text/plain": [
       "  CustomerID  InsuredAge  InsuredZipCode InsuredGender InsuredEducationLevel  \\\n",
       "0  Cust10008          27          471704        FEMALE           High School   \n",
       "1  Cust10010          40          455810        FEMALE                    MD   \n",
       "2  Cust10015          39          461919          MALE                    JD   \n",
       "3  Cust10020          38          600904        FEMALE               Masters   \n",
       "4   Cust1003          29          430632        FEMALE                   PhD   \n",
       "\n",
       "  InsuredOccupation InsuredHobbies  CapitalGains  CapitalLoss Country  \n",
       "0      adm-clerical   base-jumping         56400       -57000   India  \n",
       "1    prof-specialty           golf         56700       -65600   India  \n",
       "2     other-service         movies         30400            0   India  \n",
       "3   exec-managerial    video-games         68500            0   India  \n",
       "4             sales    board-games         35100            0   India  "
      ]
     },
     "execution_count": 214,
     "metadata": {},
     "output_type": "execute_result"
    }
   ],
   "source": [
    "# Observing the top 5 records of data6:\n",
    "TD_data6.head()"
   ]
  },
  {
   "cell_type": "code",
   "execution_count": 215,
   "id": "110faeb1",
   "metadata": {},
   "outputs": [
    {
     "data": {
      "text/plain": [
       "(8912, 10)"
      ]
     },
     "execution_count": 215,
     "metadata": {},
     "output_type": "execute_result"
    }
   ],
   "source": [
    "# Observing No of rows and columns in data6:\n",
    "TD_data6.shape"
   ]
  },
  {
   "cell_type": "code",
   "execution_count": 216,
   "id": "c6c6944d",
   "metadata": {},
   "outputs": [
    {
     "name": "stdout",
     "output_type": "stream",
     "text": [
      "<class 'pandas.core.frame.DataFrame'>\n",
      "RangeIndex: 8912 entries, 0 to 8911\n",
      "Data columns (total 10 columns):\n",
      " #   Column                 Non-Null Count  Dtype \n",
      "---  ------                 --------------  ----- \n",
      " 0   CustomerID             8912 non-null   object\n",
      " 1   InsuredAge             8912 non-null   int64 \n",
      " 2   InsuredZipCode         8912 non-null   int64 \n",
      " 3   InsuredGender          8904 non-null   object\n",
      " 4   InsuredEducationLevel  8912 non-null   object\n",
      " 5   InsuredOccupation      8912 non-null   object\n",
      " 6   InsuredHobbies         8912 non-null   object\n",
      " 7   CapitalGains           8912 non-null   int64 \n",
      " 8   CapitalLoss            8912 non-null   int64 \n",
      " 9   Country                8908 non-null   object\n",
      "dtypes: int64(4), object(6)\n",
      "memory usage: 696.4+ KB\n"
     ]
    }
   ],
   "source": [
    "# Observing the data types in data6:\n",
    "TD_data6.info()"
   ]
  },
  {
   "cell_type": "code",
   "execution_count": 217,
   "id": "c111f9a7",
   "metadata": {},
   "outputs": [
    {
     "data": {
      "text/plain": [
       "CustomerID               0\n",
       "InsuredAge               0\n",
       "InsuredZipCode           0\n",
       "InsuredGender            8\n",
       "InsuredEducationLevel    0\n",
       "InsuredOccupation        0\n",
       "InsuredHobbies           0\n",
       "CapitalGains             0\n",
       "CapitalLoss              0\n",
       "Country                  4\n",
       "dtype: int64"
      ]
     },
     "execution_count": 217,
     "metadata": {},
     "output_type": "execute_result"
    }
   ],
   "source": [
    "# Checking null values in data6:\n",
    "TD_data6.isnull().sum()"
   ]
  },
  {
   "cell_type": "code",
   "execution_count": 218,
   "id": "817c66b7",
   "metadata": {},
   "outputs": [
    {
     "data": {
      "text/html": [
       "<div>\n",
       "<style scoped>\n",
       "    .dataframe tbody tr th:only-of-type {\n",
       "        vertical-align: middle;\n",
       "    }\n",
       "\n",
       "    .dataframe tbody tr th {\n",
       "        vertical-align: top;\n",
       "    }\n",
       "\n",
       "    .dataframe thead th {\n",
       "        text-align: right;\n",
       "    }\n",
       "</style>\n",
       "<table border=\"1\" class=\"dataframe\">\n",
       "  <thead>\n",
       "    <tr style=\"text-align: right;\">\n",
       "      <th></th>\n",
       "      <th>InsuredAge</th>\n",
       "      <th>InsuredZipCode</th>\n",
       "      <th>CapitalGains</th>\n",
       "      <th>CapitalLoss</th>\n",
       "    </tr>\n",
       "  </thead>\n",
       "  <tbody>\n",
       "    <tr>\n",
       "      <th>count</th>\n",
       "      <td>8912.000000</td>\n",
       "      <td>8912.000000</td>\n",
       "      <td>8912.000000</td>\n",
       "      <td>8912.000000</td>\n",
       "    </tr>\n",
       "    <tr>\n",
       "      <th>mean</th>\n",
       "      <td>38.743492</td>\n",
       "      <td>501558.312949</td>\n",
       "      <td>23413.004937</td>\n",
       "      <td>-25365.888689</td>\n",
       "    </tr>\n",
       "    <tr>\n",
       "      <th>std</th>\n",
       "      <td>7.914619</td>\n",
       "      <td>72051.904910</td>\n",
       "      <td>27821.325212</td>\n",
       "      <td>28032.959284</td>\n",
       "    </tr>\n",
       "    <tr>\n",
       "      <th>min</th>\n",
       "      <td>19.000000</td>\n",
       "      <td>430104.000000</td>\n",
       "      <td>0.000000</td>\n",
       "      <td>-111100.000000</td>\n",
       "    </tr>\n",
       "    <tr>\n",
       "      <th>25%</th>\n",
       "      <td>33.000000</td>\n",
       "      <td>447469.000000</td>\n",
       "      <td>0.000000</td>\n",
       "      <td>-50400.000000</td>\n",
       "    </tr>\n",
       "    <tr>\n",
       "      <th>50%</th>\n",
       "      <td>38.000000</td>\n",
       "      <td>466303.000000</td>\n",
       "      <td>0.000000</td>\n",
       "      <td>0.000000</td>\n",
       "    </tr>\n",
       "    <tr>\n",
       "      <th>75%</th>\n",
       "      <td>44.000000</td>\n",
       "      <td>603527.000000</td>\n",
       "      <td>49900.000000</td>\n",
       "      <td>0.000000</td>\n",
       "    </tr>\n",
       "    <tr>\n",
       "      <th>max</th>\n",
       "      <td>64.000000</td>\n",
       "      <td>620962.000000</td>\n",
       "      <td>100500.000000</td>\n",
       "      <td>0.000000</td>\n",
       "    </tr>\n",
       "  </tbody>\n",
       "</table>\n",
       "</div>"
      ],
      "text/plain": [
       "        InsuredAge  InsuredZipCode   CapitalGains    CapitalLoss\n",
       "count  8912.000000     8912.000000    8912.000000    8912.000000\n",
       "mean     38.743492   501558.312949   23413.004937  -25365.888689\n",
       "std       7.914619    72051.904910   27821.325212   28032.959284\n",
       "min      19.000000   430104.000000       0.000000 -111100.000000\n",
       "25%      33.000000   447469.000000       0.000000  -50400.000000\n",
       "50%      38.000000   466303.000000       0.000000       0.000000\n",
       "75%      44.000000   603527.000000   49900.000000       0.000000\n",
       "max      64.000000   620962.000000  100500.000000       0.000000"
      ]
     },
     "execution_count": 218,
     "metadata": {},
     "output_type": "execute_result"
    }
   ],
   "source": [
    "# Checking the summary statistics of the data:\n",
    "TD_data6.describe()"
   ]
  },
  {
   "cell_type": "code",
   "execution_count": 219,
   "id": "883b536b",
   "metadata": {},
   "outputs": [],
   "source": [
    "# Creating a list of numerical and categorical attributes:\n",
    "num_cols = [\"InsuredAge\", \"InsuredZipCode\", \"CapitalGains\", \"CapitalLoss\"]\n",
    "cat_cols = [\"CustomerID\", \"InsuredGender\", \"InsuredEducationLevel\", \"InsuredOccupation\", \"InsuredHobbies\", \"Country\"]"
   ]
  },
  {
   "cell_type": "code",
   "execution_count": 220,
   "id": "056345ff",
   "metadata": {},
   "outputs": [],
   "source": [
    "# Converting object data types to category in data6:\n",
    "TD_data6[cat_cols] = TD_data6[cat_cols].astype('category')"
   ]
  },
  {
   "cell_type": "code",
   "execution_count": 221,
   "id": "3d972546",
   "metadata": {},
   "outputs": [],
   "source": [
    "cat_var=TD_data6.select_dtypes('category').columns"
   ]
  },
  {
   "cell_type": "code",
   "execution_count": 222,
   "id": "e36c4035",
   "metadata": {},
   "outputs": [
    {
     "data": {
      "text/plain": [
       "CustomerID               category\n",
       "InsuredAge                  int64\n",
       "InsuredZipCode              int64\n",
       "InsuredGender            category\n",
       "InsuredEducationLevel    category\n",
       "InsuredOccupation        category\n",
       "InsuredHobbies           category\n",
       "CapitalGains                int64\n",
       "CapitalLoss                 int64\n",
       "Country                  category\n",
       "dtype: object"
      ]
     },
     "execution_count": 222,
     "metadata": {},
     "output_type": "execute_result"
    }
   ],
   "source": [
    "# Checking the datatypes after type conversion:\n",
    "TD_data6.dtypes"
   ]
  },
  {
   "cell_type": "code",
   "execution_count": 223,
   "id": "8c4d0395",
   "metadata": {},
   "outputs": [],
   "source": [
    "# Missing values imputation in categorical attributes with 'Most Frequent value':\n",
    "cat_imputer = SimpleImputer(strategy='most_frequent')\n",
    "TD_data6[cat_var]=cat_imputer.fit_transform(TD_data6[cat_var])"
   ]
  },
  {
   "cell_type": "code",
   "execution_count": 224,
   "id": "029f280a",
   "metadata": {},
   "outputs": [
    {
     "data": {
      "text/plain": [
       "CustomerID               0\n",
       "InsuredAge               0\n",
       "InsuredZipCode           0\n",
       "InsuredGender            0\n",
       "InsuredEducationLevel    0\n",
       "InsuredOccupation        0\n",
       "InsuredHobbies           0\n",
       "CapitalGains             0\n",
       "CapitalLoss              0\n",
       "Country                  0\n",
       "dtype: int64"
      ]
     },
     "execution_count": 224,
     "metadata": {},
     "output_type": "execute_result"
    }
   ],
   "source": [
    "# Checking the null values after imputation:\n",
    "TD_data6.isnull().sum()"
   ]
  },
  {
   "cell_type": "code",
   "execution_count": 225,
   "id": "b907be72",
   "metadata": {},
   "outputs": [
    {
     "data": {
      "text/plain": [
       "CustomerID               8912\n",
       "InsuredAge                 46\n",
       "InsuredZipCode            994\n",
       "InsuredGender               2\n",
       "InsuredEducationLevel       7\n",
       "InsuredOccupation          14\n",
       "InsuredHobbies             20\n",
       "CapitalGains              338\n",
       "CapitalLoss               353\n",
       "Country                     1\n",
       "dtype: int64"
      ]
     },
     "execution_count": 225,
     "metadata": {},
     "output_type": "execute_result"
    }
   ],
   "source": [
    "# Checking the unique values in the data:\n",
    "TD_data6.nunique()"
   ]
  },
  {
   "cell_type": "code",
   "execution_count": 226,
   "id": "a26cf87d",
   "metadata": {},
   "outputs": [],
   "source": [
    "# Reading Test_Policy data:\n",
    "TP_data7 = pd.read_csv('Test_Policy.csv', na_values=[\"NA\",-1,\"MISSINGVAL\"])"
   ]
  },
  {
   "cell_type": "code",
   "execution_count": 227,
   "id": "a709ed27",
   "metadata": {},
   "outputs": [
    {
     "data": {
      "text/html": [
       "<div>\n",
       "<style scoped>\n",
       "    .dataframe tbody tr th:only-of-type {\n",
       "        vertical-align: middle;\n",
       "    }\n",
       "\n",
       "    .dataframe tbody tr th {\n",
       "        vertical-align: top;\n",
       "    }\n",
       "\n",
       "    .dataframe thead th {\n",
       "        text-align: right;\n",
       "    }\n",
       "</style>\n",
       "<table border=\"1\" class=\"dataframe\">\n",
       "  <thead>\n",
       "    <tr style=\"text-align: right;\">\n",
       "      <th></th>\n",
       "      <th>InsurancePolicyNumber</th>\n",
       "      <th>CustomerLoyaltyPeriod</th>\n",
       "      <th>DateOfPolicyCoverage</th>\n",
       "      <th>InsurancePolicyState</th>\n",
       "      <th>Policy_CombinedSingleLimit</th>\n",
       "      <th>Policy_Deductible</th>\n",
       "      <th>PolicyAnnualPremium</th>\n",
       "      <th>UmbrellaLimit</th>\n",
       "      <th>InsuredRelationship</th>\n",
       "      <th>CustomerID</th>\n",
       "    </tr>\n",
       "  </thead>\n",
       "  <tbody>\n",
       "    <tr>\n",
       "      <th>0</th>\n",
       "      <td>110124</td>\n",
       "      <td>134</td>\n",
       "      <td>2000-09-06</td>\n",
       "      <td>State3</td>\n",
       "      <td>100/300</td>\n",
       "      <td>2000</td>\n",
       "      <td>1413.14</td>\n",
       "      <td>5000000</td>\n",
       "      <td>own-child</td>\n",
       "      <td>Cust1003</td>\n",
       "    </tr>\n",
       "    <tr>\n",
       "      <th>1</th>\n",
       "      <td>110129</td>\n",
       "      <td>165</td>\n",
       "      <td>1990-02-03</td>\n",
       "      <td>State1</td>\n",
       "      <td>100/300</td>\n",
       "      <td>1000</td>\n",
       "      <td>1137.03</td>\n",
       "      <td>0</td>\n",
       "      <td>unmarried</td>\n",
       "      <td>Cust1008</td>\n",
       "    </tr>\n",
       "    <tr>\n",
       "      <th>2</th>\n",
       "      <td>110137</td>\n",
       "      <td>473</td>\n",
       "      <td>1992-10-19</td>\n",
       "      <td>State2</td>\n",
       "      <td>100/300</td>\n",
       "      <td>2000</td>\n",
       "      <td>1131.40</td>\n",
       "      <td>0</td>\n",
       "      <td>other-relative</td>\n",
       "      <td>Cust1016</td>\n",
       "    </tr>\n",
       "    <tr>\n",
       "      <th>3</th>\n",
       "      <td>110140</td>\n",
       "      <td>160</td>\n",
       "      <td>2014-12-28</td>\n",
       "      <td>State3</td>\n",
       "      <td>500/1000</td>\n",
       "      <td>500</td>\n",
       "      <td>1374.22</td>\n",
       "      <td>0</td>\n",
       "      <td>other-relative</td>\n",
       "      <td>Cust1019</td>\n",
       "    </tr>\n",
       "    <tr>\n",
       "      <th>4</th>\n",
       "      <td>110141</td>\n",
       "      <td>196</td>\n",
       "      <td>1992-08-02</td>\n",
       "      <td>State2</td>\n",
       "      <td>500/1000</td>\n",
       "      <td>2000</td>\n",
       "      <td>1475.73</td>\n",
       "      <td>0</td>\n",
       "      <td>own-child</td>\n",
       "      <td>Cust1020</td>\n",
       "    </tr>\n",
       "  </tbody>\n",
       "</table>\n",
       "</div>"
      ],
      "text/plain": [
       "   InsurancePolicyNumber  CustomerLoyaltyPeriod DateOfPolicyCoverage  \\\n",
       "0                 110124                    134           2000-09-06   \n",
       "1                 110129                    165           1990-02-03   \n",
       "2                 110137                    473           1992-10-19   \n",
       "3                 110140                    160           2014-12-28   \n",
       "4                 110141                    196           1992-08-02   \n",
       "\n",
       "  InsurancePolicyState Policy_CombinedSingleLimit  Policy_Deductible  \\\n",
       "0               State3                    100/300               2000   \n",
       "1               State1                    100/300               1000   \n",
       "2               State2                    100/300               2000   \n",
       "3               State3                   500/1000                500   \n",
       "4               State2                   500/1000               2000   \n",
       "\n",
       "   PolicyAnnualPremium  UmbrellaLimit InsuredRelationship CustomerID  \n",
       "0              1413.14        5000000           own-child   Cust1003  \n",
       "1              1137.03              0           unmarried   Cust1008  \n",
       "2              1131.40              0      other-relative   Cust1016  \n",
       "3              1374.22              0      other-relative   Cust1019  \n",
       "4              1475.73              0           own-child   Cust1020  "
      ]
     },
     "execution_count": 227,
     "metadata": {},
     "output_type": "execute_result"
    }
   ],
   "source": [
    "# Observing the top 5 records of data7:\n",
    "TP_data7.head()"
   ]
  },
  {
   "cell_type": "code",
   "execution_count": 228,
   "id": "62eccbf1",
   "metadata": {},
   "outputs": [
    {
     "data": {
      "text/plain": [
       "(8912, 10)"
      ]
     },
     "execution_count": 228,
     "metadata": {},
     "output_type": "execute_result"
    }
   ],
   "source": [
    "# Observing No of rows and columns in data7:\n",
    "TP_data7.shape"
   ]
  },
  {
   "cell_type": "code",
   "execution_count": 229,
   "id": "14869bee",
   "metadata": {},
   "outputs": [
    {
     "name": "stdout",
     "output_type": "stream",
     "text": [
      "<class 'pandas.core.frame.DataFrame'>\n",
      "RangeIndex: 8912 entries, 0 to 8911\n",
      "Data columns (total 10 columns):\n",
      " #   Column                      Non-Null Count  Dtype  \n",
      "---  ------                      --------------  -----  \n",
      " 0   InsurancePolicyNumber       8912 non-null   int64  \n",
      " 1   CustomerLoyaltyPeriod       8912 non-null   int64  \n",
      " 2   DateOfPolicyCoverage        8912 non-null   object \n",
      " 3   InsurancePolicyState        8912 non-null   object \n",
      " 4   Policy_CombinedSingleLimit  8912 non-null   object \n",
      " 5   Policy_Deductible           8912 non-null   int64  \n",
      " 6   PolicyAnnualPremium         8865 non-null   float64\n",
      " 7   UmbrellaLimit               8912 non-null   int64  \n",
      " 8   InsuredRelationship         8912 non-null   object \n",
      " 9   CustomerID                  8912 non-null   object \n",
      "dtypes: float64(1), int64(4), object(5)\n",
      "memory usage: 696.4+ KB\n"
     ]
    }
   ],
   "source": [
    "# Observing the data types in data7:\n",
    "TP_data7.info()"
   ]
  },
  {
   "cell_type": "code",
   "execution_count": 230,
   "id": "d031c226",
   "metadata": {},
   "outputs": [
    {
     "data": {
      "text/plain": [
       "InsurancePolicyNumber          0\n",
       "CustomerLoyaltyPeriod          0\n",
       "DateOfPolicyCoverage           0\n",
       "InsurancePolicyState           0\n",
       "Policy_CombinedSingleLimit     0\n",
       "Policy_Deductible              0\n",
       "PolicyAnnualPremium           47\n",
       "UmbrellaLimit                  0\n",
       "InsuredRelationship            0\n",
       "CustomerID                     0\n",
       "dtype: int64"
      ]
     },
     "execution_count": 230,
     "metadata": {},
     "output_type": "execute_result"
    }
   ],
   "source": [
    "# Checking null values in data7:\n",
    "TP_data7.isnull().sum()"
   ]
  },
  {
   "cell_type": "code",
   "execution_count": 231,
   "id": "18b6ca51",
   "metadata": {},
   "outputs": [
    {
     "data": {
      "text/html": [
       "<div>\n",
       "<style scoped>\n",
       "    .dataframe tbody tr th:only-of-type {\n",
       "        vertical-align: middle;\n",
       "    }\n",
       "\n",
       "    .dataframe tbody tr th {\n",
       "        vertical-align: top;\n",
       "    }\n",
       "\n",
       "    .dataframe thead th {\n",
       "        text-align: right;\n",
       "    }\n",
       "</style>\n",
       "<table border=\"1\" class=\"dataframe\">\n",
       "  <thead>\n",
       "    <tr style=\"text-align: right;\">\n",
       "      <th></th>\n",
       "      <th>InsurancePolicyNumber</th>\n",
       "      <th>CustomerLoyaltyPeriod</th>\n",
       "      <th>Policy_Deductible</th>\n",
       "      <th>PolicyAnnualPremium</th>\n",
       "      <th>UmbrellaLimit</th>\n",
       "    </tr>\n",
       "  </thead>\n",
       "  <tbody>\n",
       "    <tr>\n",
       "      <th>count</th>\n",
       "      <td>8912.000000</td>\n",
       "      <td>8912.000000</td>\n",
       "      <td>8912.000000</td>\n",
       "      <td>8865.000000</td>\n",
       "      <td>8.912000e+03</td>\n",
       "    </tr>\n",
       "    <tr>\n",
       "      <th>mean</th>\n",
       "      <td>130481.939295</td>\n",
       "      <td>203.055206</td>\n",
       "      <td>1123.580790</td>\n",
       "      <td>1260.235059</td>\n",
       "      <td>9.318594e+05</td>\n",
       "    </tr>\n",
       "    <tr>\n",
       "      <th>std</th>\n",
       "      <td>10879.022180</td>\n",
       "      <td>98.423250</td>\n",
       "      <td>553.139684</td>\n",
       "      <td>205.534081</td>\n",
       "      <td>1.919603e+06</td>\n",
       "    </tr>\n",
       "    <tr>\n",
       "      <th>min</th>\n",
       "      <td>110124.000000</td>\n",
       "      <td>0.000000</td>\n",
       "      <td>500.000000</td>\n",
       "      <td>433.330000</td>\n",
       "      <td>-8.836920e+05</td>\n",
       "    </tr>\n",
       "    <tr>\n",
       "      <th>25%</th>\n",
       "      <td>121312.500000</td>\n",
       "      <td>127.000000</td>\n",
       "      <td>622.000000</td>\n",
       "      <td>1119.460000</td>\n",
       "      <td>0.000000e+00</td>\n",
       "    </tr>\n",
       "    <tr>\n",
       "      <th>50%</th>\n",
       "      <td>130807.000000</td>\n",
       "      <td>199.000000</td>\n",
       "      <td>1000.000000</td>\n",
       "      <td>1265.840000</td>\n",
       "      <td>0.000000e+00</td>\n",
       "    </tr>\n",
       "    <tr>\n",
       "      <th>75%</th>\n",
       "      <td>139904.000000</td>\n",
       "      <td>265.000000</td>\n",
       "      <td>1691.250000</td>\n",
       "      <td>1399.240000</td>\n",
       "      <td>2.836810e+05</td>\n",
       "    </tr>\n",
       "    <tr>\n",
       "      <th>max</th>\n",
       "      <td>148617.000000</td>\n",
       "      <td>478.000000</td>\n",
       "      <td>2000.000000</td>\n",
       "      <td>2033.540000</td>\n",
       "      <td>9.699227e+06</td>\n",
       "    </tr>\n",
       "  </tbody>\n",
       "</table>\n",
       "</div>"
      ],
      "text/plain": [
       "       InsurancePolicyNumber  CustomerLoyaltyPeriod  Policy_Deductible  \\\n",
       "count            8912.000000            8912.000000        8912.000000   \n",
       "mean           130481.939295             203.055206        1123.580790   \n",
       "std             10879.022180              98.423250         553.139684   \n",
       "min            110124.000000               0.000000         500.000000   \n",
       "25%            121312.500000             127.000000         622.000000   \n",
       "50%            130807.000000             199.000000        1000.000000   \n",
       "75%            139904.000000             265.000000        1691.250000   \n",
       "max            148617.000000             478.000000        2000.000000   \n",
       "\n",
       "       PolicyAnnualPremium  UmbrellaLimit  \n",
       "count          8865.000000   8.912000e+03  \n",
       "mean           1260.235059   9.318594e+05  \n",
       "std             205.534081   1.919603e+06  \n",
       "min             433.330000  -8.836920e+05  \n",
       "25%            1119.460000   0.000000e+00  \n",
       "50%            1265.840000   0.000000e+00  \n",
       "75%            1399.240000   2.836810e+05  \n",
       "max            2033.540000   9.699227e+06  "
      ]
     },
     "execution_count": 231,
     "metadata": {},
     "output_type": "execute_result"
    }
   ],
   "source": [
    "# Checking the summary statistics of the data:\n",
    "TP_data7.describe()"
   ]
  },
  {
   "cell_type": "code",
   "execution_count": 232,
   "id": "c24de7ab",
   "metadata": {},
   "outputs": [],
   "source": [
    "# Creating a list of numerical and categorical attributes:\n",
    "num_cols = [\"InsurancePolicyNumber\", \"CustomerLoyaltyPeriod\", \"Policy_Deductible\", \"PolicyAnnualPremium\", \"UmbrellaLimit\"]\n",
    "cat_cols = [\"CustomerID\", \"DateOfPolicyCoverage\", \"InsurancePolicyState\", \"Policy_CombinedSingleLimit\", \"InsuredRelationship\"]"
   ]
  },
  {
   "cell_type": "code",
   "execution_count": 233,
   "id": "8b6d8dbf",
   "metadata": {},
   "outputs": [],
   "source": [
    "# Converting object data types to category in data7:\n",
    "TP_data7[cat_cols] = TP_data7[cat_cols].astype('category')"
   ]
  },
  {
   "cell_type": "code",
   "execution_count": 234,
   "id": "5fbd304a",
   "metadata": {},
   "outputs": [
    {
     "data": {
      "text/plain": [
       "InsurancePolicyNumber            int64\n",
       "CustomerLoyaltyPeriod            int64\n",
       "DateOfPolicyCoverage          category\n",
       "InsurancePolicyState          category\n",
       "Policy_CombinedSingleLimit    category\n",
       "Policy_Deductible                int64\n",
       "PolicyAnnualPremium            float64\n",
       "UmbrellaLimit                    int64\n",
       "InsuredRelationship           category\n",
       "CustomerID                    category\n",
       "dtype: object"
      ]
     },
     "execution_count": 234,
     "metadata": {},
     "output_type": "execute_result"
    }
   ],
   "source": [
    "# Checking the datatypes after type conversion:\n",
    "TP_data7.dtypes"
   ]
  },
  {
   "cell_type": "code",
   "execution_count": 235,
   "id": "e3a13ff6",
   "metadata": {},
   "outputs": [],
   "source": [
    "#coverting num_cols int to float\n",
    "TP_data7[num_cols] = TP_data7[num_cols].astype('float64')"
   ]
  },
  {
   "cell_type": "code",
   "execution_count": 236,
   "id": "1d8ca32b",
   "metadata": {},
   "outputs": [],
   "source": [
    "# imputing policy annual premium using mean data7:\n",
    "TP_data7[num_cols] = TP_data7[num_cols].fillna(TP_data7[num_cols].median()[0])"
   ]
  },
  {
   "cell_type": "code",
   "execution_count": 237,
   "id": "23304984",
   "metadata": {},
   "outputs": [
    {
     "data": {
      "text/plain": [
       "InsurancePolicyNumber         0\n",
       "CustomerLoyaltyPeriod         0\n",
       "DateOfPolicyCoverage          0\n",
       "InsurancePolicyState          0\n",
       "Policy_CombinedSingleLimit    0\n",
       "Policy_Deductible             0\n",
       "PolicyAnnualPremium           0\n",
       "UmbrellaLimit                 0\n",
       "InsuredRelationship           0\n",
       "CustomerID                    0\n",
       "dtype: int64"
      ]
     },
     "execution_count": 237,
     "metadata": {},
     "output_type": "execute_result"
    }
   ],
   "source": [
    "# checking null values after imputation:\n",
    "TP_data7.isnull().sum()"
   ]
  },
  {
   "cell_type": "code",
   "execution_count": 238,
   "id": "7b028147",
   "metadata": {},
   "outputs": [
    {
     "data": {
      "text/plain": [
       "InsurancePolicyNumber         8912\n",
       "CustomerLoyaltyPeriod          476\n",
       "DateOfPolicyCoverage          4533\n",
       "InsurancePolicyState             3\n",
       "Policy_CombinedSingleLimit       9\n",
       "Policy_Deductible             1292\n",
       "PolicyAnnualPremium           8357\n",
       "UmbrellaLimit                 2144\n",
       "InsuredRelationship              6\n",
       "CustomerID                    8912\n",
       "dtype: int64"
      ]
     },
     "execution_count": 238,
     "metadata": {},
     "output_type": "execute_result"
    }
   ],
   "source": [
    "# Checking the unique values:\n",
    "TP_data7.nunique()"
   ]
  },
  {
   "cell_type": "code",
   "execution_count": 239,
   "id": "7f4366aa",
   "metadata": {},
   "outputs": [],
   "source": [
    "# Reading Test_Claim data:\n",
    "TC_data8 = pd.read_csv('Test_Claim.csv', na_values=[\"?\", -5, \"MISSINGVALUE\", \"MISSEDDATA\"])"
   ]
  },
  {
   "cell_type": "code",
   "execution_count": 240,
   "id": "fa32ad08",
   "metadata": {},
   "outputs": [
    {
     "data": {
      "text/html": [
       "<div>\n",
       "<style scoped>\n",
       "    .dataframe tbody tr th:only-of-type {\n",
       "        vertical-align: middle;\n",
       "    }\n",
       "\n",
       "    .dataframe tbody tr th {\n",
       "        vertical-align: top;\n",
       "    }\n",
       "\n",
       "    .dataframe thead th {\n",
       "        text-align: right;\n",
       "    }\n",
       "</style>\n",
       "<table border=\"1\" class=\"dataframe\">\n",
       "  <thead>\n",
       "    <tr style=\"text-align: right;\">\n",
       "      <th></th>\n",
       "      <th>CustomerID</th>\n",
       "      <th>DateOfIncident</th>\n",
       "      <th>TypeOfIncident</th>\n",
       "      <th>TypeOfCollission</th>\n",
       "      <th>SeverityOfIncident</th>\n",
       "      <th>AuthoritiesContacted</th>\n",
       "      <th>IncidentState</th>\n",
       "      <th>IncidentCity</th>\n",
       "      <th>IncidentAddress</th>\n",
       "      <th>IncidentTime</th>\n",
       "      <th>NumberOfVehicles</th>\n",
       "      <th>PropertyDamage</th>\n",
       "      <th>BodilyInjuries</th>\n",
       "      <th>Witnesses</th>\n",
       "      <th>PoliceReport</th>\n",
       "      <th>AmountOfTotalClaim</th>\n",
       "      <th>AmountOfInjuryClaim</th>\n",
       "      <th>AmountOfPropertyClaim</th>\n",
       "      <th>AmountOfVehicleDamage</th>\n",
       "    </tr>\n",
       "  </thead>\n",
       "  <tbody>\n",
       "    <tr>\n",
       "      <th>0</th>\n",
       "      <td>Cust10008</td>\n",
       "      <td>2015-02-05</td>\n",
       "      <td>Multi-vehicle Collision</td>\n",
       "      <td>Front Collision</td>\n",
       "      <td>Minor Damage</td>\n",
       "      <td>Ambulance</td>\n",
       "      <td>State5</td>\n",
       "      <td>City2</td>\n",
       "      <td>Location 1354</td>\n",
       "      <td>4.0</td>\n",
       "      <td>3</td>\n",
       "      <td>NO</td>\n",
       "      <td>0</td>\n",
       "      <td>0.0</td>\n",
       "      <td>NaN</td>\n",
       "      <td>68354.0</td>\n",
       "      <td>6835</td>\n",
       "      <td>8059</td>\n",
       "      <td>53460</td>\n",
       "    </tr>\n",
       "    <tr>\n",
       "      <th>1</th>\n",
       "      <td>Cust10010</td>\n",
       "      <td>2015-01-13</td>\n",
       "      <td>Single Vehicle Collision</td>\n",
       "      <td>Rear Collision</td>\n",
       "      <td>Minor Damage</td>\n",
       "      <td>Fire</td>\n",
       "      <td>State9</td>\n",
       "      <td>City5</td>\n",
       "      <td>Location 1383</td>\n",
       "      <td>16.0</td>\n",
       "      <td>1</td>\n",
       "      <td>NaN</td>\n",
       "      <td>1</td>\n",
       "      <td>1.0</td>\n",
       "      <td>NaN</td>\n",
       "      <td>55270.0</td>\n",
       "      <td>8113</td>\n",
       "      <td>5240</td>\n",
       "      <td>41917</td>\n",
       "    </tr>\n",
       "    <tr>\n",
       "      <th>2</th>\n",
       "      <td>Cust10015</td>\n",
       "      <td>2015-01-05</td>\n",
       "      <td>Multi-vehicle Collision</td>\n",
       "      <td>Rear Collision</td>\n",
       "      <td>Minor Damage</td>\n",
       "      <td>Police</td>\n",
       "      <td>State5</td>\n",
       "      <td>City2</td>\n",
       "      <td>Location 2030</td>\n",
       "      <td>20.0</td>\n",
       "      <td>3</td>\n",
       "      <td>NO</td>\n",
       "      <td>0</td>\n",
       "      <td>1.0</td>\n",
       "      <td>NaN</td>\n",
       "      <td>59515.0</td>\n",
       "      <td>7490</td>\n",
       "      <td>9110</td>\n",
       "      <td>42915</td>\n",
       "    </tr>\n",
       "    <tr>\n",
       "      <th>3</th>\n",
       "      <td>Cust10020</td>\n",
       "      <td>2015-01-03</td>\n",
       "      <td>Vehicle Theft</td>\n",
       "      <td>NaN</td>\n",
       "      <td>Trivial Damage</td>\n",
       "      <td>None</td>\n",
       "      <td>State7</td>\n",
       "      <td>City5</td>\n",
       "      <td>Location 1449</td>\n",
       "      <td>10.0</td>\n",
       "      <td>1</td>\n",
       "      <td>NaN</td>\n",
       "      <td>2</td>\n",
       "      <td>1.0</td>\n",
       "      <td>NaN</td>\n",
       "      <td>4941.0</td>\n",
       "      <td>494</td>\n",
       "      <td>866</td>\n",
       "      <td>3581</td>\n",
       "    </tr>\n",
       "    <tr>\n",
       "      <th>4</th>\n",
       "      <td>Cust1003</td>\n",
       "      <td>2015-02-22</td>\n",
       "      <td>Multi-vehicle Collision</td>\n",
       "      <td>Rear Collision</td>\n",
       "      <td>Minor Damage</td>\n",
       "      <td>Police</td>\n",
       "      <td>State5</td>\n",
       "      <td>City2</td>\n",
       "      <td>Location 1916</td>\n",
       "      <td>7.0</td>\n",
       "      <td>3</td>\n",
       "      <td>NO</td>\n",
       "      <td>2</td>\n",
       "      <td>3.0</td>\n",
       "      <td>NO</td>\n",
       "      <td>34650.0</td>\n",
       "      <td>7700</td>\n",
       "      <td>3850</td>\n",
       "      <td>23100</td>\n",
       "    </tr>\n",
       "  </tbody>\n",
       "</table>\n",
       "</div>"
      ],
      "text/plain": [
       "  CustomerID DateOfIncident            TypeOfIncident TypeOfCollission  \\\n",
       "0  Cust10008     2015-02-05   Multi-vehicle Collision  Front Collision   \n",
       "1  Cust10010     2015-01-13  Single Vehicle Collision   Rear Collision   \n",
       "2  Cust10015     2015-01-05   Multi-vehicle Collision   Rear Collision   \n",
       "3  Cust10020     2015-01-03             Vehicle Theft              NaN   \n",
       "4   Cust1003     2015-02-22   Multi-vehicle Collision   Rear Collision   \n",
       "\n",
       "  SeverityOfIncident AuthoritiesContacted IncidentState IncidentCity  \\\n",
       "0       Minor Damage            Ambulance        State5        City2   \n",
       "1       Minor Damage                 Fire        State9        City5   \n",
       "2       Minor Damage               Police        State5        City2   \n",
       "3     Trivial Damage                 None        State7        City5   \n",
       "4       Minor Damage               Police        State5        City2   \n",
       "\n",
       "  IncidentAddress  IncidentTime  NumberOfVehicles PropertyDamage  \\\n",
       "0   Location 1354           4.0                 3             NO   \n",
       "1   Location 1383          16.0                 1            NaN   \n",
       "2   Location 2030          20.0                 3             NO   \n",
       "3   Location 1449          10.0                 1            NaN   \n",
       "4   Location 1916           7.0                 3             NO   \n",
       "\n",
       "   BodilyInjuries  Witnesses PoliceReport  AmountOfTotalClaim  \\\n",
       "0               0        0.0          NaN             68354.0   \n",
       "1               1        1.0          NaN             55270.0   \n",
       "2               0        1.0          NaN             59515.0   \n",
       "3               2        1.0          NaN              4941.0   \n",
       "4               2        3.0           NO             34650.0   \n",
       "\n",
       "   AmountOfInjuryClaim  AmountOfPropertyClaim  AmountOfVehicleDamage  \n",
       "0                 6835                   8059                  53460  \n",
       "1                 8113                   5240                  41917  \n",
       "2                 7490                   9110                  42915  \n",
       "3                  494                    866                   3581  \n",
       "4                 7700                   3850                  23100  "
      ]
     },
     "execution_count": 240,
     "metadata": {},
     "output_type": "execute_result"
    }
   ],
   "source": [
    "# Observing the top 5 records of data8:\n",
    "TC_data8.head()"
   ]
  },
  {
   "cell_type": "code",
   "execution_count": 241,
   "id": "06cd82f0",
   "metadata": {},
   "outputs": [
    {
     "data": {
      "text/plain": [
       "(8912, 19)"
      ]
     },
     "execution_count": 241,
     "metadata": {},
     "output_type": "execute_result"
    }
   ],
   "source": [
    "# Observing No of rows and columns in data8:\n",
    "TC_data8.shape"
   ]
  },
  {
   "cell_type": "code",
   "execution_count": 242,
   "id": "480e927a",
   "metadata": {},
   "outputs": [
    {
     "name": "stdout",
     "output_type": "stream",
     "text": [
      "<class 'pandas.core.frame.DataFrame'>\n",
      "RangeIndex: 8912 entries, 0 to 8911\n",
      "Data columns (total 19 columns):\n",
      " #   Column                 Non-Null Count  Dtype  \n",
      "---  ------                 --------------  -----  \n",
      " 0   CustomerID             8912 non-null   object \n",
      " 1   DateOfIncident         8912 non-null   object \n",
      " 2   TypeOfIncident         8912 non-null   object \n",
      " 3   TypeOfCollission       7149 non-null   object \n",
      " 4   SeverityOfIncident     8912 non-null   object \n",
      " 5   AuthoritiesContacted   8912 non-null   object \n",
      " 6   IncidentState          8912 non-null   object \n",
      " 7   IncidentCity           8912 non-null   object \n",
      " 8   IncidentAddress        8912 non-null   object \n",
      " 9   IncidentTime           8905 non-null   float64\n",
      " 10  NumberOfVehicles       8912 non-null   int64  \n",
      " 11  PropertyDamage         5713 non-null   object \n",
      " 12  BodilyInjuries         8912 non-null   int64  \n",
      " 13  Witnesses              8900 non-null   float64\n",
      " 14  PoliceReport           5898 non-null   object \n",
      " 15  AmountOfTotalClaim     8904 non-null   float64\n",
      " 16  AmountOfInjuryClaim    8912 non-null   int64  \n",
      " 17  AmountOfPropertyClaim  8912 non-null   int64  \n",
      " 18  AmountOfVehicleDamage  8912 non-null   int64  \n",
      "dtypes: float64(3), int64(5), object(11)\n",
      "memory usage: 1.3+ MB\n"
     ]
    }
   ],
   "source": [
    "# Observing the data types in data8:\n",
    "TC_data8.info()"
   ]
  },
  {
   "cell_type": "code",
   "execution_count": 243,
   "id": "bd5a1d86",
   "metadata": {},
   "outputs": [
    {
     "data": {
      "text/plain": [
       "CustomerID                  0\n",
       "DateOfIncident              0\n",
       "TypeOfIncident              0\n",
       "TypeOfCollission         1763\n",
       "SeverityOfIncident          0\n",
       "AuthoritiesContacted        0\n",
       "IncidentState               0\n",
       "IncidentCity                0\n",
       "IncidentAddress             0\n",
       "IncidentTime                7\n",
       "NumberOfVehicles            0\n",
       "PropertyDamage           3199\n",
       "BodilyInjuries              0\n",
       "Witnesses                  12\n",
       "PoliceReport             3014\n",
       "AmountOfTotalClaim          8\n",
       "AmountOfInjuryClaim         0\n",
       "AmountOfPropertyClaim       0\n",
       "AmountOfVehicleDamage       0\n",
       "dtype: int64"
      ]
     },
     "execution_count": 243,
     "metadata": {},
     "output_type": "execute_result"
    }
   ],
   "source": [
    "# Checking null values in data8:\n",
    "TC_data8.isnull().sum()"
   ]
  },
  {
   "cell_type": "code",
   "execution_count": 244,
   "id": "6a2fd79f",
   "metadata": {},
   "outputs": [
    {
     "data": {
      "text/html": [
       "<div>\n",
       "<style scoped>\n",
       "    .dataframe tbody tr th:only-of-type {\n",
       "        vertical-align: middle;\n",
       "    }\n",
       "\n",
       "    .dataframe tbody tr th {\n",
       "        vertical-align: top;\n",
       "    }\n",
       "\n",
       "    .dataframe thead th {\n",
       "        text-align: right;\n",
       "    }\n",
       "</style>\n",
       "<table border=\"1\" class=\"dataframe\">\n",
       "  <thead>\n",
       "    <tr style=\"text-align: right;\">\n",
       "      <th></th>\n",
       "      <th>IncidentTime</th>\n",
       "      <th>NumberOfVehicles</th>\n",
       "      <th>BodilyInjuries</th>\n",
       "      <th>Witnesses</th>\n",
       "      <th>AmountOfTotalClaim</th>\n",
       "      <th>AmountOfInjuryClaim</th>\n",
       "      <th>AmountOfPropertyClaim</th>\n",
       "      <th>AmountOfVehicleDamage</th>\n",
       "    </tr>\n",
       "  </thead>\n",
       "  <tbody>\n",
       "    <tr>\n",
       "      <th>count</th>\n",
       "      <td>8905.000000</td>\n",
       "      <td>8912.000000</td>\n",
       "      <td>8912.000000</td>\n",
       "      <td>8900.000000</td>\n",
       "      <td>8904.000000</td>\n",
       "      <td>8912.000000</td>\n",
       "      <td>8912.000000</td>\n",
       "      <td>8912.000000</td>\n",
       "    </tr>\n",
       "    <tr>\n",
       "      <th>mean</th>\n",
       "      <td>11.785963</td>\n",
       "      <td>1.801616</td>\n",
       "      <td>0.988330</td>\n",
       "      <td>1.494157</td>\n",
       "      <td>51092.660827</td>\n",
       "      <td>7214.076750</td>\n",
       "      <td>7114.529286</td>\n",
       "      <td>36761.520646</td>\n",
       "    </tr>\n",
       "    <tr>\n",
       "      <th>std</th>\n",
       "      <td>6.157104</td>\n",
       "      <td>0.972594</td>\n",
       "      <td>0.783827</td>\n",
       "      <td>1.046545</td>\n",
       "      <td>25653.520520</td>\n",
       "      <td>4447.763373</td>\n",
       "      <td>4367.824773</td>\n",
       "      <td>18381.523101</td>\n",
       "    </tr>\n",
       "    <tr>\n",
       "      <th>min</th>\n",
       "      <td>0.000000</td>\n",
       "      <td>1.000000</td>\n",
       "      <td>0.000000</td>\n",
       "      <td>0.000000</td>\n",
       "      <td>100.000000</td>\n",
       "      <td>0.000000</td>\n",
       "      <td>0.000000</td>\n",
       "      <td>70.000000</td>\n",
       "    </tr>\n",
       "    <tr>\n",
       "      <th>25%</th>\n",
       "      <td>6.000000</td>\n",
       "      <td>1.000000</td>\n",
       "      <td>0.000000</td>\n",
       "      <td>1.000000</td>\n",
       "      <td>42288.250000</td>\n",
       "      <td>4409.000000</td>\n",
       "      <td>4508.250000</td>\n",
       "      <td>30215.750000</td>\n",
       "    </tr>\n",
       "    <tr>\n",
       "      <th>50%</th>\n",
       "      <td>12.000000</td>\n",
       "      <td>1.000000</td>\n",
       "      <td>1.000000</td>\n",
       "      <td>1.000000</td>\n",
       "      <td>57770.500000</td>\n",
       "      <td>7133.500000</td>\n",
       "      <td>6988.500000</td>\n",
       "      <td>41913.000000</td>\n",
       "    </tr>\n",
       "    <tr>\n",
       "      <th>75%</th>\n",
       "      <td>17.000000</td>\n",
       "      <td>3.000000</td>\n",
       "      <td>2.000000</td>\n",
       "      <td>2.000000</td>\n",
       "      <td>68518.250000</td>\n",
       "      <td>10378.500000</td>\n",
       "      <td>10184.500000</td>\n",
       "      <td>49222.000000</td>\n",
       "    </tr>\n",
       "    <tr>\n",
       "      <th>max</th>\n",
       "      <td>23.000000</td>\n",
       "      <td>4.000000</td>\n",
       "      <td>2.000000</td>\n",
       "      <td>3.000000</td>\n",
       "      <td>112320.000000</td>\n",
       "      <td>20989.000000</td>\n",
       "      <td>23498.000000</td>\n",
       "      <td>77760.000000</td>\n",
       "    </tr>\n",
       "  </tbody>\n",
       "</table>\n",
       "</div>"
      ],
      "text/plain": [
       "       IncidentTime  NumberOfVehicles  BodilyInjuries    Witnesses  \\\n",
       "count   8905.000000       8912.000000     8912.000000  8900.000000   \n",
       "mean      11.785963          1.801616        0.988330     1.494157   \n",
       "std        6.157104          0.972594        0.783827     1.046545   \n",
       "min        0.000000          1.000000        0.000000     0.000000   \n",
       "25%        6.000000          1.000000        0.000000     1.000000   \n",
       "50%       12.000000          1.000000        1.000000     1.000000   \n",
       "75%       17.000000          3.000000        2.000000     2.000000   \n",
       "max       23.000000          4.000000        2.000000     3.000000   \n",
       "\n",
       "       AmountOfTotalClaim  AmountOfInjuryClaim  AmountOfPropertyClaim  \\\n",
       "count         8904.000000          8912.000000            8912.000000   \n",
       "mean         51092.660827          7214.076750            7114.529286   \n",
       "std          25653.520520          4447.763373            4367.824773   \n",
       "min            100.000000             0.000000               0.000000   \n",
       "25%          42288.250000          4409.000000            4508.250000   \n",
       "50%          57770.500000          7133.500000            6988.500000   \n",
       "75%          68518.250000         10378.500000           10184.500000   \n",
       "max         112320.000000         20989.000000           23498.000000   \n",
       "\n",
       "       AmountOfVehicleDamage  \n",
       "count            8912.000000  \n",
       "mean            36761.520646  \n",
       "std             18381.523101  \n",
       "min                70.000000  \n",
       "25%             30215.750000  \n",
       "50%             41913.000000  \n",
       "75%             49222.000000  \n",
       "max             77760.000000  "
      ]
     },
     "execution_count": 244,
     "metadata": {},
     "output_type": "execute_result"
    }
   ],
   "source": [
    "# Checking the summary statistics of the data8:\n",
    "TC_data8.describe()"
   ]
  },
  {
   "cell_type": "code",
   "execution_count": 245,
   "id": "b9a7a5af",
   "metadata": {},
   "outputs": [],
   "source": [
    "num_att = ['IncidentTime','NumberOfVehicles','BodilyInjuries','Witnesses','AmountOfTotalClaim','AmountOfInjuryClaim','AmountOfPropertyClaim','AmountOfVehicleDamage']\n",
    "categorical = ['CustomerID','DateOfIncident','TypeOfIncident','TypeOfCollission','SeverityOfIncident','AuthoritiesContacted','IncidentState','IncidentCity','IncidentAddress','PropertyDamage','PoliceReport']"
   ]
  },
  {
   "cell_type": "code",
   "execution_count": 246,
   "id": "d93e843a",
   "metadata": {},
   "outputs": [],
   "source": [
    "categorical = TC_data8.select_dtypes(include = 'object').columns\n",
    "TC_data8[categorical] = TC_data8[categorical].astype('category')"
   ]
  },
  {
   "cell_type": "code",
   "execution_count": 247,
   "id": "e0b0baf8",
   "metadata": {},
   "outputs": [],
   "source": [
    "TC_data8[num_att] = TC_data8[num_att].astype('float64')"
   ]
  },
  {
   "cell_type": "code",
   "execution_count": 248,
   "id": "83ee8b81",
   "metadata": {},
   "outputs": [
    {
     "data": {
      "text/plain": [
       "CustomerID               category\n",
       "DateOfIncident           category\n",
       "TypeOfIncident           category\n",
       "TypeOfCollission         category\n",
       "SeverityOfIncident       category\n",
       "AuthoritiesContacted     category\n",
       "IncidentState            category\n",
       "IncidentCity             category\n",
       "IncidentAddress          category\n",
       "IncidentTime              float64\n",
       "NumberOfVehicles          float64\n",
       "PropertyDamage           category\n",
       "BodilyInjuries            float64\n",
       "Witnesses                 float64\n",
       "PoliceReport             category\n",
       "AmountOfTotalClaim        float64\n",
       "AmountOfInjuryClaim       float64\n",
       "AmountOfPropertyClaim     float64\n",
       "AmountOfVehicleDamage     float64\n",
       "dtype: object"
      ]
     },
     "execution_count": 248,
     "metadata": {},
     "output_type": "execute_result"
    }
   ],
   "source": [
    "TC_data8.dtypes"
   ]
  },
  {
   "cell_type": "code",
   "execution_count": 249,
   "id": "27b5af67",
   "metadata": {},
   "outputs": [],
   "source": [
    "TC_data8[categorical] = TC_data8[categorical].astype('category')"
   ]
  },
  {
   "cell_type": "code",
   "execution_count": 250,
   "id": "4e6f069b",
   "metadata": {},
   "outputs": [],
   "source": [
    "# imputing policy annual premium using mean data2:\n",
    "TC_data8[num_att] = TC_data8[num_att].fillna(TC_data8[num_att].mean()[0])"
   ]
  },
  {
   "cell_type": "code",
   "execution_count": 251,
   "id": "af507b8e",
   "metadata": {},
   "outputs": [],
   "source": [
    "# Missing values imputation in categorical attributes with 'Most Frequent value':\n",
    "cat_imputer3 = SimpleImputer(strategy='most_frequent')\n",
    "TC_data8[categorical]=cat_imputer3.fit_transform(TC_data8[categorical])"
   ]
  },
  {
   "cell_type": "code",
   "execution_count": 252,
   "id": "e435473d",
   "metadata": {},
   "outputs": [
    {
     "data": {
      "text/plain": [
       "CustomerID               0\n",
       "DateOfIncident           0\n",
       "TypeOfIncident           0\n",
       "TypeOfCollission         0\n",
       "SeverityOfIncident       0\n",
       "AuthoritiesContacted     0\n",
       "IncidentState            0\n",
       "IncidentCity             0\n",
       "IncidentAddress          0\n",
       "IncidentTime             0\n",
       "NumberOfVehicles         0\n",
       "PropertyDamage           0\n",
       "BodilyInjuries           0\n",
       "Witnesses                0\n",
       "PoliceReport             0\n",
       "AmountOfTotalClaim       0\n",
       "AmountOfInjuryClaim      0\n",
       "AmountOfPropertyClaim    0\n",
       "AmountOfVehicleDamage    0\n",
       "dtype: int64"
      ]
     },
     "execution_count": 252,
     "metadata": {},
     "output_type": "execute_result"
    }
   ],
   "source": [
    "# Checking null values after imputation:\n",
    "TC_data8.isnull().sum()"
   ]
  },
  {
   "cell_type": "code",
   "execution_count": 253,
   "id": "ba3ad32f",
   "metadata": {},
   "outputs": [
    {
     "data": {
      "text/plain": [
       "CustomerID               8912\n",
       "DateOfIncident             67\n",
       "TypeOfIncident              4\n",
       "TypeOfCollission            3\n",
       "SeverityOfIncident          4\n",
       "AuthoritiesContacted        5\n",
       "IncidentState               7\n",
       "IncidentCity                7\n",
       "IncidentAddress           996\n",
       "IncidentTime               25\n",
       "NumberOfVehicles            4\n",
       "PropertyDamage              2\n",
       "BodilyInjuries              3\n",
       "Witnesses                   5\n",
       "PoliceReport                2\n",
       "AmountOfTotalClaim       8102\n",
       "AmountOfInjuryClaim      6242\n",
       "AmountOfPropertyClaim    6186\n",
       "AmountOfVehicleDamage    7843\n",
       "dtype: int64"
      ]
     },
     "execution_count": 253,
     "metadata": {},
     "output_type": "execute_result"
    }
   ],
   "source": [
    "# Checking the unique values:\n",
    "TC_data8.nunique()"
   ]
  },
  {
   "cell_type": "code",
   "execution_count": 254,
   "id": "65d39449",
   "metadata": {},
   "outputs": [],
   "source": [
    "# Reading the test_vehicle data:\n",
    "TV_data9 = pd.read_csv(\"Test_Vehicle.csv\", na_values = \"???\")"
   ]
  },
  {
   "cell_type": "code",
   "execution_count": 255,
   "id": "ac6c606f",
   "metadata": {},
   "outputs": [
    {
     "data": {
      "text/html": [
       "<div>\n",
       "<style scoped>\n",
       "    .dataframe tbody tr th:only-of-type {\n",
       "        vertical-align: middle;\n",
       "    }\n",
       "\n",
       "    .dataframe tbody tr th {\n",
       "        vertical-align: top;\n",
       "    }\n",
       "\n",
       "    .dataframe thead th {\n",
       "        text-align: right;\n",
       "    }\n",
       "</style>\n",
       "<table border=\"1\" class=\"dataframe\">\n",
       "  <thead>\n",
       "    <tr style=\"text-align: right;\">\n",
       "      <th></th>\n",
       "      <th>CustomerID</th>\n",
       "      <th>VehicleAttribute</th>\n",
       "      <th>VehicleAttributeDetails</th>\n",
       "    </tr>\n",
       "  </thead>\n",
       "  <tbody>\n",
       "    <tr>\n",
       "      <th>0</th>\n",
       "      <td>Cust28465</td>\n",
       "      <td>VehicleModel</td>\n",
       "      <td>92x</td>\n",
       "    </tr>\n",
       "    <tr>\n",
       "      <th>1</th>\n",
       "      <td>Cust20319</td>\n",
       "      <td>VehicleModel</td>\n",
       "      <td>Jetta</td>\n",
       "    </tr>\n",
       "    <tr>\n",
       "      <th>2</th>\n",
       "      <td>Cust3683</td>\n",
       "      <td>VehicleID</td>\n",
       "      <td>Vehicle22709</td>\n",
       "    </tr>\n",
       "    <tr>\n",
       "      <th>3</th>\n",
       "      <td>Cust29385</td>\n",
       "      <td>VehicleID</td>\n",
       "      <td>Vehicle20347</td>\n",
       "    </tr>\n",
       "    <tr>\n",
       "      <th>4</th>\n",
       "      <td>Cust34403</td>\n",
       "      <td>VehicleModel</td>\n",
       "      <td>Camry</td>\n",
       "    </tr>\n",
       "    <tr>\n",
       "      <th>...</th>\n",
       "      <td>...</td>\n",
       "      <td>...</td>\n",
       "      <td>...</td>\n",
       "    </tr>\n",
       "    <tr>\n",
       "      <th>35643</th>\n",
       "      <td>Cust1980</td>\n",
       "      <td>VehicleModel</td>\n",
       "      <td>95</td>\n",
       "    </tr>\n",
       "    <tr>\n",
       "      <th>35644</th>\n",
       "      <td>Cust17773</td>\n",
       "      <td>VehicleModel</td>\n",
       "      <td>Silverado</td>\n",
       "    </tr>\n",
       "    <tr>\n",
       "      <th>35645</th>\n",
       "      <td>Cust24313</td>\n",
       "      <td>VehicleID</td>\n",
       "      <td>Vehicle33407</td>\n",
       "    </tr>\n",
       "    <tr>\n",
       "      <th>35646</th>\n",
       "      <td>Cust5061</td>\n",
       "      <td>VehicleYOM</td>\n",
       "      <td>2003</td>\n",
       "    </tr>\n",
       "    <tr>\n",
       "      <th>35647</th>\n",
       "      <td>Cust13782</td>\n",
       "      <td>VehicleMake</td>\n",
       "      <td>Chevrolet</td>\n",
       "    </tr>\n",
       "  </tbody>\n",
       "</table>\n",
       "<p>35648 rows × 3 columns</p>\n",
       "</div>"
      ],
      "text/plain": [
       "      CustomerID VehicleAttribute VehicleAttributeDetails\n",
       "0      Cust28465     VehicleModel                     92x\n",
       "1      Cust20319     VehicleModel                   Jetta\n",
       "2       Cust3683        VehicleID            Vehicle22709\n",
       "3      Cust29385        VehicleID            Vehicle20347\n",
       "4      Cust34403     VehicleModel                   Camry\n",
       "...          ...              ...                     ...\n",
       "35643   Cust1980     VehicleModel                      95\n",
       "35644  Cust17773     VehicleModel               Silverado\n",
       "35645  Cust24313        VehicleID            Vehicle33407\n",
       "35646   Cust5061       VehicleYOM                    2003\n",
       "35647  Cust13782      VehicleMake               Chevrolet\n",
       "\n",
       "[35648 rows x 3 columns]"
      ]
     },
     "execution_count": 255,
     "metadata": {},
     "output_type": "execute_result"
    }
   ],
   "source": [
    "# Observing the data:\n",
    "TV_data9"
   ]
  },
  {
   "cell_type": "code",
   "execution_count": 256,
   "id": "de35b4d0",
   "metadata": {},
   "outputs": [
    {
     "name": "stdout",
     "output_type": "stream",
     "text": [
      "<class 'pandas.core.frame.DataFrame'>\n",
      "RangeIndex: 35648 entries, 0 to 35647\n",
      "Data columns (total 3 columns):\n",
      " #   Column                   Non-Null Count  Dtype \n",
      "---  ------                   --------------  ----- \n",
      " 0   CustomerID               35648 non-null  object\n",
      " 1   VehicleAttribute         35648 non-null  object\n",
      " 2   VehicleAttributeDetails  35640 non-null  object\n",
      "dtypes: object(3)\n",
      "memory usage: 835.6+ KB\n"
     ]
    }
   ],
   "source": [
    "# Checking the data types in data9:\n",
    "TV_data9.info()"
   ]
  },
  {
   "cell_type": "code",
   "execution_count": 257,
   "id": "7b5308ff",
   "metadata": {},
   "outputs": [
    {
     "name": "stdout",
     "output_type": "stream",
     "text": [
      "     CustomerID VehicleModel     VehicleID VehicleYOM VehicleMake\n",
      "0     Cust28465          92x  Vehicle36793       2001      Suburu\n",
      "1     Cust20319        Jetta   Vehicle7679       2006       Dodge\n",
      "2     Cust34403        Camry  Vehicle26765       2014      Toyota\n",
      "3      Cust2595           X6  Vehicle25368       2013         BMW\n",
      "4      Cust8061        Civic  Vehicle29502       2002       Honda\n",
      "...         ...          ...           ...        ...         ...\n",
      "8907  Cust14970        Jetta  Vehicle11880       2011  Volkswagen\n",
      "8908   Cust1008           A5  Vehicle31323       2015        Audi\n",
      "8909  Cust28649           X6   Vehicle2668       1995         BMW\n",
      "8910   Cust1980           95   Vehicle4631       2004        Saab\n",
      "8911  Cust17773    Silverado  Vehicle34329       2012       Honda\n",
      "\n",
      "[8912 rows x 5 columns]\n"
     ]
    }
   ],
   "source": [
    "#As shape of the vehicle data is inadequate converting the data into a structured way:\n",
    "vendors=TV_data9['VehicleAttribute'].unique()\n",
    "Vehicledata=TV_data9['VehicleAttribute'].unique()\n",
    "TVehicle_data9=pd.concat([TV_data9.set_index(['CustomerID']).groupby('VehicleAttribute')['VehicleAttributeDetails'].get_group(key) for key in vendors],axis=1)\n",
    "TVehicle_data9.columns=vendors\n",
    "TVehicle_data9.reset_index(inplace=True)\n",
    "print(TVehicle_data9)\n",
    "vehicle_data9 = pd.DataFrame(data=TVehicle_data9)"
   ]
  },
  {
   "cell_type": "code",
   "execution_count": 258,
   "id": "aa7926d9",
   "metadata": {},
   "outputs": [
    {
     "data": {
      "text/html": [
       "<div>\n",
       "<style scoped>\n",
       "    .dataframe tbody tr th:only-of-type {\n",
       "        vertical-align: middle;\n",
       "    }\n",
       "\n",
       "    .dataframe tbody tr th {\n",
       "        vertical-align: top;\n",
       "    }\n",
       "\n",
       "    .dataframe thead th {\n",
       "        text-align: right;\n",
       "    }\n",
       "</style>\n",
       "<table border=\"1\" class=\"dataframe\">\n",
       "  <thead>\n",
       "    <tr style=\"text-align: right;\">\n",
       "      <th></th>\n",
       "      <th>CustomerID</th>\n",
       "      <th>VehicleModel</th>\n",
       "      <th>VehicleID</th>\n",
       "      <th>VehicleYOM</th>\n",
       "      <th>VehicleMake</th>\n",
       "    </tr>\n",
       "  </thead>\n",
       "  <tbody>\n",
       "    <tr>\n",
       "      <th>0</th>\n",
       "      <td>Cust28465</td>\n",
       "      <td>92x</td>\n",
       "      <td>Vehicle36793</td>\n",
       "      <td>2001</td>\n",
       "      <td>Suburu</td>\n",
       "    </tr>\n",
       "    <tr>\n",
       "      <th>1</th>\n",
       "      <td>Cust20319</td>\n",
       "      <td>Jetta</td>\n",
       "      <td>Vehicle7679</td>\n",
       "      <td>2006</td>\n",
       "      <td>Dodge</td>\n",
       "    </tr>\n",
       "    <tr>\n",
       "      <th>2</th>\n",
       "      <td>Cust34403</td>\n",
       "      <td>Camry</td>\n",
       "      <td>Vehicle26765</td>\n",
       "      <td>2014</td>\n",
       "      <td>Toyota</td>\n",
       "    </tr>\n",
       "    <tr>\n",
       "      <th>3</th>\n",
       "      <td>Cust2595</td>\n",
       "      <td>X6</td>\n",
       "      <td>Vehicle25368</td>\n",
       "      <td>2013</td>\n",
       "      <td>BMW</td>\n",
       "    </tr>\n",
       "    <tr>\n",
       "      <th>4</th>\n",
       "      <td>Cust8061</td>\n",
       "      <td>Civic</td>\n",
       "      <td>Vehicle29502</td>\n",
       "      <td>2002</td>\n",
       "      <td>Honda</td>\n",
       "    </tr>\n",
       "  </tbody>\n",
       "</table>\n",
       "</div>"
      ],
      "text/plain": [
       "  CustomerID VehicleModel     VehicleID VehicleYOM VehicleMake\n",
       "0  Cust28465          92x  Vehicle36793       2001      Suburu\n",
       "1  Cust20319        Jetta   Vehicle7679       2006       Dodge\n",
       "2  Cust34403        Camry  Vehicle26765       2014      Toyota\n",
       "3   Cust2595           X6  Vehicle25368       2013         BMW\n",
       "4   Cust8061        Civic  Vehicle29502       2002       Honda"
      ]
     },
     "execution_count": 258,
     "metadata": {},
     "output_type": "execute_result"
    }
   ],
   "source": [
    "# Observing the data after re-arrangement:\n",
    "vehicle_data9.head()"
   ]
  },
  {
   "cell_type": "code",
   "execution_count": 259,
   "id": "1b56a64b",
   "metadata": {},
   "outputs": [
    {
     "data": {
      "text/plain": [
       "CustomerID      0\n",
       "VehicleModel    0\n",
       "VehicleID       0\n",
       "VehicleYOM      0\n",
       "VehicleMake     8\n",
       "dtype: int64"
      ]
     },
     "execution_count": 259,
     "metadata": {},
     "output_type": "execute_result"
    }
   ],
   "source": [
    "# checking the null values in data9:\n",
    "vehicle_data9.isnull().sum()"
   ]
  },
  {
   "cell_type": "code",
   "execution_count": 260,
   "id": "6381897a",
   "metadata": {},
   "outputs": [
    {
     "data": {
      "text/plain": [
       "CustomerID      object\n",
       "VehicleModel    object\n",
       "VehicleID       object\n",
       "VehicleYOM      object\n",
       "VehicleMake     object\n",
       "dtype: object"
      ]
     },
     "execution_count": 260,
     "metadata": {},
     "output_type": "execute_result"
    }
   ],
   "source": [
    "# Checking the data types of attributes in the data:\n",
    "vehicle_data9.dtypes"
   ]
  },
  {
   "cell_type": "code",
   "execution_count": 261,
   "id": "c8042297",
   "metadata": {},
   "outputs": [
    {
     "name": "stdout",
     "output_type": "stream",
     "text": [
      "<class 'pandas.core.frame.DataFrame'>\n",
      "RangeIndex: 8912 entries, 0 to 8911\n",
      "Data columns (total 5 columns):\n",
      " #   Column        Non-Null Count  Dtype \n",
      "---  ------        --------------  ----- \n",
      " 0   CustomerID    8912 non-null   object\n",
      " 1   VehicleModel  8912 non-null   object\n",
      " 2   VehicleID     8912 non-null   object\n",
      " 3   VehicleYOM    8912 non-null   object\n",
      " 4   VehicleMake   8904 non-null   object\n",
      "dtypes: object(5)\n",
      "memory usage: 348.2+ KB\n"
     ]
    }
   ],
   "source": [
    "vehicle_data9.info()"
   ]
  },
  {
   "cell_type": "code",
   "execution_count": 262,
   "id": "84dc386c",
   "metadata": {},
   "outputs": [],
   "source": [
    "# Identifying the categorical variables in the data:\n",
    "cat_va13 = ['CustomerID','VehicleID','VehicleModel','VehicleMake','VehicleYOM']"
   ]
  },
  {
   "cell_type": "code",
   "execution_count": 263,
   "id": "9cc24c67",
   "metadata": {},
   "outputs": [],
   "source": [
    "# Performing the type conversions for the attributes in categorical data:\n",
    "vehicle_data9[cat_va13] = vehicle_data9[cat_va13].astype('category')"
   ]
  },
  {
   "cell_type": "code",
   "execution_count": 264,
   "id": "6e4b9b77",
   "metadata": {},
   "outputs": [
    {
     "data": {
      "text/plain": [
       "CustomerID      category\n",
       "VehicleModel    category\n",
       "VehicleID       category\n",
       "VehicleYOM      category\n",
       "VehicleMake     category\n",
       "dtype: object"
      ]
     },
     "execution_count": 264,
     "metadata": {},
     "output_type": "execute_result"
    }
   ],
   "source": [
    "# Checking the datatypes after type conversion:\n",
    "vehicle_data9.dtypes"
   ]
  },
  {
   "cell_type": "code",
   "execution_count": 265,
   "id": "3dc50b9a",
   "metadata": {},
   "outputs": [],
   "source": [
    "# # Missing values imputation in categorical attributes with 'Most Frequent value':\n",
    "cat_imputer4 = SimpleImputer(strategy='most_frequent')\n",
    "vehicle_data9[cat_va13]=cat_imputer4.fit_transform(vehicle_data9[cat_va13])"
   ]
  },
  {
   "cell_type": "code",
   "execution_count": 266,
   "id": "6d2b40b0",
   "metadata": {},
   "outputs": [
    {
     "data": {
      "text/plain": [
       "CustomerID      0\n",
       "VehicleModel    0\n",
       "VehicleID       0\n",
       "VehicleYOM      0\n",
       "VehicleMake     0\n",
       "dtype: int64"
      ]
     },
     "execution_count": 266,
     "metadata": {},
     "output_type": "execute_result"
    }
   ],
   "source": [
    "# Checking null values after imputation:\n",
    "vehicle_data9.isnull().sum()"
   ]
  },
  {
   "cell_type": "code",
   "execution_count": 267,
   "id": "e2ec308a",
   "metadata": {},
   "outputs": [],
   "source": [
    "# Reading the Test data as Tdata:\n",
    "TData = pd.read_csv(\"Test.csv\")"
   ]
  },
  {
   "cell_type": "code",
   "execution_count": 268,
   "id": "280eb3cc",
   "metadata": {},
   "outputs": [],
   "source": [
    "testdata = pd.merge(TD_data6, TP_data7, on='CustomerID').merge(TC_data8, on='CustomerID').merge(vehicle_data9, on='CustomerID')"
   ]
  },
  {
   "cell_type": "code",
   "execution_count": 269,
   "id": "16312c9f",
   "metadata": {},
   "outputs": [
    {
     "data": {
      "text/html": [
       "<div>\n",
       "<style scoped>\n",
       "    .dataframe tbody tr th:only-of-type {\n",
       "        vertical-align: middle;\n",
       "    }\n",
       "\n",
       "    .dataframe tbody tr th {\n",
       "        vertical-align: top;\n",
       "    }\n",
       "\n",
       "    .dataframe thead th {\n",
       "        text-align: right;\n",
       "    }\n",
       "</style>\n",
       "<table border=\"1\" class=\"dataframe\">\n",
       "  <thead>\n",
       "    <tr style=\"text-align: right;\">\n",
       "      <th></th>\n",
       "      <th>CustomerID</th>\n",
       "      <th>InsuredAge</th>\n",
       "      <th>InsuredZipCode</th>\n",
       "      <th>InsuredGender</th>\n",
       "      <th>InsuredEducationLevel</th>\n",
       "      <th>InsuredOccupation</th>\n",
       "      <th>InsuredHobbies</th>\n",
       "      <th>CapitalGains</th>\n",
       "      <th>CapitalLoss</th>\n",
       "      <th>Country</th>\n",
       "      <th>...</th>\n",
       "      <th>Witnesses</th>\n",
       "      <th>PoliceReport</th>\n",
       "      <th>AmountOfTotalClaim</th>\n",
       "      <th>AmountOfInjuryClaim</th>\n",
       "      <th>AmountOfPropertyClaim</th>\n",
       "      <th>AmountOfVehicleDamage</th>\n",
       "      <th>VehicleModel</th>\n",
       "      <th>VehicleID</th>\n",
       "      <th>VehicleYOM</th>\n",
       "      <th>VehicleMake</th>\n",
       "    </tr>\n",
       "  </thead>\n",
       "  <tbody>\n",
       "    <tr>\n",
       "      <th>0</th>\n",
       "      <td>Cust10008</td>\n",
       "      <td>27</td>\n",
       "      <td>471704</td>\n",
       "      <td>FEMALE</td>\n",
       "      <td>High School</td>\n",
       "      <td>adm-clerical</td>\n",
       "      <td>base-jumping</td>\n",
       "      <td>56400</td>\n",
       "      <td>-57000</td>\n",
       "      <td>India</td>\n",
       "      <td>...</td>\n",
       "      <td>0.0</td>\n",
       "      <td>NO</td>\n",
       "      <td>68354.0</td>\n",
       "      <td>6835.0</td>\n",
       "      <td>8059.0</td>\n",
       "      <td>53460.0</td>\n",
       "      <td>Passat</td>\n",
       "      <td>Vehicle34362</td>\n",
       "      <td>1995</td>\n",
       "      <td>Volkswagen</td>\n",
       "    </tr>\n",
       "    <tr>\n",
       "      <th>1</th>\n",
       "      <td>Cust10010</td>\n",
       "      <td>40</td>\n",
       "      <td>455810</td>\n",
       "      <td>FEMALE</td>\n",
       "      <td>MD</td>\n",
       "      <td>prof-specialty</td>\n",
       "      <td>golf</td>\n",
       "      <td>56700</td>\n",
       "      <td>-65600</td>\n",
       "      <td>India</td>\n",
       "      <td>...</td>\n",
       "      <td>1.0</td>\n",
       "      <td>NO</td>\n",
       "      <td>55270.0</td>\n",
       "      <td>8113.0</td>\n",
       "      <td>5240.0</td>\n",
       "      <td>41917.0</td>\n",
       "      <td>Ultima</td>\n",
       "      <td>Vehicle17046</td>\n",
       "      <td>2006</td>\n",
       "      <td>Nissan</td>\n",
       "    </tr>\n",
       "    <tr>\n",
       "      <th>2</th>\n",
       "      <td>Cust10015</td>\n",
       "      <td>39</td>\n",
       "      <td>461919</td>\n",
       "      <td>MALE</td>\n",
       "      <td>JD</td>\n",
       "      <td>other-service</td>\n",
       "      <td>movies</td>\n",
       "      <td>30400</td>\n",
       "      <td>0</td>\n",
       "      <td>India</td>\n",
       "      <td>...</td>\n",
       "      <td>1.0</td>\n",
       "      <td>NO</td>\n",
       "      <td>59515.0</td>\n",
       "      <td>7490.0</td>\n",
       "      <td>9110.0</td>\n",
       "      <td>42915.0</td>\n",
       "      <td>Impreza</td>\n",
       "      <td>Vehicle11038</td>\n",
       "      <td>2010</td>\n",
       "      <td>Suburu</td>\n",
       "    </tr>\n",
       "    <tr>\n",
       "      <th>3</th>\n",
       "      <td>Cust10020</td>\n",
       "      <td>38</td>\n",
       "      <td>600904</td>\n",
       "      <td>FEMALE</td>\n",
       "      <td>Masters</td>\n",
       "      <td>exec-managerial</td>\n",
       "      <td>video-games</td>\n",
       "      <td>68500</td>\n",
       "      <td>0</td>\n",
       "      <td>India</td>\n",
       "      <td>...</td>\n",
       "      <td>1.0</td>\n",
       "      <td>NO</td>\n",
       "      <td>4941.0</td>\n",
       "      <td>494.0</td>\n",
       "      <td>866.0</td>\n",
       "      <td>3581.0</td>\n",
       "      <td>TL</td>\n",
       "      <td>Vehicle37114</td>\n",
       "      <td>2009</td>\n",
       "      <td>Accura</td>\n",
       "    </tr>\n",
       "  </tbody>\n",
       "</table>\n",
       "<p>4 rows × 41 columns</p>\n",
       "</div>"
      ],
      "text/plain": [
       "  CustomerID  InsuredAge  InsuredZipCode InsuredGender InsuredEducationLevel  \\\n",
       "0  Cust10008          27          471704        FEMALE           High School   \n",
       "1  Cust10010          40          455810        FEMALE                    MD   \n",
       "2  Cust10015          39          461919          MALE                    JD   \n",
       "3  Cust10020          38          600904        FEMALE               Masters   \n",
       "\n",
       "  InsuredOccupation InsuredHobbies  CapitalGains  CapitalLoss Country  ...  \\\n",
       "0      adm-clerical   base-jumping         56400       -57000   India  ...   \n",
       "1    prof-specialty           golf         56700       -65600   India  ...   \n",
       "2     other-service         movies         30400            0   India  ...   \n",
       "3   exec-managerial    video-games         68500            0   India  ...   \n",
       "\n",
       "   Witnesses  PoliceReport AmountOfTotalClaim AmountOfInjuryClaim  \\\n",
       "0        0.0            NO            68354.0              6835.0   \n",
       "1        1.0            NO            55270.0              8113.0   \n",
       "2        1.0            NO            59515.0              7490.0   \n",
       "3        1.0            NO             4941.0               494.0   \n",
       "\n",
       "  AmountOfPropertyClaim  AmountOfVehicleDamage  VehicleModel     VehicleID  \\\n",
       "0                8059.0                53460.0        Passat  Vehicle34362   \n",
       "1                5240.0                41917.0        Ultima  Vehicle17046   \n",
       "2                9110.0                42915.0       Impreza  Vehicle11038   \n",
       "3                 866.0                 3581.0            TL  Vehicle37114   \n",
       "\n",
       "  VehicleYOM VehicleMake  \n",
       "0       1995  Volkswagen  \n",
       "1       2006      Nissan  \n",
       "2       2010      Suburu  \n",
       "3       2009      Accura  \n",
       "\n",
       "[4 rows x 41 columns]"
      ]
     },
     "execution_count": 269,
     "metadata": {},
     "output_type": "execute_result"
    }
   ],
   "source": [
    "testdata.head(4)"
   ]
  },
  {
   "cell_type": "code",
   "execution_count": 270,
   "id": "981a551e",
   "metadata": {},
   "outputs": [
    {
     "data": {
      "text/plain": [
       "(8912, 41)"
      ]
     },
     "execution_count": 270,
     "metadata": {},
     "output_type": "execute_result"
    }
   ],
   "source": [
    "testdata.shape"
   ]
  },
  {
   "cell_type": "code",
   "execution_count": 271,
   "id": "9c855b7b",
   "metadata": {},
   "outputs": [
    {
     "data": {
      "text/plain": [
       "CustomerID                      object\n",
       "InsuredAge                       int64\n",
       "InsuredZipCode                   int64\n",
       "InsuredGender                   object\n",
       "InsuredEducationLevel           object\n",
       "InsuredOccupation               object\n",
       "InsuredHobbies                  object\n",
       "CapitalGains                     int64\n",
       "CapitalLoss                      int64\n",
       "Country                         object\n",
       "InsurancePolicyNumber          float64\n",
       "CustomerLoyaltyPeriod          float64\n",
       "DateOfPolicyCoverage          category\n",
       "InsurancePolicyState          category\n",
       "Policy_CombinedSingleLimit    category\n",
       "Policy_Deductible              float64\n",
       "PolicyAnnualPremium            float64\n",
       "UmbrellaLimit                  float64\n",
       "InsuredRelationship           category\n",
       "DateOfIncident                  object\n",
       "TypeOfIncident                  object\n",
       "TypeOfCollission                object\n",
       "SeverityOfIncident              object\n",
       "AuthoritiesContacted            object\n",
       "IncidentState                   object\n",
       "IncidentCity                    object\n",
       "IncidentAddress                 object\n",
       "IncidentTime                   float64\n",
       "NumberOfVehicles               float64\n",
       "PropertyDamage                  object\n",
       "BodilyInjuries                 float64\n",
       "Witnesses                      float64\n",
       "PoliceReport                    object\n",
       "AmountOfTotalClaim             float64\n",
       "AmountOfInjuryClaim            float64\n",
       "AmountOfPropertyClaim          float64\n",
       "AmountOfVehicleDamage          float64\n",
       "VehicleModel                    object\n",
       "VehicleID                       object\n",
       "VehicleYOM                      object\n",
       "VehicleMake                     object\n",
       "dtype: object"
      ]
     },
     "execution_count": 271,
     "metadata": {},
     "output_type": "execute_result"
    }
   ],
   "source": [
    "testdata.dtypes"
   ]
  },
  {
   "cell_type": "code",
   "execution_count": 272,
   "id": "316bcace",
   "metadata": {},
   "outputs": [
    {
     "data": {
      "text/plain": [
       "CustomerID                    8912\n",
       "InsuredAge                      46\n",
       "InsuredZipCode                 994\n",
       "InsuredGender                    2\n",
       "InsuredEducationLevel            7\n",
       "InsuredOccupation               14\n",
       "InsuredHobbies                  20\n",
       "CapitalGains                   338\n",
       "CapitalLoss                    353\n",
       "Country                          1\n",
       "InsurancePolicyNumber         8912\n",
       "CustomerLoyaltyPeriod          476\n",
       "DateOfPolicyCoverage          4533\n",
       "InsurancePolicyState             3\n",
       "Policy_CombinedSingleLimit       9\n",
       "Policy_Deductible             1292\n",
       "PolicyAnnualPremium           8357\n",
       "UmbrellaLimit                 2144\n",
       "InsuredRelationship              6\n",
       "DateOfIncident                  67\n",
       "TypeOfIncident                   4\n",
       "TypeOfCollission                 3\n",
       "SeverityOfIncident               4\n",
       "AuthoritiesContacted             5\n",
       "IncidentState                    7\n",
       "IncidentCity                     7\n",
       "IncidentAddress                996\n",
       "IncidentTime                    25\n",
       "NumberOfVehicles                 4\n",
       "PropertyDamage                   2\n",
       "BodilyInjuries                   3\n",
       "Witnesses                        5\n",
       "PoliceReport                     2\n",
       "AmountOfTotalClaim            8102\n",
       "AmountOfInjuryClaim           6242\n",
       "AmountOfPropertyClaim         6186\n",
       "AmountOfVehicleDamage         7843\n",
       "VehicleModel                    38\n",
       "VehicleID                     8912\n",
       "VehicleYOM                      21\n",
       "VehicleMake                     14\n",
       "dtype: int64"
      ]
     },
     "execution_count": 272,
     "metadata": {},
     "output_type": "execute_result"
    }
   ],
   "source": [
    "testdata.nunique()"
   ]
  },
  {
   "cell_type": "code",
   "execution_count": 273,
   "id": "9a18a34d",
   "metadata": {},
   "outputs": [],
   "source": [
    "test = testdata.drop([\"CustomerID\",\"VehicleID\",\"Country\",\"InsurancePolicyNumber\",\"VehicleModel\",\"InsuredHobbies\",\"DateOfPolicyCoverage\",\"InsuredRelationship\",\"InsuredGender\",\"InsurancePolicyState\",\"Policy_CombinedSingleLimit\",\"IncidentAddress\",\"InsuredZipCode\",\"IncidentState\"], axis = 1, inplace=True)"
   ]
  },
  {
   "cell_type": "code",
   "execution_count": 274,
   "id": "283af6d1",
   "metadata": {},
   "outputs": [
    {
     "data": {
      "text/plain": [
       "Index(['InsuredAge', 'InsuredEducationLevel', 'InsuredOccupation',\n",
       "       'CapitalGains', 'CapitalLoss', 'CustomerLoyaltyPeriod',\n",
       "       'Policy_Deductible', 'PolicyAnnualPremium', 'UmbrellaLimit',\n",
       "       'DateOfIncident', 'TypeOfIncident', 'TypeOfCollission',\n",
       "       'SeverityOfIncident', 'AuthoritiesContacted', 'IncidentCity',\n",
       "       'IncidentTime', 'NumberOfVehicles', 'PropertyDamage', 'BodilyInjuries',\n",
       "       'Witnesses', 'PoliceReport', 'AmountOfTotalClaim',\n",
       "       'AmountOfInjuryClaim', 'AmountOfPropertyClaim', 'AmountOfVehicleDamage',\n",
       "       'VehicleYOM', 'VehicleMake'],\n",
       "      dtype='object')"
      ]
     },
     "execution_count": 274,
     "metadata": {},
     "output_type": "execute_result"
    }
   ],
   "source": [
    "testdata.columns"
   ]
  },
  {
   "cell_type": "code",
   "execution_count": 275,
   "id": "6adb40ee",
   "metadata": {},
   "outputs": [],
   "source": [
    "cat_col = testdata.select_dtypes(include = 'object').columns\n",
    "testdata[cat_col] = testdata[cat_col].astype('category')"
   ]
  },
  {
   "cell_type": "code",
   "execution_count": 276,
   "id": "34005e43",
   "metadata": {},
   "outputs": [],
   "source": [
    "testdata[\"Witnesses\"] = testdata[\"Witnesses\"].astype('category')"
   ]
  },
  {
   "cell_type": "code",
   "execution_count": 277,
   "id": "69780168",
   "metadata": {},
   "outputs": [
    {
     "data": {
      "text/plain": [
       "InsuredAge                  int64\n",
       "InsuredEducationLevel    category\n",
       "InsuredOccupation        category\n",
       "CapitalGains                int64\n",
       "CapitalLoss                 int64\n",
       "CustomerLoyaltyPeriod     float64\n",
       "Policy_Deductible         float64\n",
       "PolicyAnnualPremium       float64\n",
       "UmbrellaLimit             float64\n",
       "DateOfIncident           category\n",
       "TypeOfIncident           category\n",
       "TypeOfCollission         category\n",
       "SeverityOfIncident       category\n",
       "AuthoritiesContacted     category\n",
       "IncidentCity             category\n",
       "IncidentTime              float64\n",
       "NumberOfVehicles          float64\n",
       "PropertyDamage           category\n",
       "BodilyInjuries            float64\n",
       "Witnesses                category\n",
       "PoliceReport             category\n",
       "AmountOfTotalClaim        float64\n",
       "AmountOfInjuryClaim       float64\n",
       "AmountOfPropertyClaim     float64\n",
       "AmountOfVehicleDamage     float64\n",
       "VehicleYOM               category\n",
       "VehicleMake              category\n",
       "dtype: object"
      ]
     },
     "execution_count": 277,
     "metadata": {},
     "output_type": "execute_result"
    }
   ],
   "source": [
    "testdata.dtypes"
   ]
  },
  {
   "cell_type": "code",
   "execution_count": 278,
   "id": "17b31457",
   "metadata": {},
   "outputs": [
    {
     "data": {
      "text/html": [
       "<div>\n",
       "<style scoped>\n",
       "    .dataframe tbody tr th:only-of-type {\n",
       "        vertical-align: middle;\n",
       "    }\n",
       "\n",
       "    .dataframe tbody tr th {\n",
       "        vertical-align: top;\n",
       "    }\n",
       "\n",
       "    .dataframe thead th {\n",
       "        text-align: right;\n",
       "    }\n",
       "</style>\n",
       "<table border=\"1\" class=\"dataframe\">\n",
       "  <thead>\n",
       "    <tr style=\"text-align: right;\">\n",
       "      <th></th>\n",
       "      <th>count</th>\n",
       "      <th>unique</th>\n",
       "      <th>top</th>\n",
       "      <th>freq</th>\n",
       "      <th>mean</th>\n",
       "      <th>std</th>\n",
       "      <th>min</th>\n",
       "      <th>25%</th>\n",
       "      <th>50%</th>\n",
       "      <th>75%</th>\n",
       "      <th>max</th>\n",
       "    </tr>\n",
       "  </thead>\n",
       "  <tbody>\n",
       "    <tr>\n",
       "      <th>InsuredAge</th>\n",
       "      <td>8912.0</td>\n",
       "      <td>NaN</td>\n",
       "      <td>NaN</td>\n",
       "      <td>NaN</td>\n",
       "      <td>38.743492</td>\n",
       "      <td>7.914619</td>\n",
       "      <td>19.0</td>\n",
       "      <td>33.0</td>\n",
       "      <td>38.0</td>\n",
       "      <td>44.0</td>\n",
       "      <td>64.0</td>\n",
       "    </tr>\n",
       "    <tr>\n",
       "      <th>InsuredEducationLevel</th>\n",
       "      <td>8912</td>\n",
       "      <td>7</td>\n",
       "      <td>JD</td>\n",
       "      <td>1404</td>\n",
       "      <td>NaN</td>\n",
       "      <td>NaN</td>\n",
       "      <td>NaN</td>\n",
       "      <td>NaN</td>\n",
       "      <td>NaN</td>\n",
       "      <td>NaN</td>\n",
       "      <td>NaN</td>\n",
       "    </tr>\n",
       "    <tr>\n",
       "      <th>InsuredOccupation</th>\n",
       "      <td>8912</td>\n",
       "      <td>14</td>\n",
       "      <td>machine-op-inspct</td>\n",
       "      <td>830</td>\n",
       "      <td>NaN</td>\n",
       "      <td>NaN</td>\n",
       "      <td>NaN</td>\n",
       "      <td>NaN</td>\n",
       "      <td>NaN</td>\n",
       "      <td>NaN</td>\n",
       "      <td>NaN</td>\n",
       "    </tr>\n",
       "    <tr>\n",
       "      <th>CapitalGains</th>\n",
       "      <td>8912.0</td>\n",
       "      <td>NaN</td>\n",
       "      <td>NaN</td>\n",
       "      <td>NaN</td>\n",
       "      <td>23413.004937</td>\n",
       "      <td>27821.325212</td>\n",
       "      <td>0.0</td>\n",
       "      <td>0.0</td>\n",
       "      <td>0.0</td>\n",
       "      <td>49900.0</td>\n",
       "      <td>100500.0</td>\n",
       "    </tr>\n",
       "    <tr>\n",
       "      <th>CapitalLoss</th>\n",
       "      <td>8912.0</td>\n",
       "      <td>NaN</td>\n",
       "      <td>NaN</td>\n",
       "      <td>NaN</td>\n",
       "      <td>-25365.888689</td>\n",
       "      <td>28032.959284</td>\n",
       "      <td>-111100.0</td>\n",
       "      <td>-50400.0</td>\n",
       "      <td>0.0</td>\n",
       "      <td>0.0</td>\n",
       "      <td>0.0</td>\n",
       "    </tr>\n",
       "    <tr>\n",
       "      <th>CustomerLoyaltyPeriod</th>\n",
       "      <td>8912.0</td>\n",
       "      <td>NaN</td>\n",
       "      <td>NaN</td>\n",
       "      <td>NaN</td>\n",
       "      <td>203.055206</td>\n",
       "      <td>98.42325</td>\n",
       "      <td>0.0</td>\n",
       "      <td>127.0</td>\n",
       "      <td>199.0</td>\n",
       "      <td>265.0</td>\n",
       "      <td>478.0</td>\n",
       "    </tr>\n",
       "    <tr>\n",
       "      <th>Policy_Deductible</th>\n",
       "      <td>8912.0</td>\n",
       "      <td>NaN</td>\n",
       "      <td>NaN</td>\n",
       "      <td>NaN</td>\n",
       "      <td>1123.58079</td>\n",
       "      <td>553.139684</td>\n",
       "      <td>500.0</td>\n",
       "      <td>622.0</td>\n",
       "      <td>1000.0</td>\n",
       "      <td>1691.25</td>\n",
       "      <td>2000.0</td>\n",
       "    </tr>\n",
       "    <tr>\n",
       "      <th>PolicyAnnualPremium</th>\n",
       "      <td>8912.0</td>\n",
       "      <td>NaN</td>\n",
       "      <td>NaN</td>\n",
       "      <td>NaN</td>\n",
       "      <td>1943.437253</td>\n",
       "      <td>9385.72161</td>\n",
       "      <td>433.33</td>\n",
       "      <td>1120.035</td>\n",
       "      <td>1267.175</td>\n",
       "      <td>1402.2475</td>\n",
       "      <td>130807.0</td>\n",
       "    </tr>\n",
       "    <tr>\n",
       "      <th>UmbrellaLimit</th>\n",
       "      <td>8912.0</td>\n",
       "      <td>NaN</td>\n",
       "      <td>NaN</td>\n",
       "      <td>NaN</td>\n",
       "      <td>931859.361535</td>\n",
       "      <td>1919602.622533</td>\n",
       "      <td>-883692.0</td>\n",
       "      <td>0.0</td>\n",
       "      <td>0.0</td>\n",
       "      <td>283681.0</td>\n",
       "      <td>9699227.0</td>\n",
       "    </tr>\n",
       "    <tr>\n",
       "      <th>DateOfIncident</th>\n",
       "      <td>8912</td>\n",
       "      <td>67</td>\n",
       "      <td>2015-02-17</td>\n",
       "      <td>211</td>\n",
       "      <td>NaN</td>\n",
       "      <td>NaN</td>\n",
       "      <td>NaN</td>\n",
       "      <td>NaN</td>\n",
       "      <td>NaN</td>\n",
       "      <td>NaN</td>\n",
       "      <td>NaN</td>\n",
       "    </tr>\n",
       "    <tr>\n",
       "      <th>TypeOfIncident</th>\n",
       "      <td>8912</td>\n",
       "      <td>4</td>\n",
       "      <td>Multi-vehicle Collision</td>\n",
       "      <td>3594</td>\n",
       "      <td>NaN</td>\n",
       "      <td>NaN</td>\n",
       "      <td>NaN</td>\n",
       "      <td>NaN</td>\n",
       "      <td>NaN</td>\n",
       "      <td>NaN</td>\n",
       "      <td>NaN</td>\n",
       "    </tr>\n",
       "    <tr>\n",
       "      <th>TypeOfCollission</th>\n",
       "      <td>8912</td>\n",
       "      <td>3</td>\n",
       "      <td>Rear Collision</td>\n",
       "      <td>4365</td>\n",
       "      <td>NaN</td>\n",
       "      <td>NaN</td>\n",
       "      <td>NaN</td>\n",
       "      <td>NaN</td>\n",
       "      <td>NaN</td>\n",
       "      <td>NaN</td>\n",
       "      <td>NaN</td>\n",
       "    </tr>\n",
       "    <tr>\n",
       "      <th>SeverityOfIncident</th>\n",
       "      <td>8912</td>\n",
       "      <td>4</td>\n",
       "      <td>Minor Damage</td>\n",
       "      <td>3378</td>\n",
       "      <td>NaN</td>\n",
       "      <td>NaN</td>\n",
       "      <td>NaN</td>\n",
       "      <td>NaN</td>\n",
       "      <td>NaN</td>\n",
       "      <td>NaN</td>\n",
       "      <td>NaN</td>\n",
       "    </tr>\n",
       "    <tr>\n",
       "      <th>AuthoritiesContacted</th>\n",
       "      <td>8912</td>\n",
       "      <td>5</td>\n",
       "      <td>Police</td>\n",
       "      <td>2623</td>\n",
       "      <td>NaN</td>\n",
       "      <td>NaN</td>\n",
       "      <td>NaN</td>\n",
       "      <td>NaN</td>\n",
       "      <td>NaN</td>\n",
       "      <td>NaN</td>\n",
       "      <td>NaN</td>\n",
       "    </tr>\n",
       "    <tr>\n",
       "      <th>IncidentCity</th>\n",
       "      <td>8912</td>\n",
       "      <td>7</td>\n",
       "      <td>City2</td>\n",
       "      <td>1405</td>\n",
       "      <td>NaN</td>\n",
       "      <td>NaN</td>\n",
       "      <td>NaN</td>\n",
       "      <td>NaN</td>\n",
       "      <td>NaN</td>\n",
       "      <td>NaN</td>\n",
       "      <td>NaN</td>\n",
       "    </tr>\n",
       "    <tr>\n",
       "      <th>IncidentTime</th>\n",
       "      <td>8912.0</td>\n",
       "      <td>NaN</td>\n",
       "      <td>NaN</td>\n",
       "      <td>NaN</td>\n",
       "      <td>11.785963</td>\n",
       "      <td>6.154685</td>\n",
       "      <td>0.0</td>\n",
       "      <td>6.0</td>\n",
       "      <td>12.0</td>\n",
       "      <td>17.0</td>\n",
       "      <td>23.0</td>\n",
       "    </tr>\n",
       "    <tr>\n",
       "      <th>NumberOfVehicles</th>\n",
       "      <td>8912.0</td>\n",
       "      <td>NaN</td>\n",
       "      <td>NaN</td>\n",
       "      <td>NaN</td>\n",
       "      <td>1.801616</td>\n",
       "      <td>0.972594</td>\n",
       "      <td>1.0</td>\n",
       "      <td>1.0</td>\n",
       "      <td>1.0</td>\n",
       "      <td>3.0</td>\n",
       "      <td>4.0</td>\n",
       "    </tr>\n",
       "    <tr>\n",
       "      <th>PropertyDamage</th>\n",
       "      <td>8912</td>\n",
       "      <td>2</td>\n",
       "      <td>NO</td>\n",
       "      <td>6238</td>\n",
       "      <td>NaN</td>\n",
       "      <td>NaN</td>\n",
       "      <td>NaN</td>\n",
       "      <td>NaN</td>\n",
       "      <td>NaN</td>\n",
       "      <td>NaN</td>\n",
       "      <td>NaN</td>\n",
       "    </tr>\n",
       "    <tr>\n",
       "      <th>BodilyInjuries</th>\n",
       "      <td>8912.0</td>\n",
       "      <td>NaN</td>\n",
       "      <td>NaN</td>\n",
       "      <td>NaN</td>\n",
       "      <td>0.98833</td>\n",
       "      <td>0.783827</td>\n",
       "      <td>0.0</td>\n",
       "      <td>0.0</td>\n",
       "      <td>1.0</td>\n",
       "      <td>2.0</td>\n",
       "      <td>2.0</td>\n",
       "    </tr>\n",
       "    <tr>\n",
       "      <th>Witnesses</th>\n",
       "      <td>8912.0</td>\n",
       "      <td>5.0</td>\n",
       "      <td>1.0</td>\n",
       "      <td>2605.0</td>\n",
       "      <td>NaN</td>\n",
       "      <td>NaN</td>\n",
       "      <td>NaN</td>\n",
       "      <td>NaN</td>\n",
       "      <td>NaN</td>\n",
       "      <td>NaN</td>\n",
       "      <td>NaN</td>\n",
       "    </tr>\n",
       "    <tr>\n",
       "      <th>PoliceReport</th>\n",
       "      <td>8912</td>\n",
       "      <td>2</td>\n",
       "      <td>NO</td>\n",
       "      <td>6069</td>\n",
       "      <td>NaN</td>\n",
       "      <td>NaN</td>\n",
       "      <td>NaN</td>\n",
       "      <td>NaN</td>\n",
       "      <td>NaN</td>\n",
       "      <td>NaN</td>\n",
       "      <td>NaN</td>\n",
       "    </tr>\n",
       "    <tr>\n",
       "      <th>AmountOfTotalClaim</th>\n",
       "      <td>8912.0</td>\n",
       "      <td>NaN</td>\n",
       "      <td>NaN</td>\n",
       "      <td>NaN</td>\n",
       "      <td>51046.807258</td>\n",
       "      <td>25687.598027</td>\n",
       "      <td>11.785963</td>\n",
       "      <td>42204.25</td>\n",
       "      <td>57750.5</td>\n",
       "      <td>68506.25</td>\n",
       "      <td>112320.0</td>\n",
       "    </tr>\n",
       "    <tr>\n",
       "      <th>AmountOfInjuryClaim</th>\n",
       "      <td>8912.0</td>\n",
       "      <td>NaN</td>\n",
       "      <td>NaN</td>\n",
       "      <td>NaN</td>\n",
       "      <td>7214.07675</td>\n",
       "      <td>4447.763373</td>\n",
       "      <td>0.0</td>\n",
       "      <td>4409.0</td>\n",
       "      <td>7133.5</td>\n",
       "      <td>10378.5</td>\n",
       "      <td>20989.0</td>\n",
       "    </tr>\n",
       "    <tr>\n",
       "      <th>AmountOfPropertyClaim</th>\n",
       "      <td>8912.0</td>\n",
       "      <td>NaN</td>\n",
       "      <td>NaN</td>\n",
       "      <td>NaN</td>\n",
       "      <td>7114.529286</td>\n",
       "      <td>4367.824773</td>\n",
       "      <td>0.0</td>\n",
       "      <td>4508.25</td>\n",
       "      <td>6988.5</td>\n",
       "      <td>10184.5</td>\n",
       "      <td>23498.0</td>\n",
       "    </tr>\n",
       "    <tr>\n",
       "      <th>AmountOfVehicleDamage</th>\n",
       "      <td>8912.0</td>\n",
       "      <td>NaN</td>\n",
       "      <td>NaN</td>\n",
       "      <td>NaN</td>\n",
       "      <td>36761.520646</td>\n",
       "      <td>18381.523101</td>\n",
       "      <td>70.0</td>\n",
       "      <td>30215.75</td>\n",
       "      <td>41913.0</td>\n",
       "      <td>49222.0</td>\n",
       "      <td>77760.0</td>\n",
       "    </tr>\n",
       "    <tr>\n",
       "      <th>VehicleYOM</th>\n",
       "      <td>8912</td>\n",
       "      <td>21</td>\n",
       "      <td>2010</td>\n",
       "      <td>544</td>\n",
       "      <td>NaN</td>\n",
       "      <td>NaN</td>\n",
       "      <td>NaN</td>\n",
       "      <td>NaN</td>\n",
       "      <td>NaN</td>\n",
       "      <td>NaN</td>\n",
       "      <td>NaN</td>\n",
       "    </tr>\n",
       "    <tr>\n",
       "      <th>VehicleMake</th>\n",
       "      <td>8912</td>\n",
       "      <td>14</td>\n",
       "      <td>Suburu</td>\n",
       "      <td>751</td>\n",
       "      <td>NaN</td>\n",
       "      <td>NaN</td>\n",
       "      <td>NaN</td>\n",
       "      <td>NaN</td>\n",
       "      <td>NaN</td>\n",
       "      <td>NaN</td>\n",
       "      <td>NaN</td>\n",
       "    </tr>\n",
       "  </tbody>\n",
       "</table>\n",
       "</div>"
      ],
      "text/plain": [
       "                        count unique                      top    freq  \\\n",
       "InsuredAge             8912.0    NaN                      NaN     NaN   \n",
       "InsuredEducationLevel    8912      7                       JD    1404   \n",
       "InsuredOccupation        8912     14        machine-op-inspct     830   \n",
       "CapitalGains           8912.0    NaN                      NaN     NaN   \n",
       "CapitalLoss            8912.0    NaN                      NaN     NaN   \n",
       "CustomerLoyaltyPeriod  8912.0    NaN                      NaN     NaN   \n",
       "Policy_Deductible      8912.0    NaN                      NaN     NaN   \n",
       "PolicyAnnualPremium    8912.0    NaN                      NaN     NaN   \n",
       "UmbrellaLimit          8912.0    NaN                      NaN     NaN   \n",
       "DateOfIncident           8912     67               2015-02-17     211   \n",
       "TypeOfIncident           8912      4  Multi-vehicle Collision    3594   \n",
       "TypeOfCollission         8912      3           Rear Collision    4365   \n",
       "SeverityOfIncident       8912      4             Minor Damage    3378   \n",
       "AuthoritiesContacted     8912      5                   Police    2623   \n",
       "IncidentCity             8912      7                    City2    1405   \n",
       "IncidentTime           8912.0    NaN                      NaN     NaN   \n",
       "NumberOfVehicles       8912.0    NaN                      NaN     NaN   \n",
       "PropertyDamage           8912      2                       NO    6238   \n",
       "BodilyInjuries         8912.0    NaN                      NaN     NaN   \n",
       "Witnesses              8912.0    5.0                      1.0  2605.0   \n",
       "PoliceReport             8912      2                       NO    6069   \n",
       "AmountOfTotalClaim     8912.0    NaN                      NaN     NaN   \n",
       "AmountOfInjuryClaim    8912.0    NaN                      NaN     NaN   \n",
       "AmountOfPropertyClaim  8912.0    NaN                      NaN     NaN   \n",
       "AmountOfVehicleDamage  8912.0    NaN                      NaN     NaN   \n",
       "VehicleYOM               8912     21                     2010     544   \n",
       "VehicleMake              8912     14                   Suburu     751   \n",
       "\n",
       "                                mean             std        min       25%  \\\n",
       "InsuredAge                 38.743492        7.914619       19.0      33.0   \n",
       "InsuredEducationLevel            NaN             NaN        NaN       NaN   \n",
       "InsuredOccupation                NaN             NaN        NaN       NaN   \n",
       "CapitalGains            23413.004937    27821.325212        0.0       0.0   \n",
       "CapitalLoss            -25365.888689    28032.959284  -111100.0  -50400.0   \n",
       "CustomerLoyaltyPeriod     203.055206        98.42325        0.0     127.0   \n",
       "Policy_Deductible         1123.58079      553.139684      500.0     622.0   \n",
       "PolicyAnnualPremium      1943.437253      9385.72161     433.33  1120.035   \n",
       "UmbrellaLimit          931859.361535  1919602.622533  -883692.0       0.0   \n",
       "DateOfIncident                   NaN             NaN        NaN       NaN   \n",
       "TypeOfIncident                   NaN             NaN        NaN       NaN   \n",
       "TypeOfCollission                 NaN             NaN        NaN       NaN   \n",
       "SeverityOfIncident               NaN             NaN        NaN       NaN   \n",
       "AuthoritiesContacted             NaN             NaN        NaN       NaN   \n",
       "IncidentCity                     NaN             NaN        NaN       NaN   \n",
       "IncidentTime               11.785963        6.154685        0.0       6.0   \n",
       "NumberOfVehicles            1.801616        0.972594        1.0       1.0   \n",
       "PropertyDamage                   NaN             NaN        NaN       NaN   \n",
       "BodilyInjuries               0.98833        0.783827        0.0       0.0   \n",
       "Witnesses                        NaN             NaN        NaN       NaN   \n",
       "PoliceReport                     NaN             NaN        NaN       NaN   \n",
       "AmountOfTotalClaim      51046.807258    25687.598027  11.785963  42204.25   \n",
       "AmountOfInjuryClaim       7214.07675     4447.763373        0.0    4409.0   \n",
       "AmountOfPropertyClaim    7114.529286     4367.824773        0.0   4508.25   \n",
       "AmountOfVehicleDamage   36761.520646    18381.523101       70.0  30215.75   \n",
       "VehicleYOM                       NaN             NaN        NaN       NaN   \n",
       "VehicleMake                      NaN             NaN        NaN       NaN   \n",
       "\n",
       "                            50%        75%        max  \n",
       "InsuredAge                 38.0       44.0       64.0  \n",
       "InsuredEducationLevel       NaN        NaN        NaN  \n",
       "InsuredOccupation           NaN        NaN        NaN  \n",
       "CapitalGains                0.0    49900.0   100500.0  \n",
       "CapitalLoss                 0.0        0.0        0.0  \n",
       "CustomerLoyaltyPeriod     199.0      265.0      478.0  \n",
       "Policy_Deductible        1000.0    1691.25     2000.0  \n",
       "PolicyAnnualPremium    1267.175  1402.2475   130807.0  \n",
       "UmbrellaLimit               0.0   283681.0  9699227.0  \n",
       "DateOfIncident              NaN        NaN        NaN  \n",
       "TypeOfIncident              NaN        NaN        NaN  \n",
       "TypeOfCollission            NaN        NaN        NaN  \n",
       "SeverityOfIncident          NaN        NaN        NaN  \n",
       "AuthoritiesContacted        NaN        NaN        NaN  \n",
       "IncidentCity                NaN        NaN        NaN  \n",
       "IncidentTime               12.0       17.0       23.0  \n",
       "NumberOfVehicles            1.0        3.0        4.0  \n",
       "PropertyDamage              NaN        NaN        NaN  \n",
       "BodilyInjuries              1.0        2.0        2.0  \n",
       "Witnesses                   NaN        NaN        NaN  \n",
       "PoliceReport                NaN        NaN        NaN  \n",
       "AmountOfTotalClaim      57750.5   68506.25   112320.0  \n",
       "AmountOfInjuryClaim      7133.5    10378.5    20989.0  \n",
       "AmountOfPropertyClaim    6988.5    10184.5    23498.0  \n",
       "AmountOfVehicleDamage   41913.0    49222.0    77760.0  \n",
       "VehicleYOM                  NaN        NaN        NaN  \n",
       "VehicleMake                 NaN        NaN        NaN  "
      ]
     },
     "execution_count": 278,
     "metadata": {},
     "output_type": "execute_result"
    }
   ],
   "source": [
    "testdata.describe(include='all').T  "
   ]
  },
  {
   "cell_type": "code",
   "execution_count": 279,
   "id": "c2638319",
   "metadata": {
    "scrolled": true
   },
   "outputs": [
    {
     "data": {
      "text/plain": [
       "InsuredAge               0\n",
       "InsuredEducationLevel    0\n",
       "InsuredOccupation        0\n",
       "CapitalGains             0\n",
       "CapitalLoss              0\n",
       "CustomerLoyaltyPeriod    0\n",
       "Policy_Deductible        0\n",
       "PolicyAnnualPremium      0\n",
       "UmbrellaLimit            0\n",
       "DateOfIncident           0\n",
       "TypeOfIncident           0\n",
       "TypeOfCollission         0\n",
       "SeverityOfIncident       0\n",
       "AuthoritiesContacted     0\n",
       "IncidentCity             0\n",
       "IncidentTime             0\n",
       "NumberOfVehicles         0\n",
       "PropertyDamage           0\n",
       "BodilyInjuries           0\n",
       "Witnesses                0\n",
       "PoliceReport             0\n",
       "AmountOfTotalClaim       0\n",
       "AmountOfInjuryClaim      0\n",
       "AmountOfPropertyClaim    0\n",
       "AmountOfVehicleDamage    0\n",
       "VehicleYOM               0\n",
       "VehicleMake              0\n",
       "dtype: int64"
      ]
     },
     "execution_count": 279,
     "metadata": {},
     "output_type": "execute_result"
    }
   ],
   "source": [
    "testdata.isnull().sum()"
   ]
  },
  {
   "cell_type": "code",
   "execution_count": 280,
   "id": "0bee2e8c",
   "metadata": {},
   "outputs": [
    {
     "data": {
      "text/plain": [
       "Index(['InsuredAge', 'CapitalGains', 'CapitalLoss', 'CustomerLoyaltyPeriod',\n",
       "       'Policy_Deductible', 'PolicyAnnualPremium', 'UmbrellaLimit',\n",
       "       'IncidentTime', 'NumberOfVehicles', 'BodilyInjuries',\n",
       "       'AmountOfTotalClaim', 'AmountOfInjuryClaim', 'AmountOfPropertyClaim',\n",
       "       'AmountOfVehicleDamage'],\n",
       "      dtype='object')"
      ]
     },
     "execution_count": 280,
     "metadata": {},
     "output_type": "execute_result"
    }
   ],
   "source": [
    "numeric=testdata.select_dtypes(['float64','int64']).columns\n",
    "numeric"
   ]
  },
  {
   "cell_type": "code",
   "execution_count": 281,
   "id": "415cd245",
   "metadata": {},
   "outputs": [
    {
     "data": {
      "text/plain": [
       "Index(['InsuredEducationLevel', 'InsuredOccupation', 'DateOfIncident',\n",
       "       'TypeOfIncident', 'TypeOfCollission', 'SeverityOfIncident',\n",
       "       'AuthoritiesContacted', 'IncidentCity', 'PropertyDamage', 'Witnesses',\n",
       "       'PoliceReport', 'VehicleYOM', 'VehicleMake'],\n",
       "      dtype='object')"
      ]
     },
     "execution_count": 281,
     "metadata": {},
     "output_type": "execute_result"
    }
   ],
   "source": [
    "cat=testdata.select_dtypes(['category']).columns\n",
    "cat"
   ]
  },
  {
   "cell_type": "code",
   "execution_count": 282,
   "id": "87851681",
   "metadata": {},
   "outputs": [],
   "source": [
    "scaler = StandardScaler()\n",
    "scaler.fit(testdata[numeric])\n",
    "\n",
    "testdata_num = pd.DataFrame(scaler.transform(testdata[numeric]), columns=numeric)"
   ]
  },
  {
   "cell_type": "code",
   "execution_count": 283,
   "id": "4cff1388",
   "metadata": {},
   "outputs": [
    {
     "name": "stderr",
     "output_type": "stream",
     "text": [
      "C:\\Users\\M SHYAMA KRISHNA\\Anaconda3\\lib\\site-packages\\sklearn\\utils\\deprecation.py:87: FutureWarning: Function get_feature_names is deprecated; get_feature_names is deprecated in 1.0 and will be removed in 1.2. Please use get_feature_names_out instead.\n",
      "  warnings.warn(msg, category=FutureWarning)\n"
     ]
    }
   ],
   "source": [
    "ohe = OneHotEncoder(handle_unknown='ignore',drop = \"first\")\n",
    "\n",
    "ohe.fit(testdata[cat])\n",
    "\n",
    "columns_ohe = list(ohe.get_feature_names(cat))"
   ]
  },
  {
   "cell_type": "code",
   "execution_count": 284,
   "id": "3ff4b0a2",
   "metadata": {},
   "outputs": [],
   "source": [
    "test_cat = ohe.transform(testdata[cat])"
   ]
  },
  {
   "cell_type": "code",
   "execution_count": 285,
   "id": "39c672d6",
   "metadata": {},
   "outputs": [],
   "source": [
    "test_data_cat = pd.DataFrame(test_cat.todense(), columns=columns_ohe)"
   ]
  },
  {
   "cell_type": "code",
   "execution_count": 286,
   "id": "990b7905",
   "metadata": {},
   "outputs": [],
   "source": [
    "test_data = pd.concat([testdata_num, test_data_cat], axis=1)"
   ]
  },
  {
   "cell_type": "code",
   "execution_count": 287,
   "id": "31b5601b",
   "metadata": {
    "scrolled": true
   },
   "outputs": [
    {
     "data": {
      "text/html": [
       "<div>\n",
       "<style scoped>\n",
       "    .dataframe tbody tr th:only-of-type {\n",
       "        vertical-align: middle;\n",
       "    }\n",
       "\n",
       "    .dataframe tbody tr th {\n",
       "        vertical-align: top;\n",
       "    }\n",
       "\n",
       "    .dataframe thead th {\n",
       "        text-align: right;\n",
       "    }\n",
       "</style>\n",
       "<table border=\"1\" class=\"dataframe\">\n",
       "  <thead>\n",
       "    <tr style=\"text-align: right;\">\n",
       "      <th></th>\n",
       "      <th>InsuredAge</th>\n",
       "      <th>CapitalGains</th>\n",
       "      <th>CapitalLoss</th>\n",
       "      <th>CustomerLoyaltyPeriod</th>\n",
       "      <th>Policy_Deductible</th>\n",
       "      <th>PolicyAnnualPremium</th>\n",
       "      <th>UmbrellaLimit</th>\n",
       "      <th>IncidentTime</th>\n",
       "      <th>NumberOfVehicles</th>\n",
       "      <th>BodilyInjuries</th>\n",
       "      <th>...</th>\n",
       "      <th>VehicleMake_Dodge</th>\n",
       "      <th>VehicleMake_Ford</th>\n",
       "      <th>VehicleMake_Honda</th>\n",
       "      <th>VehicleMake_Jeep</th>\n",
       "      <th>VehicleMake_Mercedes</th>\n",
       "      <th>VehicleMake_Nissan</th>\n",
       "      <th>VehicleMake_Saab</th>\n",
       "      <th>VehicleMake_Suburu</th>\n",
       "      <th>VehicleMake_Toyota</th>\n",
       "      <th>VehicleMake_Volkswagen</th>\n",
       "    </tr>\n",
       "  </thead>\n",
       "  <tbody>\n",
       "    <tr>\n",
       "      <th>0</th>\n",
       "      <td>-1.483856</td>\n",
       "      <td>1.185740</td>\n",
       "      <td>-1.128525</td>\n",
       "      <td>-1.209693</td>\n",
       "      <td>1.584534</td>\n",
       "      <td>-0.099885</td>\n",
       "      <td>-0.485471</td>\n",
       "      <td>-1.265117</td>\n",
       "      <td>1.232222</td>\n",
       "      <td>-1.260974</td>\n",
       "      <td>...</td>\n",
       "      <td>0.0</td>\n",
       "      <td>0.0</td>\n",
       "      <td>0.0</td>\n",
       "      <td>0.0</td>\n",
       "      <td>0.0</td>\n",
       "      <td>0.0</td>\n",
       "      <td>0.0</td>\n",
       "      <td>0.0</td>\n",
       "      <td>0.0</td>\n",
       "      <td>1.0</td>\n",
       "    </tr>\n",
       "    <tr>\n",
       "      <th>1</th>\n",
       "      <td>0.158767</td>\n",
       "      <td>1.196523</td>\n",
       "      <td>-1.435324</td>\n",
       "      <td>0.294101</td>\n",
       "      <td>-1.127411</td>\n",
       "      <td>-0.070778</td>\n",
       "      <td>-0.485471</td>\n",
       "      <td>0.684726</td>\n",
       "      <td>-0.824250</td>\n",
       "      <td>0.014889</td>\n",
       "      <td>...</td>\n",
       "      <td>0.0</td>\n",
       "      <td>0.0</td>\n",
       "      <td>0.0</td>\n",
       "      <td>0.0</td>\n",
       "      <td>0.0</td>\n",
       "      <td>1.0</td>\n",
       "      <td>0.0</td>\n",
       "      <td>0.0</td>\n",
       "      <td>0.0</td>\n",
       "      <td>0.0</td>\n",
       "    </tr>\n",
       "    <tr>\n",
       "      <th>2</th>\n",
       "      <td>0.032411</td>\n",
       "      <td>0.251152</td>\n",
       "      <td>0.904910</td>\n",
       "      <td>0.151851</td>\n",
       "      <td>-0.223430</td>\n",
       "      <td>-0.052079</td>\n",
       "      <td>0.158441</td>\n",
       "      <td>1.334674</td>\n",
       "      <td>1.232222</td>\n",
       "      <td>-1.260974</td>\n",
       "      <td>...</td>\n",
       "      <td>0.0</td>\n",
       "      <td>0.0</td>\n",
       "      <td>0.0</td>\n",
       "      <td>0.0</td>\n",
       "      <td>0.0</td>\n",
       "      <td>0.0</td>\n",
       "      <td>0.0</td>\n",
       "      <td>1.0</td>\n",
       "      <td>0.0</td>\n",
       "      <td>0.0</td>\n",
       "    </tr>\n",
       "  </tbody>\n",
       "</table>\n",
       "<p>3 rows × 156 columns</p>\n",
       "</div>"
      ],
      "text/plain": [
       "   InsuredAge  CapitalGains  CapitalLoss  CustomerLoyaltyPeriod  \\\n",
       "0   -1.483856      1.185740    -1.128525              -1.209693   \n",
       "1    0.158767      1.196523    -1.435324               0.294101   \n",
       "2    0.032411      0.251152     0.904910               0.151851   \n",
       "\n",
       "   Policy_Deductible  PolicyAnnualPremium  UmbrellaLimit  IncidentTime  \\\n",
       "0           1.584534            -0.099885      -0.485471     -1.265117   \n",
       "1          -1.127411            -0.070778      -0.485471      0.684726   \n",
       "2          -0.223430            -0.052079       0.158441      1.334674   \n",
       "\n",
       "   NumberOfVehicles  BodilyInjuries  ...  VehicleMake_Dodge  VehicleMake_Ford  \\\n",
       "0          1.232222       -1.260974  ...                0.0               0.0   \n",
       "1         -0.824250        0.014889  ...                0.0               0.0   \n",
       "2          1.232222       -1.260974  ...                0.0               0.0   \n",
       "\n",
       "   VehicleMake_Honda  VehicleMake_Jeep  VehicleMake_Mercedes  \\\n",
       "0                0.0               0.0                   0.0   \n",
       "1                0.0               0.0                   0.0   \n",
       "2                0.0               0.0                   0.0   \n",
       "\n",
       "   VehicleMake_Nissan  VehicleMake_Saab  VehicleMake_Suburu  \\\n",
       "0                 0.0               0.0                 0.0   \n",
       "1                 1.0               0.0                 0.0   \n",
       "2                 0.0               0.0                 1.0   \n",
       "\n",
       "   VehicleMake_Toyota  VehicleMake_Volkswagen  \n",
       "0                 0.0                     1.0  \n",
       "1                 0.0                     0.0  \n",
       "2                 0.0                     0.0  \n",
       "\n",
       "[3 rows x 156 columns]"
      ]
     },
     "execution_count": 287,
     "metadata": {},
     "output_type": "execute_result"
    }
   ],
   "source": [
    "test_data.head(3)"
   ]
  },
  {
   "cell_type": "code",
   "execution_count": null,
   "id": "3face77e",
   "metadata": {},
   "outputs": [],
   "source": []
  },
  {
   "cell_type": "code",
   "execution_count": 288,
   "id": "7e19b58f",
   "metadata": {},
   "outputs": [
    {
     "data": {
      "text/plain": [
       "(8912, 156)"
      ]
     },
     "execution_count": 288,
     "metadata": {},
     "output_type": "execute_result"
    }
   ],
   "source": [
    "test_data.shape"
   ]
  },
  {
   "cell_type": "code",
   "execution_count": 289,
   "id": "cbc7fc2b",
   "metadata": {},
   "outputs": [
    {
     "data": {
      "text/plain": [
       "InsuredAge                 46\n",
       "InsuredEducationLevel       7\n",
       "InsuredOccupation          14\n",
       "CapitalGains              338\n",
       "CapitalLoss               353\n",
       "CustomerLoyaltyPeriod     476\n",
       "Policy_Deductible        1292\n",
       "PolicyAnnualPremium      8357\n",
       "UmbrellaLimit            2144\n",
       "DateOfIncident             67\n",
       "TypeOfIncident              4\n",
       "TypeOfCollission            3\n",
       "SeverityOfIncident          4\n",
       "AuthoritiesContacted        5\n",
       "IncidentCity                7\n",
       "IncidentTime               25\n",
       "NumberOfVehicles            4\n",
       "PropertyDamage              2\n",
       "BodilyInjuries              3\n",
       "Witnesses                   5\n",
       "PoliceReport                2\n",
       "AmountOfTotalClaim       8102\n",
       "AmountOfInjuryClaim      6242\n",
       "AmountOfPropertyClaim    6186\n",
       "AmountOfVehicleDamage    7843\n",
       "VehicleYOM                 21\n",
       "VehicleMake                14\n",
       "dtype: int64"
      ]
     },
     "execution_count": 289,
     "metadata": {},
     "output_type": "execute_result"
    }
   ],
   "source": [
    "testdata.nunique()"
   ]
  },
  {
   "cell_type": "code",
   "execution_count": 290,
   "id": "9f706209",
   "metadata": {
    "scrolled": true
   },
   "outputs": [
    {
     "data": {
      "text/plain": [
       "machine-op-inspct    830\n",
       "prof-specialty       704\n",
       "priv-house-serv      702\n",
       "tech-support         696\n",
       "sales                695\n",
       "craft-repair         681\n",
       "armed-forces         630\n",
       "other-service        617\n",
       "adm-clerical         612\n",
       "exec-managerial      610\n",
       "transport-moving     600\n",
       "protective-serv      582\n",
       "handlers-cleaners    495\n",
       "farming-fishing      458\n",
       "Name: InsuredOccupation, dtype: int64"
      ]
     },
     "execution_count": 290,
     "metadata": {},
     "output_type": "execute_result"
    }
   ],
   "source": [
    "testdata[\"InsuredOccupation\"].value_counts()"
   ]
  },
  {
   "cell_type": "code",
   "execution_count": 291,
   "id": "d2abf759",
   "metadata": {},
   "outputs": [
    {
     "data": {
      "text/plain": [
       "InsuredAge                  46\n",
       "InsuredEducationLevel        7\n",
       "InsuredOccupation           14\n",
       "CapitalGains               338\n",
       "CapitalLoss                354\n",
       "CustomerLoyaltyPeriod      479\n",
       "Policy_Deductible         1496\n",
       "PolicyAnnualPremium      23852\n",
       "UmbrellaLimit             7089\n",
       "DateOfIncident              72\n",
       "TypeOfIncident               4\n",
       "TypeOfCollission             3\n",
       "SeverityOfIncident           4\n",
       "AuthoritiesContacted         5\n",
       "IncidentCity                 7\n",
       "IncidentTime                25\n",
       "NumberOfVehicles             4\n",
       "PropertyDamage               2\n",
       "BodilyInjuries               3\n",
       "Witnesses                    5\n",
       "PoliceReport                 2\n",
       "AmountOfTotalClaim       21976\n",
       "AmountOfInjuryClaim      11958\n",
       "AmountOfPropertyClaim    11785\n",
       "AmountOfVehicleDamage    20041\n",
       "VehicleMake                 14\n",
       "VehicleYOM                  21\n",
       "ReportedFraud                2\n",
       "dtype: int64"
      ]
     },
     "execution_count": 291,
     "metadata": {},
     "output_type": "execute_result"
    }
   ],
   "source": [
    "traindata.nunique()"
   ]
  },
  {
   "cell_type": "code",
   "execution_count": 292,
   "id": "af9395c4",
   "metadata": {},
   "outputs": [
    {
     "name": "stderr",
     "output_type": "stream",
     "text": [
      "C:\\Users\\M SHYAMA KRISHNA\\Anaconda3\\lib\\site-packages\\sklearn\\base.py:493: FutureWarning: The feature names should match those that were passed during fit. Starting version 1.2, an error will be raised.\n",
      "Feature names unseen at fit time:\n",
      "- Witnesses_11.785962942167322\n",
      "Feature names seen at fit time, yet now missing:\n",
      "- Witnesses_11.764068738066308\n",
      "\n",
      "  warnings.warn(message, FutureWarning)\n"
     ]
    }
   ],
   "source": [
    "final_pred = logistic_model.predict(test_data)"
   ]
  },
  {
   "cell_type": "code",
   "execution_count": 293,
   "id": "fe067c8e",
   "metadata": {},
   "outputs": [
    {
     "data": {
      "text/plain": [
       "(8912,)"
      ]
     },
     "execution_count": 293,
     "metadata": {},
     "output_type": "execute_result"
    }
   ],
   "source": [
    "final_pred.shape"
   ]
  },
  {
   "cell_type": "code",
   "execution_count": 294,
   "id": "b4a15480",
   "metadata": {},
   "outputs": [],
   "source": [
    "final_pred=pd.DataFrame(final_pred)"
   ]
  },
  {
   "cell_type": "code",
   "execution_count": 295,
   "id": "183643c0",
   "metadata": {},
   "outputs": [],
   "source": [
    "Final_data = pd.concat([TData['CustomerID'],final_pred],axis = 1).dropna()"
   ]
  },
  {
   "cell_type": "code",
   "execution_count": 296,
   "id": "ec77f929",
   "metadata": {},
   "outputs": [
    {
     "data": {
      "text/html": [
       "<div>\n",
       "<style scoped>\n",
       "    .dataframe tbody tr th:only-of-type {\n",
       "        vertical-align: middle;\n",
       "    }\n",
       "\n",
       "    .dataframe tbody tr th {\n",
       "        vertical-align: top;\n",
       "    }\n",
       "\n",
       "    .dataframe thead th {\n",
       "        text-align: right;\n",
       "    }\n",
       "</style>\n",
       "<table border=\"1\" class=\"dataframe\">\n",
       "  <thead>\n",
       "    <tr style=\"text-align: right;\">\n",
       "      <th></th>\n",
       "      <th>CustomerID</th>\n",
       "      <th>0</th>\n",
       "    </tr>\n",
       "  </thead>\n",
       "  <tbody>\n",
       "    <tr>\n",
       "      <th>0</th>\n",
       "      <td>Cust10008</td>\n",
       "      <td>0</td>\n",
       "    </tr>\n",
       "    <tr>\n",
       "      <th>1</th>\n",
       "      <td>Cust10010</td>\n",
       "      <td>0</td>\n",
       "    </tr>\n",
       "  </tbody>\n",
       "</table>\n",
       "</div>"
      ],
      "text/plain": [
       "  CustomerID  0\n",
       "0  Cust10008  0\n",
       "1  Cust10010  0"
      ]
     },
     "execution_count": 296,
     "metadata": {},
     "output_type": "execute_result"
    }
   ],
   "source": [
    "Final_data.head(2)"
   ]
  },
  {
   "cell_type": "code",
   "execution_count": 297,
   "id": "9496e5e7",
   "metadata": {},
   "outputs": [],
   "source": [
    "Final_data.rename(columns={0:'ReportedFraud'},inplace=True)"
   ]
  },
  {
   "cell_type": "code",
   "execution_count": 298,
   "id": "60093714",
   "metadata": {},
   "outputs": [
    {
     "data": {
      "text/html": [
       "<div>\n",
       "<style scoped>\n",
       "    .dataframe tbody tr th:only-of-type {\n",
       "        vertical-align: middle;\n",
       "    }\n",
       "\n",
       "    .dataframe tbody tr th {\n",
       "        vertical-align: top;\n",
       "    }\n",
       "\n",
       "    .dataframe thead th {\n",
       "        text-align: right;\n",
       "    }\n",
       "</style>\n",
       "<table border=\"1\" class=\"dataframe\">\n",
       "  <thead>\n",
       "    <tr style=\"text-align: right;\">\n",
       "      <th></th>\n",
       "      <th>CustomerID</th>\n",
       "      <th>ReportedFraud</th>\n",
       "    </tr>\n",
       "  </thead>\n",
       "  <tbody>\n",
       "    <tr>\n",
       "      <th>0</th>\n",
       "      <td>Cust10008</td>\n",
       "      <td>0</td>\n",
       "    </tr>\n",
       "    <tr>\n",
       "      <th>1</th>\n",
       "      <td>Cust10010</td>\n",
       "      <td>0</td>\n",
       "    </tr>\n",
       "    <tr>\n",
       "      <th>2</th>\n",
       "      <td>Cust10015</td>\n",
       "      <td>0</td>\n",
       "    </tr>\n",
       "    <tr>\n",
       "      <th>3</th>\n",
       "      <td>Cust10020</td>\n",
       "      <td>0</td>\n",
       "    </tr>\n",
       "    <tr>\n",
       "      <th>4</th>\n",
       "      <td>Cust1003</td>\n",
       "      <td>0</td>\n",
       "    </tr>\n",
       "    <tr>\n",
       "      <th>...</th>\n",
       "      <td>...</td>\n",
       "      <td>...</td>\n",
       "    </tr>\n",
       "    <tr>\n",
       "      <th>8907</th>\n",
       "      <td>Cust37942</td>\n",
       "      <td>0</td>\n",
       "    </tr>\n",
       "    <tr>\n",
       "      <th>8908</th>\n",
       "      <td>Cust20528</td>\n",
       "      <td>0</td>\n",
       "    </tr>\n",
       "    <tr>\n",
       "      <th>8909</th>\n",
       "      <td>Cust36797</td>\n",
       "      <td>0</td>\n",
       "    </tr>\n",
       "    <tr>\n",
       "      <th>8910</th>\n",
       "      <td>Cust28499</td>\n",
       "      <td>0</td>\n",
       "    </tr>\n",
       "    <tr>\n",
       "      <th>8911</th>\n",
       "      <td>Cust21356</td>\n",
       "      <td>0</td>\n",
       "    </tr>\n",
       "  </tbody>\n",
       "</table>\n",
       "<p>8912 rows × 2 columns</p>\n",
       "</div>"
      ],
      "text/plain": [
       "     CustomerID  ReportedFraud\n",
       "0     Cust10008              0\n",
       "1     Cust10010              0\n",
       "2     Cust10015              0\n",
       "3     Cust10020              0\n",
       "4      Cust1003              0\n",
       "...         ...            ...\n",
       "8907  Cust37942              0\n",
       "8908  Cust20528              0\n",
       "8909  Cust36797              0\n",
       "8910  Cust28499              0\n",
       "8911  Cust21356              0\n",
       "\n",
       "[8912 rows x 2 columns]"
      ]
     },
     "execution_count": 298,
     "metadata": {},
     "output_type": "execute_result"
    }
   ],
   "source": [
    "Final_data"
   ]
  },
  {
   "cell_type": "code",
   "execution_count": 299,
   "id": "20b68ff5",
   "metadata": {},
   "outputs": [],
   "source": [
    "Final_data.to_csv('submission_logistic1.csv')"
   ]
  },
  {
   "cell_type": "code",
   "execution_count": 300,
   "id": "33d9226a",
   "metadata": {},
   "outputs": [
    {
     "name": "stderr",
     "output_type": "stream",
     "text": [
      "C:\\Users\\M SHYAMA KRISHNA\\Anaconda3\\lib\\site-packages\\sklearn\\base.py:493: FutureWarning: The feature names should match those that were passed during fit. Starting version 1.2, an error will be raised.\n",
      "Feature names unseen at fit time:\n",
      "- Witnesses_11.785962942167322\n",
      "Feature names seen at fit time, yet now missing:\n",
      "- Witnesses_11.764068738066308\n",
      "\n",
      "  warnings.warn(message, FutureWarning)\n"
     ]
    }
   ],
   "source": [
    "final_pred = rfclf2.predict(test_data)"
   ]
  },
  {
   "cell_type": "code",
   "execution_count": 301,
   "id": "5cebf4c0",
   "metadata": {},
   "outputs": [
    {
     "data": {
      "text/plain": [
       "(8912,)"
      ]
     },
     "execution_count": 301,
     "metadata": {},
     "output_type": "execute_result"
    }
   ],
   "source": [
    "final_pred.shape"
   ]
  },
  {
   "cell_type": "code",
   "execution_count": 302,
   "id": "36f0e0ab",
   "metadata": {},
   "outputs": [],
   "source": [
    "final_pred=pd.DataFrame(final_pred)"
   ]
  },
  {
   "cell_type": "code",
   "execution_count": 303,
   "id": "2a08fd1b",
   "metadata": {},
   "outputs": [],
   "source": [
    "Final_data = pd.concat([TData['CustomerID'],final_pred],axis = 1).dropna()"
   ]
  },
  {
   "cell_type": "code",
   "execution_count": 304,
   "id": "fd82fe55",
   "metadata": {},
   "outputs": [
    {
     "data": {
      "text/html": [
       "<div>\n",
       "<style scoped>\n",
       "    .dataframe tbody tr th:only-of-type {\n",
       "        vertical-align: middle;\n",
       "    }\n",
       "\n",
       "    .dataframe tbody tr th {\n",
       "        vertical-align: top;\n",
       "    }\n",
       "\n",
       "    .dataframe thead th {\n",
       "        text-align: right;\n",
       "    }\n",
       "</style>\n",
       "<table border=\"1\" class=\"dataframe\">\n",
       "  <thead>\n",
       "    <tr style=\"text-align: right;\">\n",
       "      <th></th>\n",
       "      <th>CustomerID</th>\n",
       "      <th>0</th>\n",
       "    </tr>\n",
       "  </thead>\n",
       "  <tbody>\n",
       "    <tr>\n",
       "      <th>0</th>\n",
       "      <td>Cust10008</td>\n",
       "      <td>0</td>\n",
       "    </tr>\n",
       "    <tr>\n",
       "      <th>1</th>\n",
       "      <td>Cust10010</td>\n",
       "      <td>0</td>\n",
       "    </tr>\n",
       "  </tbody>\n",
       "</table>\n",
       "</div>"
      ],
      "text/plain": [
       "  CustomerID  0\n",
       "0  Cust10008  0\n",
       "1  Cust10010  0"
      ]
     },
     "execution_count": 304,
     "metadata": {},
     "output_type": "execute_result"
    }
   ],
   "source": [
    "Final_data.head(2)"
   ]
  },
  {
   "cell_type": "code",
   "execution_count": 305,
   "id": "360a1222",
   "metadata": {},
   "outputs": [],
   "source": [
    "Final_data.rename(columns={0:'ReportedFraud'},inplace=True)"
   ]
  },
  {
   "cell_type": "code",
   "execution_count": 306,
   "id": "ab3db8cd",
   "metadata": {},
   "outputs": [
    {
     "data": {
      "text/html": [
       "<div>\n",
       "<style scoped>\n",
       "    .dataframe tbody tr th:only-of-type {\n",
       "        vertical-align: middle;\n",
       "    }\n",
       "\n",
       "    .dataframe tbody tr th {\n",
       "        vertical-align: top;\n",
       "    }\n",
       "\n",
       "    .dataframe thead th {\n",
       "        text-align: right;\n",
       "    }\n",
       "</style>\n",
       "<table border=\"1\" class=\"dataframe\">\n",
       "  <thead>\n",
       "    <tr style=\"text-align: right;\">\n",
       "      <th></th>\n",
       "      <th>CustomerID</th>\n",
       "      <th>ReportedFraud</th>\n",
       "    </tr>\n",
       "  </thead>\n",
       "  <tbody>\n",
       "    <tr>\n",
       "      <th>0</th>\n",
       "      <td>Cust10008</td>\n",
       "      <td>0</td>\n",
       "    </tr>\n",
       "    <tr>\n",
       "      <th>1</th>\n",
       "      <td>Cust10010</td>\n",
       "      <td>0</td>\n",
       "    </tr>\n",
       "    <tr>\n",
       "      <th>2</th>\n",
       "      <td>Cust10015</td>\n",
       "      <td>0</td>\n",
       "    </tr>\n",
       "    <tr>\n",
       "      <th>3</th>\n",
       "      <td>Cust10020</td>\n",
       "      <td>0</td>\n",
       "    </tr>\n",
       "    <tr>\n",
       "      <th>4</th>\n",
       "      <td>Cust1003</td>\n",
       "      <td>0</td>\n",
       "    </tr>\n",
       "    <tr>\n",
       "      <th>...</th>\n",
       "      <td>...</td>\n",
       "      <td>...</td>\n",
       "    </tr>\n",
       "    <tr>\n",
       "      <th>8907</th>\n",
       "      <td>Cust37942</td>\n",
       "      <td>0</td>\n",
       "    </tr>\n",
       "    <tr>\n",
       "      <th>8908</th>\n",
       "      <td>Cust20528</td>\n",
       "      <td>0</td>\n",
       "    </tr>\n",
       "    <tr>\n",
       "      <th>8909</th>\n",
       "      <td>Cust36797</td>\n",
       "      <td>0</td>\n",
       "    </tr>\n",
       "    <tr>\n",
       "      <th>8910</th>\n",
       "      <td>Cust28499</td>\n",
       "      <td>0</td>\n",
       "    </tr>\n",
       "    <tr>\n",
       "      <th>8911</th>\n",
       "      <td>Cust21356</td>\n",
       "      <td>0</td>\n",
       "    </tr>\n",
       "  </tbody>\n",
       "</table>\n",
       "<p>8912 rows × 2 columns</p>\n",
       "</div>"
      ],
      "text/plain": [
       "     CustomerID  ReportedFraud\n",
       "0     Cust10008              0\n",
       "1     Cust10010              0\n",
       "2     Cust10015              0\n",
       "3     Cust10020              0\n",
       "4      Cust1003              0\n",
       "...         ...            ...\n",
       "8907  Cust37942              0\n",
       "8908  Cust20528              0\n",
       "8909  Cust36797              0\n",
       "8910  Cust28499              0\n",
       "8911  Cust21356              0\n",
       "\n",
       "[8912 rows x 2 columns]"
      ]
     },
     "execution_count": 306,
     "metadata": {},
     "output_type": "execute_result"
    }
   ],
   "source": [
    "Final_data"
   ]
  },
  {
   "cell_type": "code",
   "execution_count": 307,
   "id": "b915d8e6",
   "metadata": {},
   "outputs": [],
   "source": [
    "Final_data.to_csv('submission_rfsmote.csv')"
   ]
  },
  {
   "cell_type": "code",
   "execution_count": 308,
   "id": "14556f4f",
   "metadata": {},
   "outputs": [
    {
     "name": "stderr",
     "output_type": "stream",
     "text": [
      "C:\\Users\\M SHYAMA KRISHNA\\Anaconda3\\lib\\site-packages\\sklearn\\base.py:493: FutureWarning: The feature names should match those that were passed during fit. Starting version 1.2, an error will be raised.\n",
      "Feature names unseen at fit time:\n",
      "- Witnesses_11.785962942167322\n",
      "Feature names seen at fit time, yet now missing:\n",
      "- Witnesses_11.764068738066308\n",
      "\n",
      "  warnings.warn(message, FutureWarning)\n"
     ]
    }
   ],
   "source": [
    "final_pred = model_knn.predict(test_data)"
   ]
  },
  {
   "cell_type": "code",
   "execution_count": 309,
   "id": "8f2be7ff",
   "metadata": {},
   "outputs": [
    {
     "data": {
      "text/plain": [
       "(8912,)"
      ]
     },
     "execution_count": 309,
     "metadata": {},
     "output_type": "execute_result"
    }
   ],
   "source": [
    "final_pred.shape"
   ]
  },
  {
   "cell_type": "code",
   "execution_count": 310,
   "id": "e6440ed6",
   "metadata": {},
   "outputs": [],
   "source": [
    "final_pred=pd.DataFrame(final_pred)"
   ]
  },
  {
   "cell_type": "code",
   "execution_count": 311,
   "id": "0f352f7e",
   "metadata": {},
   "outputs": [],
   "source": [
    "Final_data = pd.concat([TData['CustomerID'],final_pred],axis = 1).dropna()"
   ]
  },
  {
   "cell_type": "code",
   "execution_count": 312,
   "id": "862085a8",
   "metadata": {},
   "outputs": [
    {
     "data": {
      "text/html": [
       "<div>\n",
       "<style scoped>\n",
       "    .dataframe tbody tr th:only-of-type {\n",
       "        vertical-align: middle;\n",
       "    }\n",
       "\n",
       "    .dataframe tbody tr th {\n",
       "        vertical-align: top;\n",
       "    }\n",
       "\n",
       "    .dataframe thead th {\n",
       "        text-align: right;\n",
       "    }\n",
       "</style>\n",
       "<table border=\"1\" class=\"dataframe\">\n",
       "  <thead>\n",
       "    <tr style=\"text-align: right;\">\n",
       "      <th></th>\n",
       "      <th>CustomerID</th>\n",
       "      <th>0</th>\n",
       "    </tr>\n",
       "  </thead>\n",
       "  <tbody>\n",
       "    <tr>\n",
       "      <th>0</th>\n",
       "      <td>Cust10008</td>\n",
       "      <td>0</td>\n",
       "    </tr>\n",
       "    <tr>\n",
       "      <th>1</th>\n",
       "      <td>Cust10010</td>\n",
       "      <td>0</td>\n",
       "    </tr>\n",
       "  </tbody>\n",
       "</table>\n",
       "</div>"
      ],
      "text/plain": [
       "  CustomerID  0\n",
       "0  Cust10008  0\n",
       "1  Cust10010  0"
      ]
     },
     "execution_count": 312,
     "metadata": {},
     "output_type": "execute_result"
    }
   ],
   "source": [
    "Final_data.head(2)"
   ]
  },
  {
   "cell_type": "code",
   "execution_count": 313,
   "id": "03b6d279",
   "metadata": {},
   "outputs": [],
   "source": [
    "Final_data.rename(columns={0:'ReportedFraud'},inplace=True)"
   ]
  },
  {
   "cell_type": "code",
   "execution_count": 314,
   "id": "47c39df2",
   "metadata": {},
   "outputs": [
    {
     "data": {
      "text/html": [
       "<div>\n",
       "<style scoped>\n",
       "    .dataframe tbody tr th:only-of-type {\n",
       "        vertical-align: middle;\n",
       "    }\n",
       "\n",
       "    .dataframe tbody tr th {\n",
       "        vertical-align: top;\n",
       "    }\n",
       "\n",
       "    .dataframe thead th {\n",
       "        text-align: right;\n",
       "    }\n",
       "</style>\n",
       "<table border=\"1\" class=\"dataframe\">\n",
       "  <thead>\n",
       "    <tr style=\"text-align: right;\">\n",
       "      <th></th>\n",
       "      <th>CustomerID</th>\n",
       "      <th>ReportedFraud</th>\n",
       "    </tr>\n",
       "  </thead>\n",
       "  <tbody>\n",
       "    <tr>\n",
       "      <th>0</th>\n",
       "      <td>Cust10008</td>\n",
       "      <td>0</td>\n",
       "    </tr>\n",
       "    <tr>\n",
       "      <th>1</th>\n",
       "      <td>Cust10010</td>\n",
       "      <td>0</td>\n",
       "    </tr>\n",
       "    <tr>\n",
       "      <th>2</th>\n",
       "      <td>Cust10015</td>\n",
       "      <td>1</td>\n",
       "    </tr>\n",
       "    <tr>\n",
       "      <th>3</th>\n",
       "      <td>Cust10020</td>\n",
       "      <td>0</td>\n",
       "    </tr>\n",
       "    <tr>\n",
       "      <th>4</th>\n",
       "      <td>Cust1003</td>\n",
       "      <td>0</td>\n",
       "    </tr>\n",
       "    <tr>\n",
       "      <th>...</th>\n",
       "      <td>...</td>\n",
       "      <td>...</td>\n",
       "    </tr>\n",
       "    <tr>\n",
       "      <th>8907</th>\n",
       "      <td>Cust37942</td>\n",
       "      <td>1</td>\n",
       "    </tr>\n",
       "    <tr>\n",
       "      <th>8908</th>\n",
       "      <td>Cust20528</td>\n",
       "      <td>0</td>\n",
       "    </tr>\n",
       "    <tr>\n",
       "      <th>8909</th>\n",
       "      <td>Cust36797</td>\n",
       "      <td>0</td>\n",
       "    </tr>\n",
       "    <tr>\n",
       "      <th>8910</th>\n",
       "      <td>Cust28499</td>\n",
       "      <td>0</td>\n",
       "    </tr>\n",
       "    <tr>\n",
       "      <th>8911</th>\n",
       "      <td>Cust21356</td>\n",
       "      <td>0</td>\n",
       "    </tr>\n",
       "  </tbody>\n",
       "</table>\n",
       "<p>8912 rows × 2 columns</p>\n",
       "</div>"
      ],
      "text/plain": [
       "     CustomerID  ReportedFraud\n",
       "0     Cust10008              0\n",
       "1     Cust10010              0\n",
       "2     Cust10015              1\n",
       "3     Cust10020              0\n",
       "4      Cust1003              0\n",
       "...         ...            ...\n",
       "8907  Cust37942              1\n",
       "8908  Cust20528              0\n",
       "8909  Cust36797              0\n",
       "8910  Cust28499              0\n",
       "8911  Cust21356              0\n",
       "\n",
       "[8912 rows x 2 columns]"
      ]
     },
     "execution_count": 314,
     "metadata": {},
     "output_type": "execute_result"
    }
   ],
   "source": [
    "Final_data"
   ]
  },
  {
   "cell_type": "code",
   "execution_count": 315,
   "id": "6b58f1b8",
   "metadata": {},
   "outputs": [],
   "source": [
    "Final_data.to_csv('submission_knnsmote.csv')"
   ]
  },
  {
   "cell_type": "code",
   "execution_count": null,
   "id": "b10f2153",
   "metadata": {},
   "outputs": [],
   "source": []
  }
 ],
 "metadata": {
  "kernelspec": {
   "display_name": "Python 3 (ipykernel)",
   "language": "python",
   "name": "python3"
  },
  "language_info": {
   "codemirror_mode": {
    "name": "ipython",
    "version": 3
   },
   "file_extension": ".py",
   "mimetype": "text/x-python",
   "name": "python",
   "nbconvert_exporter": "python",
   "pygments_lexer": "ipython3",
   "version": "3.9.7"
  }
 },
 "nbformat": 4,
 "nbformat_minor": 5
}
